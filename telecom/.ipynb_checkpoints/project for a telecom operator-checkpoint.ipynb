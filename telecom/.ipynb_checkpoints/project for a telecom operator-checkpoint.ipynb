{
 "cells": [
  {
   "cell_type": "markdown",
   "metadata": {},
   "source": [
    "# Проект для оператора связи\n",
    "\n",
    "### Описание проекта\n",
    "В данном проекте необходимо реализовать модель, способную прогнозировать отток клиентов. Пользователям, которые планируют уйти, будут предложены персональные скидки и промокоды. \n",
    "\n",
    "### Описание услуг\n",
    "\n",
    "Оператор предоставляет два основных типа услуг: \n",
    "\n",
    "1. Стационарную телефонную связь. Возможно подключение телефонного аппарата к нескольким линиям одновременно.\n",
    "2. Интернет. Подключение может быть двух типов: через телефонную линию (DSL*,* от англ. *digital subscriber line*, «цифровая абонентская линия») или оптоволоконный кабель (*Fiber optic*).  \n",
    "\n",
    "Также доступны такие услуги:\n",
    "\n",
    "- Интернет-безопасность: антивирус (*DeviceProtection*) и блокировка небезопасных сайтов (*OnlineSecurity*);\n",
    "- Выделенная линия технической поддержки (*TechSupport*);\n",
    "- Облачное хранилище файлов для резервного копирования данных (*OnlineBackup*);\n",
    "- Стриминговое телевидение (*StreamingTV*) и каталог фильмов (*StreamingMovies*).\n",
    "\n",
    "За услуги клиенты могут платить каждый месяц или заключить договор на 1–2 года. Доступны различные способы расчёта и возможность получения электронного чека.\n",
    "\n",
    "### Описание данных\n",
    "\n",
    "Данные состоят из файлов, полученных из разных источников:\n",
    "\n",
    "Таблица `contract_new.csv` содержит информацию о договоре;\n",
    "\n",
    "Описание полей данных:\n",
    "- `BeginDate` – дата начала пользования услугами\n",
    "- `EndDate` – дата окончания пользования услугами\n",
    "- `Type` – тип договора: ежемесячный, годовой и т.д.\n",
    "- `PaperlessBilling` – выставления счёта по электронной почте\n",
    "- `PaymentMethod` – способ оплаты\n",
    "- `MonthlyCharges` – ежемесячные траты на услуги\n",
    "- `TotalCharges` – всего потрачено денег на услуги\n",
    "\n",
    "\n",
    "Таблица `personal_new.csv` содержит персональные данные клиента;\n",
    "\n",
    "Описание полей данных:\n",
    "- `gender` – пол\n",
    "- `SeniorCitizen` – пенсионный статус по возрасту\n",
    "- `Partner` – наличие супруга/супруги\n",
    "- `Dependents` – наличие иждивенцев\n",
    "\n",
    "\n",
    "Таблица `internet_new.csv` содержит информацию об интернет-услугах;\n",
    "\n",
    "Описание полей данных:\n",
    "- `InternetService` – наличие услуг Интернет\n",
    "- `OnlineSecurity` – межсетевой экран\n",
    "- `OnlineBackup` – облачное хранилище резервного копирования данных\n",
    "- `DeviceProtection` – антивирус\n",
    "- `TechSupport` – выделенная линия поддержки\n",
    "- `StreamingTV` – онлайн-ТВ\n",
    "- `StreamingMovies` – онлайн-кинотеатр\n",
    "\n",
    "\n",
    "Таблица `phone_new.csv` содержит информацию об услугах телефонии.\n",
    "\n",
    "Описание полей данных:\n",
    "- `MultipleLines` – возможность подключения телефонного аппарата к нескольким линиям одновременно\n",
    "\n",
    "- `customerID` содержит код клиента."
   ]
  },
  {
   "cell_type": "code",
   "execution_count": null,
   "metadata": {},
   "outputs": [],
   "source": [
    "!pip install phik"
   ]
  },
  {
   "cell_type": "code",
   "execution_count": null,
   "metadata": {},
   "outputs": [],
   "source": [
    "import pandas as pd\n",
    "import matplotlib.pyplot as plt\n",
    "import seaborn as sns\n",
    "import numpy as np\n",
    "import phik\n",
    "import warnings\n",
    "\n",
    "\n",
    "from sklearn.preprocessing import StandardScaler, OrdinalEncoder\n",
    "from sklearn.model_selection import train_test_split, GridSearchCV\n",
    "from sklearn.pipeline import Pipeline\n",
    "from sklearn.ensemble import RandomForestClassifier\n",
    "from sklearn.compose import ColumnTransformer\n",
    "from sklearn.metrics import roc_auc_score, roc_curve, confusion_matrix, accuracy_score\n",
    "from catboost import CatBoostClassifier\n",
    "\n",
    "RANDOM_STATE = 190623\n",
    "warnings.filterwarnings(\"ignore\")"
   ]
  },
  {
   "cell_type": "code",
   "execution_count": null,
   "metadata": {},
   "outputs": [],
   "source": [
    "try:\n",
    "    contract = pd.read_csv('/datasets/contract_new.csv')\n",
    "    internet = pd.read_csv('/datasets/internet_new.csv')\n",
    "    personal = pd.read_csv('/datasets/personal_new.csv')\n",
    "    phone = pd.read_csv('/datasets/phone_new.csv')\n",
    "except:\n",
    "    contract = pd.read_csv(r'C:\\Users\\Acer\\Documents\\Практикум\\Graduation project\\contract_new.csv')\n",
    "    internet = pd.read_csv(r'C:\\Users\\Acer\\Documents\\Практикум\\Graduation project\\internet_new.csv')\n",
    "    personal = pd.read_csv(r'C:\\Users\\Acer\\Documents\\Практикум\\Graduation project\\personal_new.csv')\n",
    "    phone = pd.read_csv(r'C:\\Users\\Acer\\Documents\\Практикум\\Graduation project\\phone_new.csv')    "
   ]
  },
  {
   "cell_type": "markdown",
   "metadata": {},
   "source": [
    "## Первичный анализ данных"
   ]
  },
  {
   "cell_type": "markdown",
   "metadata": {},
   "source": [
    "В данном разделе мы посмотрим на данные, поверхностно изучим их и сделаем первые выводы. После этого составим план работы. \n",
    "\n",
    "Более подробный анализ данных будет произведён в следующем разделе."
   ]
  },
  {
   "cell_type": "code",
   "execution_count": null,
   "metadata": {},
   "outputs": [],
   "source": [
    "def describe_data(data):\n",
    "    display(data.head(10))\n",
    "    display(data.info())\n",
    "    display(data.describe(include='all'))"
   ]
  },
  {
   "cell_type": "code",
   "execution_count": null,
   "metadata": {},
   "outputs": [],
   "source": [
    "describe_data(contract)"
   ]
  },
  {
   "cell_type": "markdown",
   "metadata": {},
   "source": [
    "**Первые выводы о таблице contract**:\n",
    "- Таблица импортируется корректно\n",
    "- В таблице представлено 7043 объекта и 8 колонок с признаками\n",
    "- В данных отсутствуют явные пропуски\n",
    "- Необходимо поработать с типом данных, определить категориальные и числовые признаки. На первый взгляд:\n",
    "1. Категориальные: Type, PaperlessBilling, PaymentMethod \n",
    "2. Числовые: MonthlyCharges, TotalCharges\n",
    "3. Целевой признак: EndDate, содержит даты(клиент ушёл) и значения No(клиент продолжает пользоваться услугами). В дальнейшем будет преобразован.\n",
    "4. Признаки для последующего удаления: customerID(после объединения таблиц будет удалён, т.к. не несёт полезной информации для обучения модели), BeginDate(будет преобразован в числовой признак с длительностью пользования услугами ушедших клиентов)\n",
    "- В описании данных есть несколько интересных моментов:\n",
    "1. Большинство клиентов продолжают пользоваться услугами оператора\n",
    "2. Большинство клиентов оплачивают тариф электронно и ежемесячно, так же получают электронный чек \n",
    "3. В столбце TotalCharges можно заметить пустое часто встречающееся значение, этот момент я уже проанализировала и в данных присутствуют неявные пропуски, заполненные пробелом. В следующем разделе изучим более подробно.\n",
    "- Необходимо привести названия столбцов к общепринятому виду."
   ]
  },
  {
   "cell_type": "code",
   "execution_count": null,
   "metadata": {},
   "outputs": [],
   "source": [
    "describe_data(internet)"
   ]
  },
  {
   "cell_type": "markdown",
   "metadata": {},
   "source": [
    "**Первые выводы о таблице internet**:\n",
    "- Таблица импортируется корректно\n",
    "- В таблице представлено 5517 объектов и 8 колонок с признаками\n",
    "- В данных отсутствуют пропуски, об это говорит описание данных, точнее количество уникальных значений для каждой колонки.\n",
    "- Все данные в таблице бинарные, но я оставлю их категориальными.\n",
    "- На первый взгляд можно сказать о том, что большая часть клиентов не пользуется доп.услугами, т.к. топовое значение: No. А так же у большей части клиентов оптиковолоконный кабель. Более подробно изучим в следующем разделе и построим гистограммы.\n",
    "- Необходимо привести названия столбцов к общепринятому виду."
   ]
  },
  {
   "cell_type": "code",
   "execution_count": null,
   "metadata": {},
   "outputs": [],
   "source": [
    "describe_data(personal)"
   ]
  },
  {
   "cell_type": "markdown",
   "metadata": {},
   "source": [
    "**Первые выводы о таблице personal:**\n",
    "- Таблица импортируется корректно.\n",
    "- В таблице представлено 7043 объекта и 5 колонок с признаками.\n",
    "- В данной таблице все значения категориальные, столбец SeniorCitizen так же будет преобразован в категориальный признак.\n",
    "- Большинство клиентов молодые мужчины без партнёра и без иждивенцев, хотя значения пола и наличия партнёра практически равны. Пенсионеров только 16 процентов.\n",
    "-Необходимо привести названия столбцов к общепринятому виду."
   ]
  },
  {
   "cell_type": "code",
   "execution_count": null,
   "metadata": {},
   "outputs": [],
   "source": [
    "describe_data(phone)"
   ]
  },
  {
   "cell_type": "markdown",
   "metadata": {},
   "source": [
    "**Первые выводы о таблице phone:**\n",
    "- Таблица импортируется корректно\n",
    "- В таблице 6361 объект и 2 колонки с признаками\n",
    "- Отсутствуют пропущенные значения\n",
    "- Большинство людей всё-таки не имеют возможности ведения параллельных линий во время звонка, хотя значения близки\n",
    "- Необходимо привести названия столбцов к общепринятому виду."
   ]
  },
  {
   "cell_type": "markdown",
   "metadata": {},
   "source": [
    "## План работы\n",
    "\n",
    "1. Предобработка данных:\n",
    " 1. Приведение названий столбцов к общепринятому виду\n",
    " 2. Изменение типов данных\n",
    " 3. Проверка таблиц на наличие неявных пропусков и явных/неявных дубликатов\n",
    " 4. Объединение таблиц по столбцу customerID, необходимо проследить, чтобы все пользователи попали в датасет\n",
    " 5. Работа с появившимися пропусками.\n",
    "2. Анализ данных:\n",
    " 1. Создание целевого признака из EndDate\n",
    " 1. Построение графиков для изучения зависимостей между признаками и целевым признаком\n",
    " 2. Построение гистограмм для изучения категориальных признаков.\n",
    " 3. Составление портретов клиентов, которые остались и которые ушли из компании в виде круговой диаграммы.\n",
    " 4. Изучение выбросов \n",
    " 5. Изучение баланса классов\n",
    " 6. Создание новых признаков: Количество дней, в течение которых клиенты пользовались услугами компании(для ушедших пользователей), возможно в процессе добавлятся ещё признаки.\n",
    " 7. Проверка корреляции с целевым признаком и проверка на мультиколлинеарность.\n",
    "3. Построение моделей:\n",
    " 1. Разбиение данных на train и test, со стратификацией и перемешиванием.\n",
    " 2. Составление pipeline для моделей:\n",
    "  1. Для Random Forest: Ordinal Encoder + масштабирование + GridSearchCV\n",
    "  2. Для Catboost: GridSearchCV\n",
    " 3. Выбор лучшей модели (по метрике на кроссвалидации model.best_score_)\n",
    " 4. Проверка на тестовой выборке лучшей модели\n",
    " 5. Построение графика ROC\n",
    " 6. Анализ важности признаков выбранной модели(model.features_importances_)\n",
    " 7. Построение матрицы ошибок\n",
    " 8. Анализ второй метрики accuracy\n",
    "4. Создание отчёта:\n",
    " 1. Был ли выполнен план, какие шаги пришлось изменить и почему.\n",
    " 2. Описание ключевых шагов решения задачи.\n",
    " 3. Описание предобработки данных\n",
    " 4. Сравнение значений метрики на кросс-валидации для всех моделей в сводной таблице.\n",
    " 5. Описание выбранной модели машинного обучения: архитектура, сетка гиперпараметров, лучшие гиперпараметры"
   ]
  },
  {
   "cell_type": "markdown",
   "metadata": {},
   "source": [
    "## Предобработка данных "
   ]
  },
  {
   "cell_type": "markdown",
   "metadata": {},
   "source": [
    "Явные дубликаты в датасетах отсутствуют, о чём говорит частота появления равная 1 в customerID, т.е. все ID уникальны.\n",
    "\n",
    "Проверим таблицы на наличие неявных пропусков. В столбце TotalCharges при первичном анализе данных были замечены пустые часто встречающееся значение, можно предположить, что это пробелы. Изучим природу их возникновения."
   ]
  },
  {
   "cell_type": "code",
   "execution_count": null,
   "metadata": {},
   "outputs": [],
   "source": [
    "contract[contract['TotalCharges'] == ' ']"
   ]
  },
  {
   "cell_type": "markdown",
   "metadata": {},
   "source": [
    "Можно заметить, что все строки, в которых встречается пробел имеют общую особенность: это клиенты которые подключили услуги в дату выгрузки датасета 2020-02-01. Проверим, встречается ли похожая ситуация для строк с этой датой."
   ]
  },
  {
   "cell_type": "code",
   "execution_count": null,
   "metadata": {},
   "outputs": [],
   "source": [
    "contract[contract['BeginDate'] == '2020-02-01']"
   ]
  },
  {
   "cell_type": "code",
   "execution_count": null,
   "metadata": {},
   "outputs": [],
   "source": [
    "contract[contract['TotalCharges'] == ' '] == contract[contract['BeginDate'] == '2020-02-01']"
   ]
  },
  {
   "cell_type": "markdown",
   "metadata": {},
   "source": [
    "Выборки совпадают. Так же можно заметить, что у всех пользователей тип оплаты на два года, посмотрим другие данные с таким же типом оплаты."
   ]
  },
  {
   "cell_type": "code",
   "execution_count": null,
   "metadata": {},
   "outputs": [],
   "source": [
    "contract[(contract['Type'] == 'Two year') & (contract['BeginDate'] != '2020-02-01')].sort_values('BeginDate', ascending=False)"
   ]
  },
  {
   "cell_type": "markdown",
   "metadata": {},
   "source": [
    "Клиенты с таким типом тарифа платят в конце месяца, в этом можно убедить если посмотреть на клиентов, которые подключили услуги 20-01-01, у них внесён платёж только за один месяц. Следовательно заполним пропуски в данных 0."
   ]
  },
  {
   "cell_type": "code",
   "execution_count": null,
   "metadata": {},
   "outputs": [],
   "source": [
    "contract.loc[contract['TotalCharges'] == ' ', 'TotalCharges'] = 0"
   ]
  },
  {
   "cell_type": "code",
   "execution_count": null,
   "metadata": {},
   "outputs": [],
   "source": [
    "#Проверка замены\n",
    "contract[contract['TotalCharges'] == ' ']"
   ]
  },
  {
   "cell_type": "markdown",
   "metadata": {},
   "source": [
    "Создадим целевой признак из признака EndDate, где 0 - пользователь остался, 1 - пользователь ушёл"
   ]
  },
  {
   "cell_type": "code",
   "execution_count": null,
   "metadata": {},
   "outputs": [],
   "source": [
    "contract['Churn'] = np.where(contract['EndDate'] == 'No', '0', '1').astype(int)"
   ]
  },
  {
   "cell_type": "code",
   "execution_count": null,
   "metadata": {},
   "outputs": [],
   "source": [
    "contract.head(15)"
   ]
  },
  {
   "cell_type": "code",
   "execution_count": null,
   "metadata": {},
   "outputs": [],
   "source": [
    "#Проверка замены\n",
    "len(contract['Churn'] == 1) == len(~(contract['EndDate'] == 'No'))"
   ]
  },
  {
   "cell_type": "markdown",
   "metadata": {},
   "source": [
    "Для создания нового признака, который будет показывать какое количество дней клиент пользуется услугами, изменим столбцы `BeginDate` и `EndDate` и приведём их к формату даты. Значения No заменим на дату выгрузки из базы данных."
   ]
  },
  {
   "cell_type": "code",
   "execution_count": null,
   "metadata": {},
   "outputs": [],
   "source": [
    "contract['EndDate'] = contract['EndDate'].replace('No', '2020-02-01')"
   ]
  },
  {
   "cell_type": "code",
   "execution_count": null,
   "metadata": {},
   "outputs": [],
   "source": [
    "#Проверка замены\n",
    "(contract['EndDate'] == 'No').sum()"
   ]
  },
  {
   "cell_type": "code",
   "execution_count": null,
   "metadata": {},
   "outputs": [],
   "source": [
    "contract['BeginDate'] = pd.to_datetime(contract['BeginDate'], format='%Y-%m-%d')\n",
    "contract['EndDate'] = pd.to_datetime(contract['EndDate'], format='%Y-%m-%d')\n",
    "\n",
    "contract.info()"
   ]
  },
  {
   "cell_type": "markdown",
   "metadata": {},
   "source": [
    "Так же переведём тип данных признака `TotalCharges` в float."
   ]
  },
  {
   "cell_type": "code",
   "execution_count": null,
   "metadata": {},
   "outputs": [],
   "source": [
    "contract['TotalCharges'] = contract['TotalCharges'].astype(float)\n",
    "\n",
    "contract.info()"
   ]
  },
  {
   "cell_type": "code",
   "execution_count": null,
   "metadata": {},
   "outputs": [],
   "source": [
    "contract['duration'] = (contract['EndDate'] - contract['BeginDate']).dt.days\n",
    "\n",
    "contract['duration']"
   ]
  },
  {
   "cell_type": "markdown",
   "metadata": {},
   "source": [
    "Теперь можно объединить таблицы. Будем делать это с помощью merge по признаку customerID."
   ]
  },
  {
   "cell_type": "code",
   "execution_count": null,
   "metadata": {},
   "outputs": [],
   "source": [
    "data = contract.merge(personal, how='outer', on='customerID')\n",
    "data = data.merge(internet, how='outer', on='customerID')\n",
    "data = data.merge(phone, how='outer', on='customerID')"
   ]
  },
  {
   "cell_type": "code",
   "execution_count": null,
   "metadata": {},
   "outputs": [],
   "source": [
    "pd.set_option('display.max_columns', None)"
   ]
  },
  {
   "cell_type": "code",
   "execution_count": null,
   "metadata": {},
   "outputs": [],
   "source": [
    "data.head()"
   ]
  },
  {
   "cell_type": "code",
   "execution_count": null,
   "metadata": {
    "scrolled": false
   },
   "outputs": [],
   "source": [
    "data.info()"
   ]
  },
  {
   "cell_type": "code",
   "execution_count": null,
   "metadata": {},
   "outputs": [],
   "source": [
    "data.head()"
   ]
  },
  {
   "cell_type": "markdown",
   "metadata": {},
   "source": [
    "Переименуем столбцы датафрейма."
   ]
  },
  {
   "cell_type": "code",
   "execution_count": null,
   "metadata": {},
   "outputs": [],
   "source": [
    "data.columns = ['customer_id', 'begin_date', 'end_date', 'type', 'paperless_billing',\n",
    "       'payment_method', 'monthly_charges', 'total_charges', 'churn', 'duration', 'gender',\n",
    "       'senior_citizen', 'partner', 'dependents', 'internet_service',\n",
    "       'online_security', 'online_backup', 'device_protection', 'tech_support',\n",
    "       'streaming_tv', 'streaming_movies', 'multiple_lines']"
   ]
  },
  {
   "cell_type": "code",
   "execution_count": null,
   "metadata": {},
   "outputs": [],
   "source": [
    "data.columns"
   ]
  },
  {
   "cell_type": "markdown",
   "metadata": {},
   "source": [
    "В новом датафрейме появились пропуски, изучим их."
   ]
  },
  {
   "cell_type": "code",
   "execution_count": null,
   "metadata": {},
   "outputs": [],
   "source": [
    "data.isna().sum()"
   ]
  },
  {
   "cell_type": "code",
   "execution_count": null,
   "metadata": {
    "scrolled": false
   },
   "outputs": [],
   "source": [
    "data.query('internet_service.isna()')"
   ]
  },
  {
   "cell_type": "markdown",
   "metadata": {},
   "source": [
    "Пропуски во всех столбцах из датафрейма internet соответствуют одним и тем же людям. Вероятнее всего пропуски в столбцах появились из-за того, что у клиентов услуги не подключены, заполним их значением No. Такая же ситуация со столбцом multiple_lines."
   ]
  },
  {
   "cell_type": "code",
   "execution_count": null,
   "metadata": {},
   "outputs": [],
   "source": [
    "for column in ['internet_service', 'online_security', 'online_backup',\n",
    "       'device_protection', 'tech_support', 'streaming_tv', 'streaming_movies',\n",
    "       'multiple_lines']:\n",
    "    data[column] = data[column].fillna('No')"
   ]
  },
  {
   "cell_type": "code",
   "execution_count": null,
   "metadata": {},
   "outputs": [],
   "source": [
    "data.isna().sum()"
   ]
  },
  {
   "cell_type": "markdown",
   "metadata": {},
   "source": [
    "Так же переведём все булевы переменные из object в int, для более удобного анализа"
   ]
  },
  {
   "cell_type": "code",
   "execution_count": null,
   "metadata": {},
   "outputs": [],
   "source": [
    "data.columns"
   ]
  },
  {
   "cell_type": "code",
   "execution_count": null,
   "metadata": {},
   "outputs": [],
   "source": [
    "def bool_to_int(data, column):\n",
    "    data[column] = np.where(data[column] == 'No', '0', '1').astype(int)"
   ]
  },
  {
   "cell_type": "code",
   "execution_count": null,
   "metadata": {},
   "outputs": [],
   "source": [
    "for column in ['paperless_billing', 'partner', 'dependents', 'online_security', 'online_backup',\n",
    "       'device_protection', 'tech_support', 'streaming_tv', 'streaming_movies',\n",
    "       'multiple_lines']:\n",
    "    bool_to_int(data, column)"
   ]
  },
  {
   "cell_type": "code",
   "execution_count": null,
   "metadata": {},
   "outputs": [],
   "source": [
    "data.head()"
   ]
  },
  {
   "cell_type": "markdown",
   "metadata": {},
   "source": [
    "## Анализ данных"
   ]
  },
  {
   "cell_type": "code",
   "execution_count": null,
   "metadata": {
    "scrolled": false
   },
   "outputs": [],
   "source": [
    "data.describe().T"
   ]
  },
  {
   "cell_type": "markdown",
   "metadata": {},
   "source": [
    "Доля пользователей:\n",
    "1. С пенсионным удостоверением - 16%\n",
    "2. Имеют партнёра - 48%\n",
    "3. Имеют иждивенцев - 29,9%\n",
    "\n",
    "Доля пользователей услуг:\n",
    "1. Электронный чек - 59%\n",
    "2. Антивирус (DeviceProtection) - 34,3%\n",
    "3. Блокировка небезопасных сайтов (OnlineSecurity) - 28,6%\n",
    "4. Выделенная линия технической поддержки (TechSupport) - 29%\n",
    "5. Облачное хранилище файлов для резервного копирования данных (OnlineBackup) - 34,4%\n",
    "6. Стриминговое телевидение (StreamingTV) - 38.4%\n",
    "7. Каталог фильмов (StreamingMovies) - 38.7%\n",
    "8. Возможность подключения телефонного аппарата к нескольким линиям одновременно - 42%"
   ]
  },
  {
   "cell_type": "code",
   "execution_count": null,
   "metadata": {},
   "outputs": [],
   "source": [
    "plt.figure(figsize=(16, 8))\n",
    "\n",
    "sns.histplot(data['monthly_charges'], kde=True)\n",
    "plt.title('Распределение трат за месяц')\n",
    "plt.xlabel('Траты в месяц')\n",
    "plt.ylabel('Число клиентов');"
   ]
  },
  {
   "cell_type": "markdown",
   "metadata": {},
   "source": [
    "Из графика можно заметить, что клиенты делятся условно на три группы:\n",
    "1. Платят 20-30 долларов за тариф\n",
    "2. Платят 30-70 долларов за тариф\n",
    "3. Платят 70-120 долларов за тариф.\n",
    "\n",
    "Используем эти данные в качестве дополнительного признака."
   ]
  },
  {
   "cell_type": "code",
   "execution_count": null,
   "metadata": {},
   "outputs": [],
   "source": [
    "data['customer_groups'] = 'medium'\n",
    "data.loc[data['monthly_charges'] <= 30, 'customer_groups'] = 'low'\n",
    "data.loc[data['monthly_charges'] > 70, 'customer_groups'] = 'high'"
   ]
  },
  {
   "cell_type": "code",
   "execution_count": null,
   "metadata": {},
   "outputs": [],
   "source": [
    "data.loc[(data['monthly_charges'] > 30) & (data['monthly_charges'] <= 70)]['customer_groups'].unique()"
   ]
  },
  {
   "cell_type": "code",
   "execution_count": null,
   "metadata": {},
   "outputs": [],
   "source": [
    "data.loc[data['monthly_charges'] <= 30]['customer_groups'].unique()"
   ]
  },
  {
   "cell_type": "code",
   "execution_count": null,
   "metadata": {},
   "outputs": [],
   "source": [
    "data.loc[data['monthly_charges'] > 70]['customer_groups'].unique()"
   ]
  },
  {
   "cell_type": "code",
   "execution_count": null,
   "metadata": {},
   "outputs": [],
   "source": [
    "data['customer_groups'].value_counts()"
   ]
  },
  {
   "cell_type": "markdown",
   "metadata": {},
   "source": [
    "Можно заметить, что несмотря на выборос в районе 20 у.е., пользователей из самой высокой тарифной группы больше практически в два раза. Изучим более подробно каждую группу."
   ]
  },
  {
   "cell_type": "code",
   "execution_count": null,
   "metadata": {},
   "outputs": [],
   "source": [
    "data['customer_groups'].unique()"
   ]
  },
  {
   "cell_type": "code",
   "execution_count": null,
   "metadata": {},
   "outputs": [],
   "source": [
    "for val in data['customer_groups'].unique():\n",
    "    print(f'Описание данных для группы {val}')\n",
    "    display(data[data['customer_groups'] == val].describe().T)"
   ]
  },
  {
   "cell_type": "markdown",
   "metadata": {},
   "source": [
    "Группа low:\n",
    "1. *10%* клиентов из этой группы ушли.\n",
    "2. Доля пенсионеров составляет всего 4 процента.\n",
    "3. Менее 1% клиентов пользуются дополнительными услугами, возможностью подключения телефонного аппарата к нескольким линиям одновременно 20%\n",
    "4. Продолжительность пользования услугами средняя из трёх групп (порядка 2,5 лет)\n",
    "5. 31% клиентов получают электронный чек.\n",
    "\n",
    "Группа medium:\n",
    "1. *11%* клиентов из этой группы ушли.\n",
    "2. От 25% до 41% клиентов пользуются дополнительными услугами, возможностью подключения телефонного аппарата к нескольким линиям одновременно 16%\n",
    "3. Самая короткая продолжительность пользования услугами (порядка 2 лет)\n",
    "4. Более половины клиентов получают электронный чек.\n",
    "\n",
    "Группа high:\n",
    "1. *20%* клиентов из этой группы ушли. Возможно здесь имеет место внешний фактор, т.к. в этой группе самый высокий процент пенсионеров: 24%, а так же неравномерность выборки.\n",
    "2. В этой группе самые высокие показатели дополнительных услуг, от 35% до 62%, возможность подключения телефонного аппарата к нескольким линиям одновременно 64%\n",
    "3. 73% пользователей получают электронный чек.\n",
    "4. Самая высокая продолжительность пользования услугами. (Чуть менее 3 лет)\n",
    "\n",
    "Можно сделать вывод, что группа с самой высокой платой за месяц пользуется бОльшим количеством услуг, дольше всего, но при этом процент ухода клиентов так же самый высокий. Возможно это связано с неравномерностью выборок."
   ]
  },
  {
   "cell_type": "markdown",
   "metadata": {},
   "source": [
    "Изучим признаки даты начала и конца использования услуг."
   ]
  },
  {
   "cell_type": "code",
   "execution_count": null,
   "metadata": {},
   "outputs": [],
   "source": [
    "plt.figure(figsize=(16, 8))\n",
    "sns.histplot(data['begin_date'])\n",
    "plt.title('Распределение дат начала использования услуг')\n",
    "plt.xlabel('Дата, год')\n",
    "plt.ylabel('Количество, шт.');"
   ]
  },
  {
   "cell_type": "markdown",
   "metadata": {},
   "source": [
    "На графике видно два пика, в середине 2014 года компания начала расти, в 2015 вышла на плато и активно развивается с 2019."
   ]
  },
  {
   "cell_type": "code",
   "execution_count": null,
   "metadata": {},
   "outputs": [],
   "source": [
    "plt.figure(figsize=(16, 8))\n",
    "sns.histplot(data[data['end_date'] != '2020-02-01']['end_date'])\n",
    "plt.title('Распределение ухода клиентов по датам')\n",
    "plt.xlabel('Дата, год')\n",
    "plt.ylabel('Количество, шт.');"
   ]
  },
  {
   "cell_type": "markdown",
   "metadata": {},
   "source": [
    "Количество уходящих клиентов постоянно росло и в конце 2019 года достигло своего пика."
   ]
  },
  {
   "cell_type": "markdown",
   "metadata": {},
   "source": [
    "Удалим стоблцы `customer_id`, `begin_date` и `end_date`, и разделим численные и категориальные переменные."
   ]
  },
  {
   "cell_type": "code",
   "execution_count": null,
   "metadata": {},
   "outputs": [],
   "source": [
    "data = data.drop(['customer_id', 'begin_date', 'end_date'], axis=1)"
   ]
  },
  {
   "cell_type": "code",
   "execution_count": null,
   "metadata": {},
   "outputs": [],
   "source": [
    "cat_features = data.select_dtypes(include='object').columns"
   ]
  },
  {
   "cell_type": "code",
   "execution_count": null,
   "metadata": {},
   "outputs": [],
   "source": [
    "data.info()"
   ]
  },
  {
   "cell_type": "code",
   "execution_count": null,
   "metadata": {},
   "outputs": [],
   "source": [
    "stay = data['churn'] == 1\n",
    "gone = data['churn'] == 0"
   ]
  },
  {
   "cell_type": "code",
   "execution_count": null,
   "metadata": {},
   "outputs": [],
   "source": [
    "num_features = data[['monthly_charges', 'total_charges', 'duration']].columns\n",
    "num_features"
   ]
  },
  {
   "cell_type": "markdown",
   "metadata": {},
   "source": [
    "Вернём категориальные переменные к Yes/No"
   ]
  },
  {
   "cell_type": "code",
   "execution_count": null,
   "metadata": {},
   "outputs": [],
   "source": [
    "def int_to_object(data, column):\n",
    "    data[column] = np.where(data[column] == 1, 'Yes', 'No')"
   ]
  },
  {
   "cell_type": "code",
   "execution_count": null,
   "metadata": {},
   "outputs": [],
   "source": [
    "for column in ['paperless_billing', 'partner', 'senior_citizen', 'dependents', 'online_security', 'online_backup',\n",
    "       'device_protection', 'tech_support', 'streaming_tv', 'streaming_movies',\n",
    "       'multiple_lines']:\n",
    "    int_to_object(data, column)"
   ]
  },
  {
   "cell_type": "code",
   "execution_count": null,
   "metadata": {},
   "outputs": [],
   "source": [
    "data.head(10)"
   ]
  },
  {
   "cell_type": "code",
   "execution_count": null,
   "metadata": {},
   "outputs": [],
   "source": [
    "for col in num_features:\n",
    "    plt.subplots(figsize=(16, 8))\n",
    "    sns.histplot(data.loc[stay, col], color='r', label='Ушедшие клиенты')\n",
    "    sns.histplot(data[col], alpha=0.5, label='Все клиенты')\n",
    "    plt.legend()\n",
    "    plt.title(f'Распределение значений ({col})');"
   ]
  },
  {
   "cell_type": "markdown",
   "metadata": {},
   "source": [
    "Изучим какими услугами пользовались ушедшие и оставшиеся клиенты."
   ]
  },
  {
   "cell_type": "code",
   "execution_count": null,
   "metadata": {
    "scrolled": false
   },
   "outputs": [],
   "source": [
    "for col in cat_features:\n",
    "    fig, axs = plt.subplots(1, 2, figsize=(16, 9), sharey=True)\n",
    "    axs[0].pie(data.loc[stay, col].value_counts(), labels=data.loc[stay, col].value_counts().index, autopct=\"%1.1f%%\")\n",
    "    axs[1].pie(data.loc[gone, col].value_counts(), labels=data.loc[gone, col].value_counts().index, autopct=\"%1.1f%%\")\n",
    "    plt.legend()\n",
    "    plt.title(f'Распределение значений {col}\\nНа левой диграмме отображены оставшиеся клиенты\\nНа правой диграмме отображены ушедшие клиенты');"
   ]
  },
  {
   "cell_type": "markdown",
   "metadata": {},
   "source": [
    "Проверим наши переменные на связь друг с другом, для этого используем phik."
   ]
  },
  {
   "cell_type": "code",
   "execution_count": null,
   "metadata": {
    "scrolled": false
   },
   "outputs": [],
   "source": [
    "phik = data.phik_matrix(interval_cols=num_features)\n",
    "phik"
   ]
  },
  {
   "cell_type": "code",
   "execution_count": null,
   "metadata": {},
   "outputs": [],
   "source": [
    "plt.figure(figsize=(12,12))\n",
    "phik[np.abs(phik < 0.2)] = 0\n",
    "sns.heatmap(phik, annot=True);"
   ]
  },
  {
   "cell_type": "code",
   "execution_count": null,
   "metadata": {},
   "outputs": [],
   "source": [
    "phik['churn'].sort_values(ascending=False)"
   ]
  },
  {
   "cell_type": "markdown",
   "metadata": {},
   "source": [
    "Как и было обнаружено при анализе ранее, группа людей с высокими платежами за тариф и которая являлась клиентами дольше всего, уходит чаще. Матрица связей это подтвердила.\n",
    "\n",
    "Проблема мультиколлинеарности может быть для столбцов `monthly_charges`, `internet_service` и `customer_groups`. Пока не будем ничего удалять, т.к. обучаться будут деревянные модели, а они не чувствительны к мультиколлинеарности."
   ]
  },
  {
   "cell_type": "markdown",
   "metadata": {},
   "source": [
    "**Выводы**\n",
    "\n",
    "При изучении датасета были получены результаты:\n",
    "\n",
    "- Доля пользователей:\n",
    "1. С пенсионным удостоверением - 16%\n",
    "2. Имеют партнёра - 48%\n",
    "3. Имеют иждивенцев - 29,9%\n",
    "\n",
    "- Доля пользователей услуг:\n",
    "1. Электронный чек - 59%\n",
    "2. Антивирус (DeviceProtection) - 34,3%\n",
    "3. Блокировка небезопасных сайтов (OnlineSecurity) - 28,6%\n",
    "4. Выделенная линия технической поддержки (TechSupport) - 29%\n",
    "5. Облачное хранилище файлов для резервного копирования данных (OnlineBackup) - 34,4%\n",
    "6. Стриминговое телевидение (StreamingTV) - 38.4%\n",
    "7. Каталог фильмов (StreamingMovies) - 38.7%\n",
    "8. Возможность подключения телефонного аппарата к нескольким линиям одновременно - 42%\n",
    "\n",
    "Было добавлено несколько признаков для построения модели:\n",
    "1. Длительность использования услуг\n",
    "2. Группы по ежемесячной оплате за тариф\n",
    "\n",
    "Были проанализированы временные графики: В 2019-2020 годах наблюдается максимальный прирост новых клиентов (более 800), но так же максимальный уход клиентов (более 160 человек)\n",
    "\n",
    "\n",
    "*Изучив долю ушедших пользователей, можно составить портрет клиента с наибольшим риском ухода:*\n",
    "\n",
    "Пожилой мужчина или женщина с высокой платой за тариф, имеющий партнёра и иждивенцев, оплачивающий тариф на два года автоматически через банк или кредитную карту, который пользуется дополнительными услугами, оптоволоконным кабелем и имеет возможность подключения телефонного аппарата к нескольким линиям одновременно."
   ]
  },
  {
   "cell_type": "markdown",
   "metadata": {},
   "source": [
    "## Обучение моделей"
   ]
  },
  {
   "cell_type": "markdown",
   "metadata": {},
   "source": [
    "Выделим признаки и целевой признак датасета, разобьём датасет на обучающую и тренировочную выборки."
   ]
  },
  {
   "cell_type": "code",
   "execution_count": null,
   "metadata": {},
   "outputs": [],
   "source": [
    "features = data.drop(['churn'], axis=1)\n",
    "target = data['churn']"
   ]
  },
  {
   "cell_type": "code",
   "execution_count": null,
   "metadata": {},
   "outputs": [],
   "source": [
    "X_train, X_test, y_train, y_test = train_test_split(features, target, test_size=.25, random_state=RANDOM_STATE, stratify=target)"
   ]
  },
  {
   "cell_type": "code",
   "execution_count": null,
   "metadata": {},
   "outputs": [],
   "source": [
    "X_train.shape, y_train.shape, X_test.shape, y_test.shape"
   ]
  },
  {
   "cell_type": "code",
   "execution_count": null,
   "metadata": {},
   "outputs": [],
   "source": [
    "y_train.value_counts(), y_test.value_counts()"
   ]
  },
  {
   "cell_type": "markdown",
   "metadata": {},
   "source": [
    "### Random Forest"
   ]
  },
  {
   "cell_type": "code",
   "execution_count": null,
   "metadata": {},
   "outputs": [],
   "source": [
    "num_features"
   ]
  },
  {
   "cell_type": "code",
   "execution_count": null,
   "metadata": {},
   "outputs": [],
   "source": [
    "%%time\n",
    "\n",
    "numeric_transformer = Pipeline(\n",
    "    steps=[(\"scaler\", StandardScaler())]\n",
    ")\n",
    "\n",
    "categorical_transformer = Pipeline(\n",
    "    steps=[\n",
    "        (\"encoder\", OrdinalEncoder()),\n",
    "    ]\n",
    ")\n",
    "preprocessor = ColumnTransformer(\n",
    "    transformers=[\n",
    "        (\"num\", numeric_transformer, num_features),\n",
    "        (\"cat\", categorical_transformer, cat_features),\n",
    "    ]\n",
    ")\n",
    "\n",
    "pipe_rf = Pipeline(steps=[\n",
    "    ('preprocessor', preprocessor),\n",
    "    ('model_rf', RandomForestClassifier(class_weight='balanced', random_state=RANDOM_STATE))\n",
    "])\n",
    "param = {'model_rf__n_estimators' : range(100, 500, 100),\n",
    "        'model_rf__criterion' : ['gini', 'entropy'],\n",
    "        'model_rf__max_depth' : [2, 4],\n",
    "        'model_rf__min_samples_leaf': [2, 4]}\n",
    "grid_rf = GridSearchCV(pipe_rf, param, scoring='roc_auc', cv=3, n_jobs=-1, error_score=\"raise\")\n",
    "grid_rf.fit(X_train, y_train)\n",
    "\n",
    "best_rf = grid_rf.best_estimator_\n",
    "\n",
    "grid_rf.best_score_"
   ]
  },
  {
   "cell_type": "code",
   "execution_count": null,
   "metadata": {},
   "outputs": [],
   "source": [
    "grid_rf.best_params_"
   ]
  },
  {
   "cell_type": "markdown",
   "metadata": {},
   "source": [
    "Была обучена модель Random Forest, с параметрами:\n",
    "- Критерий criterion 'gini\n",
    "- Максимальная глубина max_depth 4\n",
    "- Минимальное количество листьев min_samples_leaf 4\n",
    "- Количество деревьев n_estimators 200\n",
    "\n",
    "Получен результат метрики ROC-AUC 0.81"
   ]
  },
  {
   "cell_type": "markdown",
   "metadata": {},
   "source": [
    "### CatBoost"
   ]
  },
  {
   "cell_type": "code",
   "execution_count": null,
   "metadata": {},
   "outputs": [],
   "source": [
    "cat_features= list(data.select_dtypes(include='object').columns)\n",
    "cat_features"
   ]
  },
  {
   "cell_type": "code",
   "execution_count": null,
   "metadata": {},
   "outputs": [],
   "source": [
    "%%time\n",
    "\n",
    "model_cb = CatBoostClassifier(auto_class_weights='Balanced', random_state=RANDOM_STATE)\n",
    "    \n",
    "params = {'learning_rate': [0.01, 0.1, 0.3, 0.5],\n",
    "          'depth': [2, 4, 6],\n",
    "          'loss_function': ['Logloss', 'Entropy']}\n",
    "\n",
    "\n",
    "grid_cb = GridSearchCV(model_cb, params, scoring='roc_auc', cv=3, n_jobs=-1)\n",
    "grid_cb.fit(X_train, y_train, cat_features=cat_features, verbose=100, plot=True)\n",
    "\n",
    "best_cb = grid_cb.best_estimator_\n",
    "\n",
    "grid_cb.best_score_"
   ]
  },
  {
   "cell_type": "code",
   "execution_count": null,
   "metadata": {},
   "outputs": [],
   "source": [
    "grid_cb.best_params_"
   ]
  },
  {
   "cell_type": "markdown",
   "metadata": {},
   "source": [
    "Была обучена модель CatBoost, с параметрами:\n",
    "1. Глубина 'depth': 2, \n",
    "2. 'learning_rate': 0.3, \n",
    "3. 'loss_function': 'Logloss'\n",
    "4. auto_class_weights='Balanced'\n",
    "\n",
    "Получен результат метрики ROC-AUC 0,906\n",
    "\n",
    "Для тестирования выберем именно эту модель"
   ]
  },
  {
   "cell_type": "markdown",
   "metadata": {},
   "source": [
    "## Тестирование лучшей модели"
   ]
  },
  {
   "cell_type": "markdown",
   "metadata": {},
   "source": [
    "Для рассчёта метрики roc_auc используем predict_probs. Для метрики accuracy predict."
   ]
  },
  {
   "cell_type": "code",
   "execution_count": null,
   "metadata": {},
   "outputs": [],
   "source": [
    "predictions = best_cb.predict(X_test)\n",
    "pred_proba = best_cb.predict_proba(X_test)[:,1]\n",
    "\n",
    "roc_auc = roc_auc_score(y_test, pred_proba)\n",
    "roc_auc"
   ]
  },
  {
   "cell_type": "markdown",
   "metadata": {},
   "source": [
    "Построим ROC кривую "
   ]
  },
  {
   "cell_type": "code",
   "execution_count": null,
   "metadata": {
    "scrolled": false
   },
   "outputs": [],
   "source": [
    "plt.figure(figsize=(16, 6))\n",
    "\n",
    "fpr, tpr, thresholds = roc_curve(y_test, pred_proba)\n",
    "plt.plot(fpr, tpr)\n",
    "plt.xlabel('False Positive Rate')\n",
    "plt.ylabel('True Positive Rate')\n",
    "plt.title('ROC-кривая модели класса')\n",
    "plt.plot([0, 1], [0, 1], linestyle='--')\n",
    "plt.xlim([0.0, 1.0])\n",
    "plt.ylim([0.0, 1.0]);"
   ]
  },
  {
   "cell_type": "markdown",
   "metadata": {},
   "source": [
    "Кривая ROC находится гораздо выше графика, показывающего предсказание простейшей модели с метрикой accuracy 50, можно говорить о том, что модель хорошо обучилась."
   ]
  },
  {
   "cell_type": "markdown",
   "metadata": {},
   "source": [
    "Построим матрицу ошибок"
   ]
  },
  {
   "cell_type": "code",
   "execution_count": null,
   "metadata": {},
   "outputs": [],
   "source": [
    "cmatrix = confusion_matrix(y_test, predictions)\n",
    "plt.figure(figsize=(8, 8))\n",
    "sns.heatmap(cmatrix, annot=True, fmt='d')\n",
    "plt.title('Матрица ошибок')\n",
    "plt.xlabel('Предсказания')\n",
    "plt.ylabel('Ответы')\n",
    "plt.show();"
   ]
  },
  {
   "cell_type": "markdown",
   "metadata": {},
   "source": [
    "Проанализируем важные для бизнеса показатели:\n",
    "- Значение False Positive = 139, это значит, что из 1761 клиента 139 были предложены лучшие условия, но они не собирались уходить, это примерно 7%\n",
    "- Значение False Negative = 51, из 1761 клиента 51 клиенту не предложили лучшие условия и он ушёл, это примерно 3%"
   ]
  },
  {
   "cell_type": "markdown",
   "metadata": {},
   "source": [
    "Проведём анализ важности признаков"
   ]
  },
  {
   "cell_type": "code",
   "execution_count": null,
   "metadata": {},
   "outputs": [],
   "source": [
    "features_importance = best_cb.get_feature_importance(prettified=True)\n",
    "features_importance"
   ]
  },
  {
   "cell_type": "code",
   "execution_count": null,
   "metadata": {
    "scrolled": false
   },
   "outputs": [],
   "source": [
    "plt.figure(figsize=(16, 6))\n",
    "sns.barplot(y=features_importance['Feature Id'], x=features_importance['Importances']);"
   ]
  },
  {
   "cell_type": "markdown",
   "metadata": {},
   "source": [
    "Самым важным признаком для модели оказался признак duration, содержащий длительность использования услуг клиентом. А вот созданный признак с разбиением по группам в зависимости от ежемесячного платежа влияет всего на 0,76%"
   ]
  },
  {
   "cell_type": "code",
   "execution_count": null,
   "metadata": {},
   "outputs": [],
   "source": [
    "accuracy_score(y_test, predictions)"
   ]
  },
  {
   "cell_type": "markdown",
   "metadata": {},
   "source": [
    "**Вывод**\n",
    "\n",
    "В данном разделе были обучены несколько моделей:\n",
    "1. Random Forest, с параметрами:\n",
    "- Критерий criterion 'gini\n",
    "- Максимальная глубина max_depth 4\n",
    "- Минимальное количество листьев min_samples_leaf 4\n",
    "- Количество деревьев n_estimators 200\n",
    "\n",
    "\n",
    "Так же для этой модели был использован pipeline, числовые признаки были масштабированы StandardScaler, категориальные OrdinalEncoder.\n",
    "\n",
    "Получен *результат метрики ROC-AUC 0.81*\n",
    "2. CatBoost, с параметрами:\n",
    "- Глубина 'depth': 2, \n",
    "- 'learning_rate': 0.3, \n",
    "- 'loss_function': 'Logloss'\n",
    "- auto_class_weights='Balanced'\n",
    "\n",
    "Получен *результат метрики ROC-AUC 0,906*. Именно эта модель и была выбрана для дальнейшего тестирования.\n",
    "\n",
    "Датасет был разбит на train и test, в соотношении 3/1, поиск лучших параметров выполнялся с помощью GridSearchCV.\n",
    "\n",
    "**Модель CatBoost на тестовой выборке показала результат метрики ROC-AUC 0.938**\n",
    "\n",
    "Был построен график ROC кривой, который показал, что наша модель справляется гораздо лучше dummy модели.\n",
    "\n",
    "Была построена матрица ошибок и получены результаты:\n",
    "- Значение False Positive = 139, это значит, что из 1761 клиента 139 были предложены лучшие условия, но они не собирались уходить, это примерно 7%\n",
    "- Значение False Negative = 51, из 1761 клиента 51 клиенту не предложили лучшие условия и он ушёл, это примерно 3%\n",
    "\n",
    "Был проведён анализ важности признаков, самое сильное влияние на модель оказал признак duration, содержащий длительность использования услуг клиентом.\n",
    "\n",
    "**Модель показывает значение метрики accuracy на тестовой выборке = 0.89**"
   ]
  },
  {
   "cell_type": "markdown",
   "metadata": {},
   "source": [
    "Возможно модель можно улучшить, если удалить признаки, которые оказывают на неё минимальное влияние, так же можно попробовать увеличить количество итераций, т.к. на графике видно, что кривая не вышла на плато, а стремится вниз.\n",
    "\n",
    "Так же я хотела построить круговую диаграмму для охарактеризования ушедших и оставшихся пользователей(зависимость значения churn от каждого категориального признака), но не смогла понять, как её построить из сводной таблицы pivot_table"
   ]
  },
  {
   "cell_type": "markdown",
   "metadata": {},
   "source": [
    "## Отчёт"
   ]
  },
  {
   "cell_type": "markdown",
   "metadata": {},
   "source": [
    "Для составления отчёта подробнее изучим первоначальный план и проанализируем, какие пункты были выполнены, какие результаты получены, с чем удалось справиться, а с чем нет, какие позникли трудности при выполнении проекта.\n",
    "\n",
    "1. Предобработка данных:\n",
    " 1. Приведение названий столбцов к общепринятому виду\n",
    " 2. Изменение типов данных\n",
    " 3. Проверка таблиц на наличие неявных пропусков и явных/неявных дубликатов\n",
    " 4. Объединение таблиц по столбцу customerID, необходимо проследить, чтобы все пользователи попали в датасет\n",
    " 5. Работа с появившимися пропусками.\n",
    " \n",
    "**Вывод по разделу:** На этапе предобработки данных проблем не возникло. Были выполнены все пункты плана.\n",
    "\n",
    "2. Анализ данных:\n",
    " 1. Создание целевого признака из EndDate\n",
    " 1. Построение графиков для изучения зависимостей между признаками и целевым признаком\n",
    " 2. Построение гистограмм для изучения категориальных признаков.\n",
    " 3. Составление портретов клиентов, которые остались и которые ушли из компании в виде круговой диаграммы.\n",
    " 4. Изучение выбросов \n",
    " 5. Изучение баланса классов\n",
    " 6. Создание новых признаков: Количество дней, в течение которых клиенты пользовались услугами компании(для ушедших пользователей), возможно в процессе добавлятся ещё признаки.\n",
    " 7. Проверка корреляции с целевым признаком и проверка на мультиколлинеарность.\n",
    " \n",
    "**Вывод по разделу:** На этапе анализа данных так же были выполнены все пункты плана. \n",
    "\n",
    "В процессе работы возникли трудности и построением параллельно расположеных круговых диграмм, для её решения была более подробно изучена функция subplots().\n",
    "Так же для анализа корреляции была изучена новая библиотека phik, позволяющая изучить нелинейную корреляцию, в том числе для категориальных признаков.\n",
    "\n",
    "3. Построение моделей:\n",
    " 1. Разбиение данных на train и test, со стратификацией и перемешиванием.\n",
    " 2. Составление pipeline для моделей:\n",
    "  1. Для Random Forest: Ordinal Encoder + масштабирование + GridSearchCV\n",
    "  2. Для Catboost: GridSearchCV\n",
    " 3. Выбор лучшей модели (по метрике на кроссвалидации model.best_score_)\n",
    " 4. Проверка на тестовой выборке лучшей модели\n",
    " 5. Построение графика ROC\n",
    " 6. Анализ важности признаков выбранной модели(model.features_importances_)\n",
    " 7. Построение матрицы ошибок\n",
    " 8. Анализ второй метрики accuracy\n",
    " \n",
    "**Вывод по разделу:** На этапе построения моделей были выполнены все пункты плана.\n",
    "\n",
    "Для построения были выбраны две модели: Random Forest и CatBoost. Эти модели были выбраны, т.к. в наших данных присутствует проблема мультиколлинеарности признаков, а модели, основанные на решающих деревьях не страдают от мультиколлинеарности.\n",
    "\n",
    "Так же в наших данных присутствует небольшой дисбаланс классов, поэтому в качестве метрики была выбрана ROC_AUC.\n",
    "\n",
    "4. Создание отчёта:\n",
    " 1. Был ли выполнен план, какие шаги пришлось изменить и почему.\n",
    " 2. Описание ключевых шагов решения задачи.\n",
    " 3. Описание предобработки данных\n",
    " 4. Описание выбранной модели машинного обучения: архитектура, сетка гиперпараметров, лучшие гиперпараметры\n",
    " \n",
    "*Ключевые шаги решения задачи:*\n",
    "1. На этапе первичного анализа данных были выявлены первые закономерности и связи между признаками. Это послужило хорошей базой для последующего более глубоко изучения признаков.\n",
    "2. Объединение таблиц с последующим заполнением пропусков, это позволило изучить профиль клиентов в целом, выделить группы клиентов, создать новые признаки для обучения моделей, построить графики зависимостей между признаками и составить портрет клиента, для которого была высокая вероятность уйти.\n",
    "3. Выбор моделей для обучения. С учётом особенностей датасета были выбраны модели, которые бы решали эти особенности, это позволило нам улучшить метрику качества и не переобучить модель.\n",
    "\n",
    "*Для проверки на тестовой выборке была выбрана модель Catboost с параметрами:*\n",
    "1. Глубина 'depth': 2, \n",
    "2. 'learning_rate': 0.3, \n",
    "3. loss_function': 'Logloss'\n",
    "4. auto_class_weights='Balanced'\n",
    "\n",
    "Получен *результат метрики ROC-AUC 0,906*.\n",
    "\n",
    "Датасет был разбит на train и test, в соотношении 3/1, поиск лучших параметров выполнялся с помощью GridSearchCV.\n",
    "\n",
    "**Модель CatBoost на тестовой выборке показала результат метрики ROC-AUC 0.938**\n",
    "\n",
    "Был построен график ROC кривой, который показал, что наша модель справляется гораздо лучше dummy модели.\n",
    "\n",
    "Была построена матрица ошибок и получены результаты:\n",
    "- Значение False Positive = 139, это значит, что из 1761 клиента 139 были предложены лучшие условия, но они не собирались уходить, это примерно 7%\n",
    "- Значение False Negative = 51, из 1761 клиента 51 клиенту не предложили лучшие условия и он ушёл, это примерно 3%\n",
    "\n",
    "Был проведён анализ важности признаков, самое сильное влияние на модель оказал признак duration, содержащий длительность использования услуг клиентом.\n",
    "\n",
    "**Модель показывает значение метрики accuracy на тестовой выборке = 0.89**"
   ]
  }
 ],
 "metadata": {
  "ExecuteTimeLog": [
   {
    "duration": 1571,
    "start_time": "2023-06-21T15:05:36.814Z"
   },
   {
    "duration": 746,
    "start_time": "2023-06-21T15:06:42.452Z"
   },
   {
    "duration": 91,
    "start_time": "2023-06-21T15:12:22.733Z"
   },
   {
    "duration": 3,
    "start_time": "2023-06-21T15:12:44.551Z"
   },
   {
    "duration": 25,
    "start_time": "2023-06-21T15:12:59.400Z"
   },
   {
    "duration": 8,
    "start_time": "2023-06-21T15:13:22.656Z"
   },
   {
    "duration": 20,
    "start_time": "2023-06-21T15:13:24.359Z"
   },
   {
    "duration": 3,
    "start_time": "2023-06-21T15:13:33.101Z"
   },
   {
    "duration": 3,
    "start_time": "2023-06-21T15:13:35.006Z"
   },
   {
    "duration": 3,
    "start_time": "2023-06-21T15:13:38.939Z"
   },
   {
    "duration": 3,
    "start_time": "2023-06-21T15:13:47.407Z"
   },
   {
    "duration": 15,
    "start_time": "2023-06-21T15:13:49.134Z"
   },
   {
    "duration": 3,
    "start_time": "2023-06-21T15:14:24.118Z"
   },
   {
    "duration": 26,
    "start_time": "2023-06-21T15:14:25.720Z"
   },
   {
    "duration": 69,
    "start_time": "2023-06-21T15:14:42.298Z"
   },
   {
    "duration": 175,
    "start_time": "2023-06-21T15:19:00.608Z"
   },
   {
    "duration": 3,
    "start_time": "2023-06-21T15:19:09.204Z"
   },
   {
    "duration": 50,
    "start_time": "2023-06-21T15:19:11.542Z"
   },
   {
    "duration": 4,
    "start_time": "2023-06-21T15:19:29.239Z"
   },
   {
    "duration": 44,
    "start_time": "2023-06-21T15:19:31.034Z"
   },
   {
    "duration": 3,
    "start_time": "2023-06-21T15:26:34.109Z"
   },
   {
    "duration": 45,
    "start_time": "2023-06-21T15:26:35.309Z"
   },
   {
    "duration": 70,
    "start_time": "2023-06-21T15:39:53.432Z"
   },
   {
    "duration": 36,
    "start_time": "2023-06-21T16:01:58.820Z"
   },
   {
    "duration": 4,
    "start_time": "2023-06-21T16:05:15.951Z"
   },
   {
    "duration": 69,
    "start_time": "2023-06-21T16:05:18.121Z"
   },
   {
    "duration": 64,
    "start_time": "2023-06-21T16:12:10.234Z"
   },
   {
    "duration": 42,
    "start_time": "2023-06-21T16:12:14.708Z"
   },
   {
    "duration": 35,
    "start_time": "2023-06-21T16:18:04.518Z"
   },
   {
    "duration": 3,
    "start_time": "2023-06-27T19:18:58.333Z"
   },
   {
    "duration": 1249,
    "start_time": "2023-06-27T19:18:58.337Z"
   },
   {
    "duration": 0,
    "start_time": "2023-06-27T19:18:59.590Z"
   },
   {
    "duration": 0,
    "start_time": "2023-06-27T19:18:59.591Z"
   },
   {
    "duration": 0,
    "start_time": "2023-06-27T19:18:59.592Z"
   },
   {
    "duration": 0,
    "start_time": "2023-06-27T19:18:59.593Z"
   },
   {
    "duration": 0,
    "start_time": "2023-06-27T19:18:59.595Z"
   },
   {
    "duration": 0,
    "start_time": "2023-06-27T19:18:59.596Z"
   },
   {
    "duration": 0,
    "start_time": "2023-06-27T19:18:59.597Z"
   },
   {
    "duration": 0,
    "start_time": "2023-06-27T19:18:59.598Z"
   },
   {
    "duration": 0,
    "start_time": "2023-06-27T19:18:59.600Z"
   },
   {
    "duration": 0,
    "start_time": "2023-06-27T19:18:59.601Z"
   },
   {
    "duration": 0,
    "start_time": "2023-06-27T19:18:59.602Z"
   },
   {
    "duration": 0,
    "start_time": "2023-06-27T19:18:59.603Z"
   },
   {
    "duration": 0,
    "start_time": "2023-06-27T19:18:59.604Z"
   },
   {
    "duration": 0,
    "start_time": "2023-06-27T19:18:59.606Z"
   },
   {
    "duration": 0,
    "start_time": "2023-06-27T19:18:59.607Z"
   },
   {
    "duration": 0,
    "start_time": "2023-06-27T19:18:59.608Z"
   },
   {
    "duration": 0,
    "start_time": "2023-06-27T19:18:59.609Z"
   },
   {
    "duration": 0,
    "start_time": "2023-06-27T19:18:59.610Z"
   },
   {
    "duration": 0,
    "start_time": "2023-06-27T19:18:59.612Z"
   },
   {
    "duration": 0,
    "start_time": "2023-06-27T19:18:59.613Z"
   },
   {
    "duration": 0,
    "start_time": "2023-06-27T19:18:59.614Z"
   },
   {
    "duration": 0,
    "start_time": "2023-06-27T19:18:59.615Z"
   },
   {
    "duration": 0,
    "start_time": "2023-06-27T19:18:59.616Z"
   },
   {
    "duration": 1,
    "start_time": "2023-06-27T19:18:59.659Z"
   },
   {
    "duration": 0,
    "start_time": "2023-06-27T19:18:59.661Z"
   },
   {
    "duration": 0,
    "start_time": "2023-06-27T19:18:59.662Z"
   },
   {
    "duration": 0,
    "start_time": "2023-06-27T19:18:59.663Z"
   },
   {
    "duration": 0,
    "start_time": "2023-06-27T19:18:59.664Z"
   },
   {
    "duration": 0,
    "start_time": "2023-06-27T19:18:59.664Z"
   },
   {
    "duration": 0,
    "start_time": "2023-06-27T19:18:59.666Z"
   },
   {
    "duration": 0,
    "start_time": "2023-06-27T19:18:59.666Z"
   },
   {
    "duration": 0,
    "start_time": "2023-06-27T19:18:59.668Z"
   },
   {
    "duration": 0,
    "start_time": "2023-06-27T19:18:59.669Z"
   },
   {
    "duration": 0,
    "start_time": "2023-06-27T19:18:59.670Z"
   },
   {
    "duration": 0,
    "start_time": "2023-06-27T19:18:59.671Z"
   },
   {
    "duration": 0,
    "start_time": "2023-06-27T19:18:59.672Z"
   },
   {
    "duration": 0,
    "start_time": "2023-06-27T19:18:59.673Z"
   },
   {
    "duration": 0,
    "start_time": "2023-06-27T19:18:59.674Z"
   },
   {
    "duration": 0,
    "start_time": "2023-06-27T19:18:59.675Z"
   },
   {
    "duration": 0,
    "start_time": "2023-06-27T19:18:59.676Z"
   },
   {
    "duration": 0,
    "start_time": "2023-06-27T19:18:59.677Z"
   },
   {
    "duration": 0,
    "start_time": "2023-06-27T19:18:59.678Z"
   },
   {
    "duration": 0,
    "start_time": "2023-06-27T19:18:59.679Z"
   },
   {
    "duration": 0,
    "start_time": "2023-06-27T19:18:59.680Z"
   },
   {
    "duration": 0,
    "start_time": "2023-06-27T19:18:59.681Z"
   },
   {
    "duration": 0,
    "start_time": "2023-06-27T19:18:59.682Z"
   },
   {
    "duration": 0,
    "start_time": "2023-06-27T19:18:59.683Z"
   },
   {
    "duration": 0,
    "start_time": "2023-06-27T19:18:59.684Z"
   },
   {
    "duration": 0,
    "start_time": "2023-06-27T19:18:59.685Z"
   },
   {
    "duration": 0,
    "start_time": "2023-06-27T19:18:59.686Z"
   },
   {
    "duration": 0,
    "start_time": "2023-06-27T19:18:59.687Z"
   },
   {
    "duration": 0,
    "start_time": "2023-06-27T19:18:59.688Z"
   },
   {
    "duration": 0,
    "start_time": "2023-06-27T19:18:59.689Z"
   },
   {
    "duration": 0,
    "start_time": "2023-06-27T19:18:59.691Z"
   },
   {
    "duration": 0,
    "start_time": "2023-06-27T19:18:59.692Z"
   },
   {
    "duration": 0,
    "start_time": "2023-06-27T19:18:59.693Z"
   },
   {
    "duration": 0,
    "start_time": "2023-06-27T19:18:59.694Z"
   },
   {
    "duration": 0,
    "start_time": "2023-06-27T19:18:59.695Z"
   },
   {
    "duration": 0,
    "start_time": "2023-06-27T19:18:59.759Z"
   },
   {
    "duration": 0,
    "start_time": "2023-06-27T19:18:59.760Z"
   },
   {
    "duration": 0,
    "start_time": "2023-06-27T19:18:59.761Z"
   },
   {
    "duration": 0,
    "start_time": "2023-06-27T19:18:59.763Z"
   },
   {
    "duration": 0,
    "start_time": "2023-06-27T19:18:59.764Z"
   },
   {
    "duration": 0,
    "start_time": "2023-06-27T19:18:59.764Z"
   },
   {
    "duration": 0,
    "start_time": "2023-06-27T19:18:59.766Z"
   },
   {
    "duration": 0,
    "start_time": "2023-06-27T19:18:59.767Z"
   },
   {
    "duration": 0,
    "start_time": "2023-06-27T19:18:59.768Z"
   },
   {
    "duration": 0,
    "start_time": "2023-06-27T19:18:59.769Z"
   },
   {
    "duration": 1,
    "start_time": "2023-06-27T19:18:59.770Z"
   },
   {
    "duration": 0,
    "start_time": "2023-06-27T19:18:59.772Z"
   },
   {
    "duration": 0,
    "start_time": "2023-06-27T19:18:59.773Z"
   },
   {
    "duration": 0,
    "start_time": "2023-06-27T19:18:59.774Z"
   },
   {
    "duration": 3249,
    "start_time": "2023-06-27T19:19:27.352Z"
   },
   {
    "duration": 1805,
    "start_time": "2023-06-27T19:19:30.603Z"
   },
   {
    "duration": 91,
    "start_time": "2023-06-27T19:19:32.410Z"
   },
   {
    "duration": 4,
    "start_time": "2023-06-27T19:19:32.503Z"
   },
   {
    "duration": 64,
    "start_time": "2023-06-27T19:19:32.509Z"
   },
   {
    "duration": 40,
    "start_time": "2023-06-27T19:19:32.575Z"
   },
   {
    "duration": 54,
    "start_time": "2023-06-27T19:19:32.617Z"
   },
   {
    "duration": 23,
    "start_time": "2023-06-27T19:19:32.673Z"
   },
   {
    "duration": 104,
    "start_time": "2023-06-27T19:19:32.697Z"
   },
   {
    "duration": 24,
    "start_time": "2023-06-27T19:19:32.804Z"
   },
   {
    "duration": 17,
    "start_time": "2023-06-27T19:19:32.829Z"
   },
   {
    "duration": 21,
    "start_time": "2023-06-27T19:19:32.847Z"
   },
   {
    "duration": 4,
    "start_time": "2023-06-27T19:19:32.870Z"
   },
   {
    "duration": 67,
    "start_time": "2023-06-27T19:19:32.875Z"
   },
   {
    "duration": 10,
    "start_time": "2023-06-27T19:19:32.944Z"
   },
   {
    "duration": 16,
    "start_time": "2023-06-27T19:19:32.956Z"
   },
   {
    "duration": 11,
    "start_time": "2023-06-27T19:19:32.973Z"
   },
   {
    "duration": 4,
    "start_time": "2023-06-27T19:19:32.986Z"
   },
   {
    "duration": 8,
    "start_time": "2023-06-27T19:19:32.991Z"
   },
   {
    "duration": 20,
    "start_time": "2023-06-27T19:19:33.001Z"
   },
   {
    "duration": 13,
    "start_time": "2023-06-27T19:19:33.022Z"
   },
   {
    "duration": 26,
    "start_time": "2023-06-27T19:19:33.036Z"
   },
   {
    "duration": 25,
    "start_time": "2023-06-27T19:19:33.064Z"
   },
   {
    "duration": 2,
    "start_time": "2023-06-27T19:19:33.091Z"
   },
   {
    "duration": 21,
    "start_time": "2023-06-27T19:19:33.095Z"
   },
   {
    "duration": 29,
    "start_time": "2023-06-27T19:19:33.117Z"
   },
   {
    "duration": 19,
    "start_time": "2023-06-27T19:19:33.160Z"
   },
   {
    "duration": 3,
    "start_time": "2023-06-27T19:19:33.183Z"
   },
   {
    "duration": 7,
    "start_time": "2023-06-27T19:19:33.188Z"
   },
   {
    "duration": 12,
    "start_time": "2023-06-27T19:19:33.196Z"
   },
   {
    "duration": 60,
    "start_time": "2023-06-27T19:19:33.210Z"
   },
   {
    "duration": 9,
    "start_time": "2023-06-27T19:19:33.272Z"
   },
   {
    "duration": 9,
    "start_time": "2023-06-27T19:19:33.282Z"
   },
   {
    "duration": 6,
    "start_time": "2023-06-27T19:19:33.292Z"
   },
   {
    "duration": 12,
    "start_time": "2023-06-27T19:19:33.300Z"
   },
   {
    "duration": 58,
    "start_time": "2023-06-27T19:19:33.313Z"
   },
   {
    "duration": 17,
    "start_time": "2023-06-27T19:19:33.372Z"
   },
   {
    "duration": 47,
    "start_time": "2023-06-27T19:19:33.391Z"
   },
   {
    "duration": 264,
    "start_time": "2023-06-27T19:19:33.440Z"
   },
   {
    "duration": 7,
    "start_time": "2023-06-27T19:19:33.706Z"
   },
   {
    "duration": 7,
    "start_time": "2023-06-27T19:19:33.715Z"
   },
   {
    "duration": 11,
    "start_time": "2023-06-27T19:19:33.723Z"
   },
   {
    "duration": 25,
    "start_time": "2023-06-27T19:19:33.735Z"
   },
   {
    "duration": 5,
    "start_time": "2023-06-27T19:19:33.761Z"
   },
   {
    "duration": 5,
    "start_time": "2023-06-27T19:19:33.768Z"
   },
   {
    "duration": 147,
    "start_time": "2023-06-27T19:19:33.774Z"
   },
   {
    "duration": 416,
    "start_time": "2023-06-27T19:19:33.923Z"
   },
   {
    "duration": 198,
    "start_time": "2023-06-27T19:19:34.340Z"
   },
   {
    "duration": 178,
    "start_time": "2023-06-27T19:19:34.540Z"
   },
   {
    "duration": 4,
    "start_time": "2023-06-27T19:19:34.720Z"
   },
   {
    "duration": 41,
    "start_time": "2023-06-27T19:19:34.725Z"
   },
   {
    "duration": 11,
    "start_time": "2023-06-27T19:19:34.768Z"
   },
   {
    "duration": 991,
    "start_time": "2023-06-27T19:19:34.781Z"
   },
   {
    "duration": 1399,
    "start_time": "2023-06-27T19:19:35.773Z"
   },
   {
    "duration": 918,
    "start_time": "2023-06-27T19:19:37.173Z"
   },
   {
    "duration": 3,
    "start_time": "2023-06-27T19:19:38.092Z"
   },
   {
    "duration": 17,
    "start_time": "2023-06-27T19:19:38.097Z"
   },
   {
    "duration": 20,
    "start_time": "2023-06-27T19:19:38.115Z"
   },
   {
    "duration": 7,
    "start_time": "2023-06-27T19:19:38.158Z"
   },
   {
    "duration": 9,
    "start_time": "2023-06-27T19:19:38.167Z"
   },
   {
    "duration": 31,
    "start_time": "2023-06-27T19:19:38.177Z"
   },
   {
    "duration": 7,
    "start_time": "2023-06-27T19:19:38.210Z"
   },
   {
    "duration": 7,
    "start_time": "2023-06-27T19:19:38.218Z"
   },
   {
    "duration": 54830,
    "start_time": "2023-06-27T19:19:38.226Z"
   },
   {
    "duration": 5,
    "start_time": "2023-06-27T19:20:33.059Z"
   },
   {
    "duration": 9,
    "start_time": "2023-06-27T19:20:33.065Z"
   },
   {
    "duration": 225523,
    "start_time": "2023-06-27T19:20:33.076Z"
   },
   {
    "duration": 4,
    "start_time": "2023-06-27T19:24:18.601Z"
   },
   {
    "duration": 28,
    "start_time": "2023-06-27T19:24:18.606Z"
   },
   {
    "duration": 149,
    "start_time": "2023-06-27T19:24:18.636Z"
   },
   {
    "duration": 259,
    "start_time": "2023-06-27T19:24:18.787Z"
   },
   {
    "duration": 18,
    "start_time": "2023-06-27T19:24:19.047Z"
   },
   {
    "duration": 272,
    "start_time": "2023-06-27T19:24:19.066Z"
   },
   {
    "duration": 4,
    "start_time": "2023-06-27T19:24:19.340Z"
   },
   {
    "duration": 4,
    "start_time": "2023-06-27T19:24:56.098Z"
   },
   {
    "duration": 3328,
    "start_time": "2023-06-28T13:15:52.859Z"
   },
   {
    "duration": 1783,
    "start_time": "2023-06-28T13:15:56.189Z"
   },
   {
    "duration": 323,
    "start_time": "2023-06-28T13:15:57.974Z"
   },
   {
    "duration": 4,
    "start_time": "2023-06-28T13:15:58.299Z"
   },
   {
    "duration": 81,
    "start_time": "2023-06-28T13:15:58.305Z"
   },
   {
    "duration": 74,
    "start_time": "2023-06-28T13:15:58.388Z"
   },
   {
    "duration": 48,
    "start_time": "2023-06-28T13:15:58.465Z"
   },
   {
    "duration": 52,
    "start_time": "2023-06-28T13:15:58.515Z"
   },
   {
    "duration": 14,
    "start_time": "2023-06-28T13:15:58.568Z"
   },
   {
    "duration": 23,
    "start_time": "2023-06-28T13:15:58.584Z"
   },
   {
    "duration": 29,
    "start_time": "2023-06-28T13:15:58.609Z"
   },
   {
    "duration": 27,
    "start_time": "2023-06-28T13:15:58.640Z"
   },
   {
    "duration": 53,
    "start_time": "2023-06-28T13:15:58.669Z"
   },
   {
    "duration": 30,
    "start_time": "2023-06-28T13:15:58.724Z"
   },
   {
    "duration": 10,
    "start_time": "2023-06-28T13:15:58.756Z"
   },
   {
    "duration": 25,
    "start_time": "2023-06-28T13:15:58.767Z"
   },
   {
    "duration": 9,
    "start_time": "2023-06-28T13:15:58.794Z"
   },
   {
    "duration": 10,
    "start_time": "2023-06-28T13:15:58.806Z"
   },
   {
    "duration": 25,
    "start_time": "2023-06-28T13:15:58.817Z"
   },
   {
    "duration": 42,
    "start_time": "2023-06-28T13:15:58.844Z"
   },
   {
    "duration": 14,
    "start_time": "2023-06-28T13:15:58.887Z"
   },
   {
    "duration": 12,
    "start_time": "2023-06-28T13:15:58.903Z"
   },
   {
    "duration": 30,
    "start_time": "2023-06-28T13:15:58.917Z"
   },
   {
    "duration": 3,
    "start_time": "2023-06-28T13:15:58.953Z"
   },
   {
    "duration": 30,
    "start_time": "2023-06-28T13:15:58.958Z"
   },
   {
    "duration": 23,
    "start_time": "2023-06-28T13:15:58.990Z"
   },
   {
    "duration": 21,
    "start_time": "2023-06-28T13:15:59.015Z"
   },
   {
    "duration": 5,
    "start_time": "2023-06-28T13:15:59.051Z"
   },
   {
    "duration": 19,
    "start_time": "2023-06-28T13:15:59.058Z"
   },
   {
    "duration": 17,
    "start_time": "2023-06-28T13:15:59.078Z"
   },
   {
    "duration": 35,
    "start_time": "2023-06-28T13:15:59.097Z"
   },
   {
    "duration": 11,
    "start_time": "2023-06-28T13:15:59.151Z"
   },
   {
    "duration": 29,
    "start_time": "2023-06-28T13:15:59.163Z"
   },
   {
    "duration": 19,
    "start_time": "2023-06-28T13:15:59.194Z"
   },
   {
    "duration": 18,
    "start_time": "2023-06-28T13:15:59.214Z"
   },
   {
    "duration": 45,
    "start_time": "2023-06-28T13:15:59.234Z"
   },
   {
    "duration": 18,
    "start_time": "2023-06-28T13:15:59.280Z"
   },
   {
    "duration": 66,
    "start_time": "2023-06-28T13:15:59.300Z"
   },
   {
    "duration": 247,
    "start_time": "2023-06-28T13:15:59.368Z"
   },
   {
    "duration": 7,
    "start_time": "2023-06-28T13:15:59.616Z"
   },
   {
    "duration": 16,
    "start_time": "2023-06-28T13:15:59.625Z"
   },
   {
    "duration": 7,
    "start_time": "2023-06-28T13:15:59.651Z"
   },
   {
    "duration": 17,
    "start_time": "2023-06-28T13:15:59.660Z"
   },
   {
    "duration": 19,
    "start_time": "2023-06-28T13:15:59.679Z"
   },
   {
    "duration": 11,
    "start_time": "2023-06-28T13:15:59.700Z"
   },
   {
    "duration": 156,
    "start_time": "2023-06-28T13:15:59.713Z"
   },
   {
    "duration": 428,
    "start_time": "2023-06-28T13:15:59.870Z"
   },
   {
    "duration": 259,
    "start_time": "2023-06-28T13:16:00.300Z"
   },
   {
    "duration": 231,
    "start_time": "2023-06-28T13:16:00.561Z"
   },
   {
    "duration": 6,
    "start_time": "2023-06-28T13:16:00.794Z"
   },
   {
    "duration": 66,
    "start_time": "2023-06-28T13:16:00.802Z"
   },
   {
    "duration": 61,
    "start_time": "2023-06-28T13:16:00.870Z"
   },
   {
    "duration": 1233,
    "start_time": "2023-06-28T13:16:00.933Z"
   },
   {
    "duration": 1660,
    "start_time": "2023-06-28T13:16:02.168Z"
   },
   {
    "duration": 1064,
    "start_time": "2023-06-28T13:16:03.829Z"
   },
   {
    "duration": 3,
    "start_time": "2023-06-28T13:16:04.895Z"
   },
   {
    "duration": 33,
    "start_time": "2023-06-28T13:16:04.900Z"
   },
   {
    "duration": 26,
    "start_time": "2023-06-28T13:16:04.935Z"
   },
   {
    "duration": 16,
    "start_time": "2023-06-28T13:16:04.963Z"
   },
   {
    "duration": 13,
    "start_time": "2023-06-28T13:16:04.981Z"
   },
   {
    "duration": 7,
    "start_time": "2023-06-28T13:16:04.996Z"
   },
   {
    "duration": 18,
    "start_time": "2023-06-28T13:16:05.005Z"
   },
   {
    "duration": 35,
    "start_time": "2023-06-28T13:16:05.025Z"
   },
   {
    "duration": 28,
    "start_time": "2023-06-28T13:16:05.062Z"
   },
   {
    "duration": 62262,
    "start_time": "2023-06-28T13:16:05.092Z"
   },
   {
    "duration": 4,
    "start_time": "2023-06-28T13:17:07.356Z"
   },
   {
    "duration": 33,
    "start_time": "2023-06-28T13:17:07.361Z"
   },
   {
    "duration": 275625,
    "start_time": "2023-06-28T13:17:07.396Z"
   },
   {
    "duration": 4,
    "start_time": "2023-06-28T13:21:43.023Z"
   },
   {
    "duration": 34,
    "start_time": "2023-06-28T13:21:43.029Z"
   },
   {
    "duration": 166,
    "start_time": "2023-06-28T13:21:43.065Z"
   },
   {
    "duration": 357,
    "start_time": "2023-06-28T13:21:43.233Z"
   },
   {
    "duration": 63,
    "start_time": "2023-06-28T13:21:43.592Z"
   },
   {
    "duration": 401,
    "start_time": "2023-06-28T13:21:43.657Z"
   },
   {
    "duration": 6,
    "start_time": "2023-06-28T13:21:44.060Z"
   },
   {
    "duration": 128,
    "start_time": "2023-06-28T13:43:40.521Z"
   },
   {
    "duration": 1947,
    "start_time": "2023-06-28T13:43:48.447Z"
   },
   {
    "duration": 10,
    "start_time": "2023-06-28T13:45:14.557Z"
   },
   {
    "duration": 1482,
    "start_time": "2023-06-28T13:45:27.108Z"
   },
   {
    "duration": 3628,
    "start_time": "2023-06-28T13:45:35.618Z"
   },
   {
    "duration": 3976,
    "start_time": "2023-06-28T13:46:02.060Z"
   },
   {
    "duration": 3692,
    "start_time": "2023-06-28T13:46:18.422Z"
   },
   {
    "duration": 209,
    "start_time": "2023-06-28T13:46:47.697Z"
   },
   {
    "duration": 10,
    "start_time": "2023-06-28T13:46:57.993Z"
   },
   {
    "duration": 7,
    "start_time": "2023-06-28T13:47:01.225Z"
   },
   {
    "duration": 1265,
    "start_time": "2023-06-28T13:51:07.147Z"
   },
   {
    "duration": 3690,
    "start_time": "2023-06-28T13:51:28.086Z"
   },
   {
    "duration": 12,
    "start_time": "2023-06-28T13:51:39.720Z"
   },
   {
    "duration": 33,
    "start_time": "2023-06-28T13:52:02.299Z"
   },
   {
    "duration": 32,
    "start_time": "2023-06-28T13:52:22.809Z"
   },
   {
    "duration": 5,
    "start_time": "2023-06-28T13:52:27.049Z"
   },
   {
    "duration": 3684,
    "start_time": "2023-06-28T13:52:42.243Z"
   },
   {
    "duration": 137808,
    "start_time": "2023-06-28T13:56:21.640Z"
   },
   {
    "duration": 21,
    "start_time": "2023-06-28T14:11:54.745Z"
   },
   {
    "duration": 25,
    "start_time": "2023-06-28T14:12:25.526Z"
   },
   {
    "duration": 246,
    "start_time": "2023-06-28T14:13:00.010Z"
   },
   {
    "duration": 334,
    "start_time": "2023-06-28T14:13:14.263Z"
   },
   {
    "duration": 22,
    "start_time": "2023-06-28T14:13:40.931Z"
   },
   {
    "duration": 6,
    "start_time": "2023-06-28T14:14:43.844Z"
   },
   {
    "duration": 5,
    "start_time": "2023-06-28T14:15:03.821Z"
   },
   {
    "duration": 160,
    "start_time": "2023-06-28T14:16:50.346Z"
   },
   {
    "duration": 135,
    "start_time": "2023-06-28T14:18:50.224Z"
   },
   {
    "duration": 279,
    "start_time": "2023-06-28T14:19:06.123Z"
   },
   {
    "duration": 4,
    "start_time": "2023-06-28T14:20:10.856Z"
   },
   {
    "duration": 149,
    "start_time": "2023-06-28T14:20:14.506Z"
   },
   {
    "duration": 179,
    "start_time": "2023-06-28T14:23:44.062Z"
   },
   {
    "duration": 284,
    "start_time": "2023-06-28T14:23:50.665Z"
   },
   {
    "duration": 504,
    "start_time": "2023-06-28T14:25:17.880Z"
   },
   {
    "duration": 507,
    "start_time": "2023-06-28T14:25:34.777Z"
   },
   {
    "duration": 803,
    "start_time": "2023-06-28T14:25:45.061Z"
   },
   {
    "duration": 817,
    "start_time": "2023-06-28T14:26:40.503Z"
   },
   {
    "duration": 984,
    "start_time": "2023-06-28T14:26:54.768Z"
   },
   {
    "duration": 853,
    "start_time": "2023-06-28T14:29:29.317Z"
   },
   {
    "duration": 198,
    "start_time": "2023-06-28T14:30:54.440Z"
   },
   {
    "duration": 173,
    "start_time": "2023-06-28T14:31:10.380Z"
   },
   {
    "duration": 172,
    "start_time": "2023-06-28T14:31:20.350Z"
   },
   {
    "duration": 165,
    "start_time": "2023-06-28T14:31:28.115Z"
   },
   {
    "duration": 136,
    "start_time": "2023-06-28T14:31:56.284Z"
   },
   {
    "duration": 132,
    "start_time": "2023-06-28T14:32:42.437Z"
   },
   {
    "duration": 131,
    "start_time": "2023-06-28T14:32:59.466Z"
   },
   {
    "duration": 799,
    "start_time": "2023-06-28T14:33:54.482Z"
   },
   {
    "duration": 1397,
    "start_time": "2023-06-28T14:34:46.140Z"
   },
   {
    "duration": 97,
    "start_time": "2023-06-28T14:35:32.106Z"
   },
   {
    "duration": 94,
    "start_time": "2023-06-28T14:35:38.571Z"
   },
   {
    "duration": 1111,
    "start_time": "2023-06-28T14:36:04.940Z"
   },
   {
    "duration": 127,
    "start_time": "2023-06-28T14:36:34.895Z"
   },
   {
    "duration": 112,
    "start_time": "2023-06-28T14:36:43.626Z"
   },
   {
    "duration": 150,
    "start_time": "2023-06-28T14:36:53.760Z"
   },
   {
    "duration": 133,
    "start_time": "2023-06-28T14:40:10.862Z"
   },
   {
    "duration": 403,
    "start_time": "2023-06-28T14:40:23.154Z"
   },
   {
    "duration": 146,
    "start_time": "2023-06-28T14:40:32.297Z"
   },
   {
    "duration": 297,
    "start_time": "2023-06-28T14:40:38.438Z"
   },
   {
    "duration": 206,
    "start_time": "2023-06-28T14:40:46.319Z"
   },
   {
    "duration": 258,
    "start_time": "2023-06-28T14:41:00.285Z"
   },
   {
    "duration": 234,
    "start_time": "2023-06-28T14:41:08.911Z"
   },
   {
    "duration": 213,
    "start_time": "2023-06-28T14:41:16.238Z"
   },
   {
    "duration": 228,
    "start_time": "2023-06-28T14:41:24.546Z"
   },
   {
    "duration": 240,
    "start_time": "2023-06-28T14:41:52.947Z"
   },
   {
    "duration": 215,
    "start_time": "2023-06-28T14:42:24.802Z"
   },
   {
    "duration": 232,
    "start_time": "2023-06-28T14:42:33.829Z"
   },
   {
    "duration": 212,
    "start_time": "2023-06-28T14:42:40.802Z"
   },
   {
    "duration": 255,
    "start_time": "2023-06-28T14:42:53.017Z"
   },
   {
    "duration": 226,
    "start_time": "2023-06-28T14:43:24.140Z"
   },
   {
    "duration": 122,
    "start_time": "2023-06-28T14:44:00.105Z"
   },
   {
    "duration": 232,
    "start_time": "2023-06-28T14:44:10.420Z"
   },
   {
    "duration": 122,
    "start_time": "2023-06-28T14:44:19.555Z"
   },
   {
    "duration": 188,
    "start_time": "2023-06-28T14:44:30.396Z"
   },
   {
    "duration": 8892,
    "start_time": "2023-06-28T14:45:01.892Z"
   },
   {
    "duration": 153,
    "start_time": "2023-06-28T14:45:18.721Z"
   },
   {
    "duration": 175,
    "start_time": "2023-06-28T14:47:32.129Z"
   },
   {
    "duration": 38,
    "start_time": "2023-06-28T14:47:48.462Z"
   },
   {
    "duration": 18,
    "start_time": "2023-06-28T14:47:53.820Z"
   },
   {
    "duration": 22,
    "start_time": "2023-06-28T14:47:57.343Z"
   },
   {
    "duration": 93,
    "start_time": "2023-06-28T14:49:51.100Z"
   },
   {
    "duration": 97,
    "start_time": "2023-06-28T14:50:04.226Z"
   },
   {
    "duration": 87,
    "start_time": "2023-06-28T14:50:08.812Z"
   },
   {
    "duration": 84,
    "start_time": "2023-06-28T14:50:11.613Z"
   },
   {
    "duration": 94,
    "start_time": "2023-06-28T14:50:25.508Z"
   },
   {
    "duration": 86,
    "start_time": "2023-06-28T14:50:28.122Z"
   },
   {
    "duration": 162,
    "start_time": "2023-06-28T14:50:34.941Z"
   },
   {
    "duration": 89,
    "start_time": "2023-06-28T14:53:28.018Z"
   },
   {
    "duration": 106,
    "start_time": "2023-06-28T14:54:39.392Z"
   },
   {
    "duration": 24,
    "start_time": "2023-06-28T14:54:58.467Z"
   },
   {
    "duration": 19,
    "start_time": "2023-06-28T14:55:10.549Z"
   },
   {
    "duration": 19,
    "start_time": "2023-06-28T14:55:24.740Z"
   },
   {
    "duration": 18,
    "start_time": "2023-06-28T14:56:39.319Z"
   },
   {
    "duration": 17,
    "start_time": "2023-06-28T14:56:49.612Z"
   },
   {
    "duration": 17,
    "start_time": "2023-06-28T14:56:59.492Z"
   },
   {
    "duration": 103,
    "start_time": "2023-06-28T14:57:03.427Z"
   },
   {
    "duration": 88,
    "start_time": "2023-06-28T14:57:15.212Z"
   },
   {
    "duration": 19,
    "start_time": "2023-06-28T14:57:41.110Z"
   },
   {
    "duration": 19,
    "start_time": "2023-06-28T14:57:47.725Z"
   },
   {
    "duration": 98,
    "start_time": "2023-06-28T14:57:54.523Z"
   },
   {
    "duration": 17,
    "start_time": "2023-06-28T14:58:57.556Z"
   },
   {
    "duration": 19,
    "start_time": "2023-06-28T14:59:01.962Z"
   },
   {
    "duration": 18,
    "start_time": "2023-06-28T14:59:10.097Z"
   },
   {
    "duration": 121,
    "start_time": "2023-06-28T14:59:38.684Z"
   },
   {
    "duration": 223,
    "start_time": "2023-06-28T15:00:08.317Z"
   },
   {
    "duration": 140,
    "start_time": "2023-06-28T15:00:21.702Z"
   },
   {
    "duration": 147,
    "start_time": "2023-06-28T15:00:39.157Z"
   },
   {
    "duration": 139,
    "start_time": "2023-06-28T15:00:45.832Z"
   },
   {
    "duration": 202,
    "start_time": "2023-06-28T15:00:58.312Z"
   },
   {
    "duration": 162,
    "start_time": "2023-06-28T15:01:02.982Z"
   },
   {
    "duration": 177,
    "start_time": "2023-06-28T15:02:06.037Z"
   },
   {
    "duration": 2400,
    "start_time": "2023-06-28T15:02:11.588Z"
   },
   {
    "duration": 2501,
    "start_time": "2023-06-28T15:02:22.496Z"
   },
   {
    "duration": 2981,
    "start_time": "2023-06-28T15:02:29.741Z"
   },
   {
    "duration": 2969,
    "start_time": "2023-06-28T15:02:54.337Z"
   },
   {
    "duration": 2902,
    "start_time": "2023-06-28T15:03:06.401Z"
   },
   {
    "duration": 2921,
    "start_time": "2023-06-28T15:05:05.626Z"
   },
   {
    "duration": 2905,
    "start_time": "2023-06-28T15:08:19.363Z"
   },
   {
    "duration": 3051,
    "start_time": "2023-06-28T15:08:55.998Z"
   },
   {
    "duration": 3050,
    "start_time": "2023-06-28T15:09:06.325Z"
   },
   {
    "duration": 4093,
    "start_time": "2023-06-28T15:15:18.228Z"
   },
   {
    "duration": 298,
    "start_time": "2023-06-28T15:16:28.299Z"
   },
   {
    "duration": 9407,
    "start_time": "2023-06-28T15:17:08.411Z"
   },
   {
    "duration": 2264,
    "start_time": "2023-06-28T15:17:57.724Z"
   },
   {
    "duration": 1901,
    "start_time": "2023-06-28T15:17:59.991Z"
   },
   {
    "duration": 279,
    "start_time": "2023-06-28T15:18:01.894Z"
   },
   {
    "duration": 3,
    "start_time": "2023-06-28T15:18:02.176Z"
   },
   {
    "duration": 96,
    "start_time": "2023-06-28T15:18:02.181Z"
   },
   {
    "duration": 57,
    "start_time": "2023-06-28T15:18:02.279Z"
   },
   {
    "duration": 45,
    "start_time": "2023-06-28T15:18:02.352Z"
   },
   {
    "duration": 62,
    "start_time": "2023-06-28T15:18:02.399Z"
   },
   {
    "duration": 23,
    "start_time": "2023-06-28T15:18:02.463Z"
   },
   {
    "duration": 44,
    "start_time": "2023-06-28T15:18:02.490Z"
   },
   {
    "duration": 48,
    "start_time": "2023-06-28T15:18:02.536Z"
   },
   {
    "duration": 33,
    "start_time": "2023-06-28T15:18:02.585Z"
   },
   {
    "duration": 5,
    "start_time": "2023-06-28T15:18:02.620Z"
   },
   {
    "duration": 26,
    "start_time": "2023-06-28T15:18:02.627Z"
   },
   {
    "duration": 18,
    "start_time": "2023-06-28T15:18:02.655Z"
   },
   {
    "duration": 36,
    "start_time": "2023-06-28T15:18:02.675Z"
   },
   {
    "duration": 11,
    "start_time": "2023-06-28T15:18:02.713Z"
   },
   {
    "duration": 26,
    "start_time": "2023-06-28T15:18:02.726Z"
   },
   {
    "duration": 17,
    "start_time": "2023-06-28T15:18:02.754Z"
   },
   {
    "duration": 26,
    "start_time": "2023-06-28T15:18:02.773Z"
   },
   {
    "duration": 14,
    "start_time": "2023-06-28T15:18:02.801Z"
   },
   {
    "duration": 7,
    "start_time": "2023-06-28T15:18:02.817Z"
   },
   {
    "duration": 41,
    "start_time": "2023-06-28T15:18:02.826Z"
   },
   {
    "duration": 3,
    "start_time": "2023-06-28T15:18:02.869Z"
   },
   {
    "duration": 30,
    "start_time": "2023-06-28T15:18:02.874Z"
   },
   {
    "duration": 24,
    "start_time": "2023-06-28T15:18:02.906Z"
   },
   {
    "duration": 27,
    "start_time": "2023-06-28T15:18:02.932Z"
   },
   {
    "duration": 4,
    "start_time": "2023-06-28T15:18:02.963Z"
   },
   {
    "duration": 12,
    "start_time": "2023-06-28T15:18:02.969Z"
   },
   {
    "duration": 18,
    "start_time": "2023-06-28T15:18:02.982Z"
   },
   {
    "duration": 52,
    "start_time": "2023-06-28T15:18:03.002Z"
   },
   {
    "duration": 14,
    "start_time": "2023-06-28T15:18:03.057Z"
   },
   {
    "duration": 23,
    "start_time": "2023-06-28T15:18:03.074Z"
   },
   {
    "duration": 6,
    "start_time": "2023-06-28T15:18:03.099Z"
   },
   {
    "duration": 19,
    "start_time": "2023-06-28T15:18:03.107Z"
   },
   {
    "duration": 70,
    "start_time": "2023-06-28T15:18:03.129Z"
   },
   {
    "duration": 20,
    "start_time": "2023-06-28T15:18:03.200Z"
   },
   {
    "duration": 67,
    "start_time": "2023-06-28T15:18:03.221Z"
   },
   {
    "duration": 288,
    "start_time": "2023-06-28T15:18:03.290Z"
   },
   {
    "duration": 7,
    "start_time": "2023-06-28T15:18:03.581Z"
   },
   {
    "duration": 22,
    "start_time": "2023-06-28T15:18:03.590Z"
   },
   {
    "duration": 27,
    "start_time": "2023-06-28T15:18:03.614Z"
   },
   {
    "duration": 39,
    "start_time": "2023-06-28T15:18:03.643Z"
   },
   {
    "duration": 33,
    "start_time": "2023-06-28T15:18:03.684Z"
   },
   {
    "duration": 25,
    "start_time": "2023-06-28T15:18:03.718Z"
   },
   {
    "duration": 160,
    "start_time": "2023-06-28T15:18:03.745Z"
   },
   {
    "duration": 428,
    "start_time": "2023-06-28T15:18:03.907Z"
   },
   {
    "duration": 239,
    "start_time": "2023-06-28T15:18:04.337Z"
   },
   {
    "duration": 224,
    "start_time": "2023-06-28T15:18:04.578Z"
   },
   {
    "duration": 5,
    "start_time": "2023-06-28T15:18:04.803Z"
   },
   {
    "duration": 43,
    "start_time": "2023-06-28T15:18:04.810Z"
   },
   {
    "duration": 17,
    "start_time": "2023-06-28T15:18:04.855Z"
   },
   {
    "duration": 1131,
    "start_time": "2023-06-28T15:18:04.874Z"
   },
   {
    "duration": 1106,
    "start_time": "2023-06-28T15:18:06.006Z"
   },
   {
    "duration": 3,
    "start_time": "2023-06-28T15:18:07.114Z"
   },
   {
    "duration": 44,
    "start_time": "2023-06-28T15:18:07.118Z"
   },
   {
    "duration": 31,
    "start_time": "2023-06-28T15:18:07.164Z"
   },
   {
    "duration": 21,
    "start_time": "2023-06-28T15:18:07.196Z"
   },
   {
    "duration": 13,
    "start_time": "2023-06-28T15:18:07.219Z"
   },
   {
    "duration": 4,
    "start_time": "2023-06-28T15:18:07.234Z"
   },
   {
    "duration": 28,
    "start_time": "2023-06-28T15:18:07.240Z"
   },
   {
    "duration": 28,
    "start_time": "2023-06-28T15:18:07.269Z"
   },
   {
    "duration": 17,
    "start_time": "2023-06-28T15:18:07.299Z"
   },
   {
    "duration": 61280,
    "start_time": "2023-06-28T15:18:07.318Z"
   },
   {
    "duration": 4,
    "start_time": "2023-06-28T15:19:08.600Z"
   },
   {
    "duration": 15,
    "start_time": "2023-06-28T15:19:08.606Z"
   },
   {
    "duration": 249949,
    "start_time": "2023-06-28T15:19:08.623Z"
   },
   {
    "duration": 4,
    "start_time": "2023-06-28T15:23:18.574Z"
   },
   {
    "duration": 36,
    "start_time": "2023-06-28T15:23:18.580Z"
   },
   {
    "duration": 155,
    "start_time": "2023-06-28T15:23:18.618Z"
   },
   {
    "duration": 281,
    "start_time": "2023-06-28T15:23:18.775Z"
   },
   {
    "duration": 10,
    "start_time": "2023-06-28T15:23:19.058Z"
   },
   {
    "duration": 293,
    "start_time": "2023-06-28T15:23:19.070Z"
   },
   {
    "duration": 6,
    "start_time": "2023-06-28T15:23:19.366Z"
   },
   {
    "duration": 3613,
    "start_time": "2023-06-28T15:23:19.373Z"
   },
   {
    "duration": 4,
    "start_time": "2023-06-28T15:23:22.988Z"
   },
   {
    "duration": 1006,
    "start_time": "2023-06-28T15:23:22.993Z"
   },
   {
    "duration": 159,
    "start_time": "2023-06-28T15:23:24.001Z"
   },
   {
    "duration": 3998,
    "start_time": "2023-06-28T15:23:24.161Z"
   },
   {
    "duration": 4352,
    "start_time": "2023-06-28T15:23:52.469Z"
   }
  ],
  "kernelspec": {
   "display_name": "Python 3 (ipykernel)",
   "language": "python",
   "name": "python3"
  },
  "language_info": {
   "codemirror_mode": {
    "name": "ipython",
    "version": 3
   },
   "file_extension": ".py",
   "mimetype": "text/x-python",
   "name": "python",
   "nbconvert_exporter": "python",
   "pygments_lexer": "ipython3",
   "version": "3.9.13"
  },
  "toc": {
   "base_numbering": 1,
   "nav_menu": {},
   "number_sections": true,
   "sideBar": true,
   "skip_h1_title": true,
   "title_cell": "Table of Contents",
   "title_sidebar": "Contents",
   "toc_cell": false,
   "toc_position": {},
   "toc_section_display": true,
   "toc_window_display": false
  }
 },
 "nbformat": 4,
 "nbformat_minor": 2
}
