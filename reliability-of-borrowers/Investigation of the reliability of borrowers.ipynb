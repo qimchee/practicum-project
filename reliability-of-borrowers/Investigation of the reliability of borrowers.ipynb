{
 "cells": [
  {
   "cell_type": "markdown",
   "id": "75864e7f",
   "metadata": {
    "deletable": false,
    "editable": false,
    "id": "c81daeeb"
   },
   "source": [
    "# Исследование надежности заемщиков\n"
   ]
  },
  {
   "cell_type": "markdown",
   "id": "900fef0b",
   "metadata": {},
   "source": [
    "### Краткое описание проекта\n",
    "Заказчик — кредитный отдел банка. Необходимо выяснить, влияет ли семейное положение, количество детей, доход и цель получения кредита на факт кредита в срок. \n",
    "\n",
    "### Цель проекта\n",
    "Выяснить, влияет ли \n",
    "- семейное положение\n",
    "- количество детей\n",
    "- доход\n",
    "- цель получения кредита на факт кредита в срок.\n",
    "\n",
    "### Описание данных\n",
    "- `children` — количество детей в семье\n",
    "- `days_employed` — общий трудовой стаж в днях\n",
    "- `dob_years` — возраст клиента в годах\n",
    "- `education` — уровень образования клиента\n",
    "- `education_id` — идентификатор уровня образования\n",
    "- `family_status` — семейное положение\n",
    "- `family_status_id` — идентификатор семейного положения\n",
    "- `gender` — пол клиента\n",
    "- `income_type` — тип занятости\n",
    "- `debt` — имел ли задолженность по возврату кредитов\n",
    "- `total_income` — ежемесячный доход\n",
    "- `purpose` — цель получения кредита\n",
    "\n",
    "### План работы \n",
    "1. Открыть и прочитать файл с данными\n",
    "2. Убедиться, что данные корректно отображаются и являются полными\n",
    "3. В случае наличия пропусков в данных, определить к какому типу пропусков они относятся и какими значениями их можно заполнить\n",
    "4. Провести поиск явных дубликатов и удалить их\n",
    "5. Провести поиск неявных дубликатов и исправить их\n",
    "6. Провести категоризацию данных\n",
    "7. Написать функцию, которая будет отвечать поставленным целям\n",
    "8. Сделать выводы по результатам работы функции"
   ]
  },
  {
   "cell_type": "markdown",
   "id": "694bd60e",
   "metadata": {
    "deletable": false,
    "editable": false,
    "id": "744d7639"
   },
   "source": [
    "## Откройте таблицу и изучите общую информацию о данных"
   ]
  },
  {
   "cell_type": "markdown",
   "id": "3971a905",
   "metadata": {
    "deletable": false,
    "editable": false,
    "id": "e7a14c31"
   },
   "source": [
    "**Задание 1. Импортируйте библиотеку pandas. Считайте данные из csv-файла в датафрейм и сохраните в переменную `data`. Путь к файлу:**\n",
    "\n",
    "`/datasets/data.csv`"
   ]
  },
  {
   "cell_type": "code",
   "execution_count": 1,
   "id": "83818d10",
   "metadata": {
    "deletable": false,
    "id": "7bcf75c9"
   },
   "outputs": [],
   "source": [
    "import pandas as pd\n",
    "\n",
    "try:\n",
    "    data = pd.read_csv('/datasets/data.csv')\n",
    "except:\n",
    "    data = pd.read_csv('https://code.s3.yandex.net/datasets/data.csv')"
   ]
  },
  {
   "cell_type": "markdown",
   "id": "5aa3c988",
   "metadata": {
    "deletable": false,
    "editable": false,
    "id": "b8038fe3"
   },
   "source": [
    "**Задание 2. Выведите первые 20 строчек датафрейма `data` на экран.**"
   ]
  },
  {
   "cell_type": "code",
   "execution_count": 2,
   "id": "596f5413",
   "metadata": {
    "deletable": false,
    "id": "2a7cab99",
    "outputId": "1a8f3ef2-d323-4ec2-ddf7-89670b5944c4"
   },
   "outputs": [
    {
     "data": {
      "text/html": [
       "<div>\n",
       "<style scoped>\n",
       "    .dataframe tbody tr th:only-of-type {\n",
       "        vertical-align: middle;\n",
       "    }\n",
       "\n",
       "    .dataframe tbody tr th {\n",
       "        vertical-align: top;\n",
       "    }\n",
       "\n",
       "    .dataframe thead th {\n",
       "        text-align: right;\n",
       "    }\n",
       "</style>\n",
       "<table border=\"1\" class=\"dataframe\">\n",
       "  <thead>\n",
       "    <tr style=\"text-align: right;\">\n",
       "      <th></th>\n",
       "      <th>children</th>\n",
       "      <th>days_employed</th>\n",
       "      <th>dob_years</th>\n",
       "      <th>education</th>\n",
       "      <th>education_id</th>\n",
       "      <th>family_status</th>\n",
       "      <th>family_status_id</th>\n",
       "      <th>gender</th>\n",
       "      <th>income_type</th>\n",
       "      <th>debt</th>\n",
       "      <th>total_income</th>\n",
       "      <th>purpose</th>\n",
       "    </tr>\n",
       "  </thead>\n",
       "  <tbody>\n",
       "    <tr>\n",
       "      <th>0</th>\n",
       "      <td>1</td>\n",
       "      <td>-8437.673028</td>\n",
       "      <td>42</td>\n",
       "      <td>высшее</td>\n",
       "      <td>0</td>\n",
       "      <td>женат / замужем</td>\n",
       "      <td>0</td>\n",
       "      <td>F</td>\n",
       "      <td>сотрудник</td>\n",
       "      <td>0</td>\n",
       "      <td>253875.639453</td>\n",
       "      <td>покупка жилья</td>\n",
       "    </tr>\n",
       "    <tr>\n",
       "      <th>1</th>\n",
       "      <td>1</td>\n",
       "      <td>-4024.803754</td>\n",
       "      <td>36</td>\n",
       "      <td>среднее</td>\n",
       "      <td>1</td>\n",
       "      <td>женат / замужем</td>\n",
       "      <td>0</td>\n",
       "      <td>F</td>\n",
       "      <td>сотрудник</td>\n",
       "      <td>0</td>\n",
       "      <td>112080.014102</td>\n",
       "      <td>приобретение автомобиля</td>\n",
       "    </tr>\n",
       "    <tr>\n",
       "      <th>2</th>\n",
       "      <td>0</td>\n",
       "      <td>-5623.422610</td>\n",
       "      <td>33</td>\n",
       "      <td>Среднее</td>\n",
       "      <td>1</td>\n",
       "      <td>женат / замужем</td>\n",
       "      <td>0</td>\n",
       "      <td>M</td>\n",
       "      <td>сотрудник</td>\n",
       "      <td>0</td>\n",
       "      <td>145885.952297</td>\n",
       "      <td>покупка жилья</td>\n",
       "    </tr>\n",
       "    <tr>\n",
       "      <th>3</th>\n",
       "      <td>3</td>\n",
       "      <td>-4124.747207</td>\n",
       "      <td>32</td>\n",
       "      <td>среднее</td>\n",
       "      <td>1</td>\n",
       "      <td>женат / замужем</td>\n",
       "      <td>0</td>\n",
       "      <td>M</td>\n",
       "      <td>сотрудник</td>\n",
       "      <td>0</td>\n",
       "      <td>267628.550329</td>\n",
       "      <td>дополнительное образование</td>\n",
       "    </tr>\n",
       "    <tr>\n",
       "      <th>4</th>\n",
       "      <td>0</td>\n",
       "      <td>340266.072047</td>\n",
       "      <td>53</td>\n",
       "      <td>среднее</td>\n",
       "      <td>1</td>\n",
       "      <td>гражданский брак</td>\n",
       "      <td>1</td>\n",
       "      <td>F</td>\n",
       "      <td>пенсионер</td>\n",
       "      <td>0</td>\n",
       "      <td>158616.077870</td>\n",
       "      <td>сыграть свадьбу</td>\n",
       "    </tr>\n",
       "    <tr>\n",
       "      <th>5</th>\n",
       "      <td>0</td>\n",
       "      <td>-926.185831</td>\n",
       "      <td>27</td>\n",
       "      <td>высшее</td>\n",
       "      <td>0</td>\n",
       "      <td>гражданский брак</td>\n",
       "      <td>1</td>\n",
       "      <td>M</td>\n",
       "      <td>компаньон</td>\n",
       "      <td>0</td>\n",
       "      <td>255763.565419</td>\n",
       "      <td>покупка жилья</td>\n",
       "    </tr>\n",
       "    <tr>\n",
       "      <th>6</th>\n",
       "      <td>0</td>\n",
       "      <td>-2879.202052</td>\n",
       "      <td>43</td>\n",
       "      <td>высшее</td>\n",
       "      <td>0</td>\n",
       "      <td>женат / замужем</td>\n",
       "      <td>0</td>\n",
       "      <td>F</td>\n",
       "      <td>компаньон</td>\n",
       "      <td>0</td>\n",
       "      <td>240525.971920</td>\n",
       "      <td>операции с жильем</td>\n",
       "    </tr>\n",
       "    <tr>\n",
       "      <th>7</th>\n",
       "      <td>0</td>\n",
       "      <td>-152.779569</td>\n",
       "      <td>50</td>\n",
       "      <td>СРЕДНЕЕ</td>\n",
       "      <td>1</td>\n",
       "      <td>женат / замужем</td>\n",
       "      <td>0</td>\n",
       "      <td>M</td>\n",
       "      <td>сотрудник</td>\n",
       "      <td>0</td>\n",
       "      <td>135823.934197</td>\n",
       "      <td>образование</td>\n",
       "    </tr>\n",
       "    <tr>\n",
       "      <th>8</th>\n",
       "      <td>2</td>\n",
       "      <td>-6929.865299</td>\n",
       "      <td>35</td>\n",
       "      <td>ВЫСШЕЕ</td>\n",
       "      <td>0</td>\n",
       "      <td>гражданский брак</td>\n",
       "      <td>1</td>\n",
       "      <td>F</td>\n",
       "      <td>сотрудник</td>\n",
       "      <td>0</td>\n",
       "      <td>95856.832424</td>\n",
       "      <td>на проведение свадьбы</td>\n",
       "    </tr>\n",
       "    <tr>\n",
       "      <th>9</th>\n",
       "      <td>0</td>\n",
       "      <td>-2188.756445</td>\n",
       "      <td>41</td>\n",
       "      <td>среднее</td>\n",
       "      <td>1</td>\n",
       "      <td>женат / замужем</td>\n",
       "      <td>0</td>\n",
       "      <td>M</td>\n",
       "      <td>сотрудник</td>\n",
       "      <td>0</td>\n",
       "      <td>144425.938277</td>\n",
       "      <td>покупка жилья для семьи</td>\n",
       "    </tr>\n",
       "    <tr>\n",
       "      <th>10</th>\n",
       "      <td>2</td>\n",
       "      <td>-4171.483647</td>\n",
       "      <td>36</td>\n",
       "      <td>высшее</td>\n",
       "      <td>0</td>\n",
       "      <td>женат / замужем</td>\n",
       "      <td>0</td>\n",
       "      <td>M</td>\n",
       "      <td>компаньон</td>\n",
       "      <td>0</td>\n",
       "      <td>113943.491460</td>\n",
       "      <td>покупка недвижимости</td>\n",
       "    </tr>\n",
       "    <tr>\n",
       "      <th>11</th>\n",
       "      <td>0</td>\n",
       "      <td>-792.701887</td>\n",
       "      <td>40</td>\n",
       "      <td>среднее</td>\n",
       "      <td>1</td>\n",
       "      <td>женат / замужем</td>\n",
       "      <td>0</td>\n",
       "      <td>F</td>\n",
       "      <td>сотрудник</td>\n",
       "      <td>0</td>\n",
       "      <td>77069.234271</td>\n",
       "      <td>покупка коммерческой недвижимости</td>\n",
       "    </tr>\n",
       "    <tr>\n",
       "      <th>12</th>\n",
       "      <td>0</td>\n",
       "      <td>NaN</td>\n",
       "      <td>65</td>\n",
       "      <td>среднее</td>\n",
       "      <td>1</td>\n",
       "      <td>гражданский брак</td>\n",
       "      <td>1</td>\n",
       "      <td>M</td>\n",
       "      <td>пенсионер</td>\n",
       "      <td>0</td>\n",
       "      <td>NaN</td>\n",
       "      <td>сыграть свадьбу</td>\n",
       "    </tr>\n",
       "    <tr>\n",
       "      <th>13</th>\n",
       "      <td>0</td>\n",
       "      <td>-1846.641941</td>\n",
       "      <td>54</td>\n",
       "      <td>неоконченное высшее</td>\n",
       "      <td>2</td>\n",
       "      <td>женат / замужем</td>\n",
       "      <td>0</td>\n",
       "      <td>F</td>\n",
       "      <td>сотрудник</td>\n",
       "      <td>0</td>\n",
       "      <td>130458.228857</td>\n",
       "      <td>приобретение автомобиля</td>\n",
       "    </tr>\n",
       "    <tr>\n",
       "      <th>14</th>\n",
       "      <td>0</td>\n",
       "      <td>-1844.956182</td>\n",
       "      <td>56</td>\n",
       "      <td>высшее</td>\n",
       "      <td>0</td>\n",
       "      <td>гражданский брак</td>\n",
       "      <td>1</td>\n",
       "      <td>F</td>\n",
       "      <td>компаньон</td>\n",
       "      <td>1</td>\n",
       "      <td>165127.911772</td>\n",
       "      <td>покупка жилой недвижимости</td>\n",
       "    </tr>\n",
       "    <tr>\n",
       "      <th>15</th>\n",
       "      <td>1</td>\n",
       "      <td>-972.364419</td>\n",
       "      <td>26</td>\n",
       "      <td>среднее</td>\n",
       "      <td>1</td>\n",
       "      <td>женат / замужем</td>\n",
       "      <td>0</td>\n",
       "      <td>F</td>\n",
       "      <td>сотрудник</td>\n",
       "      <td>0</td>\n",
       "      <td>116820.904450</td>\n",
       "      <td>строительство собственной недвижимости</td>\n",
       "    </tr>\n",
       "    <tr>\n",
       "      <th>16</th>\n",
       "      <td>0</td>\n",
       "      <td>-1719.934226</td>\n",
       "      <td>35</td>\n",
       "      <td>среднее</td>\n",
       "      <td>1</td>\n",
       "      <td>женат / замужем</td>\n",
       "      <td>0</td>\n",
       "      <td>F</td>\n",
       "      <td>сотрудник</td>\n",
       "      <td>0</td>\n",
       "      <td>289202.704229</td>\n",
       "      <td>недвижимость</td>\n",
       "    </tr>\n",
       "    <tr>\n",
       "      <th>17</th>\n",
       "      <td>0</td>\n",
       "      <td>-2369.999720</td>\n",
       "      <td>33</td>\n",
       "      <td>высшее</td>\n",
       "      <td>0</td>\n",
       "      <td>гражданский брак</td>\n",
       "      <td>1</td>\n",
       "      <td>M</td>\n",
       "      <td>сотрудник</td>\n",
       "      <td>0</td>\n",
       "      <td>90410.586745</td>\n",
       "      <td>строительство недвижимости</td>\n",
       "    </tr>\n",
       "    <tr>\n",
       "      <th>18</th>\n",
       "      <td>0</td>\n",
       "      <td>400281.136913</td>\n",
       "      <td>53</td>\n",
       "      <td>среднее</td>\n",
       "      <td>1</td>\n",
       "      <td>вдовец / вдова</td>\n",
       "      <td>2</td>\n",
       "      <td>F</td>\n",
       "      <td>пенсионер</td>\n",
       "      <td>0</td>\n",
       "      <td>56823.777243</td>\n",
       "      <td>на покупку подержанного автомобиля</td>\n",
       "    </tr>\n",
       "    <tr>\n",
       "      <th>19</th>\n",
       "      <td>0</td>\n",
       "      <td>-10038.818549</td>\n",
       "      <td>48</td>\n",
       "      <td>СРЕДНЕЕ</td>\n",
       "      <td>1</td>\n",
       "      <td>в разводе</td>\n",
       "      <td>3</td>\n",
       "      <td>F</td>\n",
       "      <td>сотрудник</td>\n",
       "      <td>0</td>\n",
       "      <td>242831.107982</td>\n",
       "      <td>на покупку своего автомобиля</td>\n",
       "    </tr>\n",
       "  </tbody>\n",
       "</table>\n",
       "</div>"
      ],
      "text/plain": [
       "    children  days_employed  dob_years            education  education_id  \\\n",
       "0          1   -8437.673028         42               высшее             0   \n",
       "1          1   -4024.803754         36              среднее             1   \n",
       "2          0   -5623.422610         33              Среднее             1   \n",
       "3          3   -4124.747207         32              среднее             1   \n",
       "4          0  340266.072047         53              среднее             1   \n",
       "5          0    -926.185831         27               высшее             0   \n",
       "6          0   -2879.202052         43               высшее             0   \n",
       "7          0    -152.779569         50              СРЕДНЕЕ             1   \n",
       "8          2   -6929.865299         35               ВЫСШЕЕ             0   \n",
       "9          0   -2188.756445         41              среднее             1   \n",
       "10         2   -4171.483647         36               высшее             0   \n",
       "11         0    -792.701887         40              среднее             1   \n",
       "12         0            NaN         65              среднее             1   \n",
       "13         0   -1846.641941         54  неоконченное высшее             2   \n",
       "14         0   -1844.956182         56               высшее             0   \n",
       "15         1    -972.364419         26              среднее             1   \n",
       "16         0   -1719.934226         35              среднее             1   \n",
       "17         0   -2369.999720         33               высшее             0   \n",
       "18         0  400281.136913         53              среднее             1   \n",
       "19         0  -10038.818549         48              СРЕДНЕЕ             1   \n",
       "\n",
       "       family_status  family_status_id gender income_type  debt  \\\n",
       "0    женат / замужем                 0      F   сотрудник     0   \n",
       "1    женат / замужем                 0      F   сотрудник     0   \n",
       "2    женат / замужем                 0      M   сотрудник     0   \n",
       "3    женат / замужем                 0      M   сотрудник     0   \n",
       "4   гражданский брак                 1      F   пенсионер     0   \n",
       "5   гражданский брак                 1      M   компаньон     0   \n",
       "6    женат / замужем                 0      F   компаньон     0   \n",
       "7    женат / замужем                 0      M   сотрудник     0   \n",
       "8   гражданский брак                 1      F   сотрудник     0   \n",
       "9    женат / замужем                 0      M   сотрудник     0   \n",
       "10   женат / замужем                 0      M   компаньон     0   \n",
       "11   женат / замужем                 0      F   сотрудник     0   \n",
       "12  гражданский брак                 1      M   пенсионер     0   \n",
       "13   женат / замужем                 0      F   сотрудник     0   \n",
       "14  гражданский брак                 1      F   компаньон     1   \n",
       "15   женат / замужем                 0      F   сотрудник     0   \n",
       "16   женат / замужем                 0      F   сотрудник     0   \n",
       "17  гражданский брак                 1      M   сотрудник     0   \n",
       "18    вдовец / вдова                 2      F   пенсионер     0   \n",
       "19         в разводе                 3      F   сотрудник     0   \n",
       "\n",
       "     total_income                                 purpose  \n",
       "0   253875.639453                           покупка жилья  \n",
       "1   112080.014102                 приобретение автомобиля  \n",
       "2   145885.952297                           покупка жилья  \n",
       "3   267628.550329              дополнительное образование  \n",
       "4   158616.077870                         сыграть свадьбу  \n",
       "5   255763.565419                           покупка жилья  \n",
       "6   240525.971920                       операции с жильем  \n",
       "7   135823.934197                             образование  \n",
       "8    95856.832424                   на проведение свадьбы  \n",
       "9   144425.938277                 покупка жилья для семьи  \n",
       "10  113943.491460                    покупка недвижимости  \n",
       "11   77069.234271       покупка коммерческой недвижимости  \n",
       "12            NaN                         сыграть свадьбу  \n",
       "13  130458.228857                 приобретение автомобиля  \n",
       "14  165127.911772              покупка жилой недвижимости  \n",
       "15  116820.904450  строительство собственной недвижимости  \n",
       "16  289202.704229                            недвижимость  \n",
       "17   90410.586745              строительство недвижимости  \n",
       "18   56823.777243      на покупку подержанного автомобиля  \n",
       "19  242831.107982            на покупку своего автомобиля  "
      ]
     },
     "execution_count": 2,
     "metadata": {},
     "output_type": "execute_result"
    }
   ],
   "source": [
    "data.head(20)"
   ]
  },
  {
   "cell_type": "markdown",
   "id": "90617214",
   "metadata": {
    "deletable": false,
    "editable": false,
    "id": "1c12e233"
   },
   "source": [
    "**Задание 3. Выведите основную информацию о датафрейме с помощью метода `info()`.**"
   ]
  },
  {
   "cell_type": "code",
   "execution_count": 3,
   "id": "fca8fe89",
   "metadata": {
    "deletable": false,
    "id": "2b757bca",
    "outputId": "15376089-8dad-46c9-b520-c05248d43158"
   },
   "outputs": [
    {
     "name": "stdout",
     "output_type": "stream",
     "text": [
      "<class 'pandas.core.frame.DataFrame'>\n",
      "RangeIndex: 21525 entries, 0 to 21524\n",
      "Data columns (total 12 columns):\n",
      " #   Column            Non-Null Count  Dtype  \n",
      "---  ------            --------------  -----  \n",
      " 0   children          21525 non-null  int64  \n",
      " 1   days_employed     19351 non-null  float64\n",
      " 2   dob_years         21525 non-null  int64  \n",
      " 3   education         21525 non-null  object \n",
      " 4   education_id      21525 non-null  int64  \n",
      " 5   family_status     21525 non-null  object \n",
      " 6   family_status_id  21525 non-null  int64  \n",
      " 7   gender            21525 non-null  object \n",
      " 8   income_type       21525 non-null  object \n",
      " 9   debt              21525 non-null  int64  \n",
      " 10  total_income      19351 non-null  float64\n",
      " 11  purpose           21525 non-null  object \n",
      "dtypes: float64(2), int64(5), object(5)\n",
      "memory usage: 2.0+ MB\n"
     ]
    }
   ],
   "source": [
    "data.info()"
   ]
  },
  {
   "cell_type": "markdown",
   "id": "8252862d",
   "metadata": {
    "deletable": false,
    "editable": false,
    "id": "333ec665"
   },
   "source": [
    "## Предобработка данных"
   ]
  },
  {
   "cell_type": "markdown",
   "id": "8c42d149",
   "metadata": {
    "deletable": false,
    "editable": false,
    "id": "02d92d53"
   },
   "source": [
    "### Удаление пропусков"
   ]
  },
  {
   "cell_type": "markdown",
   "id": "8d475820",
   "metadata": {
    "deletable": false,
    "editable": false,
    "id": "cd84967c"
   },
   "source": [
    "**Задание 4. Выведите количество пропущенных значений для каждого столбца. Используйте комбинацию двух методов.**"
   ]
  },
  {
   "cell_type": "code",
   "execution_count": 4,
   "id": "157bfcc5",
   "metadata": {
    "deletable": false,
    "id": "7f9b2309",
    "outputId": "81f4d817-781c-465c-ed15-91ce4446810d"
   },
   "outputs": [
    {
     "data": {
      "text/plain": [
       "children               0\n",
       "days_employed       2174\n",
       "dob_years              0\n",
       "education              0\n",
       "education_id           0\n",
       "family_status          0\n",
       "family_status_id       0\n",
       "gender                 0\n",
       "income_type            0\n",
       "debt                   0\n",
       "total_income        2174\n",
       "purpose                0\n",
       "dtype: int64"
      ]
     },
     "execution_count": 4,
     "metadata": {},
     "output_type": "execute_result"
    }
   ],
   "source": [
    "data.isna().sum()"
   ]
  },
  {
   "cell_type": "markdown",
   "id": "cdb3e603",
   "metadata": {
    "deletable": false,
    "editable": false,
    "id": "db86e27b"
   },
   "source": [
    "**Задание 5. В двух столбцах есть пропущенные значения. Один из них — `days_employed`. Пропуски в этом столбце вы обработаете на следующем этапе. Другой столбец с пропущенными значениями — `total_income` — хранит данные о доходах. На сумму дохода сильнее всего влияет тип занятости, поэтому заполнить пропуски в этом столбце нужно медианным значением по каждому типу из столбца `income_type`. Например, у человека с типом занятости `сотрудник` пропуск в столбце `total_income` должен быть заполнен медианным доходом среди всех записей с тем же типом.**"
   ]
  },
  {
   "cell_type": "code",
   "execution_count": 5,
   "id": "8d3072ab",
   "metadata": {
    "deletable": false,
    "id": "42006a93"
   },
   "outputs": [],
   "source": [
    "for t in data['income_type'].unique():\n",
    "    data.loc[(data['income_type'] == t) & (data['total_income'].isna()), 'total_income'] = \\\n",
    "    data.loc[(data['income_type'] == t), 'total_income'].median()"
   ]
  },
  {
   "cell_type": "markdown",
   "id": "6f03df67",
   "metadata": {
    "deletable": false,
    "editable": false,
    "id": "89da5ece"
   },
   "source": [
    "### Обработка аномальных значений"
   ]
  },
  {
   "cell_type": "markdown",
   "id": "3e2b6f2c",
   "metadata": {
    "deletable": false,
    "editable": false,
    "id": "57964554"
   },
   "source": [
    "**Задание 6. В данных могут встречаться артефакты (аномалии) — значения, которые не отражают действительность и появились по какой-то ошибке. таким артефактом будет отрицательное количество дней трудового стажа в столбце `days_employed`. Для реальных данных это нормально. Обработайте значения в этом столбце: замените все отрицательные значения положительными с помощью метода `abs()`.**"
   ]
  },
  {
   "cell_type": "code",
   "execution_count": 6,
   "id": "3cd222a9",
   "metadata": {
    "deletable": false,
    "id": "f6f055bf"
   },
   "outputs": [],
   "source": [
    "data['days_employed'] = data['days_employed'].abs()"
   ]
  },
  {
   "cell_type": "markdown",
   "id": "9e283fab",
   "metadata": {
    "deletable": false,
    "editable": false,
    "id": "6107dd2f"
   },
   "source": [
    "**Задание 7. Для каждого типа занятости выведите медианное значение трудового стажа `days_employed` в днях.**"
   ]
  },
  {
   "cell_type": "code",
   "execution_count": 7,
   "id": "e07cd8da",
   "metadata": {
    "deletable": false,
    "id": "85a5faf6",
    "outputId": "801ef80e-522b-4668-f34e-565af7432bcf"
   },
   "outputs": [
    {
     "data": {
      "text/plain": [
       "income_type\n",
       "безработный        366413.652744\n",
       "в декрете            3296.759962\n",
       "госслужащий          2689.368353\n",
       "компаньон            1547.382223\n",
       "пенсионер          365213.306266\n",
       "предприниматель       520.848083\n",
       "сотрудник            1574.202821\n",
       "студент               578.751554\n",
       "Name: days_employed, dtype: float64"
      ]
     },
     "execution_count": 7,
     "metadata": {},
     "output_type": "execute_result"
    }
   ],
   "source": [
    "data.groupby('income_type')['days_employed'].agg('median')"
   ]
  },
  {
   "cell_type": "markdown",
   "id": "cde79aac",
   "metadata": {
    "deletable": false,
    "editable": false,
    "id": "38d1a030"
   },
   "source": [
    "У двух типов (безработные и пенсионеры) получатся аномально большие значения. Исправить такие значения сложно, поэтому оставьте их как есть. Тем более этот столбец не понадобится вам для исследования."
   ]
  },
  {
   "cell_type": "markdown",
   "id": "112ec064",
   "metadata": {
    "deletable": false,
    "editable": false,
    "id": "d8a9f147"
   },
   "source": [
    "**Задание 8. Выведите перечень уникальных значений столбца `children`.**"
   ]
  },
  {
   "cell_type": "code",
   "execution_count": 8,
   "id": "03559a0d",
   "metadata": {
    "deletable": false,
    "id": "ef5056eb",
    "outputId": "6975b15c-7f95-4697-d16d-a0c79b657b03"
   },
   "outputs": [
    {
     "data": {
      "text/plain": [
       "array([ 1,  0,  3,  2, -1,  4, 20,  5])"
      ]
     },
     "execution_count": 8,
     "metadata": {},
     "output_type": "execute_result"
    }
   ],
   "source": [
    "data['children'].unique()"
   ]
  },
  {
   "cell_type": "markdown",
   "id": "896dc109",
   "metadata": {
    "deletable": false,
    "editable": false,
    "id": "40b9ebf2"
   },
   "source": [
    "**Задание 9. В столбце `children` есть два аномальных значения. Удалите строки, в которых встречаются такие аномальные значения из датафрейма `data`.**"
   ]
  },
  {
   "cell_type": "code",
   "execution_count": 9,
   "id": "9fa28751",
   "metadata": {
    "deletable": false,
    "id": "3ff9801d"
   },
   "outputs": [],
   "source": [
    "data = data[(data['children'] != -1) & (data['children'] != 20)]"
   ]
  },
  {
   "cell_type": "markdown",
   "id": "a1387157",
   "metadata": {
    "deletable": false,
    "editable": false,
    "id": "bbc4d0ce"
   },
   "source": [
    "**Задание 10. Ещё раз выведите перечень уникальных значений столбца `children`, чтобы убедиться, что артефакты удалены.**"
   ]
  },
  {
   "cell_type": "code",
   "execution_count": 10,
   "id": "872142bd",
   "metadata": {
    "deletable": false,
    "id": "ad4fa8b7",
    "outputId": "b2097101-d49d-44d9-901b-32a65c9463d1"
   },
   "outputs": [
    {
     "data": {
      "text/plain": [
       "array([1, 0, 3, 2, 4, 5])"
      ]
     },
     "execution_count": 10,
     "metadata": {},
     "output_type": "execute_result"
    }
   ],
   "source": [
    "data['children'].unique()"
   ]
  },
  {
   "cell_type": "markdown",
   "id": "305bec47",
   "metadata": {
    "deletable": false,
    "editable": false,
    "id": "75440b63"
   },
   "source": [
    "### Удаление пропусков (продолжение)"
   ]
  },
  {
   "cell_type": "markdown",
   "id": "a39ef43e",
   "metadata": {
    "deletable": false,
    "editable": false,
    "id": "f4ea573f"
   },
   "source": [
    "**Задание 11. Заполните пропуски в столбце `days_employed` медианными значениями по каждого типа занятости `income_type`.**"
   ]
  },
  {
   "cell_type": "code",
   "execution_count": 11,
   "id": "a271f08c",
   "metadata": {
    "deletable": false,
    "id": "af6b1a7e"
   },
   "outputs": [],
   "source": [
    "for t in data['income_type'].unique():\n",
    "    data.loc[(data['income_type'] == t) & (data['days_employed'].isna()), 'days_employed'] = \\\n",
    "    data.loc[(data['income_type'] == t), 'days_employed'].median()"
   ]
  },
  {
   "cell_type": "markdown",
   "id": "f0d551aa",
   "metadata": {
    "deletable": false,
    "editable": false,
    "id": "2753f40d"
   },
   "source": [
    "**Задание 12. Убедитесь, что все пропуски заполнены. Проверьте себя и ещё раз выведите количество пропущенных значений для каждого столбца с помощью двух методов.**"
   ]
  },
  {
   "cell_type": "code",
   "execution_count": 12,
   "id": "803c940d",
   "metadata": {
    "deletable": false,
    "id": "55f78bc2",
    "outputId": "8da1e4e1-358e-4e87-98c9-f261bce0a7b2"
   },
   "outputs": [
    {
     "data": {
      "text/plain": [
       "children            0\n",
       "days_employed       0\n",
       "dob_years           0\n",
       "education           0\n",
       "education_id        0\n",
       "family_status       0\n",
       "family_status_id    0\n",
       "gender              0\n",
       "income_type         0\n",
       "debt                0\n",
       "total_income        0\n",
       "purpose             0\n",
       "dtype: int64"
      ]
     },
     "execution_count": 12,
     "metadata": {},
     "output_type": "execute_result"
    }
   ],
   "source": [
    "data.isna().sum()"
   ]
  },
  {
   "cell_type": "markdown",
   "id": "e0a07cd2",
   "metadata": {
    "deletable": false,
    "editable": false,
    "id": "ddc81e43"
   },
   "source": [
    "### Изменение типов данных"
   ]
  },
  {
   "cell_type": "markdown",
   "id": "5619f3c0",
   "metadata": {
    "deletable": false,
    "editable": false,
    "id": "42d19d24"
   },
   "source": [
    "**Задание 13. Замените вещественный тип данных в столбце `total_income` на целочисленный с помощью метода `astype()`.**"
   ]
  },
  {
   "cell_type": "code",
   "execution_count": 13,
   "id": "5dad95fb",
   "metadata": {
    "deletable": false,
    "id": "920b65ad"
   },
   "outputs": [],
   "source": [
    "data['total_income'] = data['total_income'].astype(int)"
   ]
  },
  {
   "cell_type": "markdown",
   "id": "feda9769",
   "metadata": {
    "deletable": false,
    "editable": false,
    "id": "80c420ba"
   },
   "source": [
    "### Обработка дубликатов"
   ]
  },
  {
   "cell_type": "markdown",
   "id": "0e08adef",
   "metadata": {
    "deletable": false,
    "editable": false
   },
   "source": [
    "**Задание 14. Обработайте неявные дубликаты в столбце `education`. В этом столбце есть одни и те же значения, но записанные по-разному: с использованием заглавных и строчных букв. Приведите их к нижнему регистру. Проверьте остальные столбцы.**"
   ]
  },
  {
   "cell_type": "code",
   "execution_count": 14,
   "id": "30573b46",
   "metadata": {
    "deletable": false
   },
   "outputs": [],
   "source": [
    "data['education'] = data['education'].str.lower()"
   ]
  },
  {
   "cell_type": "markdown",
   "id": "7360ada1",
   "metadata": {
    "deletable": false,
    "editable": false,
    "id": "dc587695"
   },
   "source": [
    "**Задание 15. Выведите на экран количество строк-дубликатов в данных. Если такие строки присутствуют, удалите их.**"
   ]
  },
  {
   "cell_type": "code",
   "execution_count": 15,
   "id": "057d5e82",
   "metadata": {
    "deletable": false,
    "id": "3ee445e4",
    "outputId": "9684deba-1934-42d1-99e1-cda61740f822"
   },
   "outputs": [
    {
     "data": {
      "text/plain": [
       "71"
      ]
     },
     "execution_count": 15,
     "metadata": {},
     "output_type": "execute_result"
    }
   ],
   "source": [
    "data.duplicated().sum()"
   ]
  },
  {
   "cell_type": "code",
   "execution_count": 16,
   "id": "02512310",
   "metadata": {
    "deletable": false,
    "id": "8575fe05"
   },
   "outputs": [],
   "source": [
    "data = data.drop_duplicates()"
   ]
  },
  {
   "cell_type": "markdown",
   "id": "2560d9eb",
   "metadata": {
    "deletable": false,
    "editable": false,
    "id": "9904cf55"
   },
   "source": [
    "### Категоризация данных"
   ]
  },
  {
   "cell_type": "markdown",
   "id": "0e1915a2",
   "metadata": {
    "deletable": false,
    "editable": false,
    "id": "72fcc8a2"
   },
   "source": [
    "**Задание 16. На основании диапазонов, указанных ниже, создайте в датафрейме `data` столбец `total_income_category` с категориями:**\n",
    "\n",
    "- 0–30000 — `'E'`;\n",
    "- 30001–50000 — `'D'`;\n",
    "- 50001–200000 — `'C'`;\n",
    "- 200001–1000000 — `'B'`;\n",
    "- 1000001 и выше — `'A'`.\n",
    "\n",
    "\n",
    "**Например, кредитополучателю с доходом 25000 нужно назначить категорию `'E'`, а клиенту, получающему 235000, — `'B'`. Используйте собственную функцию с именем `categorize_income()` и метод `apply()`.**"
   ]
  },
  {
   "cell_type": "code",
   "execution_count": 17,
   "id": "a5c6b10f",
   "metadata": {
    "deletable": false,
    "id": "e1771346"
   },
   "outputs": [],
   "source": [
    "def categorize_income(income):\n",
    "    try:\n",
    "        if 0 <= income <= 30000:\n",
    "            return 'E'\n",
    "        elif 30001 <= income <= 50000:\n",
    "            return 'D'\n",
    "        elif 50001 <= income <= 200000:\n",
    "            return 'C'\n",
    "        elif 200001 <= income <= 1000000:\n",
    "            return 'B'\n",
    "        elif income >= 1000001:\n",
    "            return 'A'\n",
    "    except:\n",
    "        pass"
   ]
  },
  {
   "cell_type": "code",
   "execution_count": 18,
   "id": "5fe06daa",
   "metadata": {
    "deletable": false,
    "id": "d5f3586d"
   },
   "outputs": [],
   "source": [
    "data['total_income_category'] = data['total_income'].apply(categorize_income)"
   ]
  },
  {
   "cell_type": "markdown",
   "id": "33a18ba5",
   "metadata": {
    "deletable": false,
    "editable": false,
    "id": "dde49b5c"
   },
   "source": [
    "**Задание 17. Выведите на экран перечень уникальных целей взятия кредита из столбца `purpose`.**"
   ]
  },
  {
   "cell_type": "code",
   "execution_count": 19,
   "id": "0238c999",
   "metadata": {
    "deletable": false,
    "id": "f67ce9b3",
    "outputId": "673c12d9-7d7e-4ae0-9812-c622c89dd244"
   },
   "outputs": [
    {
     "data": {
      "text/plain": [
       "array(['покупка жилья', 'приобретение автомобиля',\n",
       "       'дополнительное образование', 'сыграть свадьбу',\n",
       "       'операции с жильем', 'образование', 'на проведение свадьбы',\n",
       "       'покупка жилья для семьи', 'покупка недвижимости',\n",
       "       'покупка коммерческой недвижимости', 'покупка жилой недвижимости',\n",
       "       'строительство собственной недвижимости', 'недвижимость',\n",
       "       'строительство недвижимости', 'на покупку подержанного автомобиля',\n",
       "       'на покупку своего автомобиля',\n",
       "       'операции с коммерческой недвижимостью',\n",
       "       'строительство жилой недвижимости', 'жилье',\n",
       "       'операции со своей недвижимостью', 'автомобили',\n",
       "       'заняться образованием', 'сделка с подержанным автомобилем',\n",
       "       'получение образования', 'автомобиль', 'свадьба',\n",
       "       'получение дополнительного образования', 'покупка своего жилья',\n",
       "       'операции с недвижимостью', 'получение высшего образования',\n",
       "       'свой автомобиль', 'сделка с автомобилем',\n",
       "       'профильное образование', 'высшее образование',\n",
       "       'покупка жилья для сдачи', 'на покупку автомобиля', 'ремонт жилью',\n",
       "       'заняться высшим образованием'], dtype=object)"
      ]
     },
     "execution_count": 19,
     "metadata": {},
     "output_type": "execute_result"
    }
   ],
   "source": [
    "data['purpose'].unique()"
   ]
  },
  {
   "cell_type": "markdown",
   "id": "82d52e9c",
   "metadata": {
    "deletable": false,
    "editable": false,
    "id": "85d0aef0"
   },
   "source": [
    "**Задание 18. Создайте функцию, которая на основании данных из столбца `purpose` сформирует новый столбец `purpose_category`, в который войдут следующие категории:**\n",
    "\n",
    "- `'операции с автомобилем'`,\n",
    "- `'операции с недвижимостью'`,\n",
    "- `'проведение свадьбы'`,\n",
    "- `'получение образования'`.\n",
    "\n",
    "**Например, если в столбце `purpose` находится подстрока `'на покупку автомобиля'`, то в столбце `purpose_category` должна появиться строка `'операции с автомобилем'`.**\n",
    "\n",
    "**Используйте собственную функцию с именем `categorize_purpose()` и метод `apply()`. Изучите данные в столбце `purpose` и определите, какие подстроки помогут вам правильно определить категорию.**"
   ]
  },
  {
   "cell_type": "code",
   "execution_count": 20,
   "id": "b99901bf",
   "metadata": {
    "deletable": false,
    "id": "e149fab4"
   },
   "outputs": [],
   "source": [
    "def categorize_purpose(row):\n",
    "    try:\n",
    "        if 'автом' in row:\n",
    "            return 'операции с автомобилем'\n",
    "        elif 'жил' in row or 'недвиж' in row:\n",
    "            return 'операции с недвижимостью'\n",
    "        elif 'свад' in row:\n",
    "            return 'проведение свадьбы'\n",
    "        elif 'образов' in row:\n",
    "            return 'получение образования'\n",
    "    except:\n",
    "        return 'нет категории'"
   ]
  },
  {
   "cell_type": "code",
   "execution_count": 21,
   "id": "51d52f46",
   "metadata": {
    "deletable": false,
    "id": "bf36e69b"
   },
   "outputs": [
    {
     "data": {
      "text/html": [
       "<div>\n",
       "<style scoped>\n",
       "    .dataframe tbody tr th:only-of-type {\n",
       "        vertical-align: middle;\n",
       "    }\n",
       "\n",
       "    .dataframe tbody tr th {\n",
       "        vertical-align: top;\n",
       "    }\n",
       "\n",
       "    .dataframe thead th {\n",
       "        text-align: right;\n",
       "    }\n",
       "</style>\n",
       "<table border=\"1\" class=\"dataframe\">\n",
       "  <thead>\n",
       "    <tr style=\"text-align: right;\">\n",
       "      <th></th>\n",
       "      <th>children</th>\n",
       "      <th>days_employed</th>\n",
       "      <th>dob_years</th>\n",
       "      <th>education</th>\n",
       "      <th>education_id</th>\n",
       "      <th>family_status</th>\n",
       "      <th>family_status_id</th>\n",
       "      <th>gender</th>\n",
       "      <th>income_type</th>\n",
       "      <th>debt</th>\n",
       "      <th>total_income</th>\n",
       "      <th>purpose</th>\n",
       "      <th>total_income_category</th>\n",
       "      <th>purpose_category</th>\n",
       "    </tr>\n",
       "  </thead>\n",
       "  <tbody>\n",
       "    <tr>\n",
       "      <th>0</th>\n",
       "      <td>1</td>\n",
       "      <td>8437.673028</td>\n",
       "      <td>42</td>\n",
       "      <td>высшее</td>\n",
       "      <td>0</td>\n",
       "      <td>женат / замужем</td>\n",
       "      <td>0</td>\n",
       "      <td>F</td>\n",
       "      <td>сотрудник</td>\n",
       "      <td>0</td>\n",
       "      <td>253875</td>\n",
       "      <td>покупка жилья</td>\n",
       "      <td>B</td>\n",
       "      <td>операции с недвижимостью</td>\n",
       "    </tr>\n",
       "    <tr>\n",
       "      <th>1</th>\n",
       "      <td>1</td>\n",
       "      <td>4024.803754</td>\n",
       "      <td>36</td>\n",
       "      <td>среднее</td>\n",
       "      <td>1</td>\n",
       "      <td>женат / замужем</td>\n",
       "      <td>0</td>\n",
       "      <td>F</td>\n",
       "      <td>сотрудник</td>\n",
       "      <td>0</td>\n",
       "      <td>112080</td>\n",
       "      <td>приобретение автомобиля</td>\n",
       "      <td>C</td>\n",
       "      <td>операции с автомобилем</td>\n",
       "    </tr>\n",
       "    <tr>\n",
       "      <th>2</th>\n",
       "      <td>0</td>\n",
       "      <td>5623.422610</td>\n",
       "      <td>33</td>\n",
       "      <td>среднее</td>\n",
       "      <td>1</td>\n",
       "      <td>женат / замужем</td>\n",
       "      <td>0</td>\n",
       "      <td>M</td>\n",
       "      <td>сотрудник</td>\n",
       "      <td>0</td>\n",
       "      <td>145885</td>\n",
       "      <td>покупка жилья</td>\n",
       "      <td>C</td>\n",
       "      <td>операции с недвижимостью</td>\n",
       "    </tr>\n",
       "    <tr>\n",
       "      <th>3</th>\n",
       "      <td>3</td>\n",
       "      <td>4124.747207</td>\n",
       "      <td>32</td>\n",
       "      <td>среднее</td>\n",
       "      <td>1</td>\n",
       "      <td>женат / замужем</td>\n",
       "      <td>0</td>\n",
       "      <td>M</td>\n",
       "      <td>сотрудник</td>\n",
       "      <td>0</td>\n",
       "      <td>267628</td>\n",
       "      <td>дополнительное образование</td>\n",
       "      <td>B</td>\n",
       "      <td>получение образования</td>\n",
       "    </tr>\n",
       "    <tr>\n",
       "      <th>4</th>\n",
       "      <td>0</td>\n",
       "      <td>340266.072047</td>\n",
       "      <td>53</td>\n",
       "      <td>среднее</td>\n",
       "      <td>1</td>\n",
       "      <td>гражданский брак</td>\n",
       "      <td>1</td>\n",
       "      <td>F</td>\n",
       "      <td>пенсионер</td>\n",
       "      <td>0</td>\n",
       "      <td>158616</td>\n",
       "      <td>сыграть свадьбу</td>\n",
       "      <td>C</td>\n",
       "      <td>проведение свадьбы</td>\n",
       "    </tr>\n",
       "    <tr>\n",
       "      <th>5</th>\n",
       "      <td>0</td>\n",
       "      <td>926.185831</td>\n",
       "      <td>27</td>\n",
       "      <td>высшее</td>\n",
       "      <td>0</td>\n",
       "      <td>гражданский брак</td>\n",
       "      <td>1</td>\n",
       "      <td>M</td>\n",
       "      <td>компаньон</td>\n",
       "      <td>0</td>\n",
       "      <td>255763</td>\n",
       "      <td>покупка жилья</td>\n",
       "      <td>B</td>\n",
       "      <td>операции с недвижимостью</td>\n",
       "    </tr>\n",
       "    <tr>\n",
       "      <th>6</th>\n",
       "      <td>0</td>\n",
       "      <td>2879.202052</td>\n",
       "      <td>43</td>\n",
       "      <td>высшее</td>\n",
       "      <td>0</td>\n",
       "      <td>женат / замужем</td>\n",
       "      <td>0</td>\n",
       "      <td>F</td>\n",
       "      <td>компаньон</td>\n",
       "      <td>0</td>\n",
       "      <td>240525</td>\n",
       "      <td>операции с жильем</td>\n",
       "      <td>B</td>\n",
       "      <td>операции с недвижимостью</td>\n",
       "    </tr>\n",
       "    <tr>\n",
       "      <th>7</th>\n",
       "      <td>0</td>\n",
       "      <td>152.779569</td>\n",
       "      <td>50</td>\n",
       "      <td>среднее</td>\n",
       "      <td>1</td>\n",
       "      <td>женат / замужем</td>\n",
       "      <td>0</td>\n",
       "      <td>M</td>\n",
       "      <td>сотрудник</td>\n",
       "      <td>0</td>\n",
       "      <td>135823</td>\n",
       "      <td>образование</td>\n",
       "      <td>C</td>\n",
       "      <td>получение образования</td>\n",
       "    </tr>\n",
       "    <tr>\n",
       "      <th>8</th>\n",
       "      <td>2</td>\n",
       "      <td>6929.865299</td>\n",
       "      <td>35</td>\n",
       "      <td>высшее</td>\n",
       "      <td>0</td>\n",
       "      <td>гражданский брак</td>\n",
       "      <td>1</td>\n",
       "      <td>F</td>\n",
       "      <td>сотрудник</td>\n",
       "      <td>0</td>\n",
       "      <td>95856</td>\n",
       "      <td>на проведение свадьбы</td>\n",
       "      <td>C</td>\n",
       "      <td>проведение свадьбы</td>\n",
       "    </tr>\n",
       "    <tr>\n",
       "      <th>9</th>\n",
       "      <td>0</td>\n",
       "      <td>2188.756445</td>\n",
       "      <td>41</td>\n",
       "      <td>среднее</td>\n",
       "      <td>1</td>\n",
       "      <td>женат / замужем</td>\n",
       "      <td>0</td>\n",
       "      <td>M</td>\n",
       "      <td>сотрудник</td>\n",
       "      <td>0</td>\n",
       "      <td>144425</td>\n",
       "      <td>покупка жилья для семьи</td>\n",
       "      <td>C</td>\n",
       "      <td>операции с недвижимостью</td>\n",
       "    </tr>\n",
       "    <tr>\n",
       "      <th>10</th>\n",
       "      <td>2</td>\n",
       "      <td>4171.483647</td>\n",
       "      <td>36</td>\n",
       "      <td>высшее</td>\n",
       "      <td>0</td>\n",
       "      <td>женат / замужем</td>\n",
       "      <td>0</td>\n",
       "      <td>M</td>\n",
       "      <td>компаньон</td>\n",
       "      <td>0</td>\n",
       "      <td>113943</td>\n",
       "      <td>покупка недвижимости</td>\n",
       "      <td>C</td>\n",
       "      <td>операции с недвижимостью</td>\n",
       "    </tr>\n",
       "    <tr>\n",
       "      <th>11</th>\n",
       "      <td>0</td>\n",
       "      <td>792.701887</td>\n",
       "      <td>40</td>\n",
       "      <td>среднее</td>\n",
       "      <td>1</td>\n",
       "      <td>женат / замужем</td>\n",
       "      <td>0</td>\n",
       "      <td>F</td>\n",
       "      <td>сотрудник</td>\n",
       "      <td>0</td>\n",
       "      <td>77069</td>\n",
       "      <td>покупка коммерческой недвижимости</td>\n",
       "      <td>C</td>\n",
       "      <td>операции с недвижимостью</td>\n",
       "    </tr>\n",
       "    <tr>\n",
       "      <th>12</th>\n",
       "      <td>0</td>\n",
       "      <td>365286.622650</td>\n",
       "      <td>65</td>\n",
       "      <td>среднее</td>\n",
       "      <td>1</td>\n",
       "      <td>гражданский брак</td>\n",
       "      <td>1</td>\n",
       "      <td>M</td>\n",
       "      <td>пенсионер</td>\n",
       "      <td>0</td>\n",
       "      <td>118514</td>\n",
       "      <td>сыграть свадьбу</td>\n",
       "      <td>C</td>\n",
       "      <td>проведение свадьбы</td>\n",
       "    </tr>\n",
       "    <tr>\n",
       "      <th>13</th>\n",
       "      <td>0</td>\n",
       "      <td>1846.641941</td>\n",
       "      <td>54</td>\n",
       "      <td>неоконченное высшее</td>\n",
       "      <td>2</td>\n",
       "      <td>женат / замужем</td>\n",
       "      <td>0</td>\n",
       "      <td>F</td>\n",
       "      <td>сотрудник</td>\n",
       "      <td>0</td>\n",
       "      <td>130458</td>\n",
       "      <td>приобретение автомобиля</td>\n",
       "      <td>C</td>\n",
       "      <td>операции с автомобилем</td>\n",
       "    </tr>\n",
       "    <tr>\n",
       "      <th>14</th>\n",
       "      <td>0</td>\n",
       "      <td>1844.956182</td>\n",
       "      <td>56</td>\n",
       "      <td>высшее</td>\n",
       "      <td>0</td>\n",
       "      <td>гражданский брак</td>\n",
       "      <td>1</td>\n",
       "      <td>F</td>\n",
       "      <td>компаньон</td>\n",
       "      <td>1</td>\n",
       "      <td>165127</td>\n",
       "      <td>покупка жилой недвижимости</td>\n",
       "      <td>C</td>\n",
       "      <td>операции с недвижимостью</td>\n",
       "    </tr>\n",
       "    <tr>\n",
       "      <th>15</th>\n",
       "      <td>1</td>\n",
       "      <td>972.364419</td>\n",
       "      <td>26</td>\n",
       "      <td>среднее</td>\n",
       "      <td>1</td>\n",
       "      <td>женат / замужем</td>\n",
       "      <td>0</td>\n",
       "      <td>F</td>\n",
       "      <td>сотрудник</td>\n",
       "      <td>0</td>\n",
       "      <td>116820</td>\n",
       "      <td>строительство собственной недвижимости</td>\n",
       "      <td>C</td>\n",
       "      <td>операции с недвижимостью</td>\n",
       "    </tr>\n",
       "    <tr>\n",
       "      <th>16</th>\n",
       "      <td>0</td>\n",
       "      <td>1719.934226</td>\n",
       "      <td>35</td>\n",
       "      <td>среднее</td>\n",
       "      <td>1</td>\n",
       "      <td>женат / замужем</td>\n",
       "      <td>0</td>\n",
       "      <td>F</td>\n",
       "      <td>сотрудник</td>\n",
       "      <td>0</td>\n",
       "      <td>289202</td>\n",
       "      <td>недвижимость</td>\n",
       "      <td>B</td>\n",
       "      <td>операции с недвижимостью</td>\n",
       "    </tr>\n",
       "    <tr>\n",
       "      <th>17</th>\n",
       "      <td>0</td>\n",
       "      <td>2369.999720</td>\n",
       "      <td>33</td>\n",
       "      <td>высшее</td>\n",
       "      <td>0</td>\n",
       "      <td>гражданский брак</td>\n",
       "      <td>1</td>\n",
       "      <td>M</td>\n",
       "      <td>сотрудник</td>\n",
       "      <td>0</td>\n",
       "      <td>90410</td>\n",
       "      <td>строительство недвижимости</td>\n",
       "      <td>C</td>\n",
       "      <td>операции с недвижимостью</td>\n",
       "    </tr>\n",
       "    <tr>\n",
       "      <th>18</th>\n",
       "      <td>0</td>\n",
       "      <td>400281.136913</td>\n",
       "      <td>53</td>\n",
       "      <td>среднее</td>\n",
       "      <td>1</td>\n",
       "      <td>вдовец / вдова</td>\n",
       "      <td>2</td>\n",
       "      <td>F</td>\n",
       "      <td>пенсионер</td>\n",
       "      <td>0</td>\n",
       "      <td>56823</td>\n",
       "      <td>на покупку подержанного автомобиля</td>\n",
       "      <td>C</td>\n",
       "      <td>операции с автомобилем</td>\n",
       "    </tr>\n",
       "    <tr>\n",
       "      <th>19</th>\n",
       "      <td>0</td>\n",
       "      <td>10038.818549</td>\n",
       "      <td>48</td>\n",
       "      <td>среднее</td>\n",
       "      <td>1</td>\n",
       "      <td>в разводе</td>\n",
       "      <td>3</td>\n",
       "      <td>F</td>\n",
       "      <td>сотрудник</td>\n",
       "      <td>0</td>\n",
       "      <td>242831</td>\n",
       "      <td>на покупку своего автомобиля</td>\n",
       "      <td>B</td>\n",
       "      <td>операции с автомобилем</td>\n",
       "    </tr>\n",
       "  </tbody>\n",
       "</table>\n",
       "</div>"
      ],
      "text/plain": [
       "    children  days_employed  dob_years            education  education_id  \\\n",
       "0          1    8437.673028         42               высшее             0   \n",
       "1          1    4024.803754         36              среднее             1   \n",
       "2          0    5623.422610         33              среднее             1   \n",
       "3          3    4124.747207         32              среднее             1   \n",
       "4          0  340266.072047         53              среднее             1   \n",
       "5          0     926.185831         27               высшее             0   \n",
       "6          0    2879.202052         43               высшее             0   \n",
       "7          0     152.779569         50              среднее             1   \n",
       "8          2    6929.865299         35               высшее             0   \n",
       "9          0    2188.756445         41              среднее             1   \n",
       "10         2    4171.483647         36               высшее             0   \n",
       "11         0     792.701887         40              среднее             1   \n",
       "12         0  365286.622650         65              среднее             1   \n",
       "13         0    1846.641941         54  неоконченное высшее             2   \n",
       "14         0    1844.956182         56               высшее             0   \n",
       "15         1     972.364419         26              среднее             1   \n",
       "16         0    1719.934226         35              среднее             1   \n",
       "17         0    2369.999720         33               высшее             0   \n",
       "18         0  400281.136913         53              среднее             1   \n",
       "19         0   10038.818549         48              среднее             1   \n",
       "\n",
       "       family_status  family_status_id gender income_type  debt  total_income  \\\n",
       "0    женат / замужем                 0      F   сотрудник     0        253875   \n",
       "1    женат / замужем                 0      F   сотрудник     0        112080   \n",
       "2    женат / замужем                 0      M   сотрудник     0        145885   \n",
       "3    женат / замужем                 0      M   сотрудник     0        267628   \n",
       "4   гражданский брак                 1      F   пенсионер     0        158616   \n",
       "5   гражданский брак                 1      M   компаньон     0        255763   \n",
       "6    женат / замужем                 0      F   компаньон     0        240525   \n",
       "7    женат / замужем                 0      M   сотрудник     0        135823   \n",
       "8   гражданский брак                 1      F   сотрудник     0         95856   \n",
       "9    женат / замужем                 0      M   сотрудник     0        144425   \n",
       "10   женат / замужем                 0      M   компаньон     0        113943   \n",
       "11   женат / замужем                 0      F   сотрудник     0         77069   \n",
       "12  гражданский брак                 1      M   пенсионер     0        118514   \n",
       "13   женат / замужем                 0      F   сотрудник     0        130458   \n",
       "14  гражданский брак                 1      F   компаньон     1        165127   \n",
       "15   женат / замужем                 0      F   сотрудник     0        116820   \n",
       "16   женат / замужем                 0      F   сотрудник     0        289202   \n",
       "17  гражданский брак                 1      M   сотрудник     0         90410   \n",
       "18    вдовец / вдова                 2      F   пенсионер     0         56823   \n",
       "19         в разводе                 3      F   сотрудник     0        242831   \n",
       "\n",
       "                                   purpose total_income_category  \\\n",
       "0                            покупка жилья                     B   \n",
       "1                  приобретение автомобиля                     C   \n",
       "2                            покупка жилья                     C   \n",
       "3               дополнительное образование                     B   \n",
       "4                          сыграть свадьбу                     C   \n",
       "5                            покупка жилья                     B   \n",
       "6                        операции с жильем                     B   \n",
       "7                              образование                     C   \n",
       "8                    на проведение свадьбы                     C   \n",
       "9                  покупка жилья для семьи                     C   \n",
       "10                    покупка недвижимости                     C   \n",
       "11       покупка коммерческой недвижимости                     C   \n",
       "12                         сыграть свадьбу                     C   \n",
       "13                 приобретение автомобиля                     C   \n",
       "14              покупка жилой недвижимости                     C   \n",
       "15  строительство собственной недвижимости                     C   \n",
       "16                            недвижимость                     B   \n",
       "17              строительство недвижимости                     C   \n",
       "18      на покупку подержанного автомобиля                     C   \n",
       "19            на покупку своего автомобиля                     B   \n",
       "\n",
       "            purpose_category  \n",
       "0   операции с недвижимостью  \n",
       "1     операции с автомобилем  \n",
       "2   операции с недвижимостью  \n",
       "3      получение образования  \n",
       "4         проведение свадьбы  \n",
       "5   операции с недвижимостью  \n",
       "6   операции с недвижимостью  \n",
       "7      получение образования  \n",
       "8         проведение свадьбы  \n",
       "9   операции с недвижимостью  \n",
       "10  операции с недвижимостью  \n",
       "11  операции с недвижимостью  \n",
       "12        проведение свадьбы  \n",
       "13    операции с автомобилем  \n",
       "14  операции с недвижимостью  \n",
       "15  операции с недвижимостью  \n",
       "16  операции с недвижимостью  \n",
       "17  операции с недвижимостью  \n",
       "18    операции с автомобилем  \n",
       "19    операции с автомобилем  "
      ]
     },
     "execution_count": 21,
     "metadata": {},
     "output_type": "execute_result"
    }
   ],
   "source": [
    "data['purpose_category'] = data['purpose'].apply(categorize_purpose)\n",
    "data.head(20)"
   ]
  },
  {
   "cell_type": "markdown",
   "id": "675b762b",
   "metadata": {
    "deletable": false,
    "editable": false,
    "id": "09b242bf"
   },
   "source": [
    "### Шаг 3. Исследуйте данные и ответьте на вопросы"
   ]
  },
  {
   "cell_type": "markdown",
   "id": "6ca74d62",
   "metadata": {},
   "source": [
    "Основная функция для поиска зависимости будет строить сводную таблицу. Функция принимает параметры: \n",
    "- база данных, с которой мы работаем\n",
    "- колонка, для которой мы будет искать зависимость\n",
    "- колонка с наличием задолженности по возврату кредита\n",
    "\n",
    "и выглядит так:"
   ]
  },
  {
   "cell_type": "code",
   "execution_count": 22,
   "id": "3583f770",
   "metadata": {},
   "outputs": [],
   "source": [
    "def dependency_search(data, groupby_columns, debt):\n",
    "    data_pivot = data.pivot_table(index=groupby_columns, values=debt, aggfunc=['sum', 'count', 'mean'])\n",
    "    return data_pivot"
   ]
  },
  {
   "cell_type": "markdown",
   "id": "a8bb5f95",
   "metadata": {},
   "source": [
    "Проверим работоспособность функции на примере первого задания и найдём зависимость между количеством детей и возвратом кредита в срок"
   ]
  },
  {
   "cell_type": "code",
   "execution_count": 23,
   "id": "6ad50dd4",
   "metadata": {},
   "outputs": [
    {
     "data": {
      "text/html": [
       "<div>\n",
       "<style scoped>\n",
       "    .dataframe tbody tr th:only-of-type {\n",
       "        vertical-align: middle;\n",
       "    }\n",
       "\n",
       "    .dataframe tbody tr th {\n",
       "        vertical-align: top;\n",
       "    }\n",
       "\n",
       "    .dataframe thead tr th {\n",
       "        text-align: left;\n",
       "    }\n",
       "\n",
       "    .dataframe thead tr:last-of-type th {\n",
       "        text-align: right;\n",
       "    }\n",
       "</style>\n",
       "<table border=\"1\" class=\"dataframe\">\n",
       "  <thead>\n",
       "    <tr>\n",
       "      <th></th>\n",
       "      <th>sum</th>\n",
       "      <th>count</th>\n",
       "      <th>&lt;lambda&gt;</th>\n",
       "    </tr>\n",
       "    <tr>\n",
       "      <th></th>\n",
       "      <th>debt</th>\n",
       "      <th>debt</th>\n",
       "      <th>debt</th>\n",
       "    </tr>\n",
       "    <tr>\n",
       "      <th>children</th>\n",
       "      <th></th>\n",
       "      <th></th>\n",
       "      <th></th>\n",
       "    </tr>\n",
       "  </thead>\n",
       "  <tbody>\n",
       "    <tr>\n",
       "      <th>0</th>\n",
       "      <td>1063</td>\n",
       "      <td>14091</td>\n",
       "      <td>7.54%</td>\n",
       "    </tr>\n",
       "    <tr>\n",
       "      <th>1</th>\n",
       "      <td>444</td>\n",
       "      <td>4808</td>\n",
       "      <td>9.23%</td>\n",
       "    </tr>\n",
       "    <tr>\n",
       "      <th>2</th>\n",
       "      <td>194</td>\n",
       "      <td>2052</td>\n",
       "      <td>9.45%</td>\n",
       "    </tr>\n",
       "    <tr>\n",
       "      <th>3</th>\n",
       "      <td>27</td>\n",
       "      <td>330</td>\n",
       "      <td>8.18%</td>\n",
       "    </tr>\n",
       "    <tr>\n",
       "      <th>4</th>\n",
       "      <td>4</td>\n",
       "      <td>41</td>\n",
       "      <td>9.76%</td>\n",
       "    </tr>\n",
       "    <tr>\n",
       "      <th>5</th>\n",
       "      <td>0</td>\n",
       "      <td>9</td>\n",
       "      <td>0.00%</td>\n",
       "    </tr>\n",
       "  </tbody>\n",
       "</table>\n",
       "</div>"
      ],
      "text/plain": [
       "           sum  count <lambda>\n",
       "          debt   debt     debt\n",
       "children                      \n",
       "0         1063  14091    7.54%\n",
       "1          444   4808    9.23%\n",
       "2          194   2052    9.45%\n",
       "3           27    330    8.18%\n",
       "4            4     41    9.76%\n",
       "5            0      9    0.00%"
      ]
     },
     "execution_count": 23,
     "metadata": {},
     "output_type": "execute_result"
    }
   ],
   "source": [
    "def dependency_search(data, groupby_columns, debt):\n",
    "    data_pivot = data.pivot_table(index=groupby_columns, values=debt, aggfunc=['sum', 'count', lambda x: f'{x.mean():.2%}'])\n",
    "    return data_pivot\n",
    "dependency_search(data, 'children', 'debt')"
   ]
  },
  {
   "cell_type": "markdown",
   "id": "4fccb873",
   "metadata": {},
   "source": [
    "Функция работает, но будет нагляднее представить среднее значение, т.е. отношение числа должников к общему количеству взявших кредиты, в виде процентов и выполнить сортировку значений зависимости по возрастанию"
   ]
  },
  {
   "cell_type": "markdown",
   "id": "09ef8df6",
   "metadata": {},
   "source": [
    "Вспомогательная функция, для вывода зависимости в процентах:"
   ]
  },
  {
   "cell_type": "code",
   "execution_count": 24,
   "id": "61ca1c78",
   "metadata": {},
   "outputs": [],
   "source": [
    "def dependence_percent(series):\n",
    "    return f'{series.mean():.2%}'"
   ]
  },
  {
   "cell_type": "markdown",
   "id": "555db481",
   "metadata": {},
   "source": [
    "**Основная функция, с которой мы будем работать, выглядит следующим образом:**"
   ]
  },
  {
   "cell_type": "code",
   "execution_count": 25,
   "id": "624509a6",
   "metadata": {},
   "outputs": [],
   "source": [
    "def dependency_search(data, groupby_columns, debt):\n",
    "    '''\n",
    "    Функция создаёт сводную таблицу и сортирует в порядке возрастания столбец со значениями зависимости\n",
    "    '''\n",
    "    data_pivot = data.pivot_table(index=groupby_columns, values=debt, aggfunc=['sum', 'count', dependence_percent]) \\\n",
    "    .sort_values(by=('dependence_percent', 'debt'))\n",
    "    return data_pivot"
   ]
  },
  {
   "cell_type": "markdown",
   "id": "011eb718",
   "metadata": {
    "deletable": false,
    "editable": false,
    "id": "c5d66278"
   },
   "source": [
    "#### 3.1 Есть ли зависимость между количеством детей и возвратом кредита в срок?"
   ]
  },
  {
   "cell_type": "code",
   "execution_count": 26,
   "id": "334a973f",
   "metadata": {
    "deletable": false,
    "id": "2cacfc4a"
   },
   "outputs": [
    {
     "data": {
      "text/html": [
       "<div>\n",
       "<style scoped>\n",
       "    .dataframe tbody tr th:only-of-type {\n",
       "        vertical-align: middle;\n",
       "    }\n",
       "\n",
       "    .dataframe tbody tr th {\n",
       "        vertical-align: top;\n",
       "    }\n",
       "\n",
       "    .dataframe thead tr th {\n",
       "        text-align: left;\n",
       "    }\n",
       "\n",
       "    .dataframe thead tr:last-of-type th {\n",
       "        text-align: right;\n",
       "    }\n",
       "</style>\n",
       "<table border=\"1\" class=\"dataframe\">\n",
       "  <thead>\n",
       "    <tr>\n",
       "      <th></th>\n",
       "      <th>sum</th>\n",
       "      <th>count</th>\n",
       "      <th>dependence_percent</th>\n",
       "    </tr>\n",
       "    <tr>\n",
       "      <th></th>\n",
       "      <th>debt</th>\n",
       "      <th>debt</th>\n",
       "      <th>debt</th>\n",
       "    </tr>\n",
       "    <tr>\n",
       "      <th>children</th>\n",
       "      <th></th>\n",
       "      <th></th>\n",
       "      <th></th>\n",
       "    </tr>\n",
       "  </thead>\n",
       "  <tbody>\n",
       "    <tr>\n",
       "      <th>5</th>\n",
       "      <td>0</td>\n",
       "      <td>9</td>\n",
       "      <td>0.00%</td>\n",
       "    </tr>\n",
       "    <tr>\n",
       "      <th>0</th>\n",
       "      <td>1063</td>\n",
       "      <td>14091</td>\n",
       "      <td>7.54%</td>\n",
       "    </tr>\n",
       "    <tr>\n",
       "      <th>3</th>\n",
       "      <td>27</td>\n",
       "      <td>330</td>\n",
       "      <td>8.18%</td>\n",
       "    </tr>\n",
       "    <tr>\n",
       "      <th>1</th>\n",
       "      <td>444</td>\n",
       "      <td>4808</td>\n",
       "      <td>9.23%</td>\n",
       "    </tr>\n",
       "    <tr>\n",
       "      <th>2</th>\n",
       "      <td>194</td>\n",
       "      <td>2052</td>\n",
       "      <td>9.45%</td>\n",
       "    </tr>\n",
       "    <tr>\n",
       "      <th>4</th>\n",
       "      <td>4</td>\n",
       "      <td>41</td>\n",
       "      <td>9.76%</td>\n",
       "    </tr>\n",
       "  </tbody>\n",
       "</table>\n",
       "</div>"
      ],
      "text/plain": [
       "           sum  count dependence_percent\n",
       "          debt   debt               debt\n",
       "children                                \n",
       "5            0      9              0.00%\n",
       "0         1063  14091              7.54%\n",
       "3           27    330              8.18%\n",
       "1          444   4808              9.23%\n",
       "2          194   2052              9.45%\n",
       "4            4     41              9.76%"
      ]
     },
     "execution_count": 26,
     "metadata": {},
     "output_type": "execute_result"
    }
   ],
   "source": [
    "dependency_search(data, 'children', 'debt')"
   ]
  },
  {
   "cell_type": "markdown",
   "id": "6c6a83fe",
   "metadata": {
    "deletable": false,
    "id": "3a6b99ec"
   },
   "source": [
    "**Вывод:** \n",
    "\n",
    "- *Предпочтительной категорией* клиентов для банка являются семьи без детей.\n",
    "- *В зоне риска* находятся клиенты с двумя детьми\n",
    "\n",
    "Разница между категориями 1,91% (здесь мы не учитываем категории с нерепрезентативной выборкой)\n",
    "Могу предположить, что вероятность выплаты кредита в срок у клиентов без детей обусловлена отсутствием дополнительных расходов на детей.\n",
    "\n",
    "Не удалость проанализировать многодетные семьи (3 и более детей), в виду недостаточго количества данных."
   ]
  },
  {
   "cell_type": "markdown",
   "id": "bfb53b91",
   "metadata": {
    "deletable": false,
    "editable": false,
    "id": "97be82ca"
   },
   "source": [
    "#### 3.2 Есть ли зависимость между семейным положением и возвратом кредита в срок?"
   ]
  },
  {
   "cell_type": "code",
   "execution_count": 27,
   "id": "90c1ed16",
   "metadata": {
    "deletable": false,
    "id": "dc3f7ee8"
   },
   "outputs": [
    {
     "data": {
      "text/html": [
       "<div>\n",
       "<style scoped>\n",
       "    .dataframe tbody tr th:only-of-type {\n",
       "        vertical-align: middle;\n",
       "    }\n",
       "\n",
       "    .dataframe tbody tr th {\n",
       "        vertical-align: top;\n",
       "    }\n",
       "\n",
       "    .dataframe thead tr th {\n",
       "        text-align: left;\n",
       "    }\n",
       "\n",
       "    .dataframe thead tr:last-of-type th {\n",
       "        text-align: right;\n",
       "    }\n",
       "</style>\n",
       "<table border=\"1\" class=\"dataframe\">\n",
       "  <thead>\n",
       "    <tr>\n",
       "      <th></th>\n",
       "      <th>sum</th>\n",
       "      <th>count</th>\n",
       "      <th>dependence_percent</th>\n",
       "    </tr>\n",
       "    <tr>\n",
       "      <th></th>\n",
       "      <th>debt</th>\n",
       "      <th>debt</th>\n",
       "      <th>debt</th>\n",
       "    </tr>\n",
       "    <tr>\n",
       "      <th>family_status</th>\n",
       "      <th></th>\n",
       "      <th></th>\n",
       "      <th></th>\n",
       "    </tr>\n",
       "  </thead>\n",
       "  <tbody>\n",
       "    <tr>\n",
       "      <th>вдовец / вдова</th>\n",
       "      <td>63</td>\n",
       "      <td>951</td>\n",
       "      <td>6.62%</td>\n",
       "    </tr>\n",
       "    <tr>\n",
       "      <th>в разводе</th>\n",
       "      <td>84</td>\n",
       "      <td>1189</td>\n",
       "      <td>7.06%</td>\n",
       "    </tr>\n",
       "    <tr>\n",
       "      <th>женат / замужем</th>\n",
       "      <td>927</td>\n",
       "      <td>12261</td>\n",
       "      <td>7.56%</td>\n",
       "    </tr>\n",
       "    <tr>\n",
       "      <th>гражданский брак</th>\n",
       "      <td>385</td>\n",
       "      <td>4134</td>\n",
       "      <td>9.31%</td>\n",
       "    </tr>\n",
       "    <tr>\n",
       "      <th>Не женат / не замужем</th>\n",
       "      <td>273</td>\n",
       "      <td>2796</td>\n",
       "      <td>9.76%</td>\n",
       "    </tr>\n",
       "  </tbody>\n",
       "</table>\n",
       "</div>"
      ],
      "text/plain": [
       "                       sum  count dependence_percent\n",
       "                      debt   debt               debt\n",
       "family_status                                       \n",
       "вдовец / вдова          63    951              6.62%\n",
       "в разводе               84   1189              7.06%\n",
       "женат / замужем        927  12261              7.56%\n",
       "гражданский брак       385   4134              9.31%\n",
       "Не женат / не замужем  273   2796              9.76%"
      ]
     },
     "execution_count": 27,
     "metadata": {},
     "output_type": "execute_result"
    }
   ],
   "source": [
    "dependency_search(data, 'family_status', 'debt')"
   ]
  },
  {
   "cell_type": "markdown",
   "id": "7d624109",
   "metadata": {
    "deletable": false,
    "id": "1cef7837"
   },
   "source": [
    "**Вывод:** \n",
    "- *Предпочтительной категорией* для банка являются вдовцы и люди в разводе, но так же видно, что они реже других категорий граждан берут кредиты.\n",
    "- *В зоне риска* находятся граждане в гражданском браке или не состоящие в отношениях\n",
    "\n",
    "Разница между категориями 3,14%\n",
    "\n",
    "Могу предположить, что вероятность выплаты кредита в срок у клиентов овдовевших или в разводе обусловлена большей ответственностью и осознанием, что положиться можно только на себя. Отсюда же и вытекает вывод о меньшем желании брать кредиты в принципе."
   ]
  },
  {
   "cell_type": "markdown",
   "id": "9ffc09eb",
   "metadata": {
    "deletable": false,
    "editable": false,
    "id": "1e8b2fca"
   },
   "source": [
    "#### 3.3 Есть ли зависимость между уровнем дохода и возвратом кредита в срок?"
   ]
  },
  {
   "cell_type": "code",
   "execution_count": 28,
   "id": "5658b625",
   "metadata": {
    "deletable": false,
    "id": "cd7e3720"
   },
   "outputs": [
    {
     "data": {
      "text/html": [
       "<div>\n",
       "<style scoped>\n",
       "    .dataframe tbody tr th:only-of-type {\n",
       "        vertical-align: middle;\n",
       "    }\n",
       "\n",
       "    .dataframe tbody tr th {\n",
       "        vertical-align: top;\n",
       "    }\n",
       "\n",
       "    .dataframe thead tr th {\n",
       "        text-align: left;\n",
       "    }\n",
       "\n",
       "    .dataframe thead tr:last-of-type th {\n",
       "        text-align: right;\n",
       "    }\n",
       "</style>\n",
       "<table border=\"1\" class=\"dataframe\">\n",
       "  <thead>\n",
       "    <tr>\n",
       "      <th></th>\n",
       "      <th>sum</th>\n",
       "      <th>count</th>\n",
       "      <th>dependence_percent</th>\n",
       "    </tr>\n",
       "    <tr>\n",
       "      <th></th>\n",
       "      <th>debt</th>\n",
       "      <th>debt</th>\n",
       "      <th>debt</th>\n",
       "    </tr>\n",
       "    <tr>\n",
       "      <th>total_income_category</th>\n",
       "      <th></th>\n",
       "      <th></th>\n",
       "      <th></th>\n",
       "    </tr>\n",
       "  </thead>\n",
       "  <tbody>\n",
       "    <tr>\n",
       "      <th>D</th>\n",
       "      <td>21</td>\n",
       "      <td>349</td>\n",
       "      <td>6.02%</td>\n",
       "    </tr>\n",
       "    <tr>\n",
       "      <th>B</th>\n",
       "      <td>354</td>\n",
       "      <td>5014</td>\n",
       "      <td>7.06%</td>\n",
       "    </tr>\n",
       "    <tr>\n",
       "      <th>A</th>\n",
       "      <td>2</td>\n",
       "      <td>25</td>\n",
       "      <td>8.00%</td>\n",
       "    </tr>\n",
       "    <tr>\n",
       "      <th>C</th>\n",
       "      <td>1353</td>\n",
       "      <td>15921</td>\n",
       "      <td>8.50%</td>\n",
       "    </tr>\n",
       "    <tr>\n",
       "      <th>E</th>\n",
       "      <td>2</td>\n",
       "      <td>22</td>\n",
       "      <td>9.09%</td>\n",
       "    </tr>\n",
       "  </tbody>\n",
       "</table>\n",
       "</div>"
      ],
      "text/plain": [
       "                        sum  count dependence_percent\n",
       "                       debt   debt               debt\n",
       "total_income_category                                \n",
       "D                        21    349              6.02%\n",
       "B                       354   5014              7.06%\n",
       "A                         2     25              8.00%\n",
       "C                      1353  15921              8.50%\n",
       "E                         2     22              9.09%"
      ]
     },
     "execution_count": 28,
     "metadata": {},
     "output_type": "execute_result"
    }
   ],
   "source": [
    "#0–30000 — 'E';\n",
    "#30001–50000 — 'D';\n",
    "#50001–200000 — 'C';\n",
    "#200001–1000000 — 'B';\n",
    "#1000001 и выше — 'A'.\n",
    "dependency_search(data, 'total_income_category', 'debt')"
   ]
  },
  {
   "cell_type": "markdown",
   "id": "d0bc089b",
   "metadata": {
    "deletable": false,
    "id": "e8593def"
   },
   "source": [
    "**Вывод:**\n",
    "- *Предпочтительной категорией* для банка являются граждане с доходом от 200 000 до 1 000 000 (категория B). \n",
    "- *В зоне риска* находятся граждане с доходом от 50 000 до 200 000 (категория С)\n",
    "- Делать какие-либо выводы по категориям А, D, E неккоректно, т.к. количество данных в разы меньше по сравнению с группами B и C. Можно предположить, что граждане, относящиеся к данным категориям, реже берут кредиты.\n",
    "\n",
    "Разница между категориями 1,44% (здесь мы не учитываем категории с нерепрезентативной выборкой)"
   ]
  },
  {
   "cell_type": "markdown",
   "id": "9832fb2b",
   "metadata": {
    "deletable": false,
    "editable": false,
    "id": "99ecbd1f"
   },
   "source": [
    "#### 3.4 Как разные цели кредита влияют на его возврат в срок?"
   ]
  },
  {
   "cell_type": "code",
   "execution_count": 29,
   "id": "2a7bf30d",
   "metadata": {
    "deletable": false,
    "id": "2b687290"
   },
   "outputs": [
    {
     "data": {
      "text/html": [
       "<div>\n",
       "<style scoped>\n",
       "    .dataframe tbody tr th:only-of-type {\n",
       "        vertical-align: middle;\n",
       "    }\n",
       "\n",
       "    .dataframe tbody tr th {\n",
       "        vertical-align: top;\n",
       "    }\n",
       "\n",
       "    .dataframe thead tr th {\n",
       "        text-align: left;\n",
       "    }\n",
       "\n",
       "    .dataframe thead tr:last-of-type th {\n",
       "        text-align: right;\n",
       "    }\n",
       "</style>\n",
       "<table border=\"1\" class=\"dataframe\">\n",
       "  <thead>\n",
       "    <tr>\n",
       "      <th></th>\n",
       "      <th>sum</th>\n",
       "      <th>count</th>\n",
       "      <th>dependence_percent</th>\n",
       "    </tr>\n",
       "    <tr>\n",
       "      <th></th>\n",
       "      <th>debt</th>\n",
       "      <th>debt</th>\n",
       "      <th>debt</th>\n",
       "    </tr>\n",
       "    <tr>\n",
       "      <th>purpose_category</th>\n",
       "      <th></th>\n",
       "      <th></th>\n",
       "      <th></th>\n",
       "    </tr>\n",
       "  </thead>\n",
       "  <tbody>\n",
       "    <tr>\n",
       "      <th>операции с недвижимостью</th>\n",
       "      <td>780</td>\n",
       "      <td>10751</td>\n",
       "      <td>7.26%</td>\n",
       "    </tr>\n",
       "    <tr>\n",
       "      <th>проведение свадьбы</th>\n",
       "      <td>183</td>\n",
       "      <td>2313</td>\n",
       "      <td>7.91%</td>\n",
       "    </tr>\n",
       "    <tr>\n",
       "      <th>получение образования</th>\n",
       "      <td>369</td>\n",
       "      <td>3988</td>\n",
       "      <td>9.25%</td>\n",
       "    </tr>\n",
       "    <tr>\n",
       "      <th>операции с автомобилем</th>\n",
       "      <td>400</td>\n",
       "      <td>4279</td>\n",
       "      <td>9.35%</td>\n",
       "    </tr>\n",
       "  </tbody>\n",
       "</table>\n",
       "</div>"
      ],
      "text/plain": [
       "                          sum  count dependence_percent\n",
       "                         debt   debt               debt\n",
       "purpose_category                                       \n",
       "операции с недвижимостью  780  10751              7.26%\n",
       "проведение свадьбы        183   2313              7.91%\n",
       "получение образования     369   3988              9.25%\n",
       "операции с автомобилем    400   4279              9.35%"
      ]
     },
     "execution_count": 29,
     "metadata": {},
     "output_type": "execute_result"
    }
   ],
   "source": [
    "dependency_search(data, 'purpose_category', 'debt')"
   ]
  },
  {
   "cell_type": "markdown",
   "id": "cdca0bcb",
   "metadata": {
    "deletable": false,
    "id": "b4bb2ce6"
   },
   "source": [
    "**Вывод:** \n",
    "\n",
    "- *Предпочтительной категорией* для банка являются граждане, которые берут кредиты для операций с недвижимостью.\n",
    "- *В зоне риска* находятся граждане, которые берут кредиты с целью получения образования и операций с автомобилем.\n",
    "\n",
    "Разница между категориями 2,09%"
   ]
  },
  {
   "cell_type": "markdown",
   "id": "8c323c52",
   "metadata": {
    "deletable": false,
    "editable": false,
    "id": "09c3ac4c"
   },
   "source": [
    "#### 3.5 Приведите возможные причины появления пропусков в исходных данных."
   ]
  },
  {
   "cell_type": "markdown",
   "id": "0584e247",
   "metadata": {
    "deletable": false,
    "id": "9da2ceda"
   },
   "source": [
    "*Ответ:* Пропуски встречались в столбцах:\n",
    "- days_employed — общий трудовой стаж в днях \n",
    "- total_income — ежемесячный доход\n",
    "\n",
    "В данных столбцах пропуски могли появиться из-за того, что клиент работал неофициально, т.е. у него нет официальной информации о зарплате и трудовом стажею\n",
    "\n",
    "Так же нельзя исключать технологический фактор, возможны значения были пропущены на этапе внесения информации, переноса или копирования."
   ]
  },
  {
   "cell_type": "markdown",
   "id": "36e5127b",
   "metadata": {
    "deletable": false,
    "editable": false,
    "id": "7b0487d6"
   },
   "source": [
    "#### 3.6 Объясните, почему заполнить пропуски медианным значением — лучшее решение для количественных переменных."
   ]
  },
  {
   "cell_type": "markdown",
   "id": "8eeb3a8a",
   "metadata": {
    "deletable": false,
    "id": "7ecf2b8e"
   },
   "source": [
    "*Ответ:* Медианные значения в данном случае являются лучшим решением, т.к. в наших данных есть значения, которые сильно выбиваются из общей выборки и они могли бы значительно повлиять на результаты, если бы мы использовали среднее значение.\n",
    "\n",
    "В качестве примера добавим расчёт среднего и медианы для столбца `days_employed`"
   ]
  },
  {
   "cell_type": "code",
   "execution_count": 30,
   "id": "08be4d47",
   "metadata": {
    "scrolled": true
   },
   "outputs": [
    {
     "data": {
      "text/plain": [
       "income_type\n",
       "безработный        366413.652744\n",
       "в декрете            3296.759962\n",
       "госслужащий          2689.137274\n",
       "компаньон            1555.947387\n",
       "пенсионер          365286.622650\n",
       "предприниматель       520.848083\n",
       "сотрудник            1572.328285\n",
       "студент               578.751554\n",
       "Name: days_employed, dtype: float64"
      ]
     },
     "execution_count": 30,
     "metadata": {},
     "output_type": "execute_result"
    }
   ],
   "source": [
    "data.groupby('income_type')['days_employed'].agg('median') #медиана"
   ]
  },
  {
   "cell_type": "code",
   "execution_count": 31,
   "id": "e32fc2b5",
   "metadata": {},
   "outputs": [
    {
     "data": {
      "text/plain": [
       "income_type\n",
       "безработный        366413.652744\n",
       "в декрете            3296.759962\n",
       "госслужащий          3332.636454\n",
       "компаньон            2062.884254\n",
       "пенсионер          365051.368541\n",
       "предприниматель       520.848083\n",
       "сотрудник            2250.942428\n",
       "студент               578.751554\n",
       "Name: days_employed, dtype: float64"
      ]
     },
     "execution_count": 31,
     "metadata": {},
     "output_type": "execute_result"
    }
   ],
   "source": [
    "data.groupby('income_type')['days_employed'].agg('mean') #среднее значение"
   ]
  },
  {
   "cell_type": "markdown",
   "id": "7f697e83",
   "metadata": {},
   "source": [
    "Как мы можем заметить, значения сильно отличаются в категорий граждан *компаньон* и *сотрудник*, причём в большую сторону. Предположительно в данных категориях присутствуют граждане, у которых стаж значительно отличается от остальных граждан в большую сторону."
   ]
  },
  {
   "cell_type": "code",
   "execution_count": 32,
   "id": "e6a4fd5c",
   "metadata": {},
   "outputs": [
    {
     "data": {
      "text/plain": [
       "income_type\n",
       "безработный        395302.838654\n",
       "в декрете            3296.759962\n",
       "госслужащий         15193.032201\n",
       "компаньон           17615.563266\n",
       "пенсионер          401755.400475\n",
       "предприниматель       520.848083\n",
       "сотрудник           18388.949901\n",
       "студент               578.751554\n",
       "Name: days_employed, dtype: float64"
      ]
     },
     "execution_count": 32,
     "metadata": {},
     "output_type": "execute_result"
    }
   ],
   "source": [
    "data.groupby('income_type')['days_employed'].agg('max')"
   ]
  },
  {
   "cell_type": "markdown",
   "id": "e8fe6c04",
   "metadata": {},
   "source": [
    "Предположения подтвердились, в данных категориях граждан есть выбросы, в разы отличающиеся от медианных значений и которые сильно повлияют на результаты исследования, если мы будем использовать среднее значение."
   ]
  },
  {
   "cell_type": "markdown",
   "id": "91ceda9c",
   "metadata": {
    "deletable": false,
    "editable": false,
    "id": "6db5255a"
   },
   "source": [
    "### Шаг 4: общий вывод."
   ]
  },
  {
   "cell_type": "markdown",
   "id": "3b96b0ee",
   "metadata": {
    "deletable": false,
    "id": "bad65432"
   },
   "source": [
    "**Предпочтительным клиентом** для банка будет являться гражданин:\n",
    "- не имеющий детей\n",
    "- вдовец или находящийся в разводе\n",
    "- с доходом от 200 000 до 1 000 000 включительно (категория B)\n",
    "- с целью кредита для операций с недвижимостью\n",
    "\n",
    "**Самым рискованым клиентом** для банка будет являться гражданин:\n",
    "- с 2 детьми\n",
    "- состоящий в гражданском браке или не имеющий отношений \n",
    "- с доходом от 50 000 до 200 000 включительно (категория С)\n",
    "- с целью кредита для оплаты свадьбы или образования\n",
    "\n",
    "Так же в исследование практически не попали такие группы граждан, как:\n",
    "- Многодетные семьи (от 3 детей и больше)\n",
    "- Находящиеся в зарплатных категориях А, D, E\n",
    "\n",
    "т.к. данных было недостаточно для проведения анализа."
   ]
  },
  {
   "cell_type": "markdown",
   "id": "03d9782f",
   "metadata": {
    "deletable": false,
    "editable": false,
    "id": "827c20bf"
   },
   "source": [
    "Во второй части проекта вы выполните шаги 3 и 4. Их вручную проверит ревьюер.\n",
    "Чтобы вам не пришлось писать код заново для шагов 1 и 2, мы добавили авторские решения в ячейки с кодом. \n",
    "\n"
   ]
  }
 ],
 "metadata": {
  "ExecuteTimeLog": [
   {
    "duration": 469,
    "start_time": "2022-11-20T11:31:49.329Z"
   },
   {
    "duration": 22,
    "start_time": "2022-11-20T11:31:49.799Z"
   },
   {
    "duration": 14,
    "start_time": "2022-11-20T11:31:49.823Z"
   },
   {
    "duration": 20,
    "start_time": "2022-11-20T11:31:49.839Z"
   },
   {
    "duration": 30,
    "start_time": "2022-11-20T11:31:49.861Z"
   },
   {
    "duration": 3,
    "start_time": "2022-11-20T11:31:49.893Z"
   },
   {
    "duration": 10,
    "start_time": "2022-11-20T11:31:49.897Z"
   },
   {
    "duration": 4,
    "start_time": "2022-11-20T11:31:49.909Z"
   },
   {
    "duration": 9,
    "start_time": "2022-11-20T11:31:49.914Z"
   },
   {
    "duration": 4,
    "start_time": "2022-11-20T11:31:49.954Z"
   },
   {
    "duration": 35,
    "start_time": "2022-11-20T11:31:49.960Z"
   },
   {
    "duration": 9,
    "start_time": "2022-11-20T11:31:49.997Z"
   },
   {
    "duration": 6,
    "start_time": "2022-11-20T11:31:50.007Z"
   },
   {
    "duration": 13,
    "start_time": "2022-11-20T11:31:50.015Z"
   },
   {
    "duration": 39,
    "start_time": "2022-11-20T11:31:50.030Z"
   },
   {
    "duration": 16,
    "start_time": "2022-11-20T11:31:50.070Z"
   },
   {
    "duration": 3,
    "start_time": "2022-11-20T11:31:50.088Z"
   },
   {
    "duration": 14,
    "start_time": "2022-11-20T11:31:50.093Z"
   },
   {
    "duration": 6,
    "start_time": "2022-11-20T11:31:50.108Z"
   },
   {
    "duration": 4,
    "start_time": "2022-11-20T11:31:50.115Z"
   },
   {
    "duration": 37,
    "start_time": "2022-11-20T11:31:50.121Z"
   },
   {
    "duration": 21,
    "start_time": "2022-11-20T11:36:32.717Z"
   },
   {
    "duration": 725,
    "start_time": "2022-11-25T14:41:18.582Z"
   },
   {
    "duration": 23,
    "start_time": "2022-11-25T14:41:19.309Z"
   },
   {
    "duration": 14,
    "start_time": "2022-11-25T14:41:19.333Z"
   },
   {
    "duration": 9,
    "start_time": "2022-11-25T14:41:19.349Z"
   },
   {
    "duration": 50,
    "start_time": "2022-11-25T14:41:19.359Z"
   },
   {
    "duration": 4,
    "start_time": "2022-11-25T14:41:19.410Z"
   },
   {
    "duration": 11,
    "start_time": "2022-11-25T14:41:19.415Z"
   },
   {
    "duration": 5,
    "start_time": "2022-11-25T14:41:19.428Z"
   },
   {
    "duration": 10,
    "start_time": "2022-11-25T14:41:19.435Z"
   },
   {
    "duration": 5,
    "start_time": "2022-11-25T14:41:19.448Z"
   },
   {
    "duration": 36,
    "start_time": "2022-11-25T14:41:19.497Z"
   },
   {
    "duration": 12,
    "start_time": "2022-11-25T14:41:19.534Z"
   },
   {
    "duration": 4,
    "start_time": "2022-11-25T14:41:19.548Z"
   },
   {
    "duration": 48,
    "start_time": "2022-11-25T14:41:19.554Z"
   },
   {
    "duration": 21,
    "start_time": "2022-11-25T14:41:19.604Z"
   },
   {
    "duration": 19,
    "start_time": "2022-11-25T14:41:19.627Z"
   },
   {
    "duration": 4,
    "start_time": "2022-11-25T14:41:19.648Z"
   },
   {
    "duration": 44,
    "start_time": "2022-11-25T14:41:19.654Z"
   },
   {
    "duration": 8,
    "start_time": "2022-11-25T14:41:19.700Z"
   },
   {
    "duration": 10,
    "start_time": "2022-11-25T14:41:19.709Z"
   },
   {
    "duration": 71,
    "start_time": "2022-11-25T14:41:19.721Z"
   },
   {
    "duration": 21,
    "start_time": "2022-11-25T14:41:19.794Z"
   },
   {
    "duration": 5,
    "start_time": "2022-11-25T14:41:19.817Z"
   },
   {
    "duration": 6,
    "start_time": "2022-11-25T14:41:19.823Z"
   },
   {
    "duration": 6,
    "start_time": "2022-11-25T14:41:19.831Z"
   },
   {
    "duration": 73,
    "start_time": "2022-11-25T15:18:30.824Z"
   },
   {
    "duration": 24,
    "start_time": "2022-11-25T15:18:30.899Z"
   },
   {
    "duration": 41,
    "start_time": "2022-11-25T15:18:30.926Z"
   },
   {
    "duration": 18,
    "start_time": "2022-11-25T15:18:30.970Z"
   },
   {
    "duration": 38,
    "start_time": "2022-11-25T15:18:30.989Z"
   },
   {
    "duration": 4,
    "start_time": "2022-11-25T15:18:31.029Z"
   },
   {
    "duration": 41,
    "start_time": "2022-11-25T15:18:31.034Z"
   },
   {
    "duration": 26,
    "start_time": "2022-11-25T15:18:31.077Z"
   },
   {
    "duration": 36,
    "start_time": "2022-11-25T15:18:31.105Z"
   },
   {
    "duration": 22,
    "start_time": "2022-11-25T15:18:31.145Z"
   },
   {
    "duration": 45,
    "start_time": "2022-11-25T15:18:31.169Z"
   },
   {
    "duration": 9,
    "start_time": "2022-11-25T15:18:31.216Z"
   },
   {
    "duration": 32,
    "start_time": "2022-11-25T15:18:31.227Z"
   },
   {
    "duration": 33,
    "start_time": "2022-11-25T15:18:31.261Z"
   },
   {
    "duration": 36,
    "start_time": "2022-11-25T15:18:31.295Z"
   },
   {
    "duration": 26,
    "start_time": "2022-11-25T15:18:31.334Z"
   },
   {
    "duration": 28,
    "start_time": "2022-11-25T15:18:31.362Z"
   },
   {
    "duration": 34,
    "start_time": "2022-11-25T15:18:31.391Z"
   },
   {
    "duration": 23,
    "start_time": "2022-11-25T15:18:31.426Z"
   },
   {
    "duration": 22,
    "start_time": "2022-11-25T15:18:31.451Z"
   },
   {
    "duration": 42,
    "start_time": "2022-11-25T15:18:31.475Z"
   },
   {
    "duration": 64,
    "start_time": "2022-11-25T15:29:12.402Z"
   },
   {
    "duration": 8,
    "start_time": "2022-11-25T15:29:38.120Z"
   },
   {
    "duration": 8,
    "start_time": "2022-11-25T15:29:49.931Z"
   },
   {
    "duration": 8,
    "start_time": "2022-11-25T15:30:33.593Z"
   },
   {
    "duration": 9,
    "start_time": "2022-11-25T15:30:38.406Z"
   },
   {
    "duration": 77,
    "start_time": "2022-11-25T15:30:46.156Z"
   },
   {
    "duration": 19,
    "start_time": "2022-11-25T15:30:46.235Z"
   },
   {
    "duration": 26,
    "start_time": "2022-11-25T15:30:46.256Z"
   },
   {
    "duration": 11,
    "start_time": "2022-11-25T15:30:46.298Z"
   },
   {
    "duration": 32,
    "start_time": "2022-11-25T15:30:46.311Z"
   },
   {
    "duration": 3,
    "start_time": "2022-11-25T15:30:46.345Z"
   },
   {
    "duration": 15,
    "start_time": "2022-11-25T15:30:46.350Z"
   },
   {
    "duration": 9,
    "start_time": "2022-11-25T15:30:46.366Z"
   },
   {
    "duration": 25,
    "start_time": "2022-11-25T15:30:46.377Z"
   },
   {
    "duration": 4,
    "start_time": "2022-11-25T15:30:46.405Z"
   },
   {
    "duration": 35,
    "start_time": "2022-11-25T15:30:46.411Z"
   },
   {
    "duration": 10,
    "start_time": "2022-11-25T15:30:46.448Z"
   },
   {
    "duration": 8,
    "start_time": "2022-11-25T15:30:46.460Z"
   },
   {
    "duration": 36,
    "start_time": "2022-11-25T15:30:46.469Z"
   },
   {
    "duration": 21,
    "start_time": "2022-11-25T15:30:46.507Z"
   },
   {
    "duration": 18,
    "start_time": "2022-11-25T15:30:46.529Z"
   },
   {
    "duration": 3,
    "start_time": "2022-11-25T15:30:46.549Z"
   },
   {
    "duration": 14,
    "start_time": "2022-11-25T15:30:46.554Z"
   },
   {
    "duration": 38,
    "start_time": "2022-11-25T15:30:46.569Z"
   },
   {
    "duration": 8,
    "start_time": "2022-11-25T15:30:46.609Z"
   },
   {
    "duration": 28,
    "start_time": "2022-11-25T15:30:46.619Z"
   },
   {
    "duration": 6,
    "start_time": "2022-11-25T15:31:29.572Z"
   },
   {
    "duration": 12,
    "start_time": "2022-11-25T15:31:47.064Z"
   },
   {
    "duration": 27,
    "start_time": "2022-11-25T15:32:01.737Z"
   },
   {
    "duration": 717,
    "start_time": "2022-11-25T15:35:55.721Z"
   },
   {
    "duration": 9,
    "start_time": "2022-11-25T15:36:07.667Z"
   },
   {
    "duration": 8,
    "start_time": "2022-11-25T15:36:23.520Z"
   },
   {
    "duration": 27,
    "start_time": "2022-11-25T15:45:04.697Z"
   },
   {
    "duration": 30,
    "start_time": "2022-11-25T15:50:31.133Z"
   },
   {
    "duration": 29,
    "start_time": "2022-11-25T15:55:00.313Z"
   },
   {
    "duration": 3,
    "start_time": "2022-11-25T15:56:47.313Z"
   },
   {
    "duration": 24,
    "start_time": "2022-11-25T16:04:00.445Z"
   },
   {
    "duration": 6,
    "start_time": "2022-11-25T16:39:12.070Z"
   },
   {
    "duration": 9,
    "start_time": "2022-11-25T16:39:19.522Z"
   },
   {
    "duration": 3,
    "start_time": "2022-11-25T16:39:30.074Z"
   },
   {
    "duration": 5,
    "start_time": "2022-11-25T16:40:24.578Z"
   },
   {
    "duration": 4,
    "start_time": "2022-11-25T16:41:04.479Z"
   },
   {
    "duration": 27,
    "start_time": "2022-11-25T16:41:07.186Z"
   },
   {
    "duration": 3,
    "start_time": "2022-11-25T16:42:37.172Z"
   },
   {
    "duration": 3,
    "start_time": "2022-11-25T16:43:15.694Z"
   },
   {
    "duration": 34,
    "start_time": "2022-11-25T16:43:18.880Z"
   },
   {
    "duration": 22,
    "start_time": "2022-11-25T16:53:00.024Z"
   },
   {
    "duration": 8,
    "start_time": "2022-11-25T16:53:28.419Z"
   },
   {
    "duration": 36,
    "start_time": "2022-11-25T16:53:54.135Z"
   },
   {
    "duration": 32,
    "start_time": "2022-11-25T16:55:17.988Z"
   },
   {
    "duration": 44,
    "start_time": "2022-11-25T16:55:41.478Z"
   },
   {
    "duration": 32,
    "start_time": "2022-11-25T16:55:51.170Z"
   },
   {
    "duration": 35,
    "start_time": "2022-11-25T16:56:03.714Z"
   },
   {
    "duration": 32,
    "start_time": "2022-11-25T16:58:09.850Z"
   },
   {
    "duration": 32,
    "start_time": "2022-11-25T16:58:16.903Z"
   },
   {
    "duration": 35,
    "start_time": "2022-11-25T16:58:27.304Z"
   },
   {
    "duration": 34,
    "start_time": "2022-11-25T16:58:50.724Z"
   },
   {
    "duration": 32,
    "start_time": "2022-11-25T16:59:04.117Z"
   },
   {
    "duration": 35,
    "start_time": "2022-11-25T17:01:22.962Z"
   },
   {
    "duration": 32,
    "start_time": "2022-11-25T17:01:39.265Z"
   },
   {
    "duration": 35,
    "start_time": "2022-11-25T17:02:06.284Z"
   },
   {
    "duration": 34,
    "start_time": "2022-11-25T17:06:47.175Z"
   },
   {
    "duration": 67,
    "start_time": "2022-11-25T17:07:02.613Z"
   },
   {
    "duration": 16,
    "start_time": "2022-11-25T17:07:02.682Z"
   },
   {
    "duration": 18,
    "start_time": "2022-11-25T17:07:02.699Z"
   },
   {
    "duration": 10,
    "start_time": "2022-11-25T17:07:02.720Z"
   },
   {
    "duration": 38,
    "start_time": "2022-11-25T17:07:02.732Z"
   },
   {
    "duration": 4,
    "start_time": "2022-11-25T17:07:02.772Z"
   },
   {
    "duration": 26,
    "start_time": "2022-11-25T17:07:02.777Z"
   },
   {
    "duration": 8,
    "start_time": "2022-11-25T17:07:02.804Z"
   },
   {
    "duration": 9,
    "start_time": "2022-11-25T17:07:02.814Z"
   },
   {
    "duration": 6,
    "start_time": "2022-11-25T17:07:02.825Z"
   },
   {
    "duration": 40,
    "start_time": "2022-11-25T17:07:02.832Z"
   },
   {
    "duration": 27,
    "start_time": "2022-11-25T17:07:02.874Z"
   },
   {
    "duration": 4,
    "start_time": "2022-11-25T17:07:02.902Z"
   },
   {
    "duration": 16,
    "start_time": "2022-11-25T17:07:02.908Z"
   },
   {
    "duration": 22,
    "start_time": "2022-11-25T17:07:02.926Z"
   },
   {
    "duration": 18,
    "start_time": "2022-11-25T17:07:02.949Z"
   },
   {
    "duration": 27,
    "start_time": "2022-11-25T17:07:02.969Z"
   },
   {
    "duration": 10,
    "start_time": "2022-11-25T17:07:02.998Z"
   },
   {
    "duration": 12,
    "start_time": "2022-11-25T17:07:03.011Z"
   },
   {
    "duration": 4,
    "start_time": "2022-11-25T17:07:03.025Z"
   },
   {
    "duration": 41,
    "start_time": "2022-11-25T17:07:03.031Z"
   },
   {
    "duration": 4,
    "start_time": "2022-11-25T17:07:03.099Z"
   },
   {
    "duration": 39,
    "start_time": "2022-11-25T17:07:03.104Z"
   },
   {
    "duration": 3,
    "start_time": "2022-11-25T17:07:03.145Z"
   },
   {
    "duration": 15,
    "start_time": "2022-11-25T17:07:03.150Z"
   },
   {
    "duration": 72,
    "start_time": "2022-11-25T17:07:03.167Z"
   },
   {
    "duration": 29,
    "start_time": "2022-11-25T17:07:41.644Z"
   },
   {
    "duration": 34,
    "start_time": "2022-11-25T17:08:04.119Z"
   },
   {
    "duration": 35,
    "start_time": "2022-11-25T17:08:13.314Z"
   },
   {
    "duration": 32,
    "start_time": "2022-11-25T17:08:41.130Z"
   },
   {
    "duration": 40,
    "start_time": "2022-11-25T17:08:52.455Z"
   },
   {
    "duration": 32,
    "start_time": "2022-11-25T17:09:17.312Z"
   },
   {
    "duration": 35,
    "start_time": "2022-11-25T17:09:35.468Z"
   },
   {
    "duration": 49,
    "start_time": "2022-11-25T17:09:45.514Z"
   },
   {
    "duration": 33,
    "start_time": "2022-11-25T17:09:58.778Z"
   },
   {
    "duration": 33,
    "start_time": "2022-11-25T17:10:13.138Z"
   },
   {
    "duration": 41,
    "start_time": "2022-11-25T17:10:20.922Z"
   },
   {
    "duration": 31,
    "start_time": "2022-11-25T17:11:24.171Z"
   },
   {
    "duration": 30,
    "start_time": "2022-11-25T17:15:27.337Z"
   },
   {
    "duration": 33,
    "start_time": "2022-11-25T17:18:35.435Z"
   },
   {
    "duration": 30,
    "start_time": "2022-11-25T17:19:20.442Z"
   },
   {
    "duration": 51,
    "start_time": "2022-11-25T17:19:28.525Z"
   },
   {
    "duration": 33,
    "start_time": "2022-11-25T17:20:03.221Z"
   },
   {
    "duration": 35,
    "start_time": "2022-11-25T17:29:01.758Z"
   },
   {
    "duration": 35,
    "start_time": "2022-11-25T17:29:07.610Z"
   },
   {
    "duration": 33,
    "start_time": "2022-11-25T17:29:25.886Z"
   },
   {
    "duration": 3,
    "start_time": "2022-11-25T17:29:31.286Z"
   },
   {
    "duration": 3,
    "start_time": "2022-11-25T17:29:35.634Z"
   },
   {
    "duration": 33,
    "start_time": "2022-11-25T17:33:26.904Z"
   },
   {
    "duration": 66,
    "start_time": "2022-11-25T17:42:59.938Z"
   },
   {
    "duration": 15,
    "start_time": "2022-11-25T17:43:00.006Z"
   },
   {
    "duration": 57,
    "start_time": "2022-11-25T17:43:00.023Z"
   },
   {
    "duration": 22,
    "start_time": "2022-11-25T17:43:00.081Z"
   },
   {
    "duration": 32,
    "start_time": "2022-11-25T17:43:00.105Z"
   },
   {
    "duration": 3,
    "start_time": "2022-11-25T17:43:00.139Z"
   },
   {
    "duration": 12,
    "start_time": "2022-11-25T17:43:00.144Z"
   },
   {
    "duration": 8,
    "start_time": "2022-11-25T17:43:00.157Z"
   },
   {
    "duration": 32,
    "start_time": "2022-11-25T17:43:00.166Z"
   },
   {
    "duration": 5,
    "start_time": "2022-11-25T17:43:00.200Z"
   },
   {
    "duration": 42,
    "start_time": "2022-11-25T17:43:00.207Z"
   },
   {
    "duration": 8,
    "start_time": "2022-11-25T17:43:00.251Z"
   },
   {
    "duration": 35,
    "start_time": "2022-11-25T17:43:00.261Z"
   },
   {
    "duration": 24,
    "start_time": "2022-11-25T17:43:00.299Z"
   },
   {
    "duration": 42,
    "start_time": "2022-11-25T17:43:00.324Z"
   },
   {
    "duration": 18,
    "start_time": "2022-11-25T17:43:00.368Z"
   },
   {
    "duration": 4,
    "start_time": "2022-11-25T17:43:00.388Z"
   },
   {
    "duration": 15,
    "start_time": "2022-11-25T17:43:00.393Z"
   },
   {
    "duration": 20,
    "start_time": "2022-11-25T17:43:00.410Z"
   },
   {
    "duration": 14,
    "start_time": "2022-11-25T17:43:00.431Z"
   },
   {
    "duration": 37,
    "start_time": "2022-11-25T17:43:00.446Z"
   },
   {
    "duration": 26,
    "start_time": "2022-11-25T17:43:00.485Z"
   },
   {
    "duration": 40,
    "start_time": "2022-11-25T17:43:00.513Z"
   },
   {
    "duration": 2,
    "start_time": "2022-11-25T17:43:00.555Z"
   },
   {
    "duration": 10,
    "start_time": "2022-11-25T17:43:00.559Z"
   },
   {
    "duration": 31,
    "start_time": "2022-11-25T17:43:00.570Z"
   },
   {
    "duration": 32,
    "start_time": "2022-11-25T17:43:00.603Z"
   },
   {
    "duration": 28,
    "start_time": "2022-11-25T17:43:00.637Z"
   },
   {
    "duration": 56,
    "start_time": "2022-11-25T17:43:00.667Z"
   },
   {
    "duration": 29,
    "start_time": "2022-11-25T17:44:05.114Z"
   },
   {
    "duration": 26,
    "start_time": "2022-11-25T17:44:18.101Z"
   },
   {
    "duration": 70,
    "start_time": "2022-11-25T17:44:28.570Z"
   },
   {
    "duration": 15,
    "start_time": "2022-11-25T17:44:28.642Z"
   },
   {
    "duration": 37,
    "start_time": "2022-11-25T17:44:28.659Z"
   },
   {
    "duration": 10,
    "start_time": "2022-11-25T17:44:28.698Z"
   },
   {
    "duration": 37,
    "start_time": "2022-11-25T17:44:28.710Z"
   },
   {
    "duration": 3,
    "start_time": "2022-11-25T17:44:28.749Z"
   },
   {
    "duration": 12,
    "start_time": "2022-11-25T17:44:28.753Z"
   },
   {
    "duration": 4,
    "start_time": "2022-11-25T17:44:28.767Z"
   },
   {
    "duration": 28,
    "start_time": "2022-11-25T17:44:28.772Z"
   },
   {
    "duration": 4,
    "start_time": "2022-11-25T17:44:28.803Z"
   },
   {
    "duration": 34,
    "start_time": "2022-11-25T17:44:28.808Z"
   },
   {
    "duration": 9,
    "start_time": "2022-11-25T17:44:28.844Z"
   },
   {
    "duration": 5,
    "start_time": "2022-11-25T17:44:28.855Z"
   },
   {
    "duration": 40,
    "start_time": "2022-11-25T17:44:28.861Z"
   },
   {
    "duration": 18,
    "start_time": "2022-11-25T17:44:28.902Z"
   },
   {
    "duration": 17,
    "start_time": "2022-11-25T17:44:28.922Z"
   },
   {
    "duration": 3,
    "start_time": "2022-11-25T17:44:28.940Z"
   },
   {
    "duration": 16,
    "start_time": "2022-11-25T17:44:28.945Z"
   },
   {
    "duration": 5,
    "start_time": "2022-11-25T17:44:28.962Z"
   },
   {
    "duration": 28,
    "start_time": "2022-11-25T17:44:28.968Z"
   },
   {
    "duration": 21,
    "start_time": "2022-11-25T17:44:28.998Z"
   },
   {
    "duration": 5,
    "start_time": "2022-11-25T17:44:29.021Z"
   },
   {
    "duration": 29,
    "start_time": "2022-11-25T17:44:29.027Z"
   },
   {
    "duration": 4,
    "start_time": "2022-11-25T17:44:29.057Z"
   },
   {
    "duration": 5,
    "start_time": "2022-11-25T17:44:29.062Z"
   },
   {
    "duration": 50,
    "start_time": "2022-11-25T17:44:29.068Z"
   },
   {
    "duration": 30,
    "start_time": "2022-11-25T17:44:29.119Z"
   },
   {
    "duration": 27,
    "start_time": "2022-11-25T17:44:29.152Z"
   },
   {
    "duration": 43,
    "start_time": "2022-11-25T17:44:29.180Z"
   },
   {
    "duration": 32,
    "start_time": "2022-11-25T18:17:10.298Z"
   },
   {
    "duration": 36,
    "start_time": "2022-11-25T18:19:06.317Z"
   },
   {
    "duration": 30,
    "start_time": "2022-11-25T18:19:28.138Z"
   },
   {
    "duration": 32,
    "start_time": "2022-11-25T18:20:20.307Z"
   },
   {
    "duration": 885,
    "start_time": "2022-11-25T18:20:50.526Z"
   },
   {
    "duration": 727,
    "start_time": "2022-11-25T18:21:08.770Z"
   },
   {
    "duration": 31,
    "start_time": "2022-11-25T18:21:23.308Z"
   },
   {
    "duration": 4,
    "start_time": "2022-11-25T18:22:59.643Z"
   },
   {
    "duration": 36,
    "start_time": "2022-11-25T18:23:15.319Z"
   },
   {
    "duration": 33,
    "start_time": "2022-11-25T18:23:39.464Z"
   },
   {
    "duration": 38,
    "start_time": "2022-11-25T18:24:14.629Z"
   },
   {
    "duration": 647,
    "start_time": "2022-11-26T10:34:41.443Z"
   },
   {
    "duration": 20,
    "start_time": "2022-11-26T10:34:42.092Z"
   },
   {
    "duration": 20,
    "start_time": "2022-11-26T10:34:42.113Z"
   },
   {
    "duration": 9,
    "start_time": "2022-11-26T10:34:42.135Z"
   },
   {
    "duration": 36,
    "start_time": "2022-11-26T10:34:42.146Z"
   },
   {
    "duration": 3,
    "start_time": "2022-11-26T10:34:42.183Z"
   },
   {
    "duration": 11,
    "start_time": "2022-11-26T10:34:42.188Z"
   },
   {
    "duration": 5,
    "start_time": "2022-11-26T10:34:42.201Z"
   },
   {
    "duration": 18,
    "start_time": "2022-11-26T10:34:42.207Z"
   },
   {
    "duration": 4,
    "start_time": "2022-11-26T10:34:42.227Z"
   },
   {
    "duration": 33,
    "start_time": "2022-11-26T10:34:42.232Z"
   },
   {
    "duration": 9,
    "start_time": "2022-11-26T10:34:42.267Z"
   },
   {
    "duration": 6,
    "start_time": "2022-11-26T10:34:42.277Z"
   },
   {
    "duration": 18,
    "start_time": "2022-11-26T10:34:42.284Z"
   },
   {
    "duration": 33,
    "start_time": "2022-11-26T10:34:42.303Z"
   },
   {
    "duration": 16,
    "start_time": "2022-11-26T10:34:42.337Z"
   },
   {
    "duration": 3,
    "start_time": "2022-11-26T10:34:42.354Z"
   },
   {
    "duration": 13,
    "start_time": "2022-11-26T10:34:42.358Z"
   },
   {
    "duration": 5,
    "start_time": "2022-11-26T10:34:42.373Z"
   },
   {
    "duration": 6,
    "start_time": "2022-11-26T10:34:42.379Z"
   },
   {
    "duration": 42,
    "start_time": "2022-11-26T10:34:42.386Z"
   },
   {
    "duration": 3,
    "start_time": "2022-11-26T10:34:42.429Z"
   },
   {
    "duration": 39,
    "start_time": "2022-11-26T10:34:42.433Z"
   },
   {
    "duration": 2,
    "start_time": "2022-11-26T10:34:42.474Z"
   },
   {
    "duration": 8,
    "start_time": "2022-11-26T10:34:42.477Z"
   },
   {
    "duration": 36,
    "start_time": "2022-11-26T10:34:42.486Z"
   },
   {
    "duration": 30,
    "start_time": "2022-11-26T10:34:42.523Z"
   },
   {
    "duration": 27,
    "start_time": "2022-11-26T10:34:42.557Z"
   },
   {
    "duration": 51,
    "start_time": "2022-11-26T10:34:42.586Z"
   },
   {
    "duration": 25,
    "start_time": "2022-11-26T10:35:32.447Z"
   },
   {
    "duration": 457,
    "start_time": "2022-11-26T10:49:22.285Z"
   },
   {
    "duration": 28,
    "start_time": "2022-11-26T10:49:22.744Z"
   },
   {
    "duration": 18,
    "start_time": "2022-11-26T10:49:22.775Z"
   },
   {
    "duration": 30,
    "start_time": "2022-11-26T10:49:22.794Z"
   },
   {
    "duration": 46,
    "start_time": "2022-11-26T10:49:22.827Z"
   },
   {
    "duration": 3,
    "start_time": "2022-11-26T10:49:22.876Z"
   },
   {
    "duration": 13,
    "start_time": "2022-11-26T10:49:22.881Z"
   },
   {
    "duration": 25,
    "start_time": "2022-11-26T10:49:22.897Z"
   },
   {
    "duration": 9,
    "start_time": "2022-11-26T10:49:22.924Z"
   },
   {
    "duration": 6,
    "start_time": "2022-11-26T10:49:22.935Z"
   },
   {
    "duration": 36,
    "start_time": "2022-11-26T10:49:22.943Z"
   },
   {
    "duration": 10,
    "start_time": "2022-11-26T10:49:22.981Z"
   },
   {
    "duration": 5,
    "start_time": "2022-11-26T10:49:22.992Z"
   },
   {
    "duration": 32,
    "start_time": "2022-11-26T10:49:22.999Z"
   },
   {
    "duration": 42,
    "start_time": "2022-11-26T10:49:23.032Z"
   },
   {
    "duration": 16,
    "start_time": "2022-11-26T10:49:23.075Z"
   },
   {
    "duration": 5,
    "start_time": "2022-11-26T10:49:23.092Z"
   },
   {
    "duration": 32,
    "start_time": "2022-11-26T10:49:23.098Z"
   },
   {
    "duration": 12,
    "start_time": "2022-11-26T10:49:23.132Z"
   },
   {
    "duration": 4,
    "start_time": "2022-11-26T10:49:23.145Z"
   },
   {
    "duration": 35,
    "start_time": "2022-11-26T10:49:23.150Z"
   },
   {
    "duration": 3,
    "start_time": "2022-11-26T10:49:23.187Z"
   },
   {
    "duration": 58,
    "start_time": "2022-11-26T10:49:23.192Z"
   },
   {
    "duration": 3,
    "start_time": "2022-11-26T10:49:23.252Z"
   },
   {
    "duration": 8,
    "start_time": "2022-11-26T10:49:23.257Z"
   },
   {
    "duration": 42,
    "start_time": "2022-11-26T10:49:23.267Z"
   },
   {
    "duration": 40,
    "start_time": "2022-11-26T10:49:23.311Z"
   },
   {
    "duration": 30,
    "start_time": "2022-11-26T10:49:23.353Z"
   },
   {
    "duration": 54,
    "start_time": "2022-11-26T10:49:23.385Z"
   },
   {
    "duration": 70,
    "start_time": "2022-11-26T17:24:13.698Z"
   },
   {
    "duration": 7,
    "start_time": "2022-11-26T17:24:21.122Z"
   },
   {
    "duration": 6,
    "start_time": "2022-11-26T17:24:47.587Z"
   },
   {
    "duration": 740,
    "start_time": "2022-11-26T17:24:55.153Z"
   },
   {
    "duration": 22,
    "start_time": "2022-11-26T17:24:55.894Z"
   },
   {
    "duration": 14,
    "start_time": "2022-11-26T17:24:55.918Z"
   },
   {
    "duration": 11,
    "start_time": "2022-11-26T17:24:55.934Z"
   },
   {
    "duration": 37,
    "start_time": "2022-11-26T17:24:55.947Z"
   },
   {
    "duration": 4,
    "start_time": "2022-11-26T17:24:55.986Z"
   },
   {
    "duration": 23,
    "start_time": "2022-11-26T17:24:55.992Z"
   },
   {
    "duration": 7,
    "start_time": "2022-11-26T17:24:56.016Z"
   },
   {
    "duration": 13,
    "start_time": "2022-11-26T17:24:56.025Z"
   },
   {
    "duration": 14,
    "start_time": "2022-11-26T17:24:56.042Z"
   },
   {
    "duration": 48,
    "start_time": "2022-11-26T17:24:56.058Z"
   },
   {
    "duration": 12,
    "start_time": "2022-11-26T17:24:56.108Z"
   },
   {
    "duration": 5,
    "start_time": "2022-11-26T17:24:56.121Z"
   },
   {
    "duration": 39,
    "start_time": "2022-11-26T17:24:56.128Z"
   },
   {
    "duration": 29,
    "start_time": "2022-11-26T17:24:56.169Z"
   },
   {
    "duration": 18,
    "start_time": "2022-11-26T17:24:56.199Z"
   },
   {
    "duration": 4,
    "start_time": "2022-11-26T17:24:56.218Z"
   },
   {
    "duration": 18,
    "start_time": "2022-11-26T17:24:56.224Z"
   },
   {
    "duration": 13,
    "start_time": "2022-11-26T17:24:56.244Z"
   },
   {
    "duration": 12,
    "start_time": "2022-11-26T17:24:56.258Z"
   },
   {
    "duration": 31,
    "start_time": "2022-11-26T17:24:56.271Z"
   },
   {
    "duration": 5,
    "start_time": "2022-11-26T17:24:56.304Z"
   },
   {
    "duration": 30,
    "start_time": "2022-11-26T17:24:56.310Z"
   },
   {
    "duration": 3,
    "start_time": "2022-11-26T17:24:56.356Z"
   },
   {
    "duration": 5,
    "start_time": "2022-11-26T17:24:56.361Z"
   },
   {
    "duration": 30,
    "start_time": "2022-11-26T17:24:56.368Z"
   },
   {
    "duration": 32,
    "start_time": "2022-11-26T17:24:56.400Z"
   },
   {
    "duration": 39,
    "start_time": "2022-11-26T17:24:56.467Z"
   },
   {
    "duration": 33,
    "start_time": "2022-11-26T17:24:56.507Z"
   },
   {
    "duration": 26,
    "start_time": "2022-11-26T17:25:17.682Z"
   },
   {
    "duration": 20,
    "start_time": "2022-11-26T18:31:22.796Z"
   },
   {
    "duration": 42,
    "start_time": "2022-11-26T18:31:42.467Z"
   },
   {
    "duration": 24,
    "start_time": "2022-11-26T18:31:46.620Z"
   },
   {
    "duration": 20,
    "start_time": "2022-11-26T18:32:03.008Z"
   },
   {
    "duration": 8,
    "start_time": "2022-11-26T18:37:44.477Z"
   },
   {
    "duration": 8,
    "start_time": "2022-11-26T18:38:01.588Z"
   },
   {
    "duration": 7,
    "start_time": "2022-11-26T18:41:57.124Z"
   },
   {
    "duration": 7,
    "start_time": "2022-11-26T18:42:11.540Z"
   },
   {
    "duration": 11,
    "start_time": "2022-11-26T18:45:33.667Z"
   },
   {
    "duration": 73,
    "start_time": "2022-11-26T19:20:25.575Z"
   },
   {
    "duration": 21,
    "start_time": "2022-11-26T19:20:25.649Z"
   },
   {
    "duration": 20,
    "start_time": "2022-11-26T19:20:25.672Z"
   },
   {
    "duration": 9,
    "start_time": "2022-11-26T19:20:25.694Z"
   },
   {
    "duration": 64,
    "start_time": "2022-11-26T19:20:25.705Z"
   },
   {
    "duration": 3,
    "start_time": "2022-11-26T19:20:25.771Z"
   },
   {
    "duration": 12,
    "start_time": "2022-11-26T19:20:25.775Z"
   },
   {
    "duration": 4,
    "start_time": "2022-11-26T19:20:25.788Z"
   },
   {
    "duration": 11,
    "start_time": "2022-11-26T19:20:25.793Z"
   },
   {
    "duration": 6,
    "start_time": "2022-11-26T19:20:25.807Z"
   },
   {
    "duration": 57,
    "start_time": "2022-11-26T19:20:25.814Z"
   },
   {
    "duration": 10,
    "start_time": "2022-11-26T19:20:25.873Z"
   },
   {
    "duration": 4,
    "start_time": "2022-11-26T19:20:25.884Z"
   },
   {
    "duration": 13,
    "start_time": "2022-11-26T19:20:25.890Z"
   },
   {
    "duration": 19,
    "start_time": "2022-11-26T19:20:25.905Z"
   },
   {
    "duration": 46,
    "start_time": "2022-11-26T19:20:25.926Z"
   },
   {
    "duration": 4,
    "start_time": "2022-11-26T19:20:25.973Z"
   },
   {
    "duration": 14,
    "start_time": "2022-11-26T19:20:25.978Z"
   },
   {
    "duration": 5,
    "start_time": "2022-11-26T19:20:25.994Z"
   },
   {
    "duration": 3,
    "start_time": "2022-11-26T19:20:26.001Z"
   },
   {
    "duration": 25,
    "start_time": "2022-11-26T19:20:26.006Z"
   },
   {
    "duration": 5,
    "start_time": "2022-11-26T19:20:26.054Z"
   },
   {
    "duration": 41,
    "start_time": "2022-11-26T19:20:26.062Z"
   },
   {
    "duration": 2,
    "start_time": "2022-11-26T19:20:26.105Z"
   },
   {
    "duration": 9,
    "start_time": "2022-11-26T19:20:26.109Z"
   },
   {
    "duration": 41,
    "start_time": "2022-11-26T19:20:26.119Z"
   },
   {
    "duration": 35,
    "start_time": "2022-11-26T19:20:26.163Z"
   },
   {
    "duration": 28,
    "start_time": "2022-11-26T19:20:26.201Z"
   },
   {
    "duration": 56,
    "start_time": "2022-11-26T19:20:26.231Z"
   },
   {
    "duration": 7,
    "start_time": "2022-11-26T19:20:26.288Z"
   },
   {
    "duration": 9,
    "start_time": "2022-11-26T19:20:26.297Z"
   },
   {
    "duration": 7,
    "start_time": "2022-11-26T19:20:26.308Z"
   },
   {
    "duration": 526,
    "start_time": "2022-11-27T11:57:46.934Z"
   },
   {
    "duration": 25,
    "start_time": "2022-11-27T11:57:47.462Z"
   },
   {
    "duration": 31,
    "start_time": "2022-11-27T11:57:47.492Z"
   },
   {
    "duration": 26,
    "start_time": "2022-11-27T11:57:47.524Z"
   },
   {
    "duration": 53,
    "start_time": "2022-11-27T11:57:47.553Z"
   },
   {
    "duration": 8,
    "start_time": "2022-11-27T11:57:47.608Z"
   },
   {
    "duration": 32,
    "start_time": "2022-11-27T11:57:47.618Z"
   },
   {
    "duration": 14,
    "start_time": "2022-11-27T11:57:47.652Z"
   },
   {
    "duration": 34,
    "start_time": "2022-11-27T11:57:47.667Z"
   },
   {
    "duration": 19,
    "start_time": "2022-11-27T11:57:47.703Z"
   },
   {
    "duration": 86,
    "start_time": "2022-11-27T11:57:47.724Z"
   },
   {
    "duration": 14,
    "start_time": "2022-11-27T11:57:47.812Z"
   },
   {
    "duration": 10,
    "start_time": "2022-11-27T11:57:47.828Z"
   },
   {
    "duration": 64,
    "start_time": "2022-11-27T11:57:47.841Z"
   },
   {
    "duration": 22,
    "start_time": "2022-11-27T11:57:47.907Z"
   },
   {
    "duration": 23,
    "start_time": "2022-11-27T11:57:47.930Z"
   },
   {
    "duration": 4,
    "start_time": "2022-11-27T11:57:47.955Z"
   },
   {
    "duration": 53,
    "start_time": "2022-11-27T11:57:47.961Z"
   },
   {
    "duration": 8,
    "start_time": "2022-11-27T11:57:48.016Z"
   },
   {
    "duration": 13,
    "start_time": "2022-11-27T11:57:48.026Z"
   },
   {
    "duration": 72,
    "start_time": "2022-11-27T11:57:48.042Z"
   },
   {
    "duration": 8,
    "start_time": "2022-11-27T11:57:48.115Z"
   },
   {
    "duration": 52,
    "start_time": "2022-11-27T11:57:48.125Z"
   },
   {
    "duration": 14,
    "start_time": "2022-11-27T11:57:48.180Z"
   },
   {
    "duration": 12,
    "start_time": "2022-11-27T11:57:48.196Z"
   },
   {
    "duration": 42,
    "start_time": "2022-11-27T11:57:48.210Z"
   },
   {
    "duration": 35,
    "start_time": "2022-11-27T11:57:48.253Z"
   },
   {
    "duration": 41,
    "start_time": "2022-11-27T11:57:48.289Z"
   },
   {
    "duration": 30,
    "start_time": "2022-11-27T11:57:48.331Z"
   },
   {
    "duration": 19,
    "start_time": "2022-11-27T11:57:48.363Z"
   },
   {
    "duration": 45,
    "start_time": "2022-11-27T11:57:48.384Z"
   },
   {
    "duration": 20,
    "start_time": "2022-11-27T11:57:48.430Z"
   }
  ],
  "colab": {
   "name": "dpp_template_part2.ipynb",
   "provenance": []
  },
  "kernelspec": {
   "display_name": "Python 3 (ipykernel)",
   "language": "python",
   "name": "python3"
  },
  "language_info": {
   "codemirror_mode": {
    "name": "ipython",
    "version": 3
   },
   "file_extension": ".py",
   "mimetype": "text/x-python",
   "name": "python",
   "nbconvert_exporter": "python",
   "pygments_lexer": "ipython3",
   "version": "3.9.13"
  },
  "toc": {
   "base_numbering": 1,
   "nav_menu": {},
   "number_sections": true,
   "sideBar": true,
   "skip_h1_title": true,
   "title_cell": "Table of Contents",
   "title_sidebar": "Contents",
   "toc_cell": false,
   "toc_position": {},
   "toc_section_display": true,
   "toc_window_display": false
  }
 },
 "nbformat": 4,
 "nbformat_minor": 5
}
