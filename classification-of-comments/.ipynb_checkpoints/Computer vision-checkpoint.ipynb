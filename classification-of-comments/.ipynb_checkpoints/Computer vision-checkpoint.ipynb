{
 "cells": [
  {
   "cell_type": "markdown",
   "metadata": {
    "toc": true
   },
   "source": [
    "<h1>Содержание<span class=\"tocSkip\"></span></h1>\n",
    "<div class=\"toc\"><ul class=\"toc-item\"><li><span><a href=\"#Краткое-описание-проекта\" data-toc-modified-id=\"Краткое-описание-проекта-1\"><span class=\"toc-item-num\">1&nbsp;&nbsp;</span>Краткое описание проекта</a></span></li><li><span><a href=\"#Цель-проекта\" data-toc-modified-id=\"Цель-проекта-2\"><span class=\"toc-item-num\">2&nbsp;&nbsp;</span>Цель проекта</a></span></li><li><span><a href=\"#Описание-данных\" data-toc-modified-id=\"Описание-данных-3\"><span class=\"toc-item-num\">3&nbsp;&nbsp;</span>Описание данных</a></span></li><li><span><a href=\"#Подготовка\" data-toc-modified-id=\"Подготовка-4\"><span class=\"toc-item-num\">4&nbsp;&nbsp;</span>Подготовка</a></span></li><li><span><a href=\"#Обучение\" data-toc-modified-id=\"Обучение-5\"><span class=\"toc-item-num\">5&nbsp;&nbsp;</span>Обучение</a></span><ul class=\"toc-item\"><li><span><a href=\"#Logistic-Regression\" data-toc-modified-id=\"Logistic-Regression-5.1\"><span class=\"toc-item-num\">5.1&nbsp;&nbsp;</span>Logistic Regression</a></span></li><li><span><a href=\"#Decision-Tree-Classifier\" data-toc-modified-id=\"Decision-Tree-Classifier-5.2\"><span class=\"toc-item-num\">5.2&nbsp;&nbsp;</span>Decision Tree Classifier</a></span></li><li><span><a href=\"#Catboost-Classifier\" data-toc-modified-id=\"Catboost-Classifier-5.3\"><span class=\"toc-item-num\">5.3&nbsp;&nbsp;</span>Catboost Classifier</a></span></li></ul></li><li><span><a href=\"#Выводы\" data-toc-modified-id=\"Выводы-6\"><span class=\"toc-item-num\">6&nbsp;&nbsp;</span>Выводы</a></span></li><li><span><a href=\"#Чек-лист-проверки\" data-toc-modified-id=\"Чек-лист-проверки-7\"><span class=\"toc-item-num\">7&nbsp;&nbsp;</span>Чек-лист проверки</a></span></li></ul></div>"
   ]
  },
  {
   "cell_type": "markdown",
   "metadata": {},
   "source": [
    "# Проект для интернет-магазина"
   ]
  },
  {
   "cell_type": "markdown",
   "metadata": {},
   "source": [
    "## Краткое описание проекта\n",
    "Интернет-магазин запускает новый сервис. Теперь пользователи могут редактировать и дополнять описания товаров, как в вики-сообществах. То есть клиенты предлагают свои правки и комментируют изменения других. Магазину нужен инструмент, который будет искать токсичные комментарии и отправлять их на модерацию. \n",
    "\n",
    "## Цель проекта\n",
    "Обучите модель классифицировать комментарии на позитивные и негативные. Постройте модель со значением метрики качества *F1* не меньше 0.75. \n",
    "\n",
    "## Описание данных\n",
    "\n",
    "- `text` - содержит текст комментария\n",
    "- `toxic` — целевой признак."
   ]
  },
  {
   "cell_type": "code",
   "execution_count": 1,
   "metadata": {},
   "outputs": [],
   "source": [
    "#pip install -U pip setuptools wheel"
   ]
  },
  {
   "cell_type": "code",
   "execution_count": 2,
   "metadata": {},
   "outputs": [],
   "source": [
    "#pip install -U spacy"
   ]
  },
  {
   "cell_type": "code",
   "execution_count": 3,
   "metadata": {},
   "outputs": [],
   "source": [
    "#!python -m spacy download en_core_web_sm"
   ]
  },
  {
   "cell_type": "code",
   "execution_count": 4,
   "metadata": {},
   "outputs": [],
   "source": [
    "import warnings\n",
    "\n",
    "import numpy as np\n",
    "import pandas as pd\n",
    "import matplotlib.pyplot as plt\n",
    "\n",
    "from tqdm.notebook import tqdm\n",
    "from nltk.corpus import stopwords\n",
    "from nltk.probability import FreqDist\n",
    "from sklearn.pipeline import Pipeline\n",
    "from sklearn.feature_extraction.text import TfidfVectorizer\n",
    "from sklearn.model_selection import train_test_split, cross_val_score, GridSearchCV\n",
    "from sklearn.linear_model import LogisticRegression\n",
    "from sklearn.tree import DecisionTreeClassifier\n",
    "from sklearn.metrics import f1_score\n",
    "from sklearn.utils import shuffle\n",
    "from catboost import CatBoostClassifier\n",
    "\n",
    "import re\n",
    "import nltk\n",
    "import spacy\n",
    "\n",
    "warnings.filterwarnings('ignore')"
   ]
  },
  {
   "cell_type": "code",
   "execution_count": 5,
   "metadata": {},
   "outputs": [
    {
     "name": "stderr",
     "output_type": "stream",
     "text": [
      "[nltk_data] Downloading package stopwords to\n",
      "[nltk_data]     C:\\Users\\Acer\\AppData\\Roaming\\nltk_data...\n",
      "[nltk_data]   Package stopwords is already up-to-date!\n"
     ]
    }
   ],
   "source": [
    "tqdm.pandas()\n",
    "nltk.download('stopwords')\n",
    "\n",
    "stopwords = set(stopwords.words('english'))"
   ]
  },
  {
   "cell_type": "markdown",
   "metadata": {},
   "source": [
    "## Подготовка"
   ]
  },
  {
   "cell_type": "code",
   "execution_count": 6,
   "metadata": {},
   "outputs": [],
   "source": [
    "try:\n",
    "    data = pd.read_csv('/datasets/toxic_comments.csv', index_col=0)\n",
    "except:\n",
    "    data = pd.read_csv(r'C:\\Users\\Acer\\Documents\\Практикум\\toxic_comments.csv', index_col=0)"
   ]
  },
  {
   "cell_type": "code",
   "execution_count": 7,
   "metadata": {},
   "outputs": [
    {
     "name": "stdout",
     "output_type": "stream",
     "text": [
      "<class 'pandas.core.frame.DataFrame'>\n",
      "Int64Index: 159292 entries, 0 to 159450\n",
      "Data columns (total 2 columns):\n",
      " #   Column  Non-Null Count   Dtype \n",
      "---  ------  --------------   ----- \n",
      " 0   text    159292 non-null  object\n",
      " 1   toxic   159292 non-null  int64 \n",
      "dtypes: int64(1), object(1)\n",
      "memory usage: 3.6+ MB\n"
     ]
    }
   ],
   "source": [
    "data.info()"
   ]
  },
  {
   "cell_type": "code",
   "execution_count": 8,
   "metadata": {},
   "outputs": [
    {
     "data": {
      "text/html": [
       "<div>\n",
       "<style scoped>\n",
       "    .dataframe tbody tr th:only-of-type {\n",
       "        vertical-align: middle;\n",
       "    }\n",
       "\n",
       "    .dataframe tbody tr th {\n",
       "        vertical-align: top;\n",
       "    }\n",
       "\n",
       "    .dataframe thead th {\n",
       "        text-align: right;\n",
       "    }\n",
       "</style>\n",
       "<table border=\"1\" class=\"dataframe\">\n",
       "  <thead>\n",
       "    <tr style=\"text-align: right;\">\n",
       "      <th></th>\n",
       "      <th>text</th>\n",
       "      <th>toxic</th>\n",
       "    </tr>\n",
       "  </thead>\n",
       "  <tbody>\n",
       "    <tr>\n",
       "      <th>71414</th>\n",
       "      <td>\"\\nit was there until teh admin changed it to ...</td>\n",
       "      <td>0</td>\n",
       "    </tr>\n",
       "    <tr>\n",
       "      <th>69163</th>\n",
       "      <td>At this point there is no need to merge, singl...</td>\n",
       "      <td>0</td>\n",
       "    </tr>\n",
       "    <tr>\n",
       "      <th>33828</th>\n",
       "      <td>Jehochman, I think the three points you listed...</td>\n",
       "      <td>0</td>\n",
       "    </tr>\n",
       "    <tr>\n",
       "      <th>36651</th>\n",
       "      <td>\"=Short response===\\nI have to say I haven't r...</td>\n",
       "      <td>0</td>\n",
       "    </tr>\n",
       "    <tr>\n",
       "      <th>81375</th>\n",
       "      <td>Oi Wankstain ==\\n\\nFuck off you ignorant cunt,...</td>\n",
       "      <td>1</td>\n",
       "    </tr>\n",
       "  </tbody>\n",
       "</table>\n",
       "</div>"
      ],
      "text/plain": [
       "                                                    text  toxic\n",
       "71414  \"\\nit was there until teh admin changed it to ...      0\n",
       "69163  At this point there is no need to merge, singl...      0\n",
       "33828  Jehochman, I think the three points you listed...      0\n",
       "36651  \"=Short response===\\nI have to say I haven't r...      0\n",
       "81375  Oi Wankstain ==\\n\\nFuck off you ignorant cunt,...      1"
      ]
     },
     "execution_count": 8,
     "metadata": {},
     "output_type": "execute_result"
    }
   ],
   "source": [
    "data.sample(5)"
   ]
  },
  {
   "cell_type": "code",
   "execution_count": 9,
   "metadata": {},
   "outputs": [
    {
     "data": {
      "text/plain": [
       "text     0\n",
       "toxic    0\n",
       "dtype: int64"
      ]
     },
     "execution_count": 9,
     "metadata": {},
     "output_type": "execute_result"
    }
   ],
   "source": [
    "data.isna().sum()"
   ]
  },
  {
   "cell_type": "code",
   "execution_count": 10,
   "metadata": {},
   "outputs": [
    {
     "data": {
      "text/plain": [
       "0    0.898388\n",
       "1    0.101612\n",
       "Name: toxic, dtype: float64"
      ]
     },
     "execution_count": 10,
     "metadata": {},
     "output_type": "execute_result"
    }
   ],
   "source": [
    "data.toxic.value_counts(normalize=True)"
   ]
  },
  {
   "cell_type": "code",
   "execution_count": 11,
   "metadata": {},
   "outputs": [
    {
     "data": {
      "text/plain": [
       "0"
      ]
     },
     "execution_count": 11,
     "metadata": {},
     "output_type": "execute_result"
    }
   ],
   "source": [
    "data.duplicated().sum()"
   ]
  },
  {
   "cell_type": "markdown",
   "metadata": {},
   "source": [
    "**Вывод:**\n",
    "1. Данные содержат 159292 объектов, в них нет дубликатов и пропусков\n",
    "2. Данные кроме букв латинского алфавита так же содержат сторонние символы, например \"\\n\n",
    "3. Так же в данных почти 90% ответов отрицательные, т.е. присутствует дисбаланс классов, будем исправлять это с помощью class_weight='balanced'\n",
    "4. Столбец Unnamed: 0 фактически дублирует индексы и не несёт полезной информации, используем его в качестве индексов."
   ]
  },
  {
   "cell_type": "markdown",
   "metadata": {},
   "source": [
    "Очистим данные от посторонних символов"
   ]
  },
  {
   "cell_type": "code",
   "execution_count": 12,
   "metadata": {},
   "outputs": [],
   "source": [
    "def clear_text(text):\n",
    "    text = text.lower()\n",
    "    text = re.sub(r'[^a-zA-Z]', ' ', text)   \n",
    "    text = ' '.join(text.split())\n",
    "    return text"
   ]
  },
  {
   "cell_type": "code",
   "execution_count": 13,
   "metadata": {},
   "outputs": [
    {
     "name": "stdout",
     "output_type": "stream",
     "text": [
      "Wall time: 6.7 s\n"
     ]
    }
   ],
   "source": [
    "%%time\n",
    "\n",
    "data['text'] = data['text'].apply(clear_text) "
   ]
  },
  {
   "cell_type": "code",
   "execution_count": 14,
   "metadata": {},
   "outputs": [
    {
     "data": {
      "text/html": [
       "<div>\n",
       "<style scoped>\n",
       "    .dataframe tbody tr th:only-of-type {\n",
       "        vertical-align: middle;\n",
       "    }\n",
       "\n",
       "    .dataframe tbody tr th {\n",
       "        vertical-align: top;\n",
       "    }\n",
       "\n",
       "    .dataframe thead th {\n",
       "        text-align: right;\n",
       "    }\n",
       "</style>\n",
       "<table border=\"1\" class=\"dataframe\">\n",
       "  <thead>\n",
       "    <tr style=\"text-align: right;\">\n",
       "      <th></th>\n",
       "      <th>text</th>\n",
       "      <th>toxic</th>\n",
       "    </tr>\n",
       "  </thead>\n",
       "  <tbody>\n",
       "    <tr>\n",
       "      <th>0</th>\n",
       "      <td>explanation why the edits made under my userna...</td>\n",
       "      <td>0</td>\n",
       "    </tr>\n",
       "    <tr>\n",
       "      <th>1</th>\n",
       "      <td>d aww he matches this background colour i m se...</td>\n",
       "      <td>0</td>\n",
       "    </tr>\n",
       "    <tr>\n",
       "      <th>2</th>\n",
       "      <td>hey man i m really not trying to edit war it s...</td>\n",
       "      <td>0</td>\n",
       "    </tr>\n",
       "    <tr>\n",
       "      <th>3</th>\n",
       "      <td>more i can t make any real suggestions on impr...</td>\n",
       "      <td>0</td>\n",
       "    </tr>\n",
       "    <tr>\n",
       "      <th>4</th>\n",
       "      <td>you sir are my hero any chance you remember wh...</td>\n",
       "      <td>0</td>\n",
       "    </tr>\n",
       "  </tbody>\n",
       "</table>\n",
       "</div>"
      ],
      "text/plain": [
       "                                                text  toxic\n",
       "0  explanation why the edits made under my userna...      0\n",
       "1  d aww he matches this background colour i m se...      0\n",
       "2  hey man i m really not trying to edit war it s...      0\n",
       "3  more i can t make any real suggestions on impr...      0\n",
       "4  you sir are my hero any chance you remember wh...      0"
      ]
     },
     "execution_count": 14,
     "metadata": {},
     "output_type": "execute_result"
    }
   ],
   "source": [
    "data.head()"
   ]
  },
  {
   "cell_type": "markdown",
   "metadata": {},
   "source": [
    "Лемматизируем текст"
   ]
  },
  {
   "cell_type": "code",
   "execution_count": 15,
   "metadata": {},
   "outputs": [],
   "source": [
    "nlp = spacy.load('en_core_web_sm')\n",
    "\n",
    "def lemmatize_text_spacy(text):\n",
    "    doc = nlp(text)\n",
    "    lemmatized_text = \" \".join([token.lemma_ for token in doc])\n",
    "    return lemmatized_text"
   ]
  },
  {
   "cell_type": "code",
   "execution_count": 16,
   "metadata": {
    "scrolled": true
   },
   "outputs": [
    {
     "data": {
      "application/vnd.jupyter.widget-view+json": {
       "model_id": "c87ab413168d4da6bd67a78f2fcc70c5",
       "version_major": 2,
       "version_minor": 0
      },
      "text/plain": [
       "  0%|          | 0/159292 [00:00<?, ?it/s]"
      ]
     },
     "metadata": {},
     "output_type": "display_data"
    },
    {
     "name": "stdout",
     "output_type": "stream",
     "text": [
      "Wall time: 48min 37s\n"
     ]
    }
   ],
   "source": [
    "%%time\n",
    "data['text'] = data['text'].progress_apply(lemmatize_text_spacy)"
   ]
  },
  {
   "cell_type": "code",
   "execution_count": 18,
   "metadata": {
    "scrolled": true
   },
   "outputs": [
    {
     "ename": "NameError",
     "evalue": "name 'word_tokenize' is not defined",
     "output_type": "error",
     "traceback": [
      "\u001b[1;31m---------------------------------------------------------------------------\u001b[0m",
      "\u001b[1;31mNameError\u001b[0m                                 Traceback (most recent call last)",
      "\u001b[1;32m~\\AppData\\Local\\Temp\\ipykernel_9256\\4292441364.py\u001b[0m in \u001b[0;36m<module>\u001b[1;34m\u001b[0m\n\u001b[1;32m----> 1\u001b[1;33m \u001b[0mfdist\u001b[0m \u001b[1;33m=\u001b[0m \u001b[0mnltk\u001b[0m\u001b[1;33m.\u001b[0m\u001b[0mFreqDist\u001b[0m\u001b[1;33m(\u001b[0m\u001b[0msum\u001b[0m\u001b[1;33m(\u001b[0m\u001b[0mdata\u001b[0m\u001b[1;33m[\u001b[0m\u001b[1;34m'text'\u001b[0m\u001b[1;33m]\u001b[0m\u001b[1;33m.\u001b[0m\u001b[0mmap\u001b[0m\u001b[1;33m(\u001b[0m\u001b[0mword_tokenize\u001b[0m\u001b[1;33m)\u001b[0m\u001b[1;33m,\u001b[0m \u001b[1;33m[\u001b[0m\u001b[1;33m]\u001b[0m\u001b[1;33m)\u001b[0m\u001b[1;33m)\u001b[0m\u001b[1;33m\u001b[0m\u001b[1;33m\u001b[0m\u001b[0m\n\u001b[0m\u001b[0;32m      2\u001b[0m \u001b[0mfdist\u001b[0m\u001b[1;33m.\u001b[0m\u001b[0mplot\u001b[0m\u001b[1;33m(\u001b[0m\u001b[1;36m30\u001b[0m\u001b[1;33m,\u001b[0m \u001b[0mcumulative\u001b[0m\u001b[1;33m=\u001b[0m\u001b[1;32mFalse\u001b[0m\u001b[1;33m)\u001b[0m\u001b[1;33m\u001b[0m\u001b[1;33m\u001b[0m\u001b[0m\n",
      "\u001b[1;31mNameError\u001b[0m: name 'word_tokenize' is not defined"
     ]
    }
   ],
   "source": [
    "fdist = nltk.FreqDist(sum(data['text'].map(word_tokenize), []))\n",
    "fdist.plot(30, cumulative=False)"
   ]
  },
  {
   "cell_type": "code",
   "execution_count": null,
   "metadata": {},
   "outputs": [],
   "source": [
    "df_negative = df[df['toxic'] == 1]\n",
    "text_cloud = ' '.join(df_negative['text'])\n",
    "cloud = WordCloud(stopwords=stopwords, max_words=80, collocations=False).generate(text_cloud)\n",
    "plt.figure(figsize=(12,8))\n",
    "plt.imshow(cloud)\n",
    "plt.axis('off')\n",
    "plt.show()  "
   ]
  },
  {
   "cell_type": "markdown",
   "metadata": {},
   "source": [
    "Разобьём датасет на обучающую и тренировочную выборки."
   ]
  },
  {
   "cell_type": "code",
   "execution_count": null,
   "metadata": {},
   "outputs": [],
   "source": [
    "features = data['text']\n",
    "target = data['toxic']\n",
    "\n",
    "features_train, features_test, target_train, target_test = train_test_split(\n",
    "    features, target, test_size=0.25, random_state=42, stratify = target)"
   ]
  },
  {
   "cell_type": "code",
   "execution_count": null,
   "metadata": {},
   "outputs": [],
   "source": [
    "features_train.shape, features_test.shape, target_train.shape, target_test.shape"
   ]
  },
  {
   "cell_type": "code",
   "execution_count": null,
   "metadata": {},
   "outputs": [],
   "source": [
    "data.text"
   ]
  },
  {
   "cell_type": "markdown",
   "metadata": {},
   "source": [
    "## Обучение"
   ]
  },
  {
   "cell_type": "markdown",
   "metadata": {},
   "source": [
    "Обучать будем три модели:\n",
    "1. Logistic Regression\n",
    "2. Random Forest Classifier\n",
    "3. Catboost Classifier"
   ]
  },
  {
   "cell_type": "markdown",
   "metadata": {},
   "source": [
    "### Logistic Regression"
   ]
  },
  {
   "cell_type": "code",
   "execution_count": null,
   "metadata": {},
   "outputs": [],
   "source": [
    "%%time\n",
    "\n",
    "pipeline = Pipeline([\n",
    "    ('tf_idf', TfidfVectorizer(stop_words=stopwords)),\n",
    "    ('lr', LogisticRegression(class_weight='balanced', random_state=42))\n",
    "])\n",
    "\n",
    "param = {'lr__C': [0.1, 1, 10],\n",
    "        'lr__solver': ['lbfgs', 'liblinear', 'newton-cg', 'newton-cholesky', 'sag', 'saga']}\n",
    "\n",
    "\n",
    "grid_lr = GridSearchCV(pipeline, param, scoring='f1', cv=5, n_jobs=-1)\n",
    "grid_lr.fit(features_train, target_train)\n",
    "\n",
    "lr_cv_score = cross_val_score(grid_lr, features_train, target_train, scoring='f1',cv=5).mean()\n",
    "lr_cv_score"
   ]
  },
  {
   "cell_type": "markdown",
   "metadata": {},
   "source": [
    "### Decision Tree Classifier"
   ]
  },
  {
   "cell_type": "code",
   "execution_count": null,
   "metadata": {},
   "outputs": [],
   "source": [
    "%%time\n",
    "\n",
    "pipeline = Pipeline([\n",
    "    ('tf_idf', TfidfVectorizer(stop_words=stopwords)),\n",
    "    ('dtc', DecisionTreeClassifier(class_weight='balanced', random_state=42))\n",
    "])\n",
    "\n",
    "param = {'dtc__max_depth': range(10, 100, 20)}\n",
    "\n",
    "grid_dtc = GridSearchCV(pipeline, param, scoring='f1', cv=3, n_jobs=-1)\n",
    "grid_dtc.fit(features_train, target_train)\n",
    "\n",
    "dtc_cv_score = cross_val_score(grid_dtc, features_train, target_train, scoring='f1',cv=5).mean()\n",
    "dtc_cv_score"
   ]
  },
  {
   "cell_type": "markdown",
   "metadata": {},
   "source": [
    "### Catboost Classifier"
   ]
  },
  {
   "cell_type": "markdown",
   "metadata": {},
   "source": [
    "Т.к. проект выполняется локально, уменьшим датасет перед применением Catboost, иначе ядро упадёт"
   ]
  },
  {
   "cell_type": "code",
   "execution_count": null,
   "metadata": {},
   "outputs": [],
   "source": [
    "features_train_cb = features_train[:400]\n",
    "features_test_cb = features_test[:100]\n",
    "target_train_cb = target_train[:400]\n",
    "target_test_cb = target_test[:100]"
   ]
  },
  {
   "cell_type": "code",
   "execution_count": null,
   "metadata": {},
   "outputs": [],
   "source": [
    "%%time\n",
    "\n",
    "pipeline = Pipeline([\n",
    "    ('tf_idf', TfidfVectorizer(stop_words=stopwords)),\n",
    "    ('cb', CatBoostClassifier(auto_class_weights='Balanced', iterations=30))\n",
    "    \n",
    "])\n",
    "\n",
    "param = {'cb__learning_rate': [0.03, 0.1],\n",
    "        'cb__depth': [4, 6],\n",
    "        'cb__l2_leaf_reg': [1, 3]}\n",
    "\n",
    "grid_cb = GridSearchCV(pipeline, param, scoring='f1', cv=3)\n",
    "grid_cb.fit(features_train_cb, target_train_cb, verbose=False)\n",
    "\n",
    "cb_cv_score = cross_val_score(grid_cb, features_train_cb, target_train_cb, scoring='f1',cv=5).mean()\n",
    "cb_cv_score"
   ]
  },
  {
   "cell_type": "markdown",
   "metadata": {},
   "source": [
    "**Вывод**:\n",
    "Лучшую метрику F1, а так же лучшее время показала модель Logistic Regression, значение F1 = 0.7657038462627914\n",
    "\n",
    "Её и будем использовать для финального тестирования."
   ]
  },
  {
   "cell_type": "markdown",
   "metadata": {},
   "source": [
    "## Выводы"
   ]
  },
  {
   "cell_type": "code",
   "execution_count": null,
   "metadata": {},
   "outputs": [],
   "source": [
    "predictions = grid_lr.predict(features_test)\n",
    "f1 = f1_score(target_test, predictions)\n",
    "f1"
   ]
  },
  {
   "cell_type": "markdown",
   "metadata": {},
   "source": [
    "**Вывод**:\n",
    "В данном проекте нам было необходимо обучить модель классифицировать комментарии на позитивные и негативные. А так же построить модель со значением метрики качества *F1* не меньше 0.75. \n",
    "\n",
    "Был проведён анализ данных:\n",
    "1. Данные содержат 159292 объектов, в них нет дубликатов и пропусков\n",
    "2. Данные кроме букв латинского алфавита так же содержат сторонние символы, например \"\\n\n",
    "3. Так же в данных почти 90% ответов отрицательные, т.е. присутствует дисбаланс классов, будем исправлять это с помощью class_weight='balanced'\n",
    "4. Столбец Unnamed: 0 фактически дублирует символы и не несёт полезной информации, удалим его.\n",
    "\n",
    "Была проведена предобработка данных:\n",
    "1. Текст был очищен от лишних символов.\n",
    "2. Лемматизирован с помощью библиотеки Spacy\n",
    "3. Разделён на обучающую и тренировочную выборки \n",
    "4. Так же был вычислен TF-IDF\n",
    "\n",
    "Были обучены три типа моделей:\n",
    "1. Logistic Regression\n",
    "2. Random Forest Classifier\n",
    "3. Catboost Classifier\n",
    "\n",
    "Лучше моделью однозначно стала модель **Logistic Regression** с минимальным временем обучения и максимальным значением метрики F1 = 0.766\n",
    "\n",
    "Остальные модели обучались гораздо дольше и показали гораздо меньшие значения метрики: \n",
    "- Random Forest Classifier: 0.65\n",
    "- Catboost Classifier: 0.11\n",
    "\n",
    "Для финального тестирования была выбрана модель **Logistic Regression**, которая показала метрику **F1 = 0.766**, на финальном тестировании."
   ]
  }
 ],
 "metadata": {
  "ExecuteTimeLog": [
   {
    "duration": 4985,
    "start_time": "2023-05-06T14:35:20.441Z"
   },
   {
    "duration": 3,
    "start_time": "2023-05-06T14:41:50.095Z"
   },
   {
    "duration": 18,
    "start_time": "2023-05-06T14:41:50.100Z"
   },
   {
    "duration": 34,
    "start_time": "2023-05-06T14:41:50.120Z"
   },
   {
    "duration": 33,
    "start_time": "2023-05-06T14:41:50.157Z"
   },
   {
    "duration": 2379,
    "start_time": "2023-05-06T14:41:50.193Z"
   },
   {
    "duration": 21,
    "start_time": "2023-05-06T14:41:52.573Z"
   },
   {
    "duration": 16,
    "start_time": "2023-05-06T14:41:52.596Z"
   },
   {
    "duration": 20,
    "start_time": "2023-05-06T14:41:52.613Z"
   },
   {
    "duration": 18,
    "start_time": "2023-05-06T14:41:52.635Z"
   },
   {
    "duration": 240,
    "start_time": "2023-05-06T14:41:52.654Z"
   },
   {
    "duration": 3,
    "start_time": "2023-05-06T14:41:52.896Z"
   },
   {
    "duration": 4386,
    "start_time": "2023-05-06T14:41:52.900Z"
   },
   {
    "duration": 7,
    "start_time": "2023-05-06T14:41:57.287Z"
   },
   {
    "duration": 741,
    "start_time": "2023-05-06T14:41:57.296Z"
   },
   {
    "duration": 10,
    "start_time": "2023-05-06T14:42:20.199Z"
   },
   {
    "duration": 3,
    "start_time": "2023-05-06T14:43:01.124Z"
   },
   {
    "duration": 32,
    "start_time": "2023-05-06T14:43:01.128Z"
   },
   {
    "duration": 43,
    "start_time": "2023-05-06T14:43:01.161Z"
   },
   {
    "duration": 4119,
    "start_time": "2023-05-06T14:43:01.206Z"
   },
   {
    "duration": 815,
    "start_time": "2023-05-06T14:43:05.326Z"
   },
   {
    "duration": 26,
    "start_time": "2023-05-06T14:43:06.143Z"
   },
   {
    "duration": 19,
    "start_time": "2023-05-06T14:43:06.171Z"
   },
   {
    "duration": 21,
    "start_time": "2023-05-06T14:43:06.192Z"
   },
   {
    "duration": 9,
    "start_time": "2023-05-06T14:43:06.214Z"
   },
   {
    "duration": 240,
    "start_time": "2023-05-06T14:43:06.249Z"
   },
   {
    "duration": 3,
    "start_time": "2023-05-06T14:43:06.491Z"
   },
   {
    "duration": 4034,
    "start_time": "2023-05-06T14:43:06.495Z"
   },
   {
    "duration": 7,
    "start_time": "2023-05-06T14:43:10.531Z"
   },
   {
    "duration": 463,
    "start_time": "2023-05-06T14:43:10.540Z"
   },
   {
    "duration": 444,
    "start_time": "2023-05-06T14:43:11.004Z"
   },
   {
    "duration": 52,
    "start_time": "2023-05-06T14:43:11.450Z"
   },
   {
    "duration": 6587,
    "start_time": "2023-05-06T14:43:11.504Z"
   },
   {
    "duration": 4,
    "start_time": "2023-05-06T14:43:18.093Z"
   },
   {
    "duration": 7,
    "start_time": "2023-05-06T14:43:18.098Z"
   },
   {
    "duration": 3,
    "start_time": "2023-05-06T14:45:11.342Z"
   },
   {
    "duration": 16,
    "start_time": "2023-05-06T14:45:11.349Z"
   },
   {
    "duration": 12,
    "start_time": "2023-05-06T14:45:11.367Z"
   },
   {
    "duration": 3928,
    "start_time": "2023-05-06T14:45:11.380Z"
   },
   {
    "duration": 820,
    "start_time": "2023-05-06T14:45:15.310Z"
   },
   {
    "duration": 30,
    "start_time": "2023-05-06T14:45:16.134Z"
   },
   {
    "duration": 17,
    "start_time": "2023-05-06T14:45:16.165Z"
   },
   {
    "duration": 21,
    "start_time": "2023-05-06T14:45:16.183Z"
   },
   {
    "duration": 9,
    "start_time": "2023-05-06T14:45:16.206Z"
   },
   {
    "duration": 276,
    "start_time": "2023-05-06T14:45:16.217Z"
   },
   {
    "duration": 3,
    "start_time": "2023-05-06T14:45:16.494Z"
   },
   {
    "duration": 4099,
    "start_time": "2023-05-06T14:45:16.498Z"
   },
   {
    "duration": 7,
    "start_time": "2023-05-06T14:45:20.598Z"
   },
   {
    "duration": 535,
    "start_time": "2023-05-06T14:45:20.606Z"
   },
   {
    "duration": 213830,
    "start_time": "2023-05-06T14:45:21.143Z"
   },
   {
    "duration": 52,
    "start_time": "2023-05-06T14:48:54.974Z"
   },
   {
    "duration": 6517,
    "start_time": "2023-05-06T14:48:55.028Z"
   },
   {
    "duration": 5,
    "start_time": "2023-05-06T14:49:01.546Z"
   },
   {
    "duration": 42,
    "start_time": "2023-05-06T14:49:01.552Z"
   },
   {
    "duration": 4,
    "start_time": "2023-05-06T14:50:30.733Z"
   },
   {
    "duration": 25,
    "start_time": "2023-05-06T14:50:30.739Z"
   },
   {
    "duration": 31,
    "start_time": "2023-05-06T14:50:30.766Z"
   },
   {
    "duration": 3942,
    "start_time": "2023-05-06T14:50:30.799Z"
   },
   {
    "duration": 830,
    "start_time": "2023-05-06T14:50:34.743Z"
   },
   {
    "duration": 22,
    "start_time": "2023-05-06T14:50:35.574Z"
   },
   {
    "duration": 16,
    "start_time": "2023-05-06T14:50:35.598Z"
   },
   {
    "duration": 34,
    "start_time": "2023-05-06T14:50:35.615Z"
   },
   {
    "duration": 6,
    "start_time": "2023-05-06T14:50:35.652Z"
   },
   {
    "duration": 255,
    "start_time": "2023-05-06T14:50:35.660Z"
   },
   {
    "duration": 3,
    "start_time": "2023-05-06T14:50:35.917Z"
   },
   {
    "duration": 4169,
    "start_time": "2023-05-06T14:50:35.922Z"
   },
   {
    "duration": 7,
    "start_time": "2023-05-06T14:50:40.093Z"
   },
   {
    "duration": 493,
    "start_time": "2023-05-06T14:50:40.101Z"
   },
   {
    "duration": 2147322,
    "start_time": "2023-05-06T14:50:40.596Z"
   },
   {
    "duration": 824,
    "start_time": "2023-05-06T15:26:29.211Z"
   },
   {
    "duration": 401,
    "start_time": "2023-05-06T15:26:30.037Z"
   },
   {
    "duration": 0,
    "start_time": "2023-05-06T15:26:30.440Z"
   },
   {
    "duration": 100,
    "start_time": "2023-05-06T15:42:35.566Z"
   },
   {
    "duration": 19,
    "start_time": "2023-05-06T15:42:48.178Z"
   },
   {
    "duration": 4430,
    "start_time": "2023-05-06T15:44:46.946Z"
   },
   {
    "duration": 141,
    "start_time": "2023-05-06T15:45:00.583Z"
   },
   {
    "duration": 27500,
    "start_time": "2023-05-06T15:45:05.706Z"
   },
   {
    "duration": 27087,
    "start_time": "2023-05-06T15:45:54.284Z"
   },
   {
    "duration": 84,
    "start_time": "2023-05-06T15:48:57.189Z"
   },
   {
    "duration": 90,
    "start_time": "2023-05-06T15:49:03.493Z"
   },
   {
    "duration": 35889,
    "start_time": "2023-05-06T15:49:07.283Z"
   },
   {
    "duration": 26386,
    "start_time": "2023-05-06T15:49:56.775Z"
   },
   {
    "duration": 123,
    "start_time": "2023-05-06T15:50:48.478Z"
   },
   {
    "duration": 2638,
    "start_time": "2023-05-06T15:51:37.422Z"
   },
   {
    "duration": 26899,
    "start_time": "2023-05-06T15:52:27.526Z"
   },
   {
    "duration": 202,
    "start_time": "2023-05-06T16:12:37.220Z"
   },
   {
    "duration": 299,
    "start_time": "2023-05-06T16:17:39.228Z"
   },
   {
    "duration": 51,
    "start_time": "2023-05-06T16:17:49.517Z"
   },
   {
    "duration": 22,
    "start_time": "2023-05-06T16:17:54.354Z"
   },
   {
    "duration": 791,
    "start_time": "2023-05-06T16:18:12.180Z"
   },
   {
    "duration": 54,
    "start_time": "2023-05-06T16:18:18.309Z"
   },
   {
    "duration": 19,
    "start_time": "2023-05-06T16:18:22.485Z"
   },
   {
    "duration": 5,
    "start_time": "2023-05-06T16:18:23.368Z"
   },
   {
    "duration": 4,
    "start_time": "2023-05-06T16:18:47.198Z"
   },
   {
    "duration": 5,
    "start_time": "2023-05-06T16:18:47.204Z"
   },
   {
    "duration": 11,
    "start_time": "2023-05-06T16:18:47.211Z"
   },
   {
    "duration": 6430,
    "start_time": "2023-05-06T16:18:47.224Z"
   },
   {
    "duration": 133,
    "start_time": "2023-05-06T16:18:53.656Z"
   },
   {
    "duration": 844,
    "start_time": "2023-05-06T16:18:53.791Z"
   },
   {
    "duration": 30,
    "start_time": "2023-05-06T16:18:54.637Z"
   },
   {
    "duration": 27,
    "start_time": "2023-05-06T16:18:54.669Z"
   },
   {
    "duration": 36,
    "start_time": "2023-05-06T16:18:54.698Z"
   },
   {
    "duration": 19,
    "start_time": "2023-05-06T16:18:54.736Z"
   },
   {
    "duration": 255,
    "start_time": "2023-05-06T16:18:54.757Z"
   },
   {
    "duration": 3,
    "start_time": "2023-05-06T16:18:55.014Z"
   },
   {
    "duration": 4019,
    "start_time": "2023-05-06T16:18:55.019Z"
   },
   {
    "duration": 14,
    "start_time": "2023-05-06T16:18:59.040Z"
   },
   {
    "duration": 467,
    "start_time": "2023-05-06T16:18:59.056Z"
   },
   {
    "duration": 2217529,
    "start_time": "2023-05-06T16:18:59.525Z"
   },
   {
    "duration": 761,
    "start_time": "2023-05-06T16:55:57.056Z"
   },
   {
    "duration": 60,
    "start_time": "2023-05-06T16:55:57.819Z"
   },
   {
    "duration": 368,
    "start_time": "2023-05-06T16:55:57.880Z"
   },
   {
    "duration": 0,
    "start_time": "2023-05-06T16:55:58.249Z"
   },
   {
    "duration": 0,
    "start_time": "2023-05-06T16:55:58.250Z"
   },
   {
    "duration": 0,
    "start_time": "2023-05-06T16:55:58.259Z"
   },
   {
    "duration": 1,
    "start_time": "2023-05-06T16:55:58.259Z"
   },
   {
    "duration": 0,
    "start_time": "2023-05-06T16:55:58.260Z"
   },
   {
    "duration": 0,
    "start_time": "2023-05-06T16:55:58.261Z"
   },
   {
    "duration": 63,
    "start_time": "2023-05-06T17:07:06.897Z"
   },
   {
    "duration": 4,
    "start_time": "2023-05-06T17:07:11.066Z"
   },
   {
    "duration": 5,
    "start_time": "2023-05-06T17:07:14.161Z"
   }
  ],
  "kernelspec": {
   "display_name": "Python 3 (ipykernel)",
   "language": "python",
   "name": "python3"
  },
  "language_info": {
   "codemirror_mode": {
    "name": "ipython",
    "version": 3
   },
   "file_extension": ".py",
   "mimetype": "text/x-python",
   "name": "python",
   "nbconvert_exporter": "python",
   "pygments_lexer": "ipython3",
   "version": "3.9.13"
  },
  "toc": {
   "base_numbering": 1,
   "nav_menu": {},
   "number_sections": true,
   "sideBar": true,
   "skip_h1_title": true,
   "title_cell": "Содержание",
   "title_sidebar": "Contents",
   "toc_cell": true,
   "toc_position": {
    "height": "calc(100% - 180px)",
    "left": "10px",
    "top": "150px",
    "width": "302.391px"
   },
   "toc_section_display": true,
   "toc_window_display": false
  }
 },
 "nbformat": 4,
 "nbformat_minor": 2
}
