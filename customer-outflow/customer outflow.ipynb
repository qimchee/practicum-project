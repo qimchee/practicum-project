{
 "cells": [
  {
   "cell_type": "markdown",
   "metadata": {
    "toc": true
   },
   "source": [
    "<h1>Содержание<span class=\"tocSkip\"></span></h1>\n",
    "<div class=\"toc\"><ul class=\"toc-item\"><li><span><a href=\"#Краткое-описание-проекта\" data-toc-modified-id=\"Краткое-описание-проекта-1\"><span class=\"toc-item-num\">1&nbsp;&nbsp;</span>Краткое описание проекта</a></span></li><li><span><a href=\"#Цель-проекта\" data-toc-modified-id=\"Цель-проекта-2\"><span class=\"toc-item-num\">2&nbsp;&nbsp;</span>Цель проекта</a></span></li><li><span><a href=\"#Описание-данных\" data-toc-modified-id=\"Описание-данных-3\"><span class=\"toc-item-num\">3&nbsp;&nbsp;</span>Описание данных</a></span></li><li><span><a href=\"#План-работы\" data-toc-modified-id=\"План-работы-4\"><span class=\"toc-item-num\">4&nbsp;&nbsp;</span>План работы</a></span></li><li><span><a href=\"#Подготовка-данных\" data-toc-modified-id=\"Подготовка-данных-5\"><span class=\"toc-item-num\">5&nbsp;&nbsp;</span>Подготовка данных</a></span><ul class=\"toc-item\"><li><span><a href=\"#Кодирование-и-стандартизация-данных\" data-toc-modified-id=\"Кодирование-и-стандартизация-данных-5.1\"><span class=\"toc-item-num\">5.1&nbsp;&nbsp;</span>Кодирование и стандартизация данных</a></span></li></ul></li><li><span><a href=\"#Исследование-задачи\" data-toc-modified-id=\"Исследование-задачи-6\"><span class=\"toc-item-num\">6&nbsp;&nbsp;</span>Исследование задачи</a></span><ul class=\"toc-item\"><li><span><a href=\"#Сравнение-Decision-Tree\" data-toc-modified-id=\"Сравнение-Decision-Tree-6.1\"><span class=\"toc-item-num\">6.1&nbsp;&nbsp;</span>Сравнение Decision Tree</a></span></li><li><span><a href=\"#Сравнение-Random-Forest\" data-toc-modified-id=\"Сравнение-Random-Forest-6.2\"><span class=\"toc-item-num\">6.2&nbsp;&nbsp;</span>Сравнение Random Forest</a></span></li><li><span><a href=\"#Логистическая-регрессия\" data-toc-modified-id=\"Логистическая-регрессия-6.3\"><span class=\"toc-item-num\">6.3&nbsp;&nbsp;</span>Логистическая регрессия</a></span></li></ul></li><li><span><a href=\"#Борьба-с-дисбалансом\" data-toc-modified-id=\"Борьба-с-дисбалансом-7\"><span class=\"toc-item-num\">7&nbsp;&nbsp;</span>Борьба с дисбалансом</a></span><ul class=\"toc-item\"><li><span><a href=\"#Взвешивание-классов\" data-toc-modified-id=\"Взвешивание-классов-7.1\"><span class=\"toc-item-num\">7.1&nbsp;&nbsp;</span>Взвешивание классов</a></span><ul class=\"toc-item\"><li><span><a href=\"#Сравнение-Decision-Tree\" data-toc-modified-id=\"Сравнение-Decision-Tree-7.1.1\"><span class=\"toc-item-num\">7.1.1&nbsp;&nbsp;</span>Сравнение Decision Tree</a></span></li><li><span><a href=\"#Сравнение-Random-Forest\" data-toc-modified-id=\"Сравнение-Random-Forest-7.1.2\"><span class=\"toc-item-num\">7.1.2&nbsp;&nbsp;</span>Сравнение Random Forest</a></span></li><li><span><a href=\"#Логистическая-регрессия\" data-toc-modified-id=\"Логистическая-регрессия-7.1.3\"><span class=\"toc-item-num\">7.1.3&nbsp;&nbsp;</span>Логистическая регрессия</a></span></li></ul></li><li><span><a href=\"#Увеличение-выборки\" data-toc-modified-id=\"Увеличение-выборки-7.2\"><span class=\"toc-item-num\">7.2&nbsp;&nbsp;</span>Увеличение выборки</a></span><ul class=\"toc-item\"><li><span><a href=\"#Сравнение-Decision-Tree\" data-toc-modified-id=\"Сравнение-Decision-Tree-7.2.1\"><span class=\"toc-item-num\">7.2.1&nbsp;&nbsp;</span>Сравнение Decision Tree</a></span></li><li><span><a href=\"#Сравнение-Random-Forest\" data-toc-modified-id=\"Сравнение-Random-Forest-7.2.2\"><span class=\"toc-item-num\">7.2.2&nbsp;&nbsp;</span>Сравнение Random Forest</a></span></li><li><span><a href=\"#Логистическая-регрессия\" data-toc-modified-id=\"Логистическая-регрессия-7.2.3\"><span class=\"toc-item-num\">7.2.3&nbsp;&nbsp;</span>Логистическая регрессия</a></span></li></ul></li><li><span><a href=\"#Уменьшение-выборки\" data-toc-modified-id=\"Уменьшение-выборки-7.3\"><span class=\"toc-item-num\">7.3&nbsp;&nbsp;</span>Уменьшение выборки</a></span><ul class=\"toc-item\"><li><span><a href=\"#Сравнение-Decision-Tree\" data-toc-modified-id=\"Сравнение-Decision-Tree-7.3.1\"><span class=\"toc-item-num\">7.3.1&nbsp;&nbsp;</span>Сравнение Decision Tree</a></span></li><li><span><a href=\"#Сравнение-Random-Forest\" data-toc-modified-id=\"Сравнение-Random-Forest-7.3.2\"><span class=\"toc-item-num\">7.3.2&nbsp;&nbsp;</span>Сравнение Random Forest</a></span></li><li><span><a href=\"#Логистическая-регрессия\" data-toc-modified-id=\"Логистическая-регрессия-7.3.3\"><span class=\"toc-item-num\">7.3.3&nbsp;&nbsp;</span>Логистическая регрессия</a></span></li></ul></li></ul></li><li><span><a href=\"#Тестирование-модели\" data-toc-modified-id=\"Тестирование-модели-8\"><span class=\"toc-item-num\">8&nbsp;&nbsp;</span>Тестирование модели</a></span></li></ul></div>"
   ]
  },
  {
   "cell_type": "markdown",
   "metadata": {},
   "source": [
    "# Отток клиентов"
   ]
  },
  {
   "cell_type": "markdown",
   "metadata": {},
   "source": [
    "## Краткое описание проекта \n",
    "\n",
    "Из «Банка» стали уходить клиенты. Каждый месяц. Немного, но заметно. Банковские маркетологи посчитали: сохранять текущих клиентов дешевле, чем привлекать новых.\n",
    "\n",
    "\n",
    "## Цель проекта \n",
    "\n",
    "Нужно спрогнозировать, уйдёт клиент из банка в ближайшее время или нет.\n",
    "\n",
    "Постройте модель с предельно большим значением F1-меры (нужно довести метрику до 0.59).\n",
    "\n",
    "## Описание данных \n",
    "Предоставлены исторические данные о поведении клиентов и расторжении договоров с банком.\n",
    "\n",
    "Признаки:\n",
    "- `RowNumber` — индекс строки в данных\n",
    "- `CustomerId` — уникальный идентификатор клиента\n",
    "- `Surname` — фамилия\n",
    "- `CreditScore` — кредитный рейтинг\n",
    "- `Geography` — страна проживания\n",
    "- `Gender` — пол\n",
    "- `Age` — возраст\n",
    "- `Tenure` — сколько лет человек является клиентом банка\n",
    "- `Balance` — баланс на счёте\n",
    "- `NumOfProducts` — количество продуктов банка, используемых клиентом\n",
    "- `HasCrCard` — наличие кредитной карты\n",
    "- `IsActiveMember` — активность клиента\n",
    "- `EstimatedSalary` — предполагаемая зарплата\n",
    "\n",
    "Целевой признак:\n",
    "- `Exited` — факт ухода клиента\n",
    "\n",
    "Источник данных: [https://www.kaggle.com/barelydedicated/bank-customer-churn-modeling](https://www.kaggle.com/barelydedicated/bank-customer-churn-modeling)\n",
    "\n",
    "## План работы\n",
    "- Шаг 1: Подготовить даннные\n",
    "- Шаг 2: Исследовать задачу\n",
    "  - Исследовать баланс классов\n",
    "  - Изучить модели без учёта дисбаланса\n",
    "  - Написать выводы по результатам исследования\n",
    "- Шаг 3: Учесть дисбаланс классов\n",
    "  - Применить несколько способов борьбы с дисбалансом\n",
    "  - Написать выводы по результатам исследования\n",
    "- Шаг 4: Провести тестированрие\n",
    "  - Достичь F1-меры не менее 0.59\n",
    "  - Исследовать метрику AUC-ROC"
   ]
  },
  {
   "cell_type": "markdown",
   "metadata": {},
   "source": [
    "## Подготовка данных"
   ]
  },
  {
   "cell_type": "code",
   "execution_count": 2,
   "metadata": {},
   "outputs": [],
   "source": [
    "import pandas as pd \n",
    "import matplotlib.pyplot as plt\n",
    "import warnings\n",
    "\n",
    "#models\n",
    "from sklearn.tree import DecisionTreeClassifier\n",
    "from sklearn.ensemble import RandomForestClassifier \n",
    "from sklearn.linear_model import LogisticRegression \n",
    "\n",
    "#metrics and preprocessing\n",
    "from sklearn.metrics import f1_score, roc_auc_score, roc_curve \n",
    "from sklearn.model_selection import train_test_split\n",
    "from sklearn.preprocessing import OrdinalEncoder, StandardScaler, OneHotEncoder\n",
    "from sklearn.utils import shuffle\n",
    "\n",
    "\n",
    "from tqdm import tqdm\n",
    "from seaborn import heatmap\n",
    "\n",
    "warnings.simplefilter(\"ignore\")"
   ]
  },
  {
   "cell_type": "code",
   "execution_count": 2,
   "metadata": {
    "scrolled": true
   },
   "outputs": [
    {
     "data": {
      "text/html": [
       "<div>\n",
       "<style scoped>\n",
       "    .dataframe tbody tr th:only-of-type {\n",
       "        vertical-align: middle;\n",
       "    }\n",
       "\n",
       "    .dataframe tbody tr th {\n",
       "        vertical-align: top;\n",
       "    }\n",
       "\n",
       "    .dataframe thead th {\n",
       "        text-align: right;\n",
       "    }\n",
       "</style>\n",
       "<table border=\"1\" class=\"dataframe\">\n",
       "  <thead>\n",
       "    <tr style=\"text-align: right;\">\n",
       "      <th></th>\n",
       "      <th>RowNumber</th>\n",
       "      <th>CustomerId</th>\n",
       "      <th>Surname</th>\n",
       "      <th>CreditScore</th>\n",
       "      <th>Geography</th>\n",
       "      <th>Gender</th>\n",
       "      <th>Age</th>\n",
       "      <th>Tenure</th>\n",
       "      <th>Balance</th>\n",
       "      <th>NumOfProducts</th>\n",
       "      <th>HasCrCard</th>\n",
       "      <th>IsActiveMember</th>\n",
       "      <th>EstimatedSalary</th>\n",
       "      <th>Exited</th>\n",
       "    </tr>\n",
       "  </thead>\n",
       "  <tbody>\n",
       "    <tr>\n",
       "      <th>0</th>\n",
       "      <td>1</td>\n",
       "      <td>15634602</td>\n",
       "      <td>Hargrave</td>\n",
       "      <td>619</td>\n",
       "      <td>France</td>\n",
       "      <td>Female</td>\n",
       "      <td>42</td>\n",
       "      <td>2.0</td>\n",
       "      <td>0.00</td>\n",
       "      <td>1</td>\n",
       "      <td>1</td>\n",
       "      <td>1</td>\n",
       "      <td>101348.88</td>\n",
       "      <td>1</td>\n",
       "    </tr>\n",
       "    <tr>\n",
       "      <th>1</th>\n",
       "      <td>2</td>\n",
       "      <td>15647311</td>\n",
       "      <td>Hill</td>\n",
       "      <td>608</td>\n",
       "      <td>Spain</td>\n",
       "      <td>Female</td>\n",
       "      <td>41</td>\n",
       "      <td>1.0</td>\n",
       "      <td>83807.86</td>\n",
       "      <td>1</td>\n",
       "      <td>0</td>\n",
       "      <td>1</td>\n",
       "      <td>112542.58</td>\n",
       "      <td>0</td>\n",
       "    </tr>\n",
       "    <tr>\n",
       "      <th>2</th>\n",
       "      <td>3</td>\n",
       "      <td>15619304</td>\n",
       "      <td>Onio</td>\n",
       "      <td>502</td>\n",
       "      <td>France</td>\n",
       "      <td>Female</td>\n",
       "      <td>42</td>\n",
       "      <td>8.0</td>\n",
       "      <td>159660.80</td>\n",
       "      <td>3</td>\n",
       "      <td>1</td>\n",
       "      <td>0</td>\n",
       "      <td>113931.57</td>\n",
       "      <td>1</td>\n",
       "    </tr>\n",
       "    <tr>\n",
       "      <th>3</th>\n",
       "      <td>4</td>\n",
       "      <td>15701354</td>\n",
       "      <td>Boni</td>\n",
       "      <td>699</td>\n",
       "      <td>France</td>\n",
       "      <td>Female</td>\n",
       "      <td>39</td>\n",
       "      <td>1.0</td>\n",
       "      <td>0.00</td>\n",
       "      <td>2</td>\n",
       "      <td>0</td>\n",
       "      <td>0</td>\n",
       "      <td>93826.63</td>\n",
       "      <td>0</td>\n",
       "    </tr>\n",
       "    <tr>\n",
       "      <th>4</th>\n",
       "      <td>5</td>\n",
       "      <td>15737888</td>\n",
       "      <td>Mitchell</td>\n",
       "      <td>850</td>\n",
       "      <td>Spain</td>\n",
       "      <td>Female</td>\n",
       "      <td>43</td>\n",
       "      <td>2.0</td>\n",
       "      <td>125510.82</td>\n",
       "      <td>1</td>\n",
       "      <td>1</td>\n",
       "      <td>1</td>\n",
       "      <td>79084.10</td>\n",
       "      <td>0</td>\n",
       "    </tr>\n",
       "  </tbody>\n",
       "</table>\n",
       "</div>"
      ],
      "text/plain": [
       "   RowNumber  CustomerId   Surname  CreditScore Geography  Gender  Age  \\\n",
       "0          1    15634602  Hargrave          619    France  Female   42   \n",
       "1          2    15647311      Hill          608     Spain  Female   41   \n",
       "2          3    15619304      Onio          502    France  Female   42   \n",
       "3          4    15701354      Boni          699    France  Female   39   \n",
       "4          5    15737888  Mitchell          850     Spain  Female   43   \n",
       "\n",
       "   Tenure    Balance  NumOfProducts  HasCrCard  IsActiveMember  \\\n",
       "0     2.0       0.00              1          1               1   \n",
       "1     1.0   83807.86              1          0               1   \n",
       "2     8.0  159660.80              3          1               0   \n",
       "3     1.0       0.00              2          0               0   \n",
       "4     2.0  125510.82              1          1               1   \n",
       "\n",
       "   EstimatedSalary  Exited  \n",
       "0        101348.88       1  \n",
       "1        112542.58       0  \n",
       "2        113931.57       1  \n",
       "3         93826.63       0  \n",
       "4         79084.10       0  "
      ]
     },
     "execution_count": 2,
     "metadata": {},
     "output_type": "execute_result"
    }
   ],
   "source": [
    "try:\n",
    "    data = pd.read_csv(r'C:\\Users\\Acer\\Documents\\Практикум\\Churn.csv')\n",
    "except:\n",
    "    data = pd.read_csv('/datasets/Churn.csv')\n",
    "    \n",
    "data.head()"
   ]
  },
  {
   "cell_type": "code",
   "execution_count": 3,
   "metadata": {},
   "outputs": [
    {
     "name": "stdout",
     "output_type": "stream",
     "text": [
      "<class 'pandas.core.frame.DataFrame'>\n",
      "RangeIndex: 10000 entries, 0 to 9999\n",
      "Data columns (total 14 columns):\n",
      " #   Column           Non-Null Count  Dtype  \n",
      "---  ------           --------------  -----  \n",
      " 0   RowNumber        10000 non-null  int64  \n",
      " 1   CustomerId       10000 non-null  int64  \n",
      " 2   Surname          10000 non-null  object \n",
      " 3   CreditScore      10000 non-null  int64  \n",
      " 4   Geography        10000 non-null  object \n",
      " 5   Gender           10000 non-null  object \n",
      " 6   Age              10000 non-null  int64  \n",
      " 7   Tenure           9091 non-null   float64\n",
      " 8   Balance          10000 non-null  float64\n",
      " 9   NumOfProducts    10000 non-null  int64  \n",
      " 10  HasCrCard        10000 non-null  int64  \n",
      " 11  IsActiveMember   10000 non-null  int64  \n",
      " 12  EstimatedSalary  10000 non-null  float64\n",
      " 13  Exited           10000 non-null  int64  \n",
      "dtypes: float64(3), int64(8), object(3)\n",
      "memory usage: 1.1+ MB\n"
     ]
    }
   ],
   "source": [
    "data.info()"
   ]
  },
  {
   "cell_type": "markdown",
   "metadata": {},
   "source": [
    "Пропуски присутствуют только в столбце `Tenure`, позже изучим их подробнее."
   ]
  },
  {
   "cell_type": "markdown",
   "metadata": {},
   "source": [
    "Переименуем столбцы."
   ]
  },
  {
   "cell_type": "code",
   "execution_count": 4,
   "metadata": {},
   "outputs": [
    {
     "name": "stdout",
     "output_type": "stream",
     "text": [
      "<class 'pandas.core.frame.DataFrame'>\n",
      "RangeIndex: 10000 entries, 0 to 9999\n",
      "Data columns (total 14 columns):\n",
      " #   Column            Non-Null Count  Dtype  \n",
      "---  ------            --------------  -----  \n",
      " 0   rownumber         10000 non-null  int64  \n",
      " 1   customerid        10000 non-null  int64  \n",
      " 2   surname           10000 non-null  object \n",
      " 3   credit_score      10000 non-null  int64  \n",
      " 4   geography         10000 non-null  object \n",
      " 5   gender            10000 non-null  object \n",
      " 6   age               10000 non-null  int64  \n",
      " 7   tenure            9091 non-null   float64\n",
      " 8   balance           10000 non-null  float64\n",
      " 9   num_of_products   10000 non-null  int64  \n",
      " 10  has_credit_card   10000 non-null  int64  \n",
      " 11  is_active_member  10000 non-null  int64  \n",
      " 12  estimated_salary  10000 non-null  float64\n",
      " 13  exited            10000 non-null  int64  \n",
      "dtypes: float64(3), int64(8), object(3)\n",
      "memory usage: 1.1+ MB\n"
     ]
    }
   ],
   "source": [
    "#Переименуем не все столбцы, т.к. некоторые из них не понадобятся нам для анализа и в дальнейшем будут удалены.\n",
    "data.columns = data.columns.str.lower()\n",
    "data = data.rename(columns={'creditscore':'credit_score',\n",
    "                     'numofproducts':'num_of_products',\n",
    "                     'hascrcard':'has_credit_card',\n",
    "                     'isactivemember':'is_active_member', \n",
    "                     'estimatedsalary':'estimated_salary'})\n",
    "data.info()"
   ]
  },
  {
   "cell_type": "markdown",
   "metadata": {},
   "source": [
    "Для анализа данных и дальнейшего построения модели нам не понадобятся такие данные как:\n",
    "- `rownumber` — индекс строки в данных\n",
    "- `customerid` — уникальный идентификатор клиента\n",
    "- `surname` — фамилия\n",
    "\n",
    "Т.к. они не несут полезной информации в контексте обучения моделей. Удалим их. Но сначала проверим на наличие явных дубликатов."
   ]
  },
  {
   "cell_type": "code",
   "execution_count": 5,
   "metadata": {},
   "outputs": [
    {
     "data": {
      "text/plain": [
       "0"
      ]
     },
     "execution_count": 5,
     "metadata": {},
     "output_type": "execute_result"
    }
   ],
   "source": [
    "data.duplicated().sum()"
   ]
  },
  {
   "cell_type": "code",
   "execution_count": 6,
   "metadata": {},
   "outputs": [
    {
     "name": "stdout",
     "output_type": "stream",
     "text": [
      "<class 'pandas.core.frame.DataFrame'>\n",
      "RangeIndex: 10000 entries, 0 to 9999\n",
      "Data columns (total 11 columns):\n",
      " #   Column            Non-Null Count  Dtype  \n",
      "---  ------            --------------  -----  \n",
      " 0   credit_score      10000 non-null  int64  \n",
      " 1   geography         10000 non-null  object \n",
      " 2   gender            10000 non-null  object \n",
      " 3   age               10000 non-null  int64  \n",
      " 4   tenure            9091 non-null   float64\n",
      " 5   balance           10000 non-null  float64\n",
      " 6   num_of_products   10000 non-null  int64  \n",
      " 7   has_credit_card   10000 non-null  int64  \n",
      " 8   is_active_member  10000 non-null  int64  \n",
      " 9   estimated_salary  10000 non-null  float64\n",
      " 10  exited            10000 non-null  int64  \n",
      "dtypes: float64(3), int64(6), object(2)\n",
      "memory usage: 859.5+ KB\n"
     ]
    }
   ],
   "source": [
    "data.drop(['rownumber', 'customerid', 'surname'], axis=1, inplace=True)\n",
    "data.info()"
   ]
  },
  {
   "cell_type": "code",
   "execution_count": 7,
   "metadata": {
    "scrolled": false
   },
   "outputs": [
    {
     "name": "stdout",
     "output_type": "stream",
     "text": [
      "credit_score\n",
      "[350 351 358 359 363 365 367 373 376 382 383 386 395 399 401 404 405 407\n",
      " 408 410 411 412 413 414 415 416 417 418 419 420 421 422 423 424 425 426\n",
      " 427 428 429 430 431 432 433 434 435 436 437 438 439 440 441 442 443 444\n",
      " 445 446 447 448 449 450 451 452 453 454 455 456 457 458 459 460 461 462\n",
      " 463 464 465 466 467 468 469 470 471 472 473 474 475 476 477 478 479 480\n",
      " 481 482 483 484 485 486 487 488 489 490 491 492 493 494 495 496 497 498\n",
      " 499 500 501 502 503 504 505 506 507 508 509 510 511 512 513 514 515 516\n",
      " 517 518 519 520 521 522 523 524 525 526 527 528 529 530 531 532 533 534\n",
      " 535 536 537 538 539 540 541 542 543 544 545 546 547 548 549 550 551 552\n",
      " 553 554 555 556 557 558 559 560 561 562 563 564 565 566 567 568 569 570\n",
      " 571 572 573 574 575 576 577 578 579 580 581 582 583 584 585 586 587 588\n",
      " 589 590 591 592 593 594 595 596 597 598 599 600 601 602 603 604 605 606\n",
      " 607 608 609 610 611 612 613 614 615 616 617 618 619 620 621 622 623 624\n",
      " 625 626 627 628 629 630 631 632 633 634 635 636 637 638 639 640 641 642\n",
      " 643 644 645 646 647 648 649 650 651 652 653 654 655 656 657 658 659 660\n",
      " 661 662 663 664 665 666 667 668 669 670 671 672 673 674 675 676 677 678\n",
      " 679 680 681 682 683 684 685 686 687 688 689 690 691 692 693 694 695 696\n",
      " 697 698 699 700 701 702 703 704 705 706 707 708 709 710 711 712 713 714\n",
      " 715 716 717 718 719 720 721 722 723 724 725 726 727 728 729 730 731 732\n",
      " 733 734 735 736 737 738 739 740 741 742 743 744 745 746 747 748 749 750\n",
      " 751 752 753 754 755 756 757 758 759 760 761 762 763 764 765 766 767 768\n",
      " 769 770 771 772 773 774 775 776 777 778 779 780 781 782 783 784 785 786\n",
      " 787 788 789 790 791 792 793 794 795 796 797 798 799 800 801 802 803 804\n",
      " 805 806 807 808 809 810 811 812 813 814 815 816 817 818 819 820 821 822\n",
      " 823 824 825 826 827 828 829 830 831 832 833 834 835 836 837 838 839 840\n",
      " 841 842 843 844 845 846 847 848 849 850]\n",
      "geography\n",
      "['France' 'Germany' 'Spain']\n",
      "gender\n",
      "['Female' 'Male']\n",
      "age\n",
      "[18 19 20 21 22 23 24 25 26 27 28 29 30 31 32 33 34 35 36 37 38 39 40 41\n",
      " 42 43 44 45 46 47 48 49 50 51 52 53 54 55 56 57 58 59 60 61 62 63 64 65\n",
      " 66 67 68 69 70 71 72 73 74 75 76 77 78 79 80 81 82 83 84 85 88 92]\n",
      "tenure\n",
      "[ 0.  1.  2.  3.  4.  5.  6.  7.  8.  9. 10. nan]\n",
      "balance\n",
      "[     0.     3768.69  12459.19 ... 222267.63 238387.56 250898.09]\n",
      "num_of_products\n",
      "[1 2 3 4]\n",
      "has_credit_card\n",
      "[0 1]\n",
      "is_active_member\n",
      "[0 1]\n",
      "estimated_salary\n",
      "[1.1580000e+01 9.0070000e+01 9.1750000e+01 ... 1.9995333e+05 1.9997074e+05\n",
      " 1.9999248e+05]\n",
      "exited\n",
      "[0 1]\n"
     ]
    }
   ],
   "source": [
    "#Проверка неявных дубликатов\n",
    "for column in data.columns:\n",
    "    print(column, data[column].sort_values().unique(), sep='\\n')"
   ]
  },
  {
   "cell_type": "markdown",
   "metadata": {},
   "source": [
    "На первый взгляд с данными всё в порядке. Обработаем пропуски в столбце `tenure`"
   ]
  },
  {
   "cell_type": "code",
   "execution_count": 8,
   "metadata": {},
   "outputs": [
    {
     "data": {
      "text/html": [
       "<div>\n",
       "<style scoped>\n",
       "    .dataframe tbody tr th:only-of-type {\n",
       "        vertical-align: middle;\n",
       "    }\n",
       "\n",
       "    .dataframe tbody tr th {\n",
       "        vertical-align: top;\n",
       "    }\n",
       "\n",
       "    .dataframe thead th {\n",
       "        text-align: right;\n",
       "    }\n",
       "</style>\n",
       "<table border=\"1\" class=\"dataframe\">\n",
       "  <thead>\n",
       "    <tr style=\"text-align: right;\">\n",
       "      <th></th>\n",
       "      <th>credit_score</th>\n",
       "      <th>geography</th>\n",
       "      <th>gender</th>\n",
       "      <th>age</th>\n",
       "      <th>tenure</th>\n",
       "      <th>balance</th>\n",
       "      <th>num_of_products</th>\n",
       "      <th>has_credit_card</th>\n",
       "      <th>is_active_member</th>\n",
       "      <th>estimated_salary</th>\n",
       "      <th>exited</th>\n",
       "    </tr>\n",
       "  </thead>\n",
       "  <tbody>\n",
       "    <tr>\n",
       "      <th>30</th>\n",
       "      <td>591</td>\n",
       "      <td>Spain</td>\n",
       "      <td>Female</td>\n",
       "      <td>39</td>\n",
       "      <td>NaN</td>\n",
       "      <td>0.00</td>\n",
       "      <td>3</td>\n",
       "      <td>1</td>\n",
       "      <td>0</td>\n",
       "      <td>140469.38</td>\n",
       "      <td>1</td>\n",
       "    </tr>\n",
       "    <tr>\n",
       "      <th>48</th>\n",
       "      <td>550</td>\n",
       "      <td>Germany</td>\n",
       "      <td>Male</td>\n",
       "      <td>38</td>\n",
       "      <td>NaN</td>\n",
       "      <td>103391.38</td>\n",
       "      <td>1</td>\n",
       "      <td>0</td>\n",
       "      <td>1</td>\n",
       "      <td>90878.13</td>\n",
       "      <td>0</td>\n",
       "    </tr>\n",
       "    <tr>\n",
       "      <th>51</th>\n",
       "      <td>585</td>\n",
       "      <td>Germany</td>\n",
       "      <td>Male</td>\n",
       "      <td>36</td>\n",
       "      <td>NaN</td>\n",
       "      <td>146050.97</td>\n",
       "      <td>2</td>\n",
       "      <td>0</td>\n",
       "      <td>0</td>\n",
       "      <td>86424.57</td>\n",
       "      <td>0</td>\n",
       "    </tr>\n",
       "    <tr>\n",
       "      <th>53</th>\n",
       "      <td>655</td>\n",
       "      <td>Germany</td>\n",
       "      <td>Male</td>\n",
       "      <td>41</td>\n",
       "      <td>NaN</td>\n",
       "      <td>125561.97</td>\n",
       "      <td>1</td>\n",
       "      <td>0</td>\n",
       "      <td>0</td>\n",
       "      <td>164040.94</td>\n",
       "      <td>1</td>\n",
       "    </tr>\n",
       "    <tr>\n",
       "      <th>60</th>\n",
       "      <td>742</td>\n",
       "      <td>Germany</td>\n",
       "      <td>Male</td>\n",
       "      <td>35</td>\n",
       "      <td>NaN</td>\n",
       "      <td>136857.00</td>\n",
       "      <td>1</td>\n",
       "      <td>0</td>\n",
       "      <td>0</td>\n",
       "      <td>84509.57</td>\n",
       "      <td>0</td>\n",
       "    </tr>\n",
       "    <tr>\n",
       "      <th>...</th>\n",
       "      <td>...</td>\n",
       "      <td>...</td>\n",
       "      <td>...</td>\n",
       "      <td>...</td>\n",
       "      <td>...</td>\n",
       "      <td>...</td>\n",
       "      <td>...</td>\n",
       "      <td>...</td>\n",
       "      <td>...</td>\n",
       "      <td>...</td>\n",
       "      <td>...</td>\n",
       "    </tr>\n",
       "    <tr>\n",
       "      <th>9944</th>\n",
       "      <td>744</td>\n",
       "      <td>Germany</td>\n",
       "      <td>Male</td>\n",
       "      <td>41</td>\n",
       "      <td>NaN</td>\n",
       "      <td>190409.34</td>\n",
       "      <td>2</td>\n",
       "      <td>1</td>\n",
       "      <td>1</td>\n",
       "      <td>138361.48</td>\n",
       "      <td>0</td>\n",
       "    </tr>\n",
       "    <tr>\n",
       "      <th>9956</th>\n",
       "      <td>520</td>\n",
       "      <td>France</td>\n",
       "      <td>Female</td>\n",
       "      <td>46</td>\n",
       "      <td>NaN</td>\n",
       "      <td>85216.61</td>\n",
       "      <td>1</td>\n",
       "      <td>1</td>\n",
       "      <td>0</td>\n",
       "      <td>117369.52</td>\n",
       "      <td>1</td>\n",
       "    </tr>\n",
       "    <tr>\n",
       "      <th>9964</th>\n",
       "      <td>479</td>\n",
       "      <td>France</td>\n",
       "      <td>Male</td>\n",
       "      <td>34</td>\n",
       "      <td>NaN</td>\n",
       "      <td>117593.48</td>\n",
       "      <td>2</td>\n",
       "      <td>0</td>\n",
       "      <td>0</td>\n",
       "      <td>113308.29</td>\n",
       "      <td>0</td>\n",
       "    </tr>\n",
       "    <tr>\n",
       "      <th>9985</th>\n",
       "      <td>659</td>\n",
       "      <td>France</td>\n",
       "      <td>Male</td>\n",
       "      <td>36</td>\n",
       "      <td>NaN</td>\n",
       "      <td>123841.49</td>\n",
       "      <td>2</td>\n",
       "      <td>1</td>\n",
       "      <td>0</td>\n",
       "      <td>96833.00</td>\n",
       "      <td>0</td>\n",
       "    </tr>\n",
       "    <tr>\n",
       "      <th>9999</th>\n",
       "      <td>792</td>\n",
       "      <td>France</td>\n",
       "      <td>Female</td>\n",
       "      <td>28</td>\n",
       "      <td>NaN</td>\n",
       "      <td>130142.79</td>\n",
       "      <td>1</td>\n",
       "      <td>1</td>\n",
       "      <td>0</td>\n",
       "      <td>38190.78</td>\n",
       "      <td>0</td>\n",
       "    </tr>\n",
       "  </tbody>\n",
       "</table>\n",
       "<p>909 rows × 11 columns</p>\n",
       "</div>"
      ],
      "text/plain": [
       "      credit_score geography  gender  age  tenure    balance  num_of_products  \\\n",
       "30             591     Spain  Female   39     NaN       0.00                3   \n",
       "48             550   Germany    Male   38     NaN  103391.38                1   \n",
       "51             585   Germany    Male   36     NaN  146050.97                2   \n",
       "53             655   Germany    Male   41     NaN  125561.97                1   \n",
       "60             742   Germany    Male   35     NaN  136857.00                1   \n",
       "...            ...       ...     ...  ...     ...        ...              ...   \n",
       "9944           744   Germany    Male   41     NaN  190409.34                2   \n",
       "9956           520    France  Female   46     NaN   85216.61                1   \n",
       "9964           479    France    Male   34     NaN  117593.48                2   \n",
       "9985           659    France    Male   36     NaN  123841.49                2   \n",
       "9999           792    France  Female   28     NaN  130142.79                1   \n",
       "\n",
       "      has_credit_card  is_active_member  estimated_salary  exited  \n",
       "30                  1                 0         140469.38       1  \n",
       "48                  0                 1          90878.13       0  \n",
       "51                  0                 0          86424.57       0  \n",
       "53                  0                 0         164040.94       1  \n",
       "60                  0                 0          84509.57       0  \n",
       "...               ...               ...               ...     ...  \n",
       "9944                1                 1         138361.48       0  \n",
       "9956                1                 0         117369.52       1  \n",
       "9964                0                 0         113308.29       0  \n",
       "9985                1                 0          96833.00       0  \n",
       "9999                1                 0          38190.78       0  \n",
       "\n",
       "[909 rows x 11 columns]"
      ]
     },
     "execution_count": 8,
     "metadata": {},
     "output_type": "execute_result"
    }
   ],
   "source": [
    "data.query('tenure.isna()')"
   ]
  },
  {
   "cell_type": "markdown",
   "metadata": {},
   "source": [
    "Можно предположить, что в столбце `tenure` могли не указать срок пользования продуктами, т.к. прошло меньше года с их открытия. Заполним пропуски 0."
   ]
  },
  {
   "cell_type": "code",
   "execution_count": 9,
   "metadata": {},
   "outputs": [
    {
     "data": {
      "text/plain": [
       "credit_score        0\n",
       "geography           0\n",
       "gender              0\n",
       "age                 0\n",
       "tenure              0\n",
       "balance             0\n",
       "num_of_products     0\n",
       "has_credit_card     0\n",
       "is_active_member    0\n",
       "estimated_salary    0\n",
       "exited              0\n",
       "dtype: int64"
      ]
     },
     "execution_count": 9,
     "metadata": {},
     "output_type": "execute_result"
    }
   ],
   "source": [
    "data.tenure.fillna(0, inplace=True)\n",
    "data.isna().sum()"
   ]
  },
  {
   "cell_type": "markdown",
   "metadata": {},
   "source": [
    "Заменим типы данных для некоторых столбцов."
   ]
  },
  {
   "cell_type": "code",
   "execution_count": 10,
   "metadata": {},
   "outputs": [],
   "source": [
    "try:\n",
    "    data[['tenure', 'age', 'num_of_products', 'has_credit_card', 'is_active_member', 'exited']] =\\\n",
    "    data[['tenure', 'age', 'num_of_products', 'has_credit_card', 'is_active_member', 'exited']].astype('int8')\n",
    "except:\n",
    "    print('Ошибка при переводе в int8')"
   ]
  },
  {
   "cell_type": "markdown",
   "metadata": {},
   "source": [
    "Проверим корреляцию признаков."
   ]
  },
  {
   "cell_type": "code",
   "execution_count": 11,
   "metadata": {},
   "outputs": [
    {
     "data": {
      "image/png": "[encoded data removed]",
      "text/plain": [
       "<Figure size 1200x800 with 2 Axes>"
      ]
     },
     "metadata": {},
     "output_type": "display_data"
    }
   ],
   "source": [
    "plt.figure(figsize=(12,8))\n",
    "heatmap(\n",
    "        data.corr(),\n",
    "        vmin=-1.,\n",
    "        vmax=1.,\n",
    "        annot=True,\n",
    "        cmap=\"BuGn\"\n",
    ");"
   ]
  },
  {
   "cell_type": "markdown",
   "metadata": {},
   "source": [
    "Признаки не коррелируют друг с другом."
   ]
  },
  {
   "cell_type": "markdown",
   "metadata": {},
   "source": [
    "### Кодирование и стандартизация данных"
   ]
  },
  {
   "cell_type": "markdown",
   "metadata": {},
   "source": [
    "Разделим наши датасеты на обучающую, валидационную и тестовую выборки с соотношением 60/20/20. \n",
    "\n",
    "В данном случае использование двух кодировщиков необходимо, чтобы показать мою работу с ними, в ином случае процессы по выбору метода кодирования останутся вне отчёта."
   ]
  },
  {
   "cell_type": "code",
   "execution_count": 12,
   "metadata": {},
   "outputs": [],
   "source": [
    "features = data.drop('exited', axis=1)\n",
    "target = data['exited']"
   ]
  },
  {
   "cell_type": "code",
   "execution_count": 13,
   "metadata": {},
   "outputs": [
    {
     "data": {
      "text/plain": [
       "((6000, 10), (6000,), (2000, 10), (2000,), (2000, 10), (2000,))"
      ]
     },
     "execution_count": 13,
     "metadata": {},
     "output_type": "execute_result"
    }
   ],
   "source": [
    "features_ohe_train, features_ohe_valid, target_ohe_train, target_ohe_valid = train_test_split(features,\n",
    "                                                                                              target,\n",
    "                                                                                              random_state=42,\n",
    "                                                                                              test_size=0.4,\n",
    "                                                                                              stratify=target)\n",
    "\n",
    "features_ohe_valid, features_ohe_test, target_ohe_valid, target_ohe_test = train_test_split(features_ohe_valid,\n",
    "                                                                                            target_ohe_valid,\n",
    "                                                                                            random_state=42,\n",
    "                                                                                            test_size=0.5,\n",
    "                                                                                            stratify=target_ohe_valid)\n",
    "\n",
    "features_ohe_train.shape, target_ohe_train.shape, features_ohe_valid.shape,\\\n",
    "target_ohe_valid.shape, features_ohe_test.shape, target_ohe_test.shape"
   ]
  },
  {
   "cell_type": "code",
   "execution_count": 14,
   "metadata": {},
   "outputs": [
    {
     "data": {
      "text/plain": [
       "(0    7963\n",
       " 1    2037\n",
       " Name: exited, dtype: int64,\n",
       " 0    1592\n",
       " 1     408\n",
       " Name: exited, dtype: int64,\n",
       " 0    1593\n",
       " 1     407\n",
       " Name: exited, dtype: int64)"
      ]
     },
     "execution_count": 14,
     "metadata": {},
     "output_type": "execute_result"
    }
   ],
   "source": [
    "target.value_counts(), target_ohe_valid.value_counts(), target_ohe_test.value_counts()"
   ]
  },
  {
   "cell_type": "code",
   "execution_count": 15,
   "metadata": {},
   "outputs": [
    {
     "data": {
      "text/plain": [
       "((6000, 10), (6000,), (2000, 10), (2000,), (2000, 10), (2000,))"
      ]
     },
     "execution_count": 15,
     "metadata": {},
     "output_type": "execute_result"
    }
   ],
   "source": [
    "features_ord_train, features_ord_valid, target_ord_train, target_ord_valid = train_test_split(features,\n",
    "                                                                                              target,\n",
    "                                                                                              random_state=42,\n",
    "                                                                                              test_size=0.4,\n",
    "                                                                                              stratify=target)\n",
    "\n",
    "features_ord_valid, features_ord_test, target_ord_valid, target_ord_test = train_test_split(features_ord_valid,\n",
    "                                                                                            target_ord_valid,\n",
    "                                                                                            random_state=42,\n",
    "                                                                                            test_size=0.5,\n",
    "                                                                                            stratify=target_ord_valid)\n",
    "\n",
    "features_ord_train.shape, target_ord_train.shape, features_ord_valid.shape,\\\n",
    "target_ord_valid.shape, features_ord_test.shape, target_ord_test.shape"
   ]
  },
  {
   "cell_type": "code",
   "execution_count": 16,
   "metadata": {
    "scrolled": true
   },
   "outputs": [
    {
     "data": {
      "text/plain": [
       "(0    7963\n",
       " 1    2037\n",
       " Name: exited, dtype: int64,\n",
       " 0    1592\n",
       " 1     408\n",
       " Name: exited, dtype: int64,\n",
       " 0    1593\n",
       " 1     407\n",
       " Name: exited, dtype: int64)"
      ]
     },
     "execution_count": 16,
     "metadata": {},
     "output_type": "execute_result"
    }
   ],
   "source": [
    "target.value_counts(), target_ord_valid.value_counts(), target_ord_test.value_counts()"
   ]
  },
  {
   "cell_type": "markdown",
   "metadata": {},
   "source": [
    "Проверим, есть ли в обучающем и тестовом датасетах отличающиеся значения категориальных переменных geography и gender. Представим, что в geography больше значений, чем 3)"
   ]
  },
  {
   "cell_type": "code",
   "execution_count": 17,
   "metadata": {},
   "outputs": [],
   "source": [
    "def finding_different_values(features_train, features_test, diff_values_column):\n",
    "    '''\n",
    "    Функция, которая ищет в обучающем и тестовом датасете признаков различающиеся значения, если они имеются.\n",
    "    features_train - признаки обучающей выборки\n",
    "    features_test - признаки тестовой выборки\n",
    "    diff_values_column - столбец для проверки, в котором возможно будут различаться значения\n",
    "    '''\n",
    "    column_train = set(features_train[diff_values_column].unique())\n",
    "    column_test = set(features_test[diff_values_column].unique())\n",
    "    num_column_train = len(column_train)\n",
    "    num_column_test = len(column_train)\n",
    "    num_unique_values = num_column_train == num_column_test\n",
    "    unique_values = column_train == column_test\n",
    "    print(f'Количество уникальных значений признака {diff_values_column} равно для обоих выборок: {num_unique_values}')\n",
    "    print(f'Уникальные значения признака {diff_values_column} в обеих выборках одинаковые: {unique_values}')\n",
    "    if unique_values == True & num_unique_values == True:\n",
    "        print(f'В обеих выборках уникальные значения одинаковые')\n",
    "    else:\n",
    "        print(f'Только в обучающей выборке есть значения: {column_train - column_test}')\n",
    "        print(f'Только в тренировачной выборке есть значения: {column_test - column_train}')"
   ]
  },
  {
   "cell_type": "code",
   "execution_count": 18,
   "metadata": {},
   "outputs": [
    {
     "name": "stdout",
     "output_type": "stream",
     "text": [
      "Количество уникальных значений признака geography равно для обоих выборок: True\n",
      "Уникальные значения признака geography в обеих выборках одинаковые: True\n",
      "В обеих выборках уникальные значения одинаковые\n"
     ]
    }
   ],
   "source": [
    "finding_different_values(features_ohe_train, features_ohe_test, 'geography')"
   ]
  },
  {
   "cell_type": "markdown",
   "metadata": {},
   "source": [
    "В нашем датасете присутствуют категориальные признаки `geography` и `gender`. Преобразуем их в численных с помощью One-Hot Encoding для всех моделей, а так же проверим OrdinalEncoder для деревянных моделей."
   ]
  },
  {
   "cell_type": "code",
   "execution_count": 19,
   "metadata": {},
   "outputs": [
    {
     "data": {
      "text/plain": [
       "['geography', 'gender']"
      ]
     },
     "execution_count": 19,
     "metadata": {},
     "output_type": "execute_result"
    }
   ],
   "source": [
    "#Составим список категориальных переменных\n",
    "categorial = features.select_dtypes(include='object').columns.to_list()\n",
    "categorial"
   ]
  },
  {
   "cell_type": "markdown",
   "metadata": {},
   "source": [
    "One-Hot Encoder создаёт двоичный столбец для каждой категории внутри столбца, это значительно увеличивает количество столбцов в датасете, но такой метод позволяет избавиться от привязки к значению чисел, которая в последствие может вылиться в путаницу, где одни данные имеют больший вес, чем другие. Так же данный метод кодирования позволяет использовать модели линейной регрессии."
   ]
  },
  {
   "cell_type": "code",
   "execution_count": 20,
   "metadata": {
    "scrolled": true
   },
   "outputs": [
    {
     "data": {
      "text/html": [
       "<div>\n",
       "<style scoped>\n",
       "    .dataframe tbody tr th:only-of-type {\n",
       "        vertical-align: middle;\n",
       "    }\n",
       "\n",
       "    .dataframe tbody tr th {\n",
       "        vertical-align: top;\n",
       "    }\n",
       "\n",
       "    .dataframe thead th {\n",
       "        text-align: right;\n",
       "    }\n",
       "</style>\n",
       "<table border=\"1\" class=\"dataframe\">\n",
       "  <thead>\n",
       "    <tr style=\"text-align: right;\">\n",
       "      <th></th>\n",
       "      <th>credit_score</th>\n",
       "      <th>age</th>\n",
       "      <th>tenure</th>\n",
       "      <th>balance</th>\n",
       "      <th>num_of_products</th>\n",
       "      <th>has_credit_card</th>\n",
       "      <th>is_active_member</th>\n",
       "      <th>estimated_salary</th>\n",
       "      <th>geography_Germany</th>\n",
       "      <th>geography_Spain</th>\n",
       "      <th>gender_Male</th>\n",
       "    </tr>\n",
       "  </thead>\n",
       "  <tbody>\n",
       "    <tr>\n",
       "      <th>6851</th>\n",
       "      <td>527</td>\n",
       "      <td>39</td>\n",
       "      <td>9</td>\n",
       "      <td>96748.89</td>\n",
       "      <td>2</td>\n",
       "      <td>1</td>\n",
       "      <td>0</td>\n",
       "      <td>94711.43</td>\n",
       "      <td>1.0</td>\n",
       "      <td>0.0</td>\n",
       "      <td>0.0</td>\n",
       "    </tr>\n",
       "    <tr>\n",
       "      <th>7026</th>\n",
       "      <td>677</td>\n",
       "      <td>27</td>\n",
       "      <td>0</td>\n",
       "      <td>0.00</td>\n",
       "      <td>2</td>\n",
       "      <td>0</td>\n",
       "      <td>1</td>\n",
       "      <td>114685.92</td>\n",
       "      <td>0.0</td>\n",
       "      <td>0.0</td>\n",
       "      <td>0.0</td>\n",
       "    </tr>\n",
       "    <tr>\n",
       "      <th>5705</th>\n",
       "      <td>628</td>\n",
       "      <td>40</td>\n",
       "      <td>5</td>\n",
       "      <td>181768.32</td>\n",
       "      <td>2</td>\n",
       "      <td>1</td>\n",
       "      <td>1</td>\n",
       "      <td>129107.97</td>\n",
       "      <td>1.0</td>\n",
       "      <td>0.0</td>\n",
       "      <td>1.0</td>\n",
       "    </tr>\n",
       "    <tr>\n",
       "      <th>9058</th>\n",
       "      <td>470</td>\n",
       "      <td>48</td>\n",
       "      <td>0</td>\n",
       "      <td>140576.11</td>\n",
       "      <td>1</td>\n",
       "      <td>1</td>\n",
       "      <td>1</td>\n",
       "      <td>116971.05</td>\n",
       "      <td>0.0</td>\n",
       "      <td>1.0</td>\n",
       "      <td>0.0</td>\n",
       "    </tr>\n",
       "    <tr>\n",
       "      <th>9415</th>\n",
       "      <td>768</td>\n",
       "      <td>43</td>\n",
       "      <td>2</td>\n",
       "      <td>129264.05</td>\n",
       "      <td>2</td>\n",
       "      <td>0</td>\n",
       "      <td>0</td>\n",
       "      <td>19150.14</td>\n",
       "      <td>1.0</td>\n",
       "      <td>0.0</td>\n",
       "      <td>0.0</td>\n",
       "    </tr>\n",
       "  </tbody>\n",
       "</table>\n",
       "</div>"
      ],
      "text/plain": [
       "      credit_score  age  tenure    balance  num_of_products  has_credit_card  \\\n",
       "6851           527   39       9   96748.89                2                1   \n",
       "7026           677   27       0       0.00                2                0   \n",
       "5705           628   40       5  181768.32                2                1   \n",
       "9058           470   48       0  140576.11                1                1   \n",
       "9415           768   43       2  129264.05                2                0   \n",
       "\n",
       "      is_active_member  estimated_salary  geography_Germany  geography_Spain  \\\n",
       "6851                 0          94711.43                1.0              0.0   \n",
       "7026                 1         114685.92                0.0              0.0   \n",
       "5705                 1         129107.97                1.0              0.0   \n",
       "9058                 1         116971.05                0.0              1.0   \n",
       "9415                 0          19150.14                1.0              0.0   \n",
       "\n",
       "      gender_Male  \n",
       "6851          0.0  \n",
       "7026          0.0  \n",
       "5705          1.0  \n",
       "9058          0.0  \n",
       "9415          0.0  "
      ]
     },
     "execution_count": 20,
     "metadata": {},
     "output_type": "execute_result"
    }
   ],
   "source": [
    "encoder_ohe = OneHotEncoder(drop='first', handle_unknown='ignore', sparse=False)\n",
    "encoder_ohe.fit(features_ohe_train[categorial])\n",
    "features_ohe_train[encoder_ohe.get_feature_names_out()] = encoder_ohe.transform(features_ohe_train[categorial])\n",
    "features_ohe_train.drop(categorial, axis=1, inplace=True)\n",
    "features_ohe_train.head()"
   ]
  },
  {
   "cell_type": "code",
   "execution_count": 21,
   "metadata": {},
   "outputs": [
    {
     "data": {
      "text/html": [
       "<div>\n",
       "<style scoped>\n",
       "    .dataframe tbody tr th:only-of-type {\n",
       "        vertical-align: middle;\n",
       "    }\n",
       "\n",
       "    .dataframe tbody tr th {\n",
       "        vertical-align: top;\n",
       "    }\n",
       "\n",
       "    .dataframe thead th {\n",
       "        text-align: right;\n",
       "    }\n",
       "</style>\n",
       "<table border=\"1\" class=\"dataframe\">\n",
       "  <thead>\n",
       "    <tr style=\"text-align: right;\">\n",
       "      <th></th>\n",
       "      <th>credit_score</th>\n",
       "      <th>age</th>\n",
       "      <th>tenure</th>\n",
       "      <th>balance</th>\n",
       "      <th>num_of_products</th>\n",
       "      <th>has_credit_card</th>\n",
       "      <th>is_active_member</th>\n",
       "      <th>estimated_salary</th>\n",
       "      <th>geography_Germany</th>\n",
       "      <th>geography_Spain</th>\n",
       "      <th>gender_Male</th>\n",
       "    </tr>\n",
       "  </thead>\n",
       "  <tbody>\n",
       "    <tr>\n",
       "      <th>8583</th>\n",
       "      <td>591</td>\n",
       "      <td>38</td>\n",
       "      <td>2</td>\n",
       "      <td>142289.28</td>\n",
       "      <td>1</td>\n",
       "      <td>0</td>\n",
       "      <td>1</td>\n",
       "      <td>119638.85</td>\n",
       "      <td>0.0</td>\n",
       "      <td>0.0</td>\n",
       "      <td>0.0</td>\n",
       "    </tr>\n",
       "    <tr>\n",
       "      <th>1924</th>\n",
       "      <td>667</td>\n",
       "      <td>44</td>\n",
       "      <td>8</td>\n",
       "      <td>122277.87</td>\n",
       "      <td>1</td>\n",
       "      <td>1</td>\n",
       "      <td>1</td>\n",
       "      <td>91810.71</td>\n",
       "      <td>0.0</td>\n",
       "      <td>0.0</td>\n",
       "      <td>1.0</td>\n",
       "    </tr>\n",
       "    <tr>\n",
       "      <th>3195</th>\n",
       "      <td>697</td>\n",
       "      <td>29</td>\n",
       "      <td>0</td>\n",
       "      <td>172693.54</td>\n",
       "      <td>1</td>\n",
       "      <td>0</td>\n",
       "      <td>0</td>\n",
       "      <td>141798.98</td>\n",
       "      <td>1.0</td>\n",
       "      <td>0.0</td>\n",
       "      <td>1.0</td>\n",
       "    </tr>\n",
       "    <tr>\n",
       "      <th>5263</th>\n",
       "      <td>809</td>\n",
       "      <td>41</td>\n",
       "      <td>1</td>\n",
       "      <td>79706.25</td>\n",
       "      <td>2</td>\n",
       "      <td>1</td>\n",
       "      <td>0</td>\n",
       "      <td>165675.01</td>\n",
       "      <td>1.0</td>\n",
       "      <td>0.0</td>\n",
       "      <td>1.0</td>\n",
       "    </tr>\n",
       "    <tr>\n",
       "      <th>1484</th>\n",
       "      <td>850</td>\n",
       "      <td>29</td>\n",
       "      <td>1</td>\n",
       "      <td>0.00</td>\n",
       "      <td>2</td>\n",
       "      <td>1</td>\n",
       "      <td>1</td>\n",
       "      <td>197996.65</td>\n",
       "      <td>0.0</td>\n",
       "      <td>1.0</td>\n",
       "      <td>0.0</td>\n",
       "    </tr>\n",
       "  </tbody>\n",
       "</table>\n",
       "</div>"
      ],
      "text/plain": [
       "      credit_score  age  tenure    balance  num_of_products  has_credit_card  \\\n",
       "8583           591   38       2  142289.28                1                0   \n",
       "1924           667   44       8  122277.87                1                1   \n",
       "3195           697   29       0  172693.54                1                0   \n",
       "5263           809   41       1   79706.25                2                1   \n",
       "1484           850   29       1       0.00                2                1   \n",
       "\n",
       "      is_active_member  estimated_salary  geography_Germany  geography_Spain  \\\n",
       "8583                 1         119638.85                0.0              0.0   \n",
       "1924                 1          91810.71                0.0              0.0   \n",
       "3195                 0         141798.98                1.0              0.0   \n",
       "5263                 0         165675.01                1.0              0.0   \n",
       "1484                 1         197996.65                0.0              1.0   \n",
       "\n",
       "      gender_Male  \n",
       "8583          0.0  \n",
       "1924          1.0  \n",
       "3195          1.0  \n",
       "5263          1.0  \n",
       "1484          0.0  "
      ]
     },
     "execution_count": 21,
     "metadata": {},
     "output_type": "execute_result"
    }
   ],
   "source": [
    "features_ohe_valid[encoder_ohe.get_feature_names_out()] = encoder_ohe.transform(features_ohe_valid[categorial])\n",
    "features_ohe_valid.drop(categorial, axis=1, inplace=True)\n",
    "features_ohe_valid.head()"
   ]
  },
  {
   "cell_type": "code",
   "execution_count": 22,
   "metadata": {},
   "outputs": [
    {
     "data": {
      "text/html": [
       "<div>\n",
       "<style scoped>\n",
       "    .dataframe tbody tr th:only-of-type {\n",
       "        vertical-align: middle;\n",
       "    }\n",
       "\n",
       "    .dataframe tbody tr th {\n",
       "        vertical-align: top;\n",
       "    }\n",
       "\n",
       "    .dataframe thead th {\n",
       "        text-align: right;\n",
       "    }\n",
       "</style>\n",
       "<table border=\"1\" class=\"dataframe\">\n",
       "  <thead>\n",
       "    <tr style=\"text-align: right;\">\n",
       "      <th></th>\n",
       "      <th>credit_score</th>\n",
       "      <th>age</th>\n",
       "      <th>tenure</th>\n",
       "      <th>balance</th>\n",
       "      <th>num_of_products</th>\n",
       "      <th>has_credit_card</th>\n",
       "      <th>is_active_member</th>\n",
       "      <th>estimated_salary</th>\n",
       "      <th>geography_Germany</th>\n",
       "      <th>geography_Spain</th>\n",
       "      <th>gender_Male</th>\n",
       "    </tr>\n",
       "  </thead>\n",
       "  <tbody>\n",
       "    <tr>\n",
       "      <th>9167</th>\n",
       "      <td>607</td>\n",
       "      <td>26</td>\n",
       "      <td>1</td>\n",
       "      <td>0.00</td>\n",
       "      <td>1</td>\n",
       "      <td>1</td>\n",
       "      <td>0</td>\n",
       "      <td>29818.20</td>\n",
       "      <td>0.0</td>\n",
       "      <td>0.0</td>\n",
       "      <td>1.0</td>\n",
       "    </tr>\n",
       "    <tr>\n",
       "      <th>9387</th>\n",
       "      <td>524</td>\n",
       "      <td>32</td>\n",
       "      <td>1</td>\n",
       "      <td>144875.71</td>\n",
       "      <td>1</td>\n",
       "      <td>0</td>\n",
       "      <td>0</td>\n",
       "      <td>187740.04</td>\n",
       "      <td>0.0</td>\n",
       "      <td>0.0</td>\n",
       "      <td>1.0</td>\n",
       "    </tr>\n",
       "    <tr>\n",
       "      <th>6859</th>\n",
       "      <td>733</td>\n",
       "      <td>38</td>\n",
       "      <td>3</td>\n",
       "      <td>157658.36</td>\n",
       "      <td>1</td>\n",
       "      <td>0</td>\n",
       "      <td>0</td>\n",
       "      <td>19658.43</td>\n",
       "      <td>0.0</td>\n",
       "      <td>0.0</td>\n",
       "      <td>0.0</td>\n",
       "    </tr>\n",
       "    <tr>\n",
       "      <th>3500</th>\n",
       "      <td>850</td>\n",
       "      <td>32</td>\n",
       "      <td>5</td>\n",
       "      <td>106290.64</td>\n",
       "      <td>1</td>\n",
       "      <td>1</td>\n",
       "      <td>0</td>\n",
       "      <td>121982.73</td>\n",
       "      <td>0.0</td>\n",
       "      <td>0.0</td>\n",
       "      <td>0.0</td>\n",
       "    </tr>\n",
       "    <tr>\n",
       "      <th>6233</th>\n",
       "      <td>850</td>\n",
       "      <td>34</td>\n",
       "      <td>2</td>\n",
       "      <td>72079.71</td>\n",
       "      <td>1</td>\n",
       "      <td>1</td>\n",
       "      <td>1</td>\n",
       "      <td>115767.93</td>\n",
       "      <td>0.0</td>\n",
       "      <td>0.0</td>\n",
       "      <td>1.0</td>\n",
       "    </tr>\n",
       "  </tbody>\n",
       "</table>\n",
       "</div>"
      ],
      "text/plain": [
       "      credit_score  age  tenure    balance  num_of_products  has_credit_card  \\\n",
       "9167           607   26       1       0.00                1                1   \n",
       "9387           524   32       1  144875.71                1                0   \n",
       "6859           733   38       3  157658.36                1                0   \n",
       "3500           850   32       5  106290.64                1                1   \n",
       "6233           850   34       2   72079.71                1                1   \n",
       "\n",
       "      is_active_member  estimated_salary  geography_Germany  geography_Spain  \\\n",
       "9167                 0          29818.20                0.0              0.0   \n",
       "9387                 0         187740.04                0.0              0.0   \n",
       "6859                 0          19658.43                0.0              0.0   \n",
       "3500                 0         121982.73                0.0              0.0   \n",
       "6233                 1         115767.93                0.0              0.0   \n",
       "\n",
       "      gender_Male  \n",
       "9167          1.0  \n",
       "9387          1.0  \n",
       "6859          0.0  \n",
       "3500          0.0  \n",
       "6233          1.0  "
      ]
     },
     "execution_count": 22,
     "metadata": {},
     "output_type": "execute_result"
    }
   ],
   "source": [
    "features_ohe_test[encoder_ohe.get_feature_names_out()] = encoder_ohe.transform(features_ohe_test[categorial])\n",
    "features_ohe_test.drop(categorial, axis=1, inplace=True)\n",
    "features_ohe_test.head()"
   ]
  },
  {
   "cell_type": "markdown",
   "metadata": {},
   "source": [
    "Ordinal Encoder в свою очередь оставляет количество столбцов прежним, а каждому категориальному значению внутри столбца присваивает номер, таким образом мы получаем массив целых чисел размерности n-1, где n - количество категорий. При кодировании таким методом большее числовое значение категории имеет больший вес."
   ]
  },
  {
   "cell_type": "code",
   "execution_count": 24,
   "metadata": {},
   "outputs": [
    {
     "name": "stdout",
     "output_type": "stream",
     "text": [
      "(6000, 10) (2000, 10) (2000, 10)\n"
     ]
    },
    {
     "data": {
      "text/html": [
       "<div>\n",
       "<style scoped>\n",
       "    .dataframe tbody tr th:only-of-type {\n",
       "        vertical-align: middle;\n",
       "    }\n",
       "\n",
       "    .dataframe tbody tr th {\n",
       "        vertical-align: top;\n",
       "    }\n",
       "\n",
       "    .dataframe thead th {\n",
       "        text-align: right;\n",
       "    }\n",
       "</style>\n",
       "<table border=\"1\" class=\"dataframe\">\n",
       "  <thead>\n",
       "    <tr style=\"text-align: right;\">\n",
       "      <th></th>\n",
       "      <th>credit_score</th>\n",
       "      <th>geography</th>\n",
       "      <th>gender</th>\n",
       "      <th>age</th>\n",
       "      <th>tenure</th>\n",
       "      <th>balance</th>\n",
       "      <th>num_of_products</th>\n",
       "      <th>has_credit_card</th>\n",
       "      <th>is_active_member</th>\n",
       "      <th>estimated_salary</th>\n",
       "    </tr>\n",
       "  </thead>\n",
       "  <tbody>\n",
       "    <tr>\n",
       "      <th>6851</th>\n",
       "      <td>527</td>\n",
       "      <td>1.0</td>\n",
       "      <td>0.0</td>\n",
       "      <td>39</td>\n",
       "      <td>9</td>\n",
       "      <td>96748.89</td>\n",
       "      <td>2</td>\n",
       "      <td>1</td>\n",
       "      <td>0</td>\n",
       "      <td>94711.43</td>\n",
       "    </tr>\n",
       "    <tr>\n",
       "      <th>7026</th>\n",
       "      <td>677</td>\n",
       "      <td>0.0</td>\n",
       "      <td>0.0</td>\n",
       "      <td>27</td>\n",
       "      <td>0</td>\n",
       "      <td>0.00</td>\n",
       "      <td>2</td>\n",
       "      <td>0</td>\n",
       "      <td>1</td>\n",
       "      <td>114685.92</td>\n",
       "    </tr>\n",
       "    <tr>\n",
       "      <th>5705</th>\n",
       "      <td>628</td>\n",
       "      <td>1.0</td>\n",
       "      <td>1.0</td>\n",
       "      <td>40</td>\n",
       "      <td>5</td>\n",
       "      <td>181768.32</td>\n",
       "      <td>2</td>\n",
       "      <td>1</td>\n",
       "      <td>1</td>\n",
       "      <td>129107.97</td>\n",
       "    </tr>\n",
       "    <tr>\n",
       "      <th>9058</th>\n",
       "      <td>470</td>\n",
       "      <td>2.0</td>\n",
       "      <td>0.0</td>\n",
       "      <td>48</td>\n",
       "      <td>0</td>\n",
       "      <td>140576.11</td>\n",
       "      <td>1</td>\n",
       "      <td>1</td>\n",
       "      <td>1</td>\n",
       "      <td>116971.05</td>\n",
       "    </tr>\n",
       "    <tr>\n",
       "      <th>9415</th>\n",
       "      <td>768</td>\n",
       "      <td>1.0</td>\n",
       "      <td>0.0</td>\n",
       "      <td>43</td>\n",
       "      <td>2</td>\n",
       "      <td>129264.05</td>\n",
       "      <td>2</td>\n",
       "      <td>0</td>\n",
       "      <td>0</td>\n",
       "      <td>19150.14</td>\n",
       "    </tr>\n",
       "    <tr>\n",
       "      <th>...</th>\n",
       "      <td>...</td>\n",
       "      <td>...</td>\n",
       "      <td>...</td>\n",
       "      <td>...</td>\n",
       "      <td>...</td>\n",
       "      <td>...</td>\n",
       "      <td>...</td>\n",
       "      <td>...</td>\n",
       "      <td>...</td>\n",
       "      <td>...</td>\n",
       "    </tr>\n",
       "    <tr>\n",
       "      <th>1467</th>\n",
       "      <td>624</td>\n",
       "      <td>1.0</td>\n",
       "      <td>0.0</td>\n",
       "      <td>35</td>\n",
       "      <td>0</td>\n",
       "      <td>180303.24</td>\n",
       "      <td>2</td>\n",
       "      <td>1</td>\n",
       "      <td>0</td>\n",
       "      <td>163587.90</td>\n",
       "    </tr>\n",
       "    <tr>\n",
       "      <th>4644</th>\n",
       "      <td>712</td>\n",
       "      <td>2.0</td>\n",
       "      <td>1.0</td>\n",
       "      <td>74</td>\n",
       "      <td>0</td>\n",
       "      <td>0.00</td>\n",
       "      <td>2</td>\n",
       "      <td>0</td>\n",
       "      <td>0</td>\n",
       "      <td>151425.82</td>\n",
       "    </tr>\n",
       "    <tr>\n",
       "      <th>8942</th>\n",
       "      <td>667</td>\n",
       "      <td>0.0</td>\n",
       "      <td>0.0</td>\n",
       "      <td>37</td>\n",
       "      <td>9</td>\n",
       "      <td>71786.90</td>\n",
       "      <td>2</td>\n",
       "      <td>1</td>\n",
       "      <td>1</td>\n",
       "      <td>67734.79</td>\n",
       "    </tr>\n",
       "    <tr>\n",
       "      <th>2935</th>\n",
       "      <td>687</td>\n",
       "      <td>2.0</td>\n",
       "      <td>1.0</td>\n",
       "      <td>35</td>\n",
       "      <td>8</td>\n",
       "      <td>100988.39</td>\n",
       "      <td>2</td>\n",
       "      <td>1</td>\n",
       "      <td>0</td>\n",
       "      <td>22247.27</td>\n",
       "    </tr>\n",
       "    <tr>\n",
       "      <th>6206</th>\n",
       "      <td>802</td>\n",
       "      <td>2.0</td>\n",
       "      <td>1.0</td>\n",
       "      <td>51</td>\n",
       "      <td>7</td>\n",
       "      <td>0.00</td>\n",
       "      <td>1</td>\n",
       "      <td>0</td>\n",
       "      <td>1</td>\n",
       "      <td>40855.79</td>\n",
       "    </tr>\n",
       "  </tbody>\n",
       "</table>\n",
       "<p>6000 rows × 10 columns</p>\n",
       "</div>"
      ],
      "text/plain": [
       "      credit_score  geography  gender  age  tenure    balance  \\\n",
       "6851           527        1.0     0.0   39       9   96748.89   \n",
       "7026           677        0.0     0.0   27       0       0.00   \n",
       "5705           628        1.0     1.0   40       5  181768.32   \n",
       "9058           470        2.0     0.0   48       0  140576.11   \n",
       "9415           768        1.0     0.0   43       2  129264.05   \n",
       "...            ...        ...     ...  ...     ...        ...   \n",
       "1467           624        1.0     0.0   35       0  180303.24   \n",
       "4644           712        2.0     1.0   74       0       0.00   \n",
       "8942           667        0.0     0.0   37       9   71786.90   \n",
       "2935           687        2.0     1.0   35       8  100988.39   \n",
       "6206           802        2.0     1.0   51       7       0.00   \n",
       "\n",
       "      num_of_products  has_credit_card  is_active_member  estimated_salary  \n",
       "6851                2                1                 0          94711.43  \n",
       "7026                2                0                 1         114685.92  \n",
       "5705                2                1                 1         129107.97  \n",
       "9058                1                1                 1         116971.05  \n",
       "9415                2                0                 0          19150.14  \n",
       "...               ...              ...               ...               ...  \n",
       "1467                2                1                 0         163587.90  \n",
       "4644                2                0                 0         151425.82  \n",
       "8942                2                1                 1          67734.79  \n",
       "2935                2                1                 0          22247.27  \n",
       "6206                1                0                 1          40855.79  \n",
       "\n",
       "[6000 rows x 10 columns]"
      ]
     },
     "execution_count": 24,
     "metadata": {},
     "output_type": "execute_result"
    }
   ],
   "source": [
    "encoder = OrdinalEncoder()\n",
    "encoder.fit(features_ord_train.loc[:, ['geography', 'gender']])\n",
    "features_ord_train.loc[:, ['geography', 'gender']] = encoder.transform(features_ord_train.loc[:, ['geography', 'gender']])\n",
    "features_ord_valid.loc[:, ['geography', 'gender']] = encoder.transform(features_ord_valid.loc[:, ['geography', 'gender']])\n",
    "features_ord_test.loc[:, ['geography', 'gender']] = encoder.transform(features_ord_test.loc[:, ['geography', 'gender']])\n",
    "\n",
    "print(features_ord_train.shape, features_ord_valid.shape, features_ord_test.shape)\n",
    "features_ord_train"
   ]
  },
  {
   "cell_type": "markdown",
   "metadata": {},
   "source": [
    "Масштабируем наши датасеты.\n",
    "Составим список численных элементов, уберём из него бинарные признаки `has_credit_card` и `is_active_member`."
   ]
  },
  {
   "cell_type": "code",
   "execution_count": 25,
   "metadata": {},
   "outputs": [
    {
     "data": {
      "text/plain": [
       "['credit_score',\n",
       " 'age',\n",
       " 'tenure',\n",
       " 'balance',\n",
       " 'num_of_products',\n",
       " 'estimated_salary']"
      ]
     },
     "execution_count": 25,
     "metadata": {},
     "output_type": "execute_result"
    }
   ],
   "source": [
    "numeric = features.select_dtypes(exclude='object').columns.to_list()\n",
    "del numeric[5:7]\n",
    "numeric"
   ]
  },
  {
   "cell_type": "code",
   "execution_count": 26,
   "metadata": {},
   "outputs": [],
   "source": [
    "# Для прямого кодирования\n",
    "scaler_ohe = StandardScaler()\n",
    "scaler_ohe.fit(features_ohe_train[numeric])\n",
    "features_ohe_train[numeric] = scaler_ohe.transform(features_ohe_train[numeric])\n",
    "features_ohe_valid[numeric] = scaler_ohe.transform(features_ohe_valid[numeric])\n",
    "features_ohe_test[numeric] = scaler_ohe.transform(features_ohe_test[numeric])\n",
    "\n",
    "# для OrdinalEncoder\n",
    "scaler_ord = StandardScaler()\n",
    "scaler_ord.fit(features_ord_train[numeric])\n",
    "features_ord_train[numeric] = scaler_ord.transform(features_ord_train[numeric])\n",
    "features_ord_valid[numeric] = scaler_ord.transform(features_ord_valid[numeric])\n",
    "features_ord_test[numeric] = scaler_ord.transform(features_ord_test[numeric])"
   ]
  },
  {
   "cell_type": "code",
   "execution_count": 27,
   "metadata": {},
   "outputs": [
    {
     "data": {
      "text/html": [
       "<div>\n",
       "<style scoped>\n",
       "    .dataframe tbody tr th:only-of-type {\n",
       "        vertical-align: middle;\n",
       "    }\n",
       "\n",
       "    .dataframe tbody tr th {\n",
       "        vertical-align: top;\n",
       "    }\n",
       "\n",
       "    .dataframe thead th {\n",
       "        text-align: right;\n",
       "    }\n",
       "</style>\n",
       "<table border=\"1\" class=\"dataframe\">\n",
       "  <thead>\n",
       "    <tr style=\"text-align: right;\">\n",
       "      <th></th>\n",
       "      <th>credit_score</th>\n",
       "      <th>age</th>\n",
       "      <th>tenure</th>\n",
       "      <th>balance</th>\n",
       "      <th>num_of_products</th>\n",
       "      <th>has_credit_card</th>\n",
       "      <th>is_active_member</th>\n",
       "      <th>estimated_salary</th>\n",
       "      <th>geography_Germany</th>\n",
       "      <th>geography_Spain</th>\n",
       "      <th>gender_Male</th>\n",
       "    </tr>\n",
       "  </thead>\n",
       "  <tbody>\n",
       "    <tr>\n",
       "      <th>6851</th>\n",
       "      <td>-1.283897</td>\n",
       "      <td>0.008566</td>\n",
       "      <td>1.431265</td>\n",
       "      <td>0.330105</td>\n",
       "      <td>0.783996</td>\n",
       "      <td>1</td>\n",
       "      <td>0</td>\n",
       "      <td>-0.084061</td>\n",
       "      <td>1.0</td>\n",
       "      <td>0.0</td>\n",
       "      <td>0.0</td>\n",
       "    </tr>\n",
       "    <tr>\n",
       "      <th>7026</th>\n",
       "      <td>0.271537</td>\n",
       "      <td>-1.139895</td>\n",
       "      <td>-1.464078</td>\n",
       "      <td>-1.220584</td>\n",
       "      <td>0.783996</td>\n",
       "      <td>0</td>\n",
       "      <td>1</td>\n",
       "      <td>0.264021</td>\n",
       "      <td>0.0</td>\n",
       "      <td>0.0</td>\n",
       "      <td>0.0</td>\n",
       "    </tr>\n",
       "    <tr>\n",
       "      <th>5705</th>\n",
       "      <td>-0.236571</td>\n",
       "      <td>0.104271</td>\n",
       "      <td>0.144445</td>\n",
       "      <td>1.692794</td>\n",
       "      <td>0.783996</td>\n",
       "      <td>1</td>\n",
       "      <td>1</td>\n",
       "      <td>0.515344</td>\n",
       "      <td>1.0</td>\n",
       "      <td>0.0</td>\n",
       "      <td>1.0</td>\n",
       "    </tr>\n",
       "    <tr>\n",
       "      <th>9058</th>\n",
       "      <td>-1.874962</td>\n",
       "      <td>0.869911</td>\n",
       "      <td>-1.464078</td>\n",
       "      <td>1.032566</td>\n",
       "      <td>-0.919109</td>\n",
       "      <td>1</td>\n",
       "      <td>1</td>\n",
       "      <td>0.303842</td>\n",
       "      <td>0.0</td>\n",
       "      <td>1.0</td>\n",
       "      <td>0.0</td>\n",
       "    </tr>\n",
       "    <tr>\n",
       "      <th>9415</th>\n",
       "      <td>1.215167</td>\n",
       "      <td>0.391386</td>\n",
       "      <td>-0.820669</td>\n",
       "      <td>0.851257</td>\n",
       "      <td>0.783996</td>\n",
       "      <td>0</td>\n",
       "      <td>0</td>\n",
       "      <td>-1.400817</td>\n",
       "      <td>1.0</td>\n",
       "      <td>0.0</td>\n",
       "      <td>0.0</td>\n",
       "    </tr>\n",
       "    <tr>\n",
       "      <th>...</th>\n",
       "      <td>...</td>\n",
       "      <td>...</td>\n",
       "      <td>...</td>\n",
       "      <td>...</td>\n",
       "      <td>...</td>\n",
       "      <td>...</td>\n",
       "      <td>...</td>\n",
       "      <td>...</td>\n",
       "      <td>...</td>\n",
       "      <td>...</td>\n",
       "      <td>...</td>\n",
       "    </tr>\n",
       "    <tr>\n",
       "      <th>1467</th>\n",
       "      <td>-0.278049</td>\n",
       "      <td>-0.374255</td>\n",
       "      <td>-1.464078</td>\n",
       "      <td>1.669312</td>\n",
       "      <td>0.783996</td>\n",
       "      <td>1</td>\n",
       "      <td>0</td>\n",
       "      <td>1.116203</td>\n",
       "      <td>1.0</td>\n",
       "      <td>0.0</td>\n",
       "      <td>0.0</td>\n",
       "    </tr>\n",
       "    <tr>\n",
       "      <th>4644</th>\n",
       "      <td>0.634472</td>\n",
       "      <td>3.358242</td>\n",
       "      <td>-1.464078</td>\n",
       "      <td>-1.220584</td>\n",
       "      <td>0.783996</td>\n",
       "      <td>0</td>\n",
       "      <td>0</td>\n",
       "      <td>0.904262</td>\n",
       "      <td>0.0</td>\n",
       "      <td>1.0</td>\n",
       "      <td>1.0</td>\n",
       "    </tr>\n",
       "    <tr>\n",
       "      <th>8942</th>\n",
       "      <td>0.167842</td>\n",
       "      <td>-0.182844</td>\n",
       "      <td>1.431265</td>\n",
       "      <td>-0.069985</td>\n",
       "      <td>0.783996</td>\n",
       "      <td>1</td>\n",
       "      <td>1</td>\n",
       "      <td>-0.554165</td>\n",
       "      <td>0.0</td>\n",
       "      <td>0.0</td>\n",
       "      <td>0.0</td>\n",
       "    </tr>\n",
       "    <tr>\n",
       "      <th>2935</th>\n",
       "      <td>0.375233</td>\n",
       "      <td>-0.374255</td>\n",
       "      <td>1.109560</td>\n",
       "      <td>0.398055</td>\n",
       "      <td>0.783996</td>\n",
       "      <td>1</td>\n",
       "      <td>0</td>\n",
       "      <td>-1.346846</td>\n",
       "      <td>0.0</td>\n",
       "      <td>1.0</td>\n",
       "      <td>1.0</td>\n",
       "    </tr>\n",
       "    <tr>\n",
       "      <th>6206</th>\n",
       "      <td>1.567733</td>\n",
       "      <td>1.157026</td>\n",
       "      <td>0.787855</td>\n",
       "      <td>-1.220584</td>\n",
       "      <td>-0.919109</td>\n",
       "      <td>0</td>\n",
       "      <td>1</td>\n",
       "      <td>-1.022567</td>\n",
       "      <td>0.0</td>\n",
       "      <td>1.0</td>\n",
       "      <td>1.0</td>\n",
       "    </tr>\n",
       "  </tbody>\n",
       "</table>\n",
       "<p>6000 rows × 11 columns</p>\n",
       "</div>"
      ],
      "text/plain": [
       "      credit_score       age    tenure   balance  num_of_products  \\\n",
       "6851     -1.283897  0.008566  1.431265  0.330105         0.783996   \n",
       "7026      0.271537 -1.139895 -1.464078 -1.220584         0.783996   \n",
       "5705     -0.236571  0.104271  0.144445  1.692794         0.783996   \n",
       "9058     -1.874962  0.869911 -1.464078  1.032566        -0.919109   \n",
       "9415      1.215167  0.391386 -0.820669  0.851257         0.783996   \n",
       "...            ...       ...       ...       ...              ...   \n",
       "1467     -0.278049 -0.374255 -1.464078  1.669312         0.783996   \n",
       "4644      0.634472  3.358242 -1.464078 -1.220584         0.783996   \n",
       "8942      0.167842 -0.182844  1.431265 -0.069985         0.783996   \n",
       "2935      0.375233 -0.374255  1.109560  0.398055         0.783996   \n",
       "6206      1.567733  1.157026  0.787855 -1.220584        -0.919109   \n",
       "\n",
       "      has_credit_card  is_active_member  estimated_salary  geography_Germany  \\\n",
       "6851                1                 0         -0.084061                1.0   \n",
       "7026                0                 1          0.264021                0.0   \n",
       "5705                1                 1          0.515344                1.0   \n",
       "9058                1                 1          0.303842                0.0   \n",
       "9415                0                 0         -1.400817                1.0   \n",
       "...               ...               ...               ...                ...   \n",
       "1467                1                 0          1.116203                1.0   \n",
       "4644                0                 0          0.904262                0.0   \n",
       "8942                1                 1         -0.554165                0.0   \n",
       "2935                1                 0         -1.346846                0.0   \n",
       "6206                0                 1         -1.022567                0.0   \n",
       "\n",
       "      geography_Spain  gender_Male  \n",
       "6851              0.0          0.0  \n",
       "7026              0.0          0.0  \n",
       "5705              0.0          1.0  \n",
       "9058              1.0          0.0  \n",
       "9415              0.0          0.0  \n",
       "...               ...          ...  \n",
       "1467              0.0          0.0  \n",
       "4644              1.0          1.0  \n",
       "8942              0.0          0.0  \n",
       "2935              1.0          1.0  \n",
       "6206              1.0          1.0  \n",
       "\n",
       "[6000 rows x 11 columns]"
      ]
     },
     "execution_count": 27,
     "metadata": {},
     "output_type": "execute_result"
    }
   ],
   "source": [
    "features_ohe_train"
   ]
  },
  {
   "cell_type": "markdown",
   "metadata": {},
   "source": [
    "## Исследование задачи"
   ]
  },
  {
   "cell_type": "code",
   "execution_count": 28,
   "metadata": {},
   "outputs": [
    {
     "data": {
      "text/plain": [
       "0    7963\n",
       "1    2037\n",
       "Name: exited, dtype: int64"
      ]
     },
     "execution_count": 28,
     "metadata": {},
     "output_type": "execute_result"
    }
   ],
   "source": [
    "data['exited'].value_counts()"
   ]
  },
  {
   "cell_type": "markdown",
   "metadata": {},
   "source": [
    "В нашем датасете присутствует дисбаланс классов, пока ничего не будем с ним делать и попробуем обучить модели."
   ]
  },
  {
   "cell_type": "markdown",
   "metadata": {},
   "source": [
    "В проекте будем использовать три модели:\n",
    "- Decision Trees (Дерево решений)\n",
    "- Random Forest (Случайный лес)\n",
    "- Logistic Regression (Логическая регрессия)\n",
    "\n",
    "Сначала обучим данным с One Hot Encoder, т.к. они подходят для каждого из наших типов моделей. Затем протестируем деревянные модели на OrdinalEncoder и сравним результаты.\n",
    "\n",
    "Сравнения алгоритмов машинного обучения приведено для демонстрации работы с ними."
   ]
  },
  {
   "cell_type": "markdown",
   "metadata": {},
   "source": [
    "### Сравнение Decision Tree"
   ]
  },
  {
   "cell_type": "code",
   "execution_count": 29,
   "metadata": {
    "scrolled": true
   },
   "outputs": [
    {
     "name": "stderr",
     "output_type": "stream",
     "text": [
      "100%|████████████████████████████████████████████████████████████████████████████████| 100/100 [00:08<00:00, 12.42it/s]"
     ]
    },
    {
     "name": "stdout",
     "output_type": "stream",
     "text": [
      "Метрика f1 для лучшей модели равна 0.5927007299270073\n",
      "Модель: DecisionTreeClassifier(max_depth=8, random_state=42)\n",
      "Wall time: 8.07 s\n"
     ]
    },
    {
     "name": "stderr",
     "output_type": "stream",
     "text": [
      "\n"
     ]
    }
   ],
   "source": [
    "%%time\n",
    "# One Hot Encoder\n",
    "best_model_dtc = []\n",
    "best_f1 = 0\n",
    "for depth in tqdm(range(1, 101)):\n",
    "    model = DecisionTreeClassifier(max_depth=depth, random_state=42)\n",
    "    model.fit(features_ohe_train, target_ohe_train)\n",
    "    predicted_valid = model.predict(features_ohe_valid)\n",
    "    f1 = f1_score(target_ohe_valid, predicted_valid)\n",
    "    if f1 > best_f1:\n",
    "        best_f1 = f1\n",
    "        best_model_dtc = model\n",
    "print(f'Метрика f1 для лучшей модели равна {best_f1}\\n\\\n",
    "Модель: {best_model_dtc}')"
   ]
  },
  {
   "cell_type": "code",
   "execution_count": 30,
   "metadata": {
    "scrolled": true
   },
   "outputs": [
    {
     "name": "stderr",
     "output_type": "stream",
     "text": [
      "100%|████████████████████████████████████████████████████████████████████████████████| 100/100 [00:07<00:00, 13.65it/s]"
     ]
    },
    {
     "name": "stdout",
     "output_type": "stream",
     "text": [
      "Метрика f1 для лучшей модели равна 0.5832147937411095\n",
      "Модель: DecisionTreeClassifier(max_depth=9, random_state=42)\n",
      "Wall time: 7.34 s\n"
     ]
    },
    {
     "name": "stderr",
     "output_type": "stream",
     "text": [
      "\n"
     ]
    }
   ],
   "source": [
    "%%time\n",
    "#Ordinal Encoder\n",
    "best_model_dtc = []\n",
    "best_f1 = 0\n",
    "for depth in tqdm(range(1, 101)):\n",
    "    model = DecisionTreeClassifier(max_depth=depth, random_state=42)\n",
    "    model.fit(features_ord_train, target_ord_train)\n",
    "    predicted_valid = model.predict(features_ord_valid)\n",
    "    f1 = f1_score(target_ord_valid, predicted_valid)\n",
    "    if f1 > best_f1:\n",
    "        best_f1 = f1\n",
    "        best_model_dtc = model\n",
    "print(f'Метрика f1 для лучшей модели равна {best_f1}\\n\\\n",
    "Модель: {best_model_dtc}')"
   ]
  },
  {
   "cell_type": "markdown",
   "metadata": {},
   "source": [
    "### Сравнение Random Forest"
   ]
  },
  {
   "cell_type": "code",
   "execution_count": 31,
   "metadata": {},
   "outputs": [
    {
     "name": "stderr",
     "output_type": "stream",
     "text": [
      "100%|██████████████████████████████████████████████████████████████████████████████████| 30/30 [03:07<00:00,  6.25s/it]"
     ]
    },
    {
     "name": "stdout",
     "output_type": "stream",
     "text": [
      "Метрика f1 для лучшей модели равна 0.6202898550724638\n",
      "Модель: RandomForestClassifier(max_depth=24, n_estimators=41, random_state=42)\n",
      "Wall time: 3min 7s\n"
     ]
    },
    {
     "name": "stderr",
     "output_type": "stream",
     "text": [
      "\n"
     ]
    }
   ],
   "source": [
    "%%time\n",
    "#One Hot Encoder\n",
    "best_model_rf = []\n",
    "best_f1 = 0\n",
    "for depth in tqdm(range(1, 31)):\n",
    "    for est in range(1, 101, 10):\n",
    "        model = RandomForestClassifier(random_state=42, n_estimators=est, max_depth=depth)\n",
    "        model.fit(features_ohe_train, target_ohe_train)\n",
    "        predicted_valid = model.predict(features_ohe_valid)\n",
    "        f1 = f1_score(target_ohe_valid, predicted_valid)\n",
    "        if f1 > best_f1:\n",
    "            best_f1 = f1\n",
    "            best_model_rf = model\n",
    "print(f'Метрика f1 для лучшей модели равна {best_f1}\\n\\\n",
    "Модель: {best_model_rf}')"
   ]
  },
  {
   "cell_type": "code",
   "execution_count": 32,
   "metadata": {
    "scrolled": true
   },
   "outputs": [
    {
     "name": "stderr",
     "output_type": "stream",
     "text": [
      "100%|██████████████████████████████████████████████████████████████████████████████████| 30/30 [03:09<00:00,  6.30s/it]"
     ]
    },
    {
     "name": "stdout",
     "output_type": "stream",
     "text": [
      "Метрика f1 для лучшей модели равна 0.6035502958579881\n",
      "Модель: RandomForestClassifier(max_depth=16, n_estimators=91, random_state=42)\n",
      "Wall time: 3min 9s\n"
     ]
    },
    {
     "name": "stderr",
     "output_type": "stream",
     "text": [
      "\n"
     ]
    }
   ],
   "source": [
    "%%time\n",
    "#Ordinal Encoder\n",
    "best_model_rf = []\n",
    "best_f1 = 0\n",
    "for depth in tqdm(range(1, 31)):\n",
    "    for est in range(1, 101, 10):\n",
    "        model = RandomForestClassifier(random_state=42, n_estimators=est, max_depth=depth)\n",
    "        model.fit(features_ord_train, target_ord_train)\n",
    "        predicted_valid = model.predict(features_ord_valid)\n",
    "        f1 = f1_score(target_ord_valid, predicted_valid)\n",
    "        if f1 > best_f1:\n",
    "            best_f1 = f1\n",
    "            best_model_rf = model\n",
    "print(f'Метрика f1 для лучшей модели равна {best_f1}\\n\\\n",
    "Модель: {best_model_rf}')"
   ]
  },
  {
   "cell_type": "markdown",
   "metadata": {},
   "source": [
    "### Логистическая регрессия"
   ]
  },
  {
   "cell_type": "code",
   "execution_count": 33,
   "metadata": {},
   "outputs": [
    {
     "name": "stdout",
     "output_type": "stream",
     "text": [
      "Метрика F1 для модели логистической регрессии равна 0.32792792792792796\n",
      "Wall time: 64 ms\n"
     ]
    }
   ],
   "source": [
    "%%time\n",
    "model_logr = LogisticRegression(random_state=42, solver='liblinear')\n",
    "model_logr.fit(features_ohe_train, target_ohe_train)\n",
    "predicted_valid = model_logr.predict(features_ohe_valid)\n",
    "print(f'Метрика F1 для модели логистической регрессии равна {f1_score(target_ohe_valid, predicted_valid)}')"
   ]
  },
  {
   "cell_type": "markdown",
   "metadata": {},
   "source": [
    "**Вывод**\n",
    "\n",
    "С учётом дисбаланса классов самую высокую метрику F1 показала модель *Random Forest*, кодированная с помощью *One Hot Encoder*,  с параметрами: *max_depth=15, n_estimators=31*, **метрика F1 равна 0.5714285714285715**"
   ]
  },
  {
   "cell_type": "markdown",
   "metadata": {},
   "source": [
    "## Борьба с дисбалансом"
   ]
  },
  {
   "cell_type": "markdown",
   "metadata": {},
   "source": [
    "Для борьбы с дисбалансом классов будем использовать 3 метода:\n",
    "\n",
    "- Взвешивание классов, class_weight='balanced'\n",
    "- Увеличение выборки\n",
    "- Уменьшение выборки"
   ]
  },
  {
   "cell_type": "markdown",
   "metadata": {},
   "source": [
    "### Взвешивание классов"
   ]
  },
  {
   "cell_type": "markdown",
   "metadata": {},
   "source": [
    "#### Сравнение Decision Tree"
   ]
  },
  {
   "cell_type": "code",
   "execution_count": 34,
   "metadata": {
    "scrolled": true
   },
   "outputs": [
    {
     "name": "stderr",
     "output_type": "stream",
     "text": [
      "100%|████████████████████████████████████████████████████████████████████████████████| 100/100 [00:07<00:00, 13.78it/s]"
     ]
    },
    {
     "name": "stdout",
     "output_type": "stream",
     "text": [
      "Метрика f1 для лучшей модели равна 0.5744125326370757\n",
      "Модель: DecisionTreeClassifier(class_weight='balanced', max_depth=6, random_state=42)\n",
      "AUC-ROC: 0.8459723556508031\n",
      "Wall time: 7.27 s\n"
     ]
    },
    {
     "name": "stderr",
     "output_type": "stream",
     "text": [
      "\n"
     ]
    }
   ],
   "source": [
    "%%time\n",
    "# One Hot Encoder\n",
    "best_model_dtc = []\n",
    "best_f1 = 0\n",
    "best_auc_roc = 0\n",
    "for depth in tqdm(range(1, 101)):\n",
    "    model = DecisionTreeClassifier(max_depth=depth, random_state=42, class_weight='balanced')\n",
    "    model.fit(features_ohe_train, target_ohe_train)\n",
    "    predicted_valid = model.predict(features_ohe_valid)\n",
    "    f1 = f1_score(target_ohe_valid, predicted_valid)\n",
    "    probabilities_valid = model.predict_proba(features_ohe_valid)[:, 1]\n",
    "    auc_roc = roc_auc_score(target_ohe_valid, probabilities_valid)\n",
    "    if f1 > best_f1:\n",
    "        best_f1 = f1\n",
    "        best_model_dtc = model\n",
    "        best_auc_roc = auc_roc\n",
    "print(f'Метрика f1 для лучшей модели равна {best_f1}\\n\\\n",
    "Модель: {best_model_dtc}\\n\\\n",
    "AUC-ROC: {best_auc_roc}')"
   ]
  },
  {
   "cell_type": "code",
   "execution_count": 35,
   "metadata": {
    "scrolled": true
   },
   "outputs": [
    {
     "name": "stderr",
     "output_type": "stream",
     "text": [
      "100%|████████████████████████████████████████████████████████████████████████████████| 100/100 [00:07<00:00, 14.20it/s]"
     ]
    },
    {
     "name": "stdout",
     "output_type": "stream",
     "text": [
      "Метрика f1 для лучшей модели равна 0.617989417989418\n",
      "Модель: DecisionTreeClassifier(class_weight='balanced', max_depth=5, random_state=42)\n",
      "AUC-ROC: 0.8427361993792493\n",
      "Wall time: 7.05 s\n"
     ]
    },
    {
     "name": "stderr",
     "output_type": "stream",
     "text": [
      "\n"
     ]
    }
   ],
   "source": [
    "%%time\n",
    "#Ordinal Encoder\n",
    "best_model_dtc = []\n",
    "best_f1 = 0\n",
    "best_auc_roc = 0\n",
    "for depth in tqdm(range(1, 101)):\n",
    "    model = DecisionTreeClassifier(max_depth=depth, random_state=42, class_weight='balanced')\n",
    "    model.fit(features_ord_train, target_ord_train)\n",
    "    predicted_valid = model.predict(features_ord_valid)\n",
    "    f1 = f1_score(target_ord_valid, predicted_valid)\n",
    "    probabilities_valid = model.predict_proba(features_ord_valid)[:, 1]\n",
    "    auc_roc = roc_auc_score(target_ord_valid, probabilities_valid)\n",
    "    if f1 > best_f1:\n",
    "        best_f1 = f1\n",
    "        best_model_dtc = model\n",
    "        best_auc_roc = auc_roc\n",
    "print(f'Метрика f1 для лучшей модели равна {best_f1}\\n\\\n",
    "Модель: {best_model_dtc}\\n\\\n",
    "AUC-ROC: {best_auc_roc}')"
   ]
  },
  {
   "cell_type": "markdown",
   "metadata": {},
   "source": [
    "#### Сравнение Random Forest"
   ]
  },
  {
   "cell_type": "code",
   "execution_count": 36,
   "metadata": {},
   "outputs": [
    {
     "name": "stderr",
     "output_type": "stream",
     "text": [
      "100%|██████████████████████████████████████████████████████████████████████████████████| 30/30 [03:21<00:00,  6.72s/it]"
     ]
    },
    {
     "name": "stdout",
     "output_type": "stream",
     "text": [
      "Метрика f1 для лучшей модели равна 0.6273584905660378\n",
      "Модель: RandomForestClassifier(class_weight='balanced', max_depth=10, n_estimators=61,\n",
      "                       random_state=42)\n",
      "AUC-ROC: 0.8691573677209578\n",
      "Wall time: 3min 21s\n"
     ]
    },
    {
     "name": "stderr",
     "output_type": "stream",
     "text": [
      "\n"
     ]
    }
   ],
   "source": [
    "%%time\n",
    "#One Hot Encoder\n",
    "best_model_rf = []\n",
    "best_f1 = 0\n",
    "best_auc_roc = 0\n",
    "for depth in tqdm(range(1, 31)):\n",
    "    for est in range(1, 101, 10):\n",
    "        model = RandomForestClassifier(random_state=42, n_estimators=est, max_depth=depth, class_weight='balanced')\n",
    "        model.fit(features_ohe_train, target_ohe_train)\n",
    "        predicted_valid = model.predict(features_ohe_valid)\n",
    "        f1 = f1_score(target_ohe_valid, predicted_valid)\n",
    "        probabilities_valid = model.predict_proba(features_ohe_valid)[:, 1]\n",
    "        auc_roc = roc_auc_score(target_ohe_valid, probabilities_valid)\n",
    "        if f1 > best_f1:\n",
    "            best_f1 = f1\n",
    "            best_model_rf = model\n",
    "            best_auc_roc = auc_roc\n",
    "print(f'Метрика f1 для лучшей модели равна {best_f1}\\n\\\n",
    "Модель: {best_model_rf}\\n\\\n",
    "AUC-ROC: {best_auc_roc}')"
   ]
  },
  {
   "cell_type": "code",
   "execution_count": 37,
   "metadata": {
    "scrolled": true
   },
   "outputs": [
    {
     "name": "stderr",
     "output_type": "stream",
     "text": [
      "100%|██████████████████████████████████████████████████████████████████████████████████| 30/30 [03:29<00:00,  6.99s/it]"
     ]
    },
    {
     "name": "stdout",
     "output_type": "stream",
     "text": [
      "Метрика f1 для лучшей модели равна 0.6210268948655256\n",
      "Модель: RandomForestClassifier(class_weight='balanced', max_depth=11, n_estimators=41,\n",
      "                       random_state=42)\n",
      "AUC-ROC: 0.8634024903931421\n",
      "Wall time: 3min 29s\n"
     ]
    },
    {
     "name": "stderr",
     "output_type": "stream",
     "text": [
      "\n"
     ]
    }
   ],
   "source": [
    "%%time\n",
    "#Ordinal Encoder\n",
    "best_model_rf = []\n",
    "best_f1 = 0\n",
    "best_auc_roc = 0\n",
    "for depth in tqdm(range(1, 31)):\n",
    "    for est in range(1, 101, 10):\n",
    "        model = RandomForestClassifier(random_state=42, n_estimators=est, max_depth=depth, class_weight='balanced')\n",
    "        model.fit(features_ord_train, target_ord_train)\n",
    "        predicted_valid = model.predict(features_ord_valid)\n",
    "        f1 = f1_score(target_ord_valid, predicted_valid)\n",
    "        probabilities_valid = model.predict_proba(features_ord_valid)[:, 1]\n",
    "        auc_roc = roc_auc_score(target_ord_valid, probabilities_valid)\n",
    "        if f1 > best_f1:\n",
    "            best_f1 = f1\n",
    "            best_model_rf = model\n",
    "            best_auc_roc = auc_roc\n",
    "print(f'Метрика f1 для лучшей модели равна {best_f1}\\n\\\n",
    "Модель: {best_model_rf}\\n\\\n",
    "AUC-ROC: {best_auc_roc}')"
   ]
  },
  {
   "cell_type": "markdown",
   "metadata": {},
   "source": [
    "#### Логистическая регрессия"
   ]
  },
  {
   "cell_type": "code",
   "execution_count": 38,
   "metadata": {},
   "outputs": [
    {
     "name": "stdout",
     "output_type": "stream",
     "text": [
      "Метрика F1 для модели логистической регрессии равна 0.5213675213675214\n",
      "AUC-ROC: 0.7938097349492561\n",
      "Wall time: 64 ms\n"
     ]
    }
   ],
   "source": [
    "%%time\n",
    "model_logr = LogisticRegression(random_state=42, solver='liblinear', class_weight='balanced')\n",
    "model_logr.fit(features_ohe_train, target_ohe_train)\n",
    "predicted_valid = model_logr.predict(features_ohe_valid)\n",
    "probabilities_valid = model_logr.predict_proba(features_ohe_valid)[:, 1]\n",
    "auc_roc = roc_auc_score(target_ohe_valid, probabilities_valid)\n",
    "print(f'Метрика F1 для модели логистической регрессии равна {f1_score(target_ohe_valid, predicted_valid)}\\n\\\n",
    "AUC-ROC: {auc_roc}')"
   ]
  },
  {
   "cell_type": "markdown",
   "metadata": {},
   "source": [
    "**Выводы**\n",
    "\n",
    "*После применения взвешивания классов показатели F1 для всех моделей улучшились*.\n",
    "\n",
    "Лучше всего себя показала модель *Random Forest*, кодированная с помощью *One Hot Encoder*,  с параметрами: *class_weight='balanced', max_depth=11, n_estimators=71*, **метрика F1 равна 0.576551724137931**, AUC-ROC: 0.8381676413255361"
   ]
  },
  {
   "cell_type": "markdown",
   "metadata": {},
   "source": [
    "### Увеличение выборки "
   ]
  },
  {
   "cell_type": "code",
   "execution_count": 39,
   "metadata": {},
   "outputs": [
    {
     "data": {
      "text/plain": [
       "4"
      ]
     },
     "execution_count": 39,
     "metadata": {},
     "output_type": "execute_result"
    }
   ],
   "source": [
    "#отношение количeства строк с 0 к 1\n",
    "repeat = len(data[data['exited'] == 0]) // len(data[data['exited'] == 1]) + 1\n",
    "repeat"
   ]
  },
  {
   "cell_type": "code",
   "execution_count": 40,
   "metadata": {},
   "outputs": [],
   "source": [
    "def upsample(features, target, repeat):\n",
    "    features_zeros = features[target == 0]\n",
    "    features_ones = features[target == 1]\n",
    "    target_zeros = target[target == 0]\n",
    "    target_ones = target[target == 1]\n",
    "\n",
    "    features_upsampled = pd.concat([features_zeros] + [features_ones] * repeat)\n",
    "    target_upsampled = pd.concat([target_zeros] + [target_ones] * repeat)\n",
    "    \n",
    "    features_upsampled, target_upsampled = shuffle(\n",
    "        features_upsampled, target_upsampled, random_state=12345)\n",
    "    \n",
    "    return features_upsampled, target_upsampled"
   ]
  },
  {
   "cell_type": "code",
   "execution_count": 41,
   "metadata": {},
   "outputs": [],
   "source": [
    "features_ohe_upsampled, target_ohe_upsampled = upsample(features_ohe_train, target_ohe_train, repeat)\n",
    "features_ord_upsampled, target_ord_upsampled = upsample(features_ord_train, target_ord_train, repeat)"
   ]
  },
  {
   "cell_type": "markdown",
   "metadata": {},
   "source": [
    "#### Сравнение Decision Tree"
   ]
  },
  {
   "cell_type": "code",
   "execution_count": 42,
   "metadata": {
    "scrolled": true
   },
   "outputs": [
    {
     "name": "stderr",
     "output_type": "stream",
     "text": [
      "100%|████████████████████████████████████████████████████████████████████████████████| 100/100 [00:09<00:00, 11.11it/s]"
     ]
    },
    {
     "name": "stdout",
     "output_type": "stream",
     "text": [
      "Метрика f1 для лучшей модели равна 0.5739130434782608\n",
      "Модель: DecisionTreeClassifier(max_depth=6, random_state=42)\n",
      "AUC-ROC: 0.8453657687949552\n",
      "Wall time: 9 s\n"
     ]
    },
    {
     "name": "stderr",
     "output_type": "stream",
     "text": [
      "\n"
     ]
    }
   ],
   "source": [
    "%%time\n",
    "# One Hot Encoder\n",
    "best_model_dtc = []\n",
    "best_f1 = 0\n",
    "best_auc_roc = 0\n",
    "for depth in tqdm(range(1, 101)):\n",
    "    model = DecisionTreeClassifier(max_depth=depth, random_state=42)\n",
    "    model.fit(features_ohe_upsampled, target_ohe_upsampled)\n",
    "    predicted_valid = model.predict(features_ohe_valid)\n",
    "    f1 = f1_score(target_ohe_valid, predicted_valid)\n",
    "    probabilities_valid = model.predict_proba(features_ohe_valid)[:, 1]\n",
    "    auc_roc = roc_auc_score(target_ohe_valid, probabilities_valid)\n",
    "    if f1 > best_f1:\n",
    "        best_f1 = f1\n",
    "        best_model_dtc = model\n",
    "        best_auc_roc = auc_roc\n",
    "print(f'Метрика f1 для лучшей модели равна {best_f1}\\n\\\n",
    "Модель: {best_model_dtc}\\n\\\n",
    "AUC-ROC: {best_auc_roc}')"
   ]
  },
  {
   "cell_type": "code",
   "execution_count": 43,
   "metadata": {
    "scrolled": true
   },
   "outputs": [
    {
     "name": "stderr",
     "output_type": "stream",
     "text": [
      "100%|████████████████████████████████████████████████████████████████████████████████| 100/100 [00:08<00:00, 11.22it/s]"
     ]
    },
    {
     "name": "stdout",
     "output_type": "stream",
     "text": [
      "Метрика f1 для лучшей модели равна 0.617989417989418\n",
      "Модель: DecisionTreeClassifier(max_depth=5, random_state=42)\n",
      "AUC-ROC: 0.8427361993792493\n",
      "Wall time: 8.91 s\n"
     ]
    },
    {
     "name": "stderr",
     "output_type": "stream",
     "text": [
      "\n"
     ]
    }
   ],
   "source": [
    "%%time\n",
    "#Ordinal Encoder\n",
    "best_model_dtc = []\n",
    "best_f1 = 0\n",
    "best_auc_roc = 0\n",
    "for depth in tqdm(range(1, 101)):\n",
    "    model = DecisionTreeClassifier(max_depth=depth, random_state=42)\n",
    "    model.fit(features_ord_upsampled, target_ord_upsampled)\n",
    "    predicted_valid = model.predict(features_ord_valid)\n",
    "    f1 = f1_score(target_ord_valid, predicted_valid)\n",
    "    probabilities_valid = model.predict_proba(features_ord_valid)[:, 1]\n",
    "    auc_roc = roc_auc_score(target_ord_valid, probabilities_valid)\n",
    "    if f1 > best_f1:\n",
    "        best_f1 = f1\n",
    "        best_model_dtc = model\n",
    "        best_auc_roc = auc_roc\n",
    "print(f'Метрика f1 для лучшей модели равна {best_f1}\\n\\\n",
    "Модель: {best_model_dtc}\\n\\\n",
    "AUC-ROC: {best_auc_roc}')"
   ]
  },
  {
   "cell_type": "markdown",
   "metadata": {},
   "source": [
    "#### Сравнение Random Forest"
   ]
  },
  {
   "cell_type": "code",
   "execution_count": 57,
   "metadata": {},
   "outputs": [
    {
     "name": "stderr",
     "output_type": "stream",
     "text": [
      "100%|██████████████████████████████████████████████████████████████████████████████████| 30/30 [02:59<00:00,  5.99s/it]"
     ]
    },
    {
     "name": "stdout",
     "output_type": "stream",
     "text": [
      "Метрика f1 для лучшей модели равна 0.6356756756756756\n",
      "Модель: RandomForestClassifier(max_depth=10, n_estimators=31, random_state=42)\n",
      "AUC-ROC: 0.8657056729727066\n",
      "Wall time: 2min 59s\n"
     ]
    },
    {
     "name": "stderr",
     "output_type": "stream",
     "text": [
      "\n"
     ]
    }
   ],
   "source": [
    "%%time\n",
    "#One Hot Encoder\n",
    "best_model_rf_up = []\n",
    "best_f1 = 0\n",
    "best_auc_roc = 0\n",
    "for depth in tqdm(range(1, 31)):\n",
    "    for est in range(1, 101, 10):\n",
    "        model = RandomForestClassifier(random_state=42, n_estimators=est, max_depth=depth)\n",
    "        model.fit(features_ohe_upsampled, target_ohe_upsampled)\n",
    "        predicted_valid = model.predict(features_ohe_valid)\n",
    "        f1 = f1_score(target_ohe_valid, predicted_valid)\n",
    "        probabilities_valid = model.predict_proba(features_ohe_valid)[:, 1]\n",
    "        auc_roc = roc_auc_score(target_ohe_valid, probabilities_valid)\n",
    "        if f1 > best_f1:\n",
    "            best_f1 = f1\n",
    "            best_model_rf_up = model\n",
    "            best_auc_roc = auc_roc\n",
    "print(f'Метрика f1 для лучшей модели равна {best_f1}\\n\\\n",
    "Модель: {best_model_rf_up}\\n\\\n",
    "AUC-ROC: {best_auc_roc}')"
   ]
  },
  {
   "cell_type": "code",
   "execution_count": 45,
   "metadata": {
    "scrolled": true
   },
   "outputs": [
    {
     "name": "stderr",
     "output_type": "stream",
     "text": [
      "100%|██████████████████████████████████████████████████████████████████████████████████| 30/30 [03:59<00:00,  7.98s/it]"
     ]
    },
    {
     "name": "stdout",
     "output_type": "stream",
     "text": [
      "Метрика f1 для лучшей модели равна 0.6215316315205327\n",
      "Модель: RandomForestClassifier(max_depth=11, n_estimators=81, random_state=42)\n",
      "AUC-ROC: 0.8646633904818208\n",
      "Wall time: 3min 59s\n"
     ]
    },
    {
     "name": "stderr",
     "output_type": "stream",
     "text": [
      "\n"
     ]
    }
   ],
   "source": [
    "%%time\n",
    "#Ordinal Encoder\n",
    "best_model_rf = []\n",
    "best_f1 = 0\n",
    "best_auc_roc = 0\n",
    "for depth in tqdm(range(1, 31)):\n",
    "    for est in range(1, 101, 10):\n",
    "        model = RandomForestClassifier(random_state=42, n_estimators=est, max_depth=depth)\n",
    "        model.fit(features_ord_upsampled, target_ord_upsampled)\n",
    "        predicted_valid = model.predict(features_ord_valid)\n",
    "        f1 = f1_score(target_ord_valid, predicted_valid)\n",
    "        probabilities_valid = model.predict_proba(features_ord_valid)[:, 1]\n",
    "        auc_roc = roc_auc_score(target_ord_valid, probabilities_valid)\n",
    "        if f1 > best_f1:\n",
    "            best_f1 = f1\n",
    "            best_model_rf = model\n",
    "            best_auc_roc = auc_roc\n",
    "print(f'Метрика f1 для лучшей модели равна {best_f1}\\n\\\n",
    "Модель: {best_model_rf}\\n\\\n",
    "AUC-ROC: {best_auc_roc}')"
   ]
  },
  {
   "cell_type": "markdown",
   "metadata": {},
   "source": [
    "#### Логистическая регрессия"
   ]
  },
  {
   "cell_type": "code",
   "execution_count": 46,
   "metadata": {},
   "outputs": [
    {
     "name": "stdout",
     "output_type": "stream",
     "text": [
      "Метрика F1 для модели логистической регрессии равна 0.521079258010118\n",
      "AUC-ROC: 0.7938466844024041\n",
      "Wall time: 69 ms\n"
     ]
    }
   ],
   "source": [
    "%%time\n",
    "model_logr = LogisticRegression(random_state=42, solver='liblinear')\n",
    "model_logr.fit(features_ohe_upsampled, target_ohe_upsampled)\n",
    "predicted_valid = model_logr.predict(features_ohe_valid)\n",
    "probabilities_valid = model_logr.predict_proba(features_ohe_valid)[:, 1]\n",
    "auc_roc = roc_auc_score(target_ohe_valid, probabilities_valid)\n",
    "print(f'Метрика F1 для модели логистической регрессии равна {f1_score(target_ohe_valid, predicted_valid)}\\n\\\n",
    "AUC-ROC: {auc_roc}')"
   ]
  },
  {
   "cell_type": "markdown",
   "metadata": {},
   "source": [
    "**Выводы**\n",
    "\n",
    "*После увеличения выборки показатели F1 для всех моделей улучшились, даже по сравнению с выборкой взвешенных классов*.\n",
    "\n",
    "Лучше всего себя показала модель *Random Forest*, кодированная с помощью *Ordinal Encoder*,  с параметрами: *max_depth=13, n_estimators=51*, **метрика F1 равна 0.5910931174089069**, AUC-ROC: 0.8368234243014945"
   ]
  },
  {
   "cell_type": "markdown",
   "metadata": {},
   "source": [
    "### Уменьшение выборки "
   ]
  },
  {
   "cell_type": "code",
   "execution_count": 47,
   "metadata": {},
   "outputs": [],
   "source": [
    "def downsample(features, target, fraction):\n",
    "    features_zeros = features[target == 0]\n",
    "    features_ones = features[target == 1]\n",
    "    target_zeros = target[target == 0]\n",
    "    target_ones = target[target == 1]\n",
    "\n",
    "    features_downsampled = pd.concat(\n",
    "        [features_zeros.sample(frac=fraction, random_state=12345)] + [features_ones])\n",
    "    target_downsampled = pd.concat(\n",
    "        [target_zeros.sample(frac=fraction, random_state=12345)] + [target_ones])\n",
    "    \n",
    "    features_downsampled, target_downsampled = shuffle(\n",
    "        features_downsampled, target_downsampled, random_state=12345)\n",
    "    \n",
    "    return features_downsampled, target_downsampled"
   ]
  },
  {
   "cell_type": "code",
   "execution_count": 48,
   "metadata": {},
   "outputs": [],
   "source": [
    "features_ohe_downsampled, target_ohe_downsampled = downsample(features_ohe_train, target_ohe_train, 0.4)\n",
    "features_ord_downsampled, target_ord_downsampled = downsample(features_ord_train, target_ord_train, 0.4)"
   ]
  },
  {
   "cell_type": "markdown",
   "metadata": {},
   "source": [
    "#### Сравнение Decision Tree"
   ]
  },
  {
   "cell_type": "code",
   "execution_count": 49,
   "metadata": {
    "scrolled": true
   },
   "outputs": [
    {
     "name": "stderr",
     "output_type": "stream",
     "text": [
      "100%|████████████████████████████████████████████████████████████████████████████████| 100/100 [00:02<00:00, 36.47it/s]"
     ]
    },
    {
     "name": "stdout",
     "output_type": "stream",
     "text": [
      "Метрика f1 для лучшей модели равна 0.6047966631908237\n",
      "Модель: DecisionTreeClassifier(max_depth=6, random_state=42)\n",
      "AUC-ROC: 0.8451456116366145\n",
      "Wall time: 2.74 s\n"
     ]
    },
    {
     "name": "stderr",
     "output_type": "stream",
     "text": [
      "\n"
     ]
    }
   ],
   "source": [
    "%%time\n",
    "# One Hot Encoder\n",
    "best_model_dtc = []\n",
    "best_f1 = 0\n",
    "best_auc_roc = 0\n",
    "\n",
    "for depth in tqdm(range(1, 101)):\n",
    "    model = DecisionTreeClassifier(max_depth=depth, random_state=42)\n",
    "    model.fit(features_ohe_downsampled, target_ohe_downsampled)\n",
    "    predicted_valid = model.predict(features_ohe_valid)\n",
    "    f1 = f1_score(target_ohe_valid, predicted_valid)\n",
    "    probabilities_valid = model.predict_proba(features_ohe_valid)[:, 1]\n",
    "    auc_roc = roc_auc_score(target_ohe_valid, probabilities_valid)\n",
    "    if f1 > best_f1:\n",
    "        best_f1 = f1\n",
    "        best_model_dtc = model\n",
    "        best_auc_roc = auc_roc\n",
    "print(f'Метрика f1 для лучшей модели равна {best_f1}\\n\\\n",
    "Модель: {best_model_dtc}\\n\\\n",
    "AUC-ROC: {best_auc_roc}')"
   ]
  },
  {
   "cell_type": "code",
   "execution_count": 50,
   "metadata": {
    "scrolled": true
   },
   "outputs": [
    {
     "name": "stderr",
     "output_type": "stream",
     "text": [
      "100%|████████████████████████████████████████████████████████████████████████████████| 100/100 [00:02<00:00, 36.66it/s]"
     ]
    },
    {
     "name": "stdout",
     "output_type": "stream",
     "text": [
      "Метрика f1 для лучшей модели равна 0.5856481481481481\n",
      "Модель: DecisionTreeClassifier(max_depth=5, random_state=42)\n",
      "AUC-ROC: 0.8252975970538969\n",
      "Wall time: 2.73 s\n"
     ]
    },
    {
     "name": "stderr",
     "output_type": "stream",
     "text": [
      "\n"
     ]
    }
   ],
   "source": [
    "%%time\n",
    "#Ordinal Encoder\n",
    "best_model_dtc = []\n",
    "best_f1 = 0\n",
    "best_auc_roc = 0\n",
    "\n",
    "for depth in tqdm(range(1, 101)):\n",
    "    model = DecisionTreeClassifier(max_depth=depth, random_state=42)\n",
    "    model.fit(features_ord_downsampled, target_ord_downsampled)\n",
    "    predicted_valid = model.predict(features_ord_valid)\n",
    "    f1 = f1_score(target_ord_valid, predicted_valid)\n",
    "    probabilities_valid = model.predict_proba(features_ord_valid)[:, 1]\n",
    "    auc_roc = roc_auc_score(target_ord_valid, probabilities_valid)\n",
    "    if f1 > best_f1:\n",
    "        best_f1 = f1\n",
    "        best_model_dtc = model\n",
    "        best_auc_roc = auc_roc\n",
    "print(f'Метрика f1 для лучшей модели равна {best_f1}\\n\\\n",
    "Модель: {best_model_dtc}\\n\\\n",
    "AUC-ROC: {best_auc_roc}')"
   ]
  },
  {
   "cell_type": "markdown",
   "metadata": {},
   "source": [
    "#### Сравнение Random Forest"
   ]
  },
  {
   "cell_type": "code",
   "execution_count": 59,
   "metadata": {},
   "outputs": [
    {
     "name": "stderr",
     "output_type": "stream",
     "text": [
      "100%|██████████████████████████████████████████████████████████████████████████████████| 30/30 [01:22<00:00,  2.76s/it]"
     ]
    },
    {
     "name": "stdout",
     "output_type": "stream",
     "text": [
      "Метрика f1 для лучшей модели равна 0.6444444444444445\n",
      "Модель: RandomForestClassifier(max_depth=6, n_estimators=61, random_state=42)\n",
      "AUC-ROC: 0.8759298945708938\n",
      "Wall time: 1min 22s\n"
     ]
    },
    {
     "name": "stderr",
     "output_type": "stream",
     "text": [
      "\n"
     ]
    }
   ],
   "source": [
    "%%time\n",
    "#One Hot Encoder\n",
    "best_model_rf_dn = []\n",
    "best_f1 = 0\n",
    "best_auc_roc = 0\n",
    "for depth in tqdm(range(1, 31)):\n",
    "    for est in range(1, 101, 10):\n",
    "        model = RandomForestClassifier(random_state=42, n_estimators=est, max_depth=depth)\n",
    "        model.fit(features_ohe_downsampled, target_ohe_downsampled)\n",
    "        predicted_valid = model.predict(features_ohe_valid)\n",
    "        f1 = f1_score(target_ohe_valid, predicted_valid)\n",
    "        probabilities_valid = model.predict_proba(features_ohe_valid)[:, 1]\n",
    "        auc_roc = roc_auc_score(target_ohe_valid, probabilities_valid)\n",
    "        if f1 > best_f1:\n",
    "            best_f1 = f1\n",
    "            best_model_rf_dn = model\n",
    "            best_auc_roc = auc_roc\n",
    "print(f'Метрика f1 для лучшей модели равна {best_f1}\\n\\\n",
    "Модель: {best_model_rf_dn}\\n\\\n",
    "AUC-ROC: {best_auc_roc}')"
   ]
  },
  {
   "cell_type": "code",
   "execution_count": 52,
   "metadata": {
    "scrolled": true
   },
   "outputs": [
    {
     "name": "stderr",
     "output_type": "stream",
     "text": [
      "100%|██████████████████████████████████████████████████████████████████████████████████| 30/30 [01:24<00:00,  2.81s/it]"
     ]
    },
    {
     "name": "stdout",
     "output_type": "stream",
     "text": [
      "Метрика f1 для лучшей модели равна 0.631979695431472\n",
      "Модель: RandomForestClassifier(max_depth=5, n_estimators=41, random_state=42)\n",
      "AUC-ROC: 0.866885746132624\n",
      "Wall time: 1min 24s\n"
     ]
    },
    {
     "name": "stderr",
     "output_type": "stream",
     "text": [
      "\n"
     ]
    }
   ],
   "source": [
    "%%time\n",
    "#Ordinal Encoder\n",
    "best_model_rf = []\n",
    "best_f1 = 0\n",
    "best_auc_roc = 0\n",
    "for depth in tqdm(range(1, 31)):\n",
    "    for est in range(1, 101, 10):\n",
    "        model = RandomForestClassifier(random_state=42, n_estimators=est, max_depth=depth)\n",
    "        model.fit(features_ord_downsampled, target_ord_downsampled)\n",
    "        predicted_valid = model.predict(features_ord_valid)\n",
    "        f1 = f1_score(target_ord_valid, predicted_valid)\n",
    "        probabilities_valid = model.predict_proba(features_ord_valid)[:, 1]\n",
    "        auc_roc = roc_auc_score(target_ord_valid, probabilities_valid)\n",
    "        if f1 > best_f1:\n",
    "            best_f1 = f1\n",
    "            best_model_rf = model\n",
    "            best_auc_roc = auc_roc\n",
    "print(f'Метрика f1 для лучшей модели равна {best_f1}\\n\\\n",
    "Модель: {best_model_rf}\\n\\\n",
    "AUC-ROC: {best_auc_roc}')"
   ]
  },
  {
   "cell_type": "markdown",
   "metadata": {},
   "source": [
    "#### Логистическая регрессия"
   ]
  },
  {
   "cell_type": "code",
   "execution_count": 53,
   "metadata": {},
   "outputs": [
    {
     "name": "stdout",
     "output_type": "stream",
     "text": [
      "Метрика F1 для модели логистической регрессии равна 0.5265536723163842\n",
      "AUC-ROC: 0.792599640358656\n",
      "Wall time: 70 ms\n"
     ]
    }
   ],
   "source": [
    "%%time\n",
    "model_logr = LogisticRegression(random_state=42, solver='liblinear')\n",
    "model_logr.fit(features_ohe_downsampled, target_ohe_downsampled)\n",
    "predicted_valid = model_logr.predict(features_ohe_valid)\n",
    "probabilities_valid = model_logr.predict_proba(features_ohe_valid)[:, 1]\n",
    "auc_roc = roc_auc_score(target_ohe_valid, probabilities_valid)\n",
    "print(f'Метрика F1 для модели логистической регрессии равна {f1_score(target_ohe_valid, predicted_valid)}\\n\\\n",
    "AUC-ROC: {auc_roc}')"
   ]
  },
  {
   "cell_type": "markdown",
   "metadata": {},
   "source": [
    "**Выводы**\n",
    "\n",
    "*После уменьшения выборок показатели F1 немного уменьшились, по сравнению с показателями на увеличенной выборке.\n",
    "\n",
    "Лучше всего себя показала модель *Random Forest*, кодированная с помощью *One Hot Encoder*,  с параметрами: *max_depth=10, n_estimators=31*, **метрика F1 равна 0.5747863247863247**, AUC-ROC: 0.8411427875243664"
   ]
  },
  {
   "cell_type": "markdown",
   "metadata": {},
   "source": [
    "**Общий вывод после устранения дисбаланса классов**\n",
    "\n",
    "Можно однозначно утверждать, что после устранения дисбаланса классов, метрики F1 для всех моделей стали выше, чем до его устранения.\n",
    "\n",
    "**Для финального тестирования была выбрана модель** *Random Forest* для которой применялось увеличение классов, кодированная с помощью *Ordinal Encoder*, с параметрами: *max_depth=13, n_estimators=51*\n",
    "\n",
    "**Метрика F1 равна 0.5910931174089069**\n",
    "\n",
    "AUC-ROC: 0.8368234243014945\n",
    "\n",
    "Она показала себя лучше всего.\n",
    "\n",
    "Хуже всего на всех выборках себя показали модели логистической регрессии. Возможно здесь имеет место быть зависимость сложнее, чем линейная."
   ]
  },
  {
   "cell_type": "markdown",
   "metadata": {},
   "source": [
    "## Тестирование модели"
   ]
  },
  {
   "cell_type": "code",
   "execution_count": 61,
   "metadata": {},
   "outputs": [
    {
     "name": "stdout",
     "output_type": "stream",
     "text": [
      "Метрика F1 на тестовой выборке равна 0.6087936865839909\n",
      "Модель: RandomForestClassifier(max_depth=10, n_estimators=31, random_state=42)\n",
      "AUC-ROC: 0.8537566842651587\n",
      "Wall time: 52 ms\n"
     ]
    }
   ],
   "source": [
    "%%time\n",
    "predictions = best_model_rf_up.predict(features_ohe_test)\n",
    "probabilities_test = best_model_rf_up.predict_proba(features_ohe_test)[:, 1]\n",
    "print(f'Метрика F1 на тестовой выборке равна {f1_score(target_ohe_test, predictions)}\\n\\\n",
    "Модель: {best_model_rf_up}\\n\\\n",
    "AUC-ROC: {roc_auc_score(target_ohe_test, probabilities_test)}')"
   ]
  },
  {
   "cell_type": "code",
   "execution_count": 62,
   "metadata": {},
   "outputs": [
    {
     "name": "stdout",
     "output_type": "stream",
     "text": [
      "Метрика F1 на тестовой выборке равна 0.5952677459526774\n",
      "Модель: RandomForestClassifier(max_depth=6, n_estimators=61, random_state=42)\n",
      "AUC-ROC: 0.8524965643609712\n",
      "Wall time: 63 ms\n"
     ]
    }
   ],
   "source": [
    "%%time\n",
    "predictions = best_model_rf_dn.predict(features_ohe_test)\n",
    "probabilities_test = best_model_rf_dn.predict_proba(features_ohe_test)[:, 1]\n",
    "print(f'Метрика F1 на тестовой выборке равна {f1_score(target_ohe_test, predictions)}\\n\\\n",
    "Модель: {best_model_rf_dn}\\n\\\n",
    "AUC-ROC: {roc_auc_score(target_ohe_test, probabilities_test)}')"
   ]
  },
  {
   "cell_type": "code",
   "execution_count": 55,
   "metadata": {},
   "outputs": [],
   "source": [
    "fpr, tpr, thresholds = roc_curve(target_ord_test, probabilities_test) "
   ]
  },
  {
   "cell_type": "code",
   "execution_count": 56,
   "metadata": {
    "scrolled": false
   },
   "outputs": [
    {
     "data": {
      "image/png": "[encoded data removed]",
      "text/plain": [
       "<Figure size 640x480 with 1 Axes>"
      ]
     },
     "metadata": {},
     "output_type": "display_data"
    }
   ],
   "source": [
    "plt.figure()\n",
    "plt.plot([0, 1], [0, 1], linestyle='--')\n",
    "plt.xlim([0.0, 1.0])\n",
    "plt.ylim([0.0, 1.0])\n",
    "plt.plot(fpr,tpr)\n",
    "plt.xlabel('False Positive Rate')\n",
    "plt.ylabel('True Positive Rate')\n",
    "plt.title('ROC-кривая');"
   ]
  },
  {
   "cell_type": "markdown",
   "metadata": {},
   "source": [
    "**Общий вывод по проекту**\n",
    "\n",
    "В проекте была поставлена задача классификации данных. Мы решали её с помощью моделей:\n",
    "- Decision Trees (Дерево решений)\n",
    "- Random Forest (Случайный лес)\n",
    "- Logistic Regression (Логическая регрессия)\n",
    "\n",
    "Отдельно было проведено исследование о необходимости баланса классов в датасете, из которого мы можем сделать вывод: **Модели на сбалансированном классе показывали лучшие результаты** \n",
    "\n",
    "Так же было использовано несколько способов балансировки классов, **лучше всего себя показал способ с увеличением выборки**, хуже всего с уменьшением выборки, можно предположить, что это связано с небольшим исходным датасетом, который мы ещё уменьшили для достижения баланса.\n",
    "\n",
    "Так же мы сравнили между собой несколько способов кодировки информации:\n",
    "- One Hot Encoder\n",
    "- Ordinal Encoder\n",
    "\n",
    "В нашем случае, *лучшего результат удалось добиться с помощью One Hot Encoder*\n",
    "\n",
    "**Лучшей моделью была выбрана Random Forest Classifier** с параметрами: \n",
    "- **max_depth=13**\n",
    "- **n_estimators=51**\n",
    "\n",
    "и она показала результаты на тестовой выборке:\n",
    "- **Метрика F1: 0.6246913580246913**\n",
    "- **Метрика AUC-ROC: 0.854942230780625**\n",
    "\n",
    "Так же была построена кривая ROC, на которой видно, что график нашей модели проходит гораздо выше модели, которая отвечает случайно, значит можно говорить о том, что модель прошла проверку на адекватность."
   ]
  }
 ],
 "metadata": {
  "ExecuteTimeLog": [
   {
    "duration": 51,
    "start_time": "2023-02-08T14:31:40.219Z"
   },
   {
    "duration": 1853,
    "start_time": "2023-02-08T14:32:19.088Z"
   },
   {
    "duration": 83,
    "start_time": "2023-02-08T14:32:32.689Z"
   },
   {
    "duration": 11,
    "start_time": "2023-02-08T14:32:43.243Z"
   },
   {
    "duration": 9,
    "start_time": "2023-02-08T14:33:00.421Z"
   },
   {
    "duration": 3,
    "start_time": "2023-02-08T14:33:19.688Z"
   },
   {
    "duration": 216,
    "start_time": "2023-02-08T14:33:20.500Z"
   },
   {
    "duration": 16,
    "start_time": "2023-02-08T14:33:21.458Z"
   },
   {
    "duration": 14,
    "start_time": "2023-02-08T14:33:27.191Z"
   },
   {
    "duration": 13,
    "start_time": "2023-02-08T14:33:28.915Z"
   },
   {
    "duration": 14,
    "start_time": "2023-02-08T14:33:29.467Z"
   },
   {
    "duration": 28,
    "start_time": "2023-02-08T14:33:29.825Z"
   },
   {
    "duration": 22,
    "start_time": "2023-02-08T14:33:30.259Z"
   },
   {
    "duration": 8,
    "start_time": "2023-02-08T14:33:30.642Z"
   },
   {
    "duration": 7,
    "start_time": "2023-02-08T14:33:31.054Z"
   },
   {
    "duration": 1037,
    "start_time": "2023-02-08T14:33:31.563Z"
   },
   {
    "duration": 5,
    "start_time": "2023-02-08T14:33:36.162Z"
   },
   {
    "duration": 4,
    "start_time": "2023-02-08T14:33:37.420Z"
   },
   {
    "duration": 25,
    "start_time": "2023-02-08T14:33:38.649Z"
   },
   {
    "duration": 25,
    "start_time": "2023-02-08T14:34:28.325Z"
   },
   {
    "duration": 17,
    "start_time": "2023-02-08T14:34:32.953Z"
   },
   {
    "duration": 14,
    "start_time": "2023-02-08T14:34:34.291Z"
   },
   {
    "duration": 33,
    "start_time": "2023-02-08T14:34:38.092Z"
   },
   {
    "duration": 16,
    "start_time": "2023-02-08T14:35:33.181Z"
   },
   {
    "duration": 15,
    "start_time": "2023-02-08T14:37:04.156Z"
   },
   {
    "duration": 16,
    "start_time": "2023-02-08T14:37:38.424Z"
   },
   {
    "duration": 15,
    "start_time": "2023-02-08T14:49:12.728Z"
   },
   {
    "duration": 16,
    "start_time": "2023-02-08T14:49:46.922Z"
   },
   {
    "duration": 18,
    "start_time": "2023-02-08T14:51:02.068Z"
   },
   {
    "duration": 16,
    "start_time": "2023-02-08T14:52:03.566Z"
   },
   {
    "duration": 15,
    "start_time": "2023-02-08T15:05:47.729Z"
   },
   {
    "duration": 18,
    "start_time": "2023-02-08T15:05:51.440Z"
   },
   {
    "duration": 18,
    "start_time": "2023-02-08T15:06:08.540Z"
   },
   {
    "duration": 14,
    "start_time": "2023-02-08T15:06:40.656Z"
   },
   {
    "duration": 6,
    "start_time": "2023-02-08T15:06:55.435Z"
   },
   {
    "duration": 4,
    "start_time": "2023-02-08T15:06:55.526Z"
   },
   {
    "duration": 14,
    "start_time": "2023-02-08T15:07:20.969Z"
   },
   {
    "duration": 4,
    "start_time": "2023-02-08T15:07:56.889Z"
   },
   {
    "duration": 12,
    "start_time": "2023-02-08T15:08:21.151Z"
   },
   {
    "duration": 18,
    "start_time": "2023-02-08T15:08:24.071Z"
   },
   {
    "duration": 13,
    "start_time": "2023-02-08T15:08:32.250Z"
   },
   {
    "duration": 26,
    "start_time": "2023-02-08T15:08:35.134Z"
   },
   {
    "duration": 14,
    "start_time": "2023-02-08T15:08:53.699Z"
   },
   {
    "duration": 11,
    "start_time": "2023-02-08T15:08:57.361Z"
   },
   {
    "duration": 13,
    "start_time": "2023-02-08T15:09:06.347Z"
   },
   {
    "duration": 326,
    "start_time": "2023-02-08T15:09:25.340Z"
   },
   {
    "duration": 29,
    "start_time": "2023-02-08T15:09:42.102Z"
   },
   {
    "duration": 14,
    "start_time": "2023-02-08T15:10:48.116Z"
   },
   {
    "duration": 15,
    "start_time": "2023-02-08T15:11:09.002Z"
   },
   {
    "duration": 17,
    "start_time": "2023-02-08T15:11:46.758Z"
   },
   {
    "duration": 16,
    "start_time": "2023-02-08T15:12:47.380Z"
   },
   {
    "duration": 2664,
    "start_time": "2023-02-08T15:13:06.483Z"
   },
   {
    "duration": 2772,
    "start_time": "2023-02-08T15:13:21.839Z"
   },
   {
    "duration": 13180,
    "start_time": "2023-02-08T15:13:56.496Z"
   },
   {
    "duration": 13461,
    "start_time": "2023-02-08T15:14:31.761Z"
   },
   {
    "duration": 14,
    "start_time": "2023-02-08T15:18:24.637Z"
   },
   {
    "duration": 4,
    "start_time": "2023-02-08T15:18:49.283Z"
   },
   {
    "duration": 4,
    "start_time": "2023-02-08T15:19:03.237Z"
   },
   {
    "duration": 5,
    "start_time": "2023-02-08T15:19:04.285Z"
   },
   {
    "duration": 12,
    "start_time": "2023-02-08T15:19:05.044Z"
   },
   {
    "duration": 11,
    "start_time": "2023-02-08T15:19:07.835Z"
   },
   {
    "duration": 17,
    "start_time": "2023-02-08T15:19:09.991Z"
   },
   {
    "duration": 40,
    "start_time": "2023-02-08T15:19:13.147Z"
   },
   {
    "duration": 19,
    "start_time": "2023-02-08T15:19:47.938Z"
   },
   {
    "duration": 20,
    "start_time": "2023-02-08T15:20:13.568Z"
   },
   {
    "duration": 19,
    "start_time": "2023-02-08T15:20:48.845Z"
   },
   {
    "duration": 14,
    "start_time": "2023-02-08T15:21:06.693Z"
   },
   {
    "duration": 13,
    "start_time": "2023-02-08T15:23:09.793Z"
   },
   {
    "duration": 15,
    "start_time": "2023-02-08T15:23:18.174Z"
   },
   {
    "duration": 2677,
    "start_time": "2023-02-08T15:23:31.317Z"
   },
   {
    "duration": 2518,
    "start_time": "2023-02-08T15:23:44.939Z"
   },
   {
    "duration": 10450,
    "start_time": "2023-02-08T15:23:58.691Z"
   },
   {
    "duration": 76,
    "start_time": "2023-02-08T15:26:03.158Z"
   },
   {
    "duration": 3222,
    "start_time": "2023-02-08T15:26:14.299Z"
   },
   {
    "duration": 261,
    "start_time": "2023-02-08T15:26:17.523Z"
   },
   {
    "duration": 21,
    "start_time": "2023-02-08T15:26:49.795Z"
   },
   {
    "duration": 21,
    "start_time": "2023-02-08T15:26:51.997Z"
   },
   {
    "duration": 15,
    "start_time": "2023-02-08T15:26:52.567Z"
   },
   {
    "duration": 24,
    "start_time": "2023-02-08T15:26:52.937Z"
   },
   {
    "duration": 32,
    "start_time": "2023-02-08T15:26:53.136Z"
   },
   {
    "duration": 30,
    "start_time": "2023-02-08T15:26:53.783Z"
   },
   {
    "duration": 11,
    "start_time": "2023-02-08T15:26:54.317Z"
   },
   {
    "duration": 9,
    "start_time": "2023-02-08T15:26:54.850Z"
   },
   {
    "duration": 1039,
    "start_time": "2023-02-08T15:26:55.366Z"
   },
   {
    "duration": 6,
    "start_time": "2023-02-08T15:26:56.698Z"
   },
   {
    "duration": 6,
    "start_time": "2023-02-08T15:26:56.923Z"
   },
   {
    "duration": 15,
    "start_time": "2023-02-08T15:26:57.167Z"
   },
   {
    "duration": 15,
    "start_time": "2023-02-08T15:26:57.373Z"
   },
   {
    "duration": 25,
    "start_time": "2023-02-08T15:26:59.649Z"
   },
   {
    "duration": 440,
    "start_time": "2023-02-08T15:27:00.986Z"
   },
   {
    "duration": 276,
    "start_time": "2023-02-08T15:27:41.780Z"
   },
   {
    "duration": 27,
    "start_time": "2023-02-08T15:27:57.954Z"
   },
   {
    "duration": 21,
    "start_time": "2023-02-08T15:28:03.520Z"
   },
   {
    "duration": 23,
    "start_time": "2023-02-08T15:34:01.182Z"
   },
   {
    "duration": 25,
    "start_time": "2023-02-08T15:34:15.515Z"
   },
   {
    "duration": 27,
    "start_time": "2023-02-08T15:34:54.064Z"
   },
   {
    "duration": 1345,
    "start_time": "2023-02-08T15:35:27.237Z"
   },
   {
    "duration": 22,
    "start_time": "2023-02-08T15:36:18.858Z"
   },
   {
    "duration": 15,
    "start_time": "2023-02-08T15:38:04.111Z"
   },
   {
    "duration": 22,
    "start_time": "2023-02-08T15:38:31.619Z"
   },
   {
    "duration": 20,
    "start_time": "2023-02-08T15:38:57.975Z"
   },
   {
    "duration": 22,
    "start_time": "2023-02-08T15:40:09.216Z"
   },
   {
    "duration": 32,
    "start_time": "2023-02-08T15:46:40.425Z"
   },
   {
    "duration": 13,
    "start_time": "2023-02-08T15:55:45.943Z"
   },
   {
    "duration": 13,
    "start_time": "2023-02-08T15:56:19.765Z"
   },
   {
    "duration": 4,
    "start_time": "2023-02-08T15:56:58.267Z"
   },
   {
    "duration": 5,
    "start_time": "2023-02-08T15:56:59.016Z"
   },
   {
    "duration": 10,
    "start_time": "2023-02-08T15:56:59.651Z"
   },
   {
    "duration": 15,
    "start_time": "2023-02-08T15:57:00.497Z"
   },
   {
    "duration": 22,
    "start_time": "2023-02-08T15:57:05.418Z"
   },
   {
    "duration": 18,
    "start_time": "2023-02-08T15:57:12.749Z"
   },
   {
    "duration": 11,
    "start_time": "2023-02-08T15:59:02.858Z"
   },
   {
    "duration": 12,
    "start_time": "2023-02-08T15:59:03.672Z"
   },
   {
    "duration": 18,
    "start_time": "2023-02-08T15:59:05.022Z"
   },
   {
    "duration": 11,
    "start_time": "2023-02-08T15:59:09.245Z"
   },
   {
    "duration": 14,
    "start_time": "2023-02-08T15:59:14.863Z"
   },
   {
    "duration": 12,
    "start_time": "2023-02-08T15:59:15.388Z"
   },
   {
    "duration": 11,
    "start_time": "2023-02-08T15:59:16.515Z"
   },
   {
    "duration": 12,
    "start_time": "2023-02-08T15:59:30.217Z"
   },
   {
    "duration": 13,
    "start_time": "2023-02-08T15:59:33.987Z"
   },
   {
    "duration": 13,
    "start_time": "2023-02-08T15:59:34.637Z"
   },
   {
    "duration": 35,
    "start_time": "2023-02-08T15:59:35.820Z"
   },
   {
    "duration": 23,
    "start_time": "2023-02-08T16:02:30.669Z"
   },
   {
    "duration": 11,
    "start_time": "2023-02-08T16:02:49.591Z"
   },
   {
    "duration": 38,
    "start_time": "2023-02-08T16:02:50.890Z"
   },
   {
    "duration": 11,
    "start_time": "2023-02-08T16:05:32.747Z"
   },
   {
    "duration": 11,
    "start_time": "2023-02-08T16:05:33.479Z"
   },
   {
    "duration": 33,
    "start_time": "2023-02-08T16:05:35.118Z"
   },
   {
    "duration": 31,
    "start_time": "2023-02-08T16:06:36.919Z"
   },
   {
    "duration": 17,
    "start_time": "2023-02-08T16:08:21.368Z"
   },
   {
    "duration": 39,
    "start_time": "2023-02-08T16:08:29.765Z"
   },
   {
    "duration": 5,
    "start_time": "2023-02-08T16:12:54.519Z"
   },
   {
    "duration": 45,
    "start_time": "2023-02-08T16:13:02.421Z"
   },
   {
    "duration": 15,
    "start_time": "2023-02-08T16:14:06.975Z"
   },
   {
    "duration": 10,
    "start_time": "2023-02-08T16:14:16.997Z"
   },
   {
    "duration": 11,
    "start_time": "2023-02-08T16:14:17.747Z"
   },
   {
    "duration": 26,
    "start_time": "2023-02-08T16:14:59.966Z"
   },
   {
    "duration": 26,
    "start_time": "2023-02-08T16:15:18.620Z"
   },
   {
    "duration": 22,
    "start_time": "2023-02-08T16:15:42.378Z"
   },
   {
    "duration": 22,
    "start_time": "2023-02-08T16:15:57.502Z"
   },
   {
    "duration": 11,
    "start_time": "2023-02-08T16:16:07.485Z"
   },
   {
    "duration": 16,
    "start_time": "2023-02-08T16:16:08.096Z"
   },
   {
    "duration": 25,
    "start_time": "2023-02-08T16:16:09.411Z"
   },
   {
    "duration": 237,
    "start_time": "2023-02-08T16:18:11.298Z"
   },
   {
    "duration": 11,
    "start_time": "2023-02-08T16:19:14.420Z"
   },
   {
    "duration": 7,
    "start_time": "2023-02-08T16:19:25.967Z"
   },
   {
    "duration": 6,
    "start_time": "2023-02-08T16:19:34.311Z"
   },
   {
    "duration": 270,
    "start_time": "2023-02-08T16:19:37.432Z"
   },
   {
    "duration": 307,
    "start_time": "2023-02-08T16:21:07.826Z"
   },
   {
    "duration": 6,
    "start_time": "2023-02-08T16:21:31.164Z"
   },
   {
    "duration": 5,
    "start_time": "2023-02-08T16:21:31.670Z"
   },
   {
    "duration": 17,
    "start_time": "2023-02-08T16:21:32.320Z"
   },
   {
    "duration": 11,
    "start_time": "2023-02-08T16:21:33.039Z"
   },
   {
    "duration": 387,
    "start_time": "2023-02-08T16:21:35.637Z"
   },
   {
    "duration": 289,
    "start_time": "2023-02-08T16:21:56.572Z"
   },
   {
    "duration": 28,
    "start_time": "2023-02-08T16:22:17.521Z"
   },
   {
    "duration": 16,
    "start_time": "2023-02-08T16:22:39.945Z"
   },
   {
    "duration": 26,
    "start_time": "2023-02-08T16:23:01.975Z"
   },
   {
    "duration": 31,
    "start_time": "2023-02-08T16:28:10.779Z"
   },
   {
    "duration": 14,
    "start_time": "2023-02-08T16:28:21.565Z"
   },
   {
    "duration": 14,
    "start_time": "2023-02-08T16:28:41.330Z"
   },
   {
    "duration": 15,
    "start_time": "2023-02-08T16:28:41.981Z"
   },
   {
    "duration": 34,
    "start_time": "2023-02-08T16:28:43.655Z"
   },
   {
    "duration": 23,
    "start_time": "2023-02-08T16:29:06.397Z"
   },
   {
    "duration": 15,
    "start_time": "2023-02-08T16:29:15.586Z"
   },
   {
    "duration": 14,
    "start_time": "2023-02-08T16:29:16.079Z"
   },
   {
    "duration": 16,
    "start_time": "2023-02-08T16:29:17.278Z"
   },
   {
    "duration": 25,
    "start_time": "2023-02-08T16:29:25.436Z"
   },
   {
    "duration": 10,
    "start_time": "2023-02-08T16:29:52.667Z"
   },
   {
    "duration": 14,
    "start_time": "2023-02-08T16:29:53.262Z"
   },
   {
    "duration": 161,
    "start_time": "2023-02-08T16:29:54.287Z"
   },
   {
    "duration": 13365,
    "start_time": "2023-02-08T16:30:41.021Z"
   },
   {
    "duration": 17,
    "start_time": "2023-02-08T16:31:14.598Z"
   },
   {
    "duration": 13,
    "start_time": "2023-02-08T16:31:15.196Z"
   },
   {
    "duration": 154,
    "start_time": "2023-02-08T16:31:16.193Z"
   },
   {
    "duration": 11,
    "start_time": "2023-02-08T16:32:41.589Z"
   },
   {
    "duration": 11,
    "start_time": "2023-02-08T16:32:42.153Z"
   },
   {
    "duration": 33,
    "start_time": "2023-02-08T16:32:43.247Z"
   },
   {
    "duration": 12,
    "start_time": "2023-02-08T16:33:11.875Z"
   },
   {
    "duration": 15,
    "start_time": "2023-02-08T16:33:12.332Z"
   },
   {
    "duration": 22,
    "start_time": "2023-02-08T16:33:13.426Z"
   },
   {
    "duration": 12,
    "start_time": "2023-02-08T16:35:14.454Z"
   },
   {
    "duration": 12,
    "start_time": "2023-02-08T16:35:14.976Z"
   },
   {
    "duration": 26,
    "start_time": "2023-02-08T16:35:16.221Z"
   },
   {
    "duration": 19,
    "start_time": "2023-02-08T16:36:11.666Z"
   },
   {
    "duration": 17,
    "start_time": "2023-02-08T16:37:50.595Z"
   },
   {
    "duration": 24,
    "start_time": "2023-02-08T16:38:18.719Z"
   },
   {
    "duration": 17,
    "start_time": "2023-02-08T16:38:19.321Z"
   },
   {
    "duration": 22,
    "start_time": "2023-02-08T16:38:20.454Z"
   },
   {
    "duration": 14,
    "start_time": "2023-02-08T16:39:22.595Z"
   },
   {
    "duration": 12,
    "start_time": "2023-02-08T16:39:26.384Z"
   },
   {
    "duration": 11,
    "start_time": "2023-02-08T16:39:26.951Z"
   },
   {
    "duration": 18,
    "start_time": "2023-02-08T16:39:28.882Z"
   },
   {
    "duration": 15,
    "start_time": "2023-02-08T16:40:12.921Z"
   },
   {
    "duration": 12,
    "start_time": "2023-02-08T16:40:31.289Z"
   },
   {
    "duration": 11,
    "start_time": "2023-02-08T16:40:31.687Z"
   },
   {
    "duration": 18,
    "start_time": "2023-02-08T16:40:32.554Z"
   },
   {
    "duration": 13,
    "start_time": "2023-02-08T16:41:23.580Z"
   },
   {
    "duration": 11,
    "start_time": "2023-02-08T16:41:27.338Z"
   },
   {
    "duration": 11,
    "start_time": "2023-02-08T16:41:27.789Z"
   },
   {
    "duration": 14,
    "start_time": "2023-02-08T16:41:28.854Z"
   },
   {
    "duration": 14,
    "start_time": "2023-02-08T16:42:08.254Z"
   },
   {
    "duration": 17,
    "start_time": "2023-02-08T16:43:58.132Z"
   },
   {
    "duration": 25,
    "start_time": "2023-02-08T16:44:11.796Z"
   },
   {
    "duration": 47,
    "start_time": "2023-02-08T20:49:05.695Z"
   },
   {
    "duration": 1764,
    "start_time": "2023-02-08T20:49:17.008Z"
   },
   {
    "duration": 217,
    "start_time": "2023-02-08T20:49:18.774Z"
   },
   {
    "duration": 12,
    "start_time": "2023-02-08T20:49:18.993Z"
   },
   {
    "duration": 14,
    "start_time": "2023-02-08T20:49:19.007Z"
   },
   {
    "duration": 4,
    "start_time": "2023-02-08T20:49:29.477Z"
   },
   {
    "duration": 103,
    "start_time": "2023-02-08T20:49:29.483Z"
   },
   {
    "duration": 11,
    "start_time": "2023-02-08T20:49:29.588Z"
   },
   {
    "duration": 14,
    "start_time": "2023-02-08T20:49:29.601Z"
   },
   {
    "duration": 11,
    "start_time": "2023-02-08T20:49:29.617Z"
   },
   {
    "duration": 13,
    "start_time": "2023-02-08T20:49:29.630Z"
   },
   {
    "duration": 57,
    "start_time": "2023-02-08T20:49:29.644Z"
   },
   {
    "duration": 20,
    "start_time": "2023-02-08T20:49:29.702Z"
   },
   {
    "duration": 6,
    "start_time": "2023-02-08T20:49:29.723Z"
   },
   {
    "duration": 11,
    "start_time": "2023-02-08T20:49:29.731Z"
   },
   {
    "duration": 981,
    "start_time": "2023-02-08T20:49:29.744Z"
   },
   {
    "duration": 5,
    "start_time": "2023-02-08T20:49:30.727Z"
   },
   {
    "duration": 33,
    "start_time": "2023-02-08T20:49:30.734Z"
   },
   {
    "duration": 99,
    "start_time": "2023-02-08T20:49:30.769Z"
   },
   {
    "duration": 124,
    "start_time": "2023-02-08T20:49:30.870Z"
   },
   {
    "duration": 93,
    "start_time": "2023-02-08T20:49:35.802Z"
   },
   {
    "duration": 10,
    "start_time": "2023-02-08T20:56:59.128Z"
   },
   {
    "duration": 3007,
    "start_time": "2023-02-08T20:57:16.759Z"
   },
   {
    "duration": 157,
    "start_time": "2023-02-08T20:57:25.334Z"
   },
   {
    "duration": 63,
    "start_time": "2023-02-08T21:01:58.165Z"
   },
   {
    "duration": 24,
    "start_time": "2023-02-08T21:05:20.798Z"
   },
   {
    "duration": 11,
    "start_time": "2023-02-08T21:07:57.180Z"
   },
   {
    "duration": 4,
    "start_time": "2023-02-08T21:08:07.258Z"
   },
   {
    "duration": 9,
    "start_time": "2023-02-08T21:08:10.821Z"
   },
   {
    "duration": 56,
    "start_time": "2023-02-08T21:09:02.601Z"
   },
   {
    "duration": 64,
    "start_time": "2023-02-08T21:09:32.850Z"
   },
   {
    "duration": 64,
    "start_time": "2023-02-08T21:10:47.609Z"
   },
   {
    "duration": 74,
    "start_time": "2023-02-08T21:11:05.782Z"
   },
   {
    "duration": 37,
    "start_time": "2023-02-08T21:11:53.026Z"
   },
   {
    "duration": 16,
    "start_time": "2023-02-08T21:12:20.827Z"
   },
   {
    "duration": 18,
    "start_time": "2023-02-08T21:12:26.606Z"
   },
   {
    "duration": 1451,
    "start_time": "2023-02-08T21:29:47.208Z"
   },
   {
    "duration": 88,
    "start_time": "2023-02-08T21:29:48.661Z"
   },
   {
    "duration": 13,
    "start_time": "2023-02-08T21:29:48.751Z"
   },
   {
    "duration": 15,
    "start_time": "2023-02-08T21:29:48.766Z"
   },
   {
    "duration": 13,
    "start_time": "2023-02-08T21:29:48.783Z"
   },
   {
    "duration": 13,
    "start_time": "2023-02-08T21:29:48.797Z"
   },
   {
    "duration": 26,
    "start_time": "2023-02-08T21:29:48.812Z"
   },
   {
    "duration": 21,
    "start_time": "2023-02-08T21:29:48.840Z"
   },
   {
    "duration": 30,
    "start_time": "2023-02-08T21:29:48.863Z"
   },
   {
    "duration": 7,
    "start_time": "2023-02-08T21:29:48.896Z"
   },
   {
    "duration": 828,
    "start_time": "2023-02-08T21:29:48.905Z"
   },
   {
    "duration": 5,
    "start_time": "2023-02-08T21:29:49.734Z"
   },
   {
    "duration": 11,
    "start_time": "2023-02-08T21:29:49.741Z"
   },
   {
    "duration": 152,
    "start_time": "2023-02-08T21:29:49.753Z"
   },
   {
    "duration": 127,
    "start_time": "2023-02-08T21:29:49.907Z"
   },
   {
    "duration": 0,
    "start_time": "2023-02-08T21:29:50.036Z"
   },
   {
    "duration": 0,
    "start_time": "2023-02-08T21:29:50.037Z"
   },
   {
    "duration": 0,
    "start_time": "2023-02-08T21:29:50.039Z"
   },
   {
    "duration": 0,
    "start_time": "2023-02-08T21:29:50.040Z"
   },
   {
    "duration": 0,
    "start_time": "2023-02-08T21:29:50.041Z"
   },
   {
    "duration": 0,
    "start_time": "2023-02-08T21:29:50.042Z"
   },
   {
    "duration": 0,
    "start_time": "2023-02-08T21:29:50.044Z"
   },
   {
    "duration": 0,
    "start_time": "2023-02-08T21:29:50.045Z"
   },
   {
    "duration": 0,
    "start_time": "2023-02-08T21:29:50.046Z"
   },
   {
    "duration": 0,
    "start_time": "2023-02-08T21:29:50.047Z"
   },
   {
    "duration": 0,
    "start_time": "2023-02-08T21:29:50.048Z"
   },
   {
    "duration": 0,
    "start_time": "2023-02-08T21:29:50.049Z"
   },
   {
    "duration": 0,
    "start_time": "2023-02-08T21:29:50.051Z"
   },
   {
    "duration": 0,
    "start_time": "2023-02-08T21:29:50.052Z"
   },
   {
    "duration": 0,
    "start_time": "2023-02-08T21:29:50.054Z"
   },
   {
    "duration": 0,
    "start_time": "2023-02-08T21:29:50.056Z"
   },
   {
    "duration": 0,
    "start_time": "2023-02-08T21:29:50.091Z"
   },
   {
    "duration": 0,
    "start_time": "2023-02-08T21:29:50.093Z"
   },
   {
    "duration": 0,
    "start_time": "2023-02-08T21:29:50.094Z"
   },
   {
    "duration": 0,
    "start_time": "2023-02-08T21:29:50.095Z"
   },
   {
    "duration": 0,
    "start_time": "2023-02-08T21:29:50.096Z"
   },
   {
    "duration": 0,
    "start_time": "2023-02-08T21:29:50.097Z"
   },
   {
    "duration": 0,
    "start_time": "2023-02-08T21:29:50.098Z"
   },
   {
    "duration": 0,
    "start_time": "2023-02-08T21:29:50.099Z"
   },
   {
    "duration": 0,
    "start_time": "2023-02-08T21:29:50.101Z"
   },
   {
    "duration": 0,
    "start_time": "2023-02-08T21:29:50.102Z"
   },
   {
    "duration": 0,
    "start_time": "2023-02-08T21:29:50.103Z"
   },
   {
    "duration": 0,
    "start_time": "2023-02-08T21:29:50.105Z"
   },
   {
    "duration": 0,
    "start_time": "2023-02-08T21:29:50.106Z"
   },
   {
    "duration": 0,
    "start_time": "2023-02-08T21:29:50.107Z"
   },
   {
    "duration": 19,
    "start_time": "2023-02-08T21:30:55.143Z"
   },
   {
    "duration": 18,
    "start_time": "2023-02-08T21:31:27.798Z"
   },
   {
    "duration": 10,
    "start_time": "2023-02-08T21:34:24.156Z"
   },
   {
    "duration": 10,
    "start_time": "2023-02-08T21:36:12.482Z"
   },
   {
    "duration": 1536,
    "start_time": "2023-02-08T21:36:59.679Z"
   },
   {
    "duration": 106,
    "start_time": "2023-02-08T21:37:01.217Z"
   },
   {
    "duration": 13,
    "start_time": "2023-02-08T21:37:01.325Z"
   },
   {
    "duration": 37,
    "start_time": "2023-02-08T21:37:01.340Z"
   },
   {
    "duration": 54,
    "start_time": "2023-02-08T21:37:01.378Z"
   },
   {
    "duration": 14,
    "start_time": "2023-02-08T21:37:01.433Z"
   },
   {
    "duration": 46,
    "start_time": "2023-02-08T21:37:01.448Z"
   },
   {
    "duration": 71,
    "start_time": "2023-02-08T21:37:01.496Z"
   },
   {
    "duration": 31,
    "start_time": "2023-02-08T21:37:01.568Z"
   },
   {
    "duration": 25,
    "start_time": "2023-02-08T21:37:01.602Z"
   },
   {
    "duration": 836,
    "start_time": "2023-02-08T21:37:01.629Z"
   },
   {
    "duration": 5,
    "start_time": "2023-02-08T21:37:02.466Z"
   },
   {
    "duration": 42,
    "start_time": "2023-02-08T21:37:02.472Z"
   },
   {
    "duration": 98,
    "start_time": "2023-02-08T21:37:02.516Z"
   },
   {
    "duration": 79,
    "start_time": "2023-02-08T21:37:02.616Z"
   },
   {
    "duration": 34,
    "start_time": "2023-02-08T21:37:02.697Z"
   },
   {
    "duration": 69,
    "start_time": "2023-02-08T21:37:02.733Z"
   },
   {
    "duration": 6,
    "start_time": "2023-02-08T21:37:02.804Z"
   },
   {
    "duration": 2909,
    "start_time": "2023-02-08T21:37:02.811Z"
   },
   {
    "duration": 2846,
    "start_time": "2023-02-08T21:37:05.722Z"
   },
   {
    "duration": 77191,
    "start_time": "2023-02-08T21:37:08.569Z"
   },
   {
    "duration": 81407,
    "start_time": "2023-02-08T21:38:25.762Z"
   },
   {
    "duration": 122,
    "start_time": "2023-02-08T21:39:47.170Z"
   },
   {
    "duration": 3247,
    "start_time": "2023-02-08T21:39:47.294Z"
   },
   {
    "duration": 3088,
    "start_time": "2023-02-08T21:39:50.544Z"
   },
   {
    "duration": 85518,
    "start_time": "2023-02-08T21:39:53.634Z"
   },
   {
    "duration": 88703,
    "start_time": "2023-02-08T21:41:19.153Z"
   },
   {
    "duration": 142,
    "start_time": "2023-02-08T21:42:47.861Z"
   },
   {
    "duration": 91,
    "start_time": "2023-02-08T21:42:48.006Z"
   },
   {
    "duration": 4,
    "start_time": "2023-02-08T21:42:48.099Z"
   },
   {
    "duration": 20,
    "start_time": "2023-02-08T21:42:48.105Z"
   },
   {
    "duration": 3658,
    "start_time": "2023-02-08T21:42:48.127Z"
   },
   {
    "duration": 3508,
    "start_time": "2023-02-08T21:42:51.791Z"
   },
   {
    "duration": 107907,
    "start_time": "2023-02-08T21:42:55.301Z"
   },
   {
    "duration": 112634,
    "start_time": "2023-02-08T21:44:43.209Z"
   },
   {
    "duration": 146,
    "start_time": "2023-02-08T21:46:35.845Z"
   },
   {
    "duration": 6,
    "start_time": "2023-02-08T21:46:36.001Z"
   },
   {
    "duration": 118,
    "start_time": "2023-02-08T21:46:36.008Z"
   },
   {
    "duration": 1684,
    "start_time": "2023-02-08T21:46:36.128Z"
   },
   {
    "duration": 1821,
    "start_time": "2023-02-08T21:46:37.813Z"
   },
   {
    "duration": 53051,
    "start_time": "2023-02-08T21:46:39.636Z"
   },
   {
    "duration": 54963,
    "start_time": "2023-02-08T21:47:32.691Z"
   },
   {
    "duration": 44,
    "start_time": "2023-02-08T21:48:27.656Z"
   },
   {
    "duration": 149,
    "start_time": "2023-02-08T21:48:27.794Z"
   },
   {
    "duration": 5,
    "start_time": "2023-02-08T21:48:27.945Z"
   },
   {
    "duration": 167,
    "start_time": "2023-02-08T21:48:27.951Z"
   },
   {
    "duration": 15,
    "start_time": "2023-02-09T13:31:18.794Z"
   },
   {
    "duration": 4,
    "start_time": "2023-02-09T13:31:27.447Z"
   },
   {
    "duration": 4,
    "start_time": "2023-02-09T13:32:05.493Z"
   }
  ],
  "kernelspec": {
   "display_name": "Python 3 (ipykernel)",
   "language": "python",
   "name": "python3"
  },
  "language_info": {
   "codemirror_mode": {
    "name": "ipython",
    "version": 3
   },
   "file_extension": ".py",
   "mimetype": "text/x-python",
   "name": "python",
   "nbconvert_exporter": "python",
   "pygments_lexer": "ipython3",
   "version": "3.9.13"
  },
  "toc": {
   "base_numbering": 1,
   "nav_menu": {},
   "number_sections": true,
   "sideBar": true,
   "skip_h1_title": true,
   "title_cell": "Содержание",
   "title_sidebar": "Contents",
   "toc_cell": true,
   "toc_position": {},
   "toc_section_display": true,
   "toc_window_display": false
  }
 },
 "nbformat": 4,
 "nbformat_minor": 2
}
