{
 "cells": [
  {
   "cell_type": "markdown",
   "metadata": {},
   "source": [
    "# Выбор локации для скважины"
   ]
  },
  {
   "cell_type": "markdown",
   "metadata": {},
   "source": [
    "### Краткое описание проекта "
   ]
  },
  {
   "cell_type": "markdown",
   "metadata": {},
   "source": [
    "Вы работаете в добывающей компании. Нужно решить, где бурить новую скважину.\n",
    "\n",
    "Вам предоставлены пробы нефти в трёх регионах: в каждом 10 000 месторождений, где измерили качество нефти и объём её запасов. Постройте модель машинного обучения, которая поможет определить регион, где добыча принесёт наибольшую прибыль. Проанализируйте возможную прибыль и риски техникой *Bootstrap.*\n",
    "\n",
    "Шаги для выбора локации:\n",
    "\n",
    "- В избранном регионе ищут месторождения, для каждого определяют значения признаков;\n",
    "- Строят модель и оценивают объём запасов;\n",
    "- Выбирают месторождения с самым высокими оценками значений. Количество месторождений зависит от бюджета компании и стоимости разработки одной скважины;\n",
    "- Прибыль равна суммарной прибыли отобранных месторождений."
   ]
  },
  {
   "cell_type": "markdown",
   "metadata": {},
   "source": [
    "### Цель проекта\n",
    "\n",
    "Вынести решение о местоположении бурения скважины, основываясь на:\n",
    "- возможной прибыли \n",
    "- рисках"
   ]
  },
  {
   "cell_type": "markdown",
   "metadata": {},
   "source": [
    "### Описание данных\n",
    "\n",
    "- `id` — уникальный идентификатор скважины;\n",
    "- `f0`, `f1`, `f2` — три признака точек (неважно, что они означают, но сами признаки значимы);\n",
    "- `product` — объём запасов в скважине (тыс. баррелей). \n",
    "\n",
    "`product` является целевым признаком"
   ]
  },
  {
   "cell_type": "markdown",
   "metadata": {},
   "source": [
    "### Условия задачи\n",
    "\n",
    "- Для обучения модели подходит только линейная регрессия (остальные — недостаточно предсказуемые).\n",
    "- При разведке региона исследуют 500 точек, из которых с помощью машинного обучения выбирают 200 лучших для разработки.\n",
    "- Бюджет на разработку скважин в регионе — 10 млрд рублей.\n",
    "- При нынешних ценах один баррель сырья приносит 450 рублей дохода. Доход с каждой единицы продукта составляет 450 тыс. рублей, поскольку объём указан в тысячах баррелей.\n",
    "- После оценки рисков нужно оставить лишь те регионы, в которых вероятность убытков меньше 2.5%. Среди них выбирают регион с наибольшей средней прибылью."
   ]
  },
  {
   "cell_type": "markdown",
   "metadata": {},
   "source": [
    "### План работы\n",
    "\n",
    "1. Загрузите и подготовьте данные. Поясните порядок действий.\n",
    "\n",
    "\n",
    "2. Обучите и проверьте модель для каждого региона:\n",
    " 1. Разбейте данные на обучающую и валидационную выборки в соотношении 75:25.\n",
    " 2. Обучите модель и сделайте предсказания на валидационной выборке.\n",
    " 3. Сохраните предсказания и правильные ответы на валидационной выборке.\n",
    " 4. Напечатайте на экране средний запас предсказанного сырья и RMSE модели.\n",
    " 5. Проанализируйте результаты.\n",
    " \n",
    " \n",
    "3. Подготовьтесь к расчёту прибыли:\n",
    " 1. Все ключевые значения для расчётов сохраните в отдельных переменных.\n",
    " 2. Рассчитайте достаточный объём сырья для безубыточной разработки новой скважины. Сравните полученный объём сырья со средним запасом в каждом регионе. \n",
    " 3. Напишите выводы по этапу подготовки расчёта прибыли.\n",
    " \n",
    " \n",
    "4. Напишите функцию для расчёта прибыли по выбранным скважинам и предсказаниям модели:\n",
    " 1. Выберите скважины с максимальными значениями предсказаний. \n",
    " 2. Просуммируйте целевое значение объёма сырья, соответствующее этим предсказаниям.\n",
    " 3. Рассчитайте прибыль для полученного объёма сырья.\n",
    " \n",
    " \n",
    "5. Посчитайте риски и прибыль для каждого региона:\n",
    " 1. Примените технику Bootstrap с 1000 выборок, чтобы найти распределение прибыли.\n",
    " 2. Найдите среднюю прибыль, 95%-й доверительный интервал и риск убытков. Убыток — это отрицательная прибыль.\n",
    " 3. Напишите выводы: предложите регион для разработки скважин и обоснуйте выбор."
   ]
  },
  {
   "cell_type": "code",
   "execution_count": 1,
   "metadata": {},
   "outputs": [],
   "source": [
    "import pandas as pd\n",
    "\n",
    "from numpy.random import RandomState\n",
    "from IPython.display import display\n",
    "from seaborn import heatmap\n",
    "from sklearn.linear_model import LinearRegression\n",
    "from sklearn.metrics import mean_squared_error\n",
    "from sklearn.model_selection import train_test_split\n",
    "from sklearn.preprocessing import StandardScaler\n",
    "\n",
    "STATE = RandomState(42)"
   ]
  },
  {
   "cell_type": "markdown",
   "metadata": {},
   "source": [
    "## Загрузка и подготовка данных"
   ]
  },
  {
   "cell_type": "code",
   "execution_count": 2,
   "metadata": {},
   "outputs": [],
   "source": [
    "try:\n",
    "    data_0 = pd.read_csv(r'C:\\Users\\Acer\\Documents\\Практикум\\geo_data_0.csv')\n",
    "    data_1 = pd.read_csv(r'C:\\Users\\Acer\\Documents\\Практикум\\geo_data_1.csv')\n",
    "    data_2 = pd.read_csv(r'C:\\Users\\Acer\\Documents\\Практикум\\geo_data_2.csv')\n",
    "    \n",
    "except:\n",
    "    data_0 = pd.read_csv('/datasets/geo_data_0.csv')\n",
    "    data_1 = pd.read_csv('/datasets/geo_data_1.csv')\n",
    "    data_2 = pd.read_csv('/datasets/geo_data_2.csv')"
   ]
  },
  {
   "cell_type": "code",
   "execution_count": 3,
   "metadata": {},
   "outputs": [],
   "source": [
    "def description(data):\n",
    "    '''\n",
    "    Функция описывает датасет, подаваемый на вход.\n",
    "    Описание состоит из:\n",
    "    1. Первые 5 строк датасета\n",
    "    2. Информации о датасете\n",
    "    3. Количество пропусков\n",
    "    4. Количество явных дубликатов\n",
    "    5. Матрица корреляции \n",
    "    6. Числовое описание данных\n",
    "    7. Количество уникальных месторождений\n",
    "    '''\n",
    "    \n",
    "    display(data.head())\n",
    "    \n",
    "    display(data.info())\n",
    "    \n",
    "    print(f'Количество пропусков:\\n{data.isna().sum()}')\n",
    "    \n",
    "    print(f'\\nКоличество явных дубликатов: {data.duplicated().sum()}')\n",
    "\n",
    "    print(f'Количество уникальных месторождений {len(data.id.unique())}')\n",
    "    \n",
    "    display(data.describe())\n",
    "    \n",
    "    heatmap(data.corr(),\n",
    "           vmin=-1,\n",
    "           vmax=1,\n",
    "           annot=True,\n",
    "           cmap='BuGn')"
   ]
  },
  {
   "cell_type": "markdown",
   "metadata": {},
   "source": [
    "### Изучение 0-го региона"
   ]
  },
  {
   "cell_type": "code",
   "execution_count": 4,
   "metadata": {
    "scrolled": false
   },
   "outputs": [
    {
     "data": {
      "text/html": [
       "<div>\n",
       "<style scoped>\n",
       "    .dataframe tbody tr th:only-of-type {\n",
       "        vertical-align: middle;\n",
       "    }\n",
       "\n",
       "    .dataframe tbody tr th {\n",
       "        vertical-align: top;\n",
       "    }\n",
       "\n",
       "    .dataframe thead th {\n",
       "        text-align: right;\n",
       "    }\n",
       "</style>\n",
       "<table border=\"1\" class=\"dataframe\">\n",
       "  <thead>\n",
       "    <tr style=\"text-align: right;\">\n",
       "      <th></th>\n",
       "      <th>id</th>\n",
       "      <th>f0</th>\n",
       "      <th>f1</th>\n",
       "      <th>f2</th>\n",
       "      <th>product</th>\n",
       "    </tr>\n",
       "  </thead>\n",
       "  <tbody>\n",
       "    <tr>\n",
       "      <th>0</th>\n",
       "      <td>txEyH</td>\n",
       "      <td>0.705745</td>\n",
       "      <td>-0.497823</td>\n",
       "      <td>1.221170</td>\n",
       "      <td>105.280062</td>\n",
       "    </tr>\n",
       "    <tr>\n",
       "      <th>1</th>\n",
       "      <td>2acmU</td>\n",
       "      <td>1.334711</td>\n",
       "      <td>-0.340164</td>\n",
       "      <td>4.365080</td>\n",
       "      <td>73.037750</td>\n",
       "    </tr>\n",
       "    <tr>\n",
       "      <th>2</th>\n",
       "      <td>409Wp</td>\n",
       "      <td>1.022732</td>\n",
       "      <td>0.151990</td>\n",
       "      <td>1.419926</td>\n",
       "      <td>85.265647</td>\n",
       "    </tr>\n",
       "    <tr>\n",
       "      <th>3</th>\n",
       "      <td>iJLyR</td>\n",
       "      <td>-0.032172</td>\n",
       "      <td>0.139033</td>\n",
       "      <td>2.978566</td>\n",
       "      <td>168.620776</td>\n",
       "    </tr>\n",
       "    <tr>\n",
       "      <th>4</th>\n",
       "      <td>Xdl7t</td>\n",
       "      <td>1.988431</td>\n",
       "      <td>0.155413</td>\n",
       "      <td>4.751769</td>\n",
       "      <td>154.036647</td>\n",
       "    </tr>\n",
       "  </tbody>\n",
       "</table>\n",
       "</div>"
      ],
      "text/plain": [
       "      id        f0        f1        f2     product\n",
       "0  txEyH  0.705745 -0.497823  1.221170  105.280062\n",
       "1  2acmU  1.334711 -0.340164  4.365080   73.037750\n",
       "2  409Wp  1.022732  0.151990  1.419926   85.265647\n",
       "3  iJLyR -0.032172  0.139033  2.978566  168.620776\n",
       "4  Xdl7t  1.988431  0.155413  4.751769  154.036647"
      ]
     },
     "metadata": {},
     "output_type": "display_data"
    },
    {
     "name": "stdout",
     "output_type": "stream",
     "text": [
      "<class 'pandas.core.frame.DataFrame'>\n",
      "RangeIndex: 100000 entries, 0 to 99999\n",
      "Data columns (total 5 columns):\n",
      " #   Column   Non-Null Count   Dtype  \n",
      "---  ------   --------------   -----  \n",
      " 0   id       100000 non-null  object \n",
      " 1   f0       100000 non-null  float64\n",
      " 2   f1       100000 non-null  float64\n",
      " 3   f2       100000 non-null  float64\n",
      " 4   product  100000 non-null  float64\n",
      "dtypes: float64(4), object(1)\n",
      "memory usage: 3.8+ MB\n"
     ]
    },
    {
     "data": {
      "text/plain": [
       "None"
      ]
     },
     "metadata": {},
     "output_type": "display_data"
    },
    {
     "name": "stdout",
     "output_type": "stream",
     "text": [
      "Количество пропусков:\n",
      "id         0\n",
      "f0         0\n",
      "f1         0\n",
      "f2         0\n",
      "product    0\n",
      "dtype: int64\n",
      "\n",
      "Количество явных дубликатов: 0\n",
      "Количество уникальных месторождений 99990\n"
     ]
    },
    {
     "data": {
      "text/html": [
       "<div>\n",
       "<style scoped>\n",
       "    .dataframe tbody tr th:only-of-type {\n",
       "        vertical-align: middle;\n",
       "    }\n",
       "\n",
       "    .dataframe tbody tr th {\n",
       "        vertical-align: top;\n",
       "    }\n",
       "\n",
       "    .dataframe thead th {\n",
       "        text-align: right;\n",
       "    }\n",
       "</style>\n",
       "<table border=\"1\" class=\"dataframe\">\n",
       "  <thead>\n",
       "    <tr style=\"text-align: right;\">\n",
       "      <th></th>\n",
       "      <th>f0</th>\n",
       "      <th>f1</th>\n",
       "      <th>f2</th>\n",
       "      <th>product</th>\n",
       "    </tr>\n",
       "  </thead>\n",
       "  <tbody>\n",
       "    <tr>\n",
       "      <th>count</th>\n",
       "      <td>100000.000000</td>\n",
       "      <td>100000.000000</td>\n",
       "      <td>100000.000000</td>\n",
       "      <td>100000.000000</td>\n",
       "    </tr>\n",
       "    <tr>\n",
       "      <th>mean</th>\n",
       "      <td>0.500419</td>\n",
       "      <td>0.250143</td>\n",
       "      <td>2.502647</td>\n",
       "      <td>92.500000</td>\n",
       "    </tr>\n",
       "    <tr>\n",
       "      <th>std</th>\n",
       "      <td>0.871832</td>\n",
       "      <td>0.504433</td>\n",
       "      <td>3.248248</td>\n",
       "      <td>44.288691</td>\n",
       "    </tr>\n",
       "    <tr>\n",
       "      <th>min</th>\n",
       "      <td>-1.408605</td>\n",
       "      <td>-0.848218</td>\n",
       "      <td>-12.088328</td>\n",
       "      <td>0.000000</td>\n",
       "    </tr>\n",
       "    <tr>\n",
       "      <th>25%</th>\n",
       "      <td>-0.072580</td>\n",
       "      <td>-0.200881</td>\n",
       "      <td>0.287748</td>\n",
       "      <td>56.497507</td>\n",
       "    </tr>\n",
       "    <tr>\n",
       "      <th>50%</th>\n",
       "      <td>0.502360</td>\n",
       "      <td>0.250252</td>\n",
       "      <td>2.515969</td>\n",
       "      <td>91.849972</td>\n",
       "    </tr>\n",
       "    <tr>\n",
       "      <th>75%</th>\n",
       "      <td>1.073581</td>\n",
       "      <td>0.700646</td>\n",
       "      <td>4.715088</td>\n",
       "      <td>128.564089</td>\n",
       "    </tr>\n",
       "    <tr>\n",
       "      <th>max</th>\n",
       "      <td>2.362331</td>\n",
       "      <td>1.343769</td>\n",
       "      <td>16.003790</td>\n",
       "      <td>185.364347</td>\n",
       "    </tr>\n",
       "  </tbody>\n",
       "</table>\n",
       "</div>"
      ],
      "text/plain": [
       "                  f0             f1             f2        product\n",
       "count  100000.000000  100000.000000  100000.000000  100000.000000\n",
       "mean        0.500419       0.250143       2.502647      92.500000\n",
       "std         0.871832       0.504433       3.248248      44.288691\n",
       "min        -1.408605      -0.848218     -12.088328       0.000000\n",
       "25%        -0.072580      -0.200881       0.287748      56.497507\n",
       "50%         0.502360       0.250252       2.515969      91.849972\n",
       "75%         1.073581       0.700646       4.715088     128.564089\n",
       "max         2.362331       1.343769      16.003790     185.364347"
      ]
     },
     "metadata": {},
     "output_type": "display_data"
    },
    {
     "data": {
      "image/png": "[encoded data removed]",
      "text/plain": [
       "<Figure size 432x288 with 2 Axes>"
      ]
     },
     "metadata": {
      "needs_background": "light"
     },
     "output_type": "display_data"
    }
   ],
   "source": [
    "description(data_0)"
   ]
  },
  {
   "cell_type": "markdown",
   "metadata": {},
   "source": [
    "Изучив описание данных можно сделать выводы:\n",
    "- В данных отсутствуют пропуски и явные дубликаты.\n",
    "- Данные не коррелируют между собой.\n",
    "- В датасете есть 10 повторяющихся id месторождений, к сожалению, у нас нет возможности узнать ошибка это или нет. Оставим как есть."
   ]
  },
  {
   "cell_type": "markdown",
   "metadata": {},
   "source": [
    "### Изучение 1-го региона"
   ]
  },
  {
   "cell_type": "code",
   "execution_count": 5,
   "metadata": {},
   "outputs": [
    {
     "data": {
      "text/html": [
       "<div>\n",
       "<style scoped>\n",
       "    .dataframe tbody tr th:only-of-type {\n",
       "        vertical-align: middle;\n",
       "    }\n",
       "\n",
       "    .dataframe tbody tr th {\n",
       "        vertical-align: top;\n",
       "    }\n",
       "\n",
       "    .dataframe thead th {\n",
       "        text-align: right;\n",
       "    }\n",
       "</style>\n",
       "<table border=\"1\" class=\"dataframe\">\n",
       "  <thead>\n",
       "    <tr style=\"text-align: right;\">\n",
       "      <th></th>\n",
       "      <th>id</th>\n",
       "      <th>f0</th>\n",
       "      <th>f1</th>\n",
       "      <th>f2</th>\n",
       "      <th>product</th>\n",
       "    </tr>\n",
       "  </thead>\n",
       "  <tbody>\n",
       "    <tr>\n",
       "      <th>0</th>\n",
       "      <td>kBEdx</td>\n",
       "      <td>-15.001348</td>\n",
       "      <td>-8.276000</td>\n",
       "      <td>-0.005876</td>\n",
       "      <td>3.179103</td>\n",
       "    </tr>\n",
       "    <tr>\n",
       "      <th>1</th>\n",
       "      <td>62mP7</td>\n",
       "      <td>14.272088</td>\n",
       "      <td>-3.475083</td>\n",
       "      <td>0.999183</td>\n",
       "      <td>26.953261</td>\n",
       "    </tr>\n",
       "    <tr>\n",
       "      <th>2</th>\n",
       "      <td>vyE1P</td>\n",
       "      <td>6.263187</td>\n",
       "      <td>-5.948386</td>\n",
       "      <td>5.001160</td>\n",
       "      <td>134.766305</td>\n",
       "    </tr>\n",
       "    <tr>\n",
       "      <th>3</th>\n",
       "      <td>KcrkZ</td>\n",
       "      <td>-13.081196</td>\n",
       "      <td>-11.506057</td>\n",
       "      <td>4.999415</td>\n",
       "      <td>137.945408</td>\n",
       "    </tr>\n",
       "    <tr>\n",
       "      <th>4</th>\n",
       "      <td>AHL4O</td>\n",
       "      <td>12.702195</td>\n",
       "      <td>-8.147433</td>\n",
       "      <td>5.004363</td>\n",
       "      <td>134.766305</td>\n",
       "    </tr>\n",
       "  </tbody>\n",
       "</table>\n",
       "</div>"
      ],
      "text/plain": [
       "      id         f0         f1        f2     product\n",
       "0  kBEdx -15.001348  -8.276000 -0.005876    3.179103\n",
       "1  62mP7  14.272088  -3.475083  0.999183   26.953261\n",
       "2  vyE1P   6.263187  -5.948386  5.001160  134.766305\n",
       "3  KcrkZ -13.081196 -11.506057  4.999415  137.945408\n",
       "4  AHL4O  12.702195  -8.147433  5.004363  134.766305"
      ]
     },
     "metadata": {},
     "output_type": "display_data"
    },
    {
     "name": "stdout",
     "output_type": "stream",
     "text": [
      "<class 'pandas.core.frame.DataFrame'>\n",
      "RangeIndex: 100000 entries, 0 to 99999\n",
      "Data columns (total 5 columns):\n",
      " #   Column   Non-Null Count   Dtype  \n",
      "---  ------   --------------   -----  \n",
      " 0   id       100000 non-null  object \n",
      " 1   f0       100000 non-null  float64\n",
      " 2   f1       100000 non-null  float64\n",
      " 3   f2       100000 non-null  float64\n",
      " 4   product  100000 non-null  float64\n",
      "dtypes: float64(4), object(1)\n",
      "memory usage: 3.8+ MB\n"
     ]
    },
    {
     "data": {
      "text/plain": [
       "None"
      ]
     },
     "metadata": {},
     "output_type": "display_data"
    },
    {
     "name": "stdout",
     "output_type": "stream",
     "text": [
      "Количество пропусков:\n",
      "id         0\n",
      "f0         0\n",
      "f1         0\n",
      "f2         0\n",
      "product    0\n",
      "dtype: int64\n",
      "\n",
      "Количество явных дубликатов: 0\n",
      "Количество уникальных месторождений 99996\n"
     ]
    },
    {
     "data": {
      "text/html": [
       "<div>\n",
       "<style scoped>\n",
       "    .dataframe tbody tr th:only-of-type {\n",
       "        vertical-align: middle;\n",
       "    }\n",
       "\n",
       "    .dataframe tbody tr th {\n",
       "        vertical-align: top;\n",
       "    }\n",
       "\n",
       "    .dataframe thead th {\n",
       "        text-align: right;\n",
       "    }\n",
       "</style>\n",
       "<table border=\"1\" class=\"dataframe\">\n",
       "  <thead>\n",
       "    <tr style=\"text-align: right;\">\n",
       "      <th></th>\n",
       "      <th>f0</th>\n",
       "      <th>f1</th>\n",
       "      <th>f2</th>\n",
       "      <th>product</th>\n",
       "    </tr>\n",
       "  </thead>\n",
       "  <tbody>\n",
       "    <tr>\n",
       "      <th>count</th>\n",
       "      <td>100000.000000</td>\n",
       "      <td>100000.000000</td>\n",
       "      <td>100000.000000</td>\n",
       "      <td>100000.000000</td>\n",
       "    </tr>\n",
       "    <tr>\n",
       "      <th>mean</th>\n",
       "      <td>1.141296</td>\n",
       "      <td>-4.796579</td>\n",
       "      <td>2.494541</td>\n",
       "      <td>68.825000</td>\n",
       "    </tr>\n",
       "    <tr>\n",
       "      <th>std</th>\n",
       "      <td>8.965932</td>\n",
       "      <td>5.119872</td>\n",
       "      <td>1.703572</td>\n",
       "      <td>45.944423</td>\n",
       "    </tr>\n",
       "    <tr>\n",
       "      <th>min</th>\n",
       "      <td>-31.609576</td>\n",
       "      <td>-26.358598</td>\n",
       "      <td>-0.018144</td>\n",
       "      <td>0.000000</td>\n",
       "    </tr>\n",
       "    <tr>\n",
       "      <th>25%</th>\n",
       "      <td>-6.298551</td>\n",
       "      <td>-8.267985</td>\n",
       "      <td>1.000021</td>\n",
       "      <td>26.953261</td>\n",
       "    </tr>\n",
       "    <tr>\n",
       "      <th>50%</th>\n",
       "      <td>1.153055</td>\n",
       "      <td>-4.813172</td>\n",
       "      <td>2.011479</td>\n",
       "      <td>57.085625</td>\n",
       "    </tr>\n",
       "    <tr>\n",
       "      <th>75%</th>\n",
       "      <td>8.621015</td>\n",
       "      <td>-1.332816</td>\n",
       "      <td>3.999904</td>\n",
       "      <td>107.813044</td>\n",
       "    </tr>\n",
       "    <tr>\n",
       "      <th>max</th>\n",
       "      <td>29.421755</td>\n",
       "      <td>18.734063</td>\n",
       "      <td>5.019721</td>\n",
       "      <td>137.945408</td>\n",
       "    </tr>\n",
       "  </tbody>\n",
       "</table>\n",
       "</div>"
      ],
      "text/plain": [
       "                  f0             f1             f2        product\n",
       "count  100000.000000  100000.000000  100000.000000  100000.000000\n",
       "mean        1.141296      -4.796579       2.494541      68.825000\n",
       "std         8.965932       5.119872       1.703572      45.944423\n",
       "min       -31.609576     -26.358598      -0.018144       0.000000\n",
       "25%        -6.298551      -8.267985       1.000021      26.953261\n",
       "50%         1.153055      -4.813172       2.011479      57.085625\n",
       "75%         8.621015      -1.332816       3.999904     107.813044\n",
       "max        29.421755      18.734063       5.019721     137.945408"
      ]
     },
     "metadata": {},
     "output_type": "display_data"
    },
    {
     "data": {
      "image/png": "[encoded data removed]",
      "text/plain": [
       "<Figure size 432x288 with 2 Axes>"
      ]
     },
     "metadata": {
      "needs_background": "light"
     },
     "output_type": "display_data"
    }
   ],
   "source": [
    "description(data_1)"
   ]
  },
  {
   "cell_type": "markdown",
   "metadata": {},
   "source": [
    "Изучив описание данных можно сделать выводы:\n",
    "- В данных отсутствуют пропуски и явные дубликаты.\n",
    "- Признак f2 сильно коррелирует с нашим целевым признаком, возможно здесь имеет место утечка данных.\n",
    "- В датасете есть 4 повторяющихся id месторождений, к сожалению, у нас нет возможности узнать ошибка это или нет. Оставим как есть."
   ]
  },
  {
   "cell_type": "markdown",
   "metadata": {},
   "source": [
    "### Изучение 2-го региона"
   ]
  },
  {
   "cell_type": "code",
   "execution_count": 6,
   "metadata": {},
   "outputs": [
    {
     "data": {
      "text/html": [
       "<div>\n",
       "<style scoped>\n",
       "    .dataframe tbody tr th:only-of-type {\n",
       "        vertical-align: middle;\n",
       "    }\n",
       "\n",
       "    .dataframe tbody tr th {\n",
       "        vertical-align: top;\n",
       "    }\n",
       "\n",
       "    .dataframe thead th {\n",
       "        text-align: right;\n",
       "    }\n",
       "</style>\n",
       "<table border=\"1\" class=\"dataframe\">\n",
       "  <thead>\n",
       "    <tr style=\"text-align: right;\">\n",
       "      <th></th>\n",
       "      <th>id</th>\n",
       "      <th>f0</th>\n",
       "      <th>f1</th>\n",
       "      <th>f2</th>\n",
       "      <th>product</th>\n",
       "    </tr>\n",
       "  </thead>\n",
       "  <tbody>\n",
       "    <tr>\n",
       "      <th>0</th>\n",
       "      <td>fwXo0</td>\n",
       "      <td>-1.146987</td>\n",
       "      <td>0.963328</td>\n",
       "      <td>-0.828965</td>\n",
       "      <td>27.758673</td>\n",
       "    </tr>\n",
       "    <tr>\n",
       "      <th>1</th>\n",
       "      <td>WJtFt</td>\n",
       "      <td>0.262778</td>\n",
       "      <td>0.269839</td>\n",
       "      <td>-2.530187</td>\n",
       "      <td>56.069697</td>\n",
       "    </tr>\n",
       "    <tr>\n",
       "      <th>2</th>\n",
       "      <td>ovLUW</td>\n",
       "      <td>0.194587</td>\n",
       "      <td>0.289035</td>\n",
       "      <td>-5.586433</td>\n",
       "      <td>62.871910</td>\n",
       "    </tr>\n",
       "    <tr>\n",
       "      <th>3</th>\n",
       "      <td>q6cA6</td>\n",
       "      <td>2.236060</td>\n",
       "      <td>-0.553760</td>\n",
       "      <td>0.930038</td>\n",
       "      <td>114.572842</td>\n",
       "    </tr>\n",
       "    <tr>\n",
       "      <th>4</th>\n",
       "      <td>WPMUX</td>\n",
       "      <td>-0.515993</td>\n",
       "      <td>1.716266</td>\n",
       "      <td>5.899011</td>\n",
       "      <td>149.600746</td>\n",
       "    </tr>\n",
       "  </tbody>\n",
       "</table>\n",
       "</div>"
      ],
      "text/plain": [
       "      id        f0        f1        f2     product\n",
       "0  fwXo0 -1.146987  0.963328 -0.828965   27.758673\n",
       "1  WJtFt  0.262778  0.269839 -2.530187   56.069697\n",
       "2  ovLUW  0.194587  0.289035 -5.586433   62.871910\n",
       "3  q6cA6  2.236060 -0.553760  0.930038  114.572842\n",
       "4  WPMUX -0.515993  1.716266  5.899011  149.600746"
      ]
     },
     "metadata": {},
     "output_type": "display_data"
    },
    {
     "name": "stdout",
     "output_type": "stream",
     "text": [
      "<class 'pandas.core.frame.DataFrame'>\n",
      "RangeIndex: 100000 entries, 0 to 99999\n",
      "Data columns (total 5 columns):\n",
      " #   Column   Non-Null Count   Dtype  \n",
      "---  ------   --------------   -----  \n",
      " 0   id       100000 non-null  object \n",
      " 1   f0       100000 non-null  float64\n",
      " 2   f1       100000 non-null  float64\n",
      " 3   f2       100000 non-null  float64\n",
      " 4   product  100000 non-null  float64\n",
      "dtypes: float64(4), object(1)\n",
      "memory usage: 3.8+ MB\n"
     ]
    },
    {
     "data": {
      "text/plain": [
       "None"
      ]
     },
     "metadata": {},
     "output_type": "display_data"
    },
    {
     "name": "stdout",
     "output_type": "stream",
     "text": [
      "Количество пропусков:\n",
      "id         0\n",
      "f0         0\n",
      "f1         0\n",
      "f2         0\n",
      "product    0\n",
      "dtype: int64\n",
      "\n",
      "Количество явных дубликатов: 0\n",
      "Количество уникальных месторождений 99996\n"
     ]
    },
    {
     "data": {
      "text/html": [
       "<div>\n",
       "<style scoped>\n",
       "    .dataframe tbody tr th:only-of-type {\n",
       "        vertical-align: middle;\n",
       "    }\n",
       "\n",
       "    .dataframe tbody tr th {\n",
       "        vertical-align: top;\n",
       "    }\n",
       "\n",
       "    .dataframe thead th {\n",
       "        text-align: right;\n",
       "    }\n",
       "</style>\n",
       "<table border=\"1\" class=\"dataframe\">\n",
       "  <thead>\n",
       "    <tr style=\"text-align: right;\">\n",
       "      <th></th>\n",
       "      <th>f0</th>\n",
       "      <th>f1</th>\n",
       "      <th>f2</th>\n",
       "      <th>product</th>\n",
       "    </tr>\n",
       "  </thead>\n",
       "  <tbody>\n",
       "    <tr>\n",
       "      <th>count</th>\n",
       "      <td>100000.000000</td>\n",
       "      <td>100000.000000</td>\n",
       "      <td>100000.000000</td>\n",
       "      <td>100000.000000</td>\n",
       "    </tr>\n",
       "    <tr>\n",
       "      <th>mean</th>\n",
       "      <td>0.002023</td>\n",
       "      <td>-0.002081</td>\n",
       "      <td>2.495128</td>\n",
       "      <td>95.000000</td>\n",
       "    </tr>\n",
       "    <tr>\n",
       "      <th>std</th>\n",
       "      <td>1.732045</td>\n",
       "      <td>1.730417</td>\n",
       "      <td>3.473445</td>\n",
       "      <td>44.749921</td>\n",
       "    </tr>\n",
       "    <tr>\n",
       "      <th>min</th>\n",
       "      <td>-8.760004</td>\n",
       "      <td>-7.084020</td>\n",
       "      <td>-11.970335</td>\n",
       "      <td>0.000000</td>\n",
       "    </tr>\n",
       "    <tr>\n",
       "      <th>25%</th>\n",
       "      <td>-1.162288</td>\n",
       "      <td>-1.174820</td>\n",
       "      <td>0.130359</td>\n",
       "      <td>59.450441</td>\n",
       "    </tr>\n",
       "    <tr>\n",
       "      <th>50%</th>\n",
       "      <td>0.009424</td>\n",
       "      <td>-0.009482</td>\n",
       "      <td>2.484236</td>\n",
       "      <td>94.925613</td>\n",
       "    </tr>\n",
       "    <tr>\n",
       "      <th>75%</th>\n",
       "      <td>1.158535</td>\n",
       "      <td>1.163678</td>\n",
       "      <td>4.858794</td>\n",
       "      <td>130.595027</td>\n",
       "    </tr>\n",
       "    <tr>\n",
       "      <th>max</th>\n",
       "      <td>7.238262</td>\n",
       "      <td>7.844801</td>\n",
       "      <td>16.739402</td>\n",
       "      <td>190.029838</td>\n",
       "    </tr>\n",
       "  </tbody>\n",
       "</table>\n",
       "</div>"
      ],
      "text/plain": [
       "                  f0             f1             f2        product\n",
       "count  100000.000000  100000.000000  100000.000000  100000.000000\n",
       "mean        0.002023      -0.002081       2.495128      95.000000\n",
       "std         1.732045       1.730417       3.473445      44.749921\n",
       "min        -8.760004      -7.084020     -11.970335       0.000000\n",
       "25%        -1.162288      -1.174820       0.130359      59.450441\n",
       "50%         0.009424      -0.009482       2.484236      94.925613\n",
       "75%         1.158535       1.163678       4.858794     130.595027\n",
       "max         7.238262       7.844801      16.739402     190.029838"
      ]
     },
     "metadata": {},
     "output_type": "display_data"
    },
    {
     "data": {
      "image/png": "[encoded data removed]",
      "text/plain": [
       "<Figure size 432x288 with 2 Axes>"
      ]
     },
     "metadata": {
      "needs_background": "light"
     },
     "output_type": "display_data"
    }
   ],
   "source": [
    "description(data_2)"
   ]
  },
  {
   "cell_type": "markdown",
   "metadata": {},
   "source": [
    "Изучив описание данных можно сделать выводы:\n",
    "- В данных отсутствуют пропуски и явные дубликаты.\n",
    "- Данные не коррелируют между собой.\n",
    "- В датасете есть 4 повторяющихся id месторождений, к сожалению, у нас нет возможности узнать ошибка это или нет. Оставим как есть."
   ]
  },
  {
   "cell_type": "markdown",
   "metadata": {},
   "source": [
    "## Обучение и проверка модели"
   ]
  },
  {
   "cell_type": "code",
   "execution_count": 7,
   "metadata": {},
   "outputs": [],
   "source": [
    "def split_standard_train(data):\n",
    "    '''\n",
    "    Функция принимает на вход датасет\n",
    "    1. Выделяет признаки и целевой признак\n",
    "    2. Удаляет из признаков целевой признак и столбец с идентификаторами месторождений\n",
    "    3. Делит датасет на обучающую и валидационную выборки в соотношении 75:25 с помощью train_test_split\n",
    "    4. Масштабирует признаки с помощью StandardScaler\n",
    "    5. Обучает модель LinearRegression\n",
    "    6. Получает предсказания для этой модели\n",
    "    7. Рассчитывает средний запас предсказанного сырья\n",
    "    8. Рассчитывает RMSE\n",
    "    9. Выводит предсказания, целевой признак валидационной выборки и RMSE для данного региона\n",
    "    '''\n",
    "    \n",
    "    features = data.drop(['id', 'product'], axis=1)\n",
    "    target = data['product']\n",
    "    \n",
    "    features_train, features_valid, target_train, target_valid = train_test_split(\n",
    "        features, target, test_size=0.25, random_state=42)\n",
    "    \n",
    "    scaler = StandardScaler()\n",
    "    scaler.fit(features_train)\n",
    "    features_train = scaler.transform(features_train)\n",
    "    features_valid = scaler.transform(features_valid)\n",
    "    \n",
    "    model = LinearRegression()\n",
    "    model.fit(features_train, target_train)\n",
    "    predictions = pd.Series(model.predict(features_valid))\n",
    "    rmse = (mean_squared_error(target_valid, predictions) ** 0.5)\n",
    "    \n",
    "    print(f'Средний запас предсказанного сырья: {predictions.mean()}')\n",
    "    print(f'RMSE: {rmse}')\n",
    "    \n",
    "    return predictions, target_valid.reset_index(drop=True), rmse"
   ]
  },
  {
   "cell_type": "code",
   "execution_count": 8,
   "metadata": {},
   "outputs": [
    {
     "name": "stdout",
     "output_type": "stream",
     "text": [
      "Регион 0\n",
      "Средний запас предсказанного сырья: 92.39879990657768\n",
      "RMSE: 37.75660035026169\n",
      "--------------\n",
      "Регион 1\n",
      "Средний запас предсказанного сырья: 68.7128780391376\n",
      "RMSE: 0.8902801001028846\n",
      "--------------\n",
      "Регион 2\n",
      "Средний запас предсказанного сырья: 94.77102387765939\n",
      "RMSE: 40.145872311342174\n",
      "--------------\n"
     ]
    }
   ],
   "source": [
    "i = 0\n",
    "for region in [data_0, data_1, data_2]:\n",
    "    print(f'Регион {i}')\n",
    "    split_standard_train(region)\n",
    "    print('--------------')\n",
    "    i+=1"
   ]
  },
  {
   "cell_type": "code",
   "execution_count": 9,
   "metadata": {},
   "outputs": [
    {
     "name": "stdout",
     "output_type": "stream",
     "text": [
      "Средний запас предсказанного сырья: 92.39879990657768\n",
      "RMSE: 37.75660035026169\n",
      "Средний запас предсказанного сырья: 68.7128780391376\n",
      "RMSE: 0.8902801001028846\n",
      "Средний запас предсказанного сырья: 94.77102387765939\n",
      "RMSE: 40.145872311342174\n"
     ]
    }
   ],
   "source": [
    "predictions_0, target_valid_0, rmse_0 = split_standard_train(data_0)\n",
    "predictions_1, target_valid_1, rmse_1 = split_standard_train(data_1)\n",
    "predictions_2, target_valid_2, rmse_2 = split_standard_train(data_2)"
   ]
  },
  {
   "cell_type": "markdown",
   "metadata": {},
   "source": [
    "**Вывод**:\n",
    "\n",
    "Регион 0: *Ошибка RMSE 37.76*, на втором месте по средним запасам сырья 92.398\n",
    "\n",
    "Регион 1: Минимальная ошибка RMSE 0.89, минимальный средний запас сырья 68.85\n",
    "\n",
    "Регион 2: Максимальная ошибка 40.15, *самый максимальный запас сырья 94.77*"
   ]
  },
  {
   "cell_type": "markdown",
   "metadata": {},
   "source": [
    "## Подготовка к расчёту прибыли"
   ]
  },
  {
   "cell_type": "code",
   "execution_count": 10,
   "metadata": {},
   "outputs": [],
   "source": [
    "BUDGET = 10**10\n",
    "POINTS = 500\n",
    "BEST_POINTS = 200\n",
    "ONE_BARREL_PRICE = 450000\n",
    "PROBABILITY_LOSSES = 0.025"
   ]
  },
  {
   "cell_type": "markdown",
   "metadata": {},
   "source": [
    "Выведем формулу, исходя из таких рассуждений:\n",
    "\n",
    "ЗАТРАТЫ НА СКВАЖИНУ = БЮДЖЕТ / КОЛИЧЕСТВО ВЫБРАННЫХ СКВАЖИН\n",
    "\n",
    "ПРИБЫЛЬ = ОБЪЁМ ПРОДУКТА * СТОИМОСТЬ ЕДИНИЦЫ ПРОДУКТА - ЗАТРАТЫ НА СКВАЖИНУ\n",
    "\n",
    "Безубыточность скважины означает, что прибыль можно принять равной 0, следовательно:\n",
    "\n",
    "ЗАТРАТЫ НА СКВАЖИНУ = ОБЪЁМ ПРОДУКТА * СТОИМОСТЬ ЕДИНИЦЫ ПРОДУКТА\n",
    "\n",
    "ОБЪЁМ ПРОДУКТА * СТОИМОСТЬ ЕДИНИЦЫ ПРОДУКТА = БЮДЖЕТ / КОЛИЧЕСТВО ВЫБРАННЫХ СКВАЖИН\n",
    "\n",
    "**БЕЗУБЫТОЧНЫЙ ОБЪЁМ ПРОДУКТА** = БЮДЖЕТ / КОЛИЧЕСТВО ВЫБРАННЫХ СКВАЖИН / СТОИМОСТЬ ЕДИНИЦЫ ПРОДУКТА "
   ]
  },
  {
   "cell_type": "code",
   "execution_count": 11,
   "metadata": {},
   "outputs": [
    {
     "name": "stdout",
     "output_type": "stream",
     "text": [
      "Достаточный объём сырья для безубыточной разработки новой скважины 111.11111111111111\n"
     ]
    }
   ],
   "source": [
    "BREAK_EVEN_VOLUME = BUDGET / BEST_POINTS / ONE_BARREL_PRICE\n",
    "print('Достаточный объём сырья для безубыточной разработки новой скважины', BREAK_EVEN_VOLUME)"
   ]
  },
  {
   "cell_type": "markdown",
   "metadata": {},
   "source": [
    "Можно заметить, что средний объём сырья для всех регионов меньше безубыточной границы."
   ]
  },
  {
   "cell_type": "code",
   "execution_count": 12,
   "metadata": {},
   "outputs": [
    {
     "name": "stdout",
     "output_type": "stream",
     "text": [
      "Процент скважин для 0-го региона с запасом нефти больше, чем безубыточный порог: 21.032\n"
     ]
    }
   ],
   "source": [
    "print('Процент скважин для 0-го региона с запасом нефти больше, чем безубыточный порог:', len(predictions_0[predictions_0 > BREAK_EVEN_VOLUME]) / len(predictions_0)* 100)"
   ]
  },
  {
   "cell_type": "code",
   "execution_count": 13,
   "metadata": {},
   "outputs": [
    {
     "name": "stdout",
     "output_type": "stream",
     "text": [
      "Процент скважин для 1-го региона с запасом нефти больше, чем безубыточный порог: 18.08\n"
     ]
    }
   ],
   "source": [
    "print('Процент скважин для 1-го региона с запасом нефти больше, чем безубыточный порог:', len(predictions_1[predictions_1 > BREAK_EVEN_VOLUME]) / len(predictions_1)* 100)"
   ]
  },
  {
   "cell_type": "code",
   "execution_count": 14,
   "metadata": {},
   "outputs": [
    {
     "name": "stdout",
     "output_type": "stream",
     "text": [
      "Процент скважин для 2-го региона с запасом нефти больше, чем безубыточный порог: 20.956\n"
     ]
    }
   ],
   "source": [
    "print('Процент скважин для 2-го региона с запасом нефти больше, чем безубыточный порог:', len(predictions_2[predictions_2 > BREAK_EVEN_VOLUME]) / len(predictions_2)* 100)"
   ]
  },
  {
   "cell_type": "markdown",
   "metadata": {},
   "source": [
    "**Вывод**:\n",
    "\n",
    "Мы рассчитали безубыточный объём продукта в скважинах по формуле:\n",
    "\n",
    "БЕЗУБЫТОЧНЫЙ ОБЪЁМ ПРОДУКТА = БЮДЖЕТ / КОЛИЧЕСТВО ВЫБРАННЫХ СКВАЖИН / СТОИМОСТЬ ЕДИНИЦЫ ПРОДУКТА\n",
    "\n",
    "*Достаточный объём сырья для безубыточной разработки новой скважины 111.11 (тыс.баррелей)*\n",
    "\n",
    "Исходя из предсказаний, *процент скважин подходящих под порог безубыточности по регионам*:\n",
    "- Для 0-го региона: 21%\n",
    "- Для 1-го региона: 18.08%\n",
    "- Для 2-го региона: 20.96%"
   ]
  },
  {
   "cell_type": "markdown",
   "metadata": {},
   "source": [
    "## Расчёт прибыли и рисков "
   ]
  },
  {
   "cell_type": "code",
   "execution_count": 15,
   "metadata": {},
   "outputs": [],
   "source": [
    "def income(target, predictions):\n",
    "    '''\n",
    "    Функция вычисляет доход для 200 лучших скважин\n",
    "    '''\n",
    "    sort_pred = predictions.sort_values(ascending=False)\n",
    "    sum_top_targets = sum(target[sort_pred.index][:BEST_POINTS])\n",
    "    \n",
    "    return sum_top_targets * ONE_BARREL_PRICE - BUDGET"
   ]
  },
  {
   "cell_type": "code",
   "execution_count": 16,
   "metadata": {},
   "outputs": [
    {
     "name": "stdout",
     "output_type": "stream",
     "text": [
      "Доход с лучших 200 скважин в 0-м регионе: 3359141114.462185\n",
      "Доход с лучших 200 скважин в 1-м регионе: 2415086696.681551\n",
      "Доход с лучших 200 скважин в 2-м регионе: 2598571759.374111\n"
     ]
    }
   ],
   "source": [
    "print('Доход с лучших 200 скважин в 0-м регионе:', income(target_valid_0, predictions_0))\n",
    "print('Доход с лучших 200 скважин в 1-м регионе:', income(target_valid_1, predictions_1))\n",
    "print('Доход с лучших 200 скважин в 2-м регионе:', income(target_valid_2, predictions_2))"
   ]
  },
  {
   "cell_type": "code",
   "execution_count": 17,
   "metadata": {},
   "outputs": [],
   "source": [
    "def confidence_interval(target, predictions):\n",
    "    \n",
    "    samples = []\n",
    "    for i in range(1000):\n",
    "        subsample = predictions.sample(POINTS, replace=True, random_state=STATE)\n",
    "        samples.append(income(target, subsample))\n",
    "    samples = pd.Series(samples)\n",
    "    print('Средняя прибыль:', samples.mean())\n",
    "    \n",
    "    lower = samples.quantile(.025)\n",
    "    upper = samples.quantile(.975)\n",
    "    \n",
    "    print('Риски', (samples < 0).mean() * 100)\n",
    "    \n",
    "    return lower, upper"
   ]
  },
  {
   "cell_type": "code",
   "execution_count": 18,
   "metadata": {},
   "outputs": [
    {
     "name": "stdout",
     "output_type": "stream",
     "text": [
      "Средняя прибыль: 399575478.0542297\n",
      "Риски 6.0\n",
      "Средняя прибыль для 0 региона лежит в интервале (-110467895.33197607, 897460327.7178681)\n",
      "\n",
      "Средняя прибыль: 452576594.2909222\n",
      "Риски 0.8999999999999999\n",
      "Средняя прибыль для 1 региона лежит в интервале (52309409.802746214, 830146313.2647656)\n",
      "\n",
      "Средняя прибыль: 378705903.6597368\n",
      "Риски 7.5\n",
      "Средняя прибыль для 2 региона лежит в интервале (-127779434.98831005, 907923483.2210535)\n"
     ]
    }
   ],
   "source": [
    "print('Средняя прибыль для 0 региона лежит в интервале', confidence_interval(target_valid_0, predictions_0))\n",
    "print()\n",
    "print('Средняя прибыль для 1 региона лежит в интервале', confidence_interval(target_valid_1, predictions_1))\n",
    "print()\n",
    "print('Средняя прибыль для 2 региона лежит в интервале', confidence_interval(target_valid_2, predictions_2))"
   ]
  },
  {
   "cell_type": "markdown",
   "metadata": {},
   "source": [
    "**Вывод**:\n",
    "\n",
    "В процессе работы над данным заданием были проделаны шаги:\n",
    "\n",
    "1. Анализ датасета\n",
    "2. Датасет разделен на тренировочную и валидационную выборки, данные масштабированы\n",
    "3. Построена модель линейной регрессии, получены предсказания для объёма сырья в скважинах, получен средний предсказанный объём сырья в скважинах и среднеквадратичная ошибка\n",
    "4. Рассчитан объём безубыточной разработки скважин, он равен 111.11 тыс.баррелей. Безубыточный объём оказался выше среднего предсказанного объёма сырья.\n",
    "5. Для 200 лучших скважин была найдена средняя прибыль, возможные риски и доверительный интервал для прибыли.\n",
    "\n",
    "**Для 0-го региона**:\n",
    "\n",
    "Средняя прибыль: 399575478.0542292\n",
    "\n",
    "Риски 6.0\n",
    "\n",
    "Средняя прибыль лежит в интервале (-110467895.33197607, 897460327.7178681)\n",
    "\n",
    "**Для 1-го региона**:\n",
    "\n",
    "Средняя прибыль: 452576594.2909222\n",
    "\n",
    "Риски 0.9\n",
    "\n",
    "Средняя прибыль для 1 региона лежит в интервале (52309409.802746214, 830146313.2647656)\n",
    "\n",
    "**Для 2-го региона**:\n",
    "\n",
    "Средняя прибыль: 378705903.65973616\n",
    "\n",
    "Риски 7.5\n",
    "\n",
    "Средняя прибыль для 2 региона лежит в интервале ((-127779434.98831005, 907923483.2210535)\n",
    "\n",
    "**Для разработки скважин предлагаю выбрать 1-ой регион, т.к. у него минимальные риски и максимальная средняя прибыль**"
   ]
  }
 ],
 "metadata": {
  "ExecuteTimeLog": [
   {
    "duration": 5261,
    "start_time": "2023-02-27T12:04:54.416Z"
   },
   {
    "duration": 1054,
    "start_time": "2023-02-27T12:04:59.680Z"
   },
   {
    "duration": 5,
    "start_time": "2023-02-27T12:05:00.736Z"
   },
   {
    "duration": 551,
    "start_time": "2023-02-27T12:05:00.743Z"
   },
   {
    "duration": 453,
    "start_time": "2023-02-27T12:05:01.296Z"
   },
   {
    "duration": 14,
    "start_time": "2023-02-27T12:05:01.751Z"
   },
   {
    "duration": 488,
    "start_time": "2023-02-27T12:05:01.766Z"
   },
   {
    "duration": 5,
    "start_time": "2023-02-27T12:05:02.256Z"
   },
   {
    "duration": 376,
    "start_time": "2023-02-27T12:05:02.262Z"
   },
   {
    "duration": 594,
    "start_time": "2023-02-27T12:05:02.641Z"
   },
   {
    "duration": 12,
    "start_time": "2023-02-27T12:05:15.313Z"
   },
   {
    "duration": 1570,
    "start_time": "2023-02-27T12:27:39.630Z"
   },
   {
    "duration": 1524,
    "start_time": "2023-02-27T12:27:41.202Z"
   },
   {
    "duration": 6,
    "start_time": "2023-02-27T12:27:42.728Z"
   },
   {
    "duration": 457,
    "start_time": "2023-02-27T12:27:42.736Z"
   },
   {
    "duration": 461,
    "start_time": "2023-02-27T12:27:43.195Z"
   },
   {
    "duration": 440,
    "start_time": "2023-02-27T12:27:43.658Z"
   },
   {
    "duration": 6,
    "start_time": "2023-02-27T12:27:44.099Z"
   },
   {
    "duration": 441,
    "start_time": "2023-02-27T12:27:44.106Z"
   },
   {
    "duration": 601,
    "start_time": "2023-02-27T12:27:44.549Z"
   },
   {
    "duration": 5,
    "start_time": "2023-02-27T12:27:45.236Z"
   },
   {
    "duration": 109,
    "start_time": "2023-02-27T12:27:45.245Z"
   },
   {
    "duration": 20,
    "start_time": "2023-02-27T12:27:45.356Z"
   },
   {
    "duration": 21,
    "start_time": "2023-02-27T12:27:45.377Z"
   },
   {
    "duration": 15,
    "start_time": "2023-02-27T12:27:45.399Z"
   },
   {
    "duration": 12,
    "start_time": "2023-02-27T12:27:45.415Z"
   },
   {
    "duration": 42,
    "start_time": "2023-02-27T12:27:45.428Z"
   },
   {
    "duration": 5,
    "start_time": "2023-02-27T12:27:45.472Z"
   },
   {
    "duration": 1788,
    "start_time": "2023-02-27T12:27:45.478Z"
   }
  ],
  "kernelspec": {
   "display_name": "Python 3 (ipykernel)",
   "language": "python",
   "name": "python3"
  },
  "language_info": {
   "codemirror_mode": {
    "name": "ipython",
    "version": 3
   },
   "file_extension": ".py",
   "mimetype": "text/x-python",
   "name": "python",
   "nbconvert_exporter": "python",
   "pygments_lexer": "ipython3",
   "version": "3.9.13"
  },
  "toc": {
   "base_numbering": 1,
   "nav_menu": {},
   "number_sections": true,
   "sideBar": true,
   "skip_h1_title": true,
   "title_cell": "Table of Contents",
   "title_sidebar": "Contents",
   "toc_cell": false,
   "toc_position": {},
   "toc_section_display": true,
   "toc_window_display": false
  }
 },
 "nbformat": 4,
 "nbformat_minor": 2
}
